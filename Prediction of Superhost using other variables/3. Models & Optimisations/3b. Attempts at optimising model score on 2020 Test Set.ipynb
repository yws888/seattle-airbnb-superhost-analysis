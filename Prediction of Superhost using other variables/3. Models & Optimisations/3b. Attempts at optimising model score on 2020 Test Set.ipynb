{
 "cells": [
  {
   "cell_type": "code",
   "execution_count": 1,
   "metadata": {},
   "outputs": [],
   "source": [
    "# Basic Libraries\n",
    "import numpy as np\n",
    "import pandas as pd\n",
    "import seaborn as sb\n",
    "import matplotlib.pyplot as plt # we only need pyplot\n",
    "sb.set() # set the default Seaborn style for graphics"
   ]
  },
  {
   "cell_type": "code",
   "execution_count": 2,
   "metadata": {
    "scrolled": false
   },
   "outputs": [
    {
     "data": {
      "text/html": [
       "<div>\n",
       "<style scoped>\n",
       "    .dataframe tbody tr th:only-of-type {\n",
       "        vertical-align: middle;\n",
       "    }\n",
       "\n",
       "    .dataframe tbody tr th {\n",
       "        vertical-align: top;\n",
       "    }\n",
       "\n",
       "    .dataframe thead th {\n",
       "        text-align: right;\n",
       "    }\n",
       "</style>\n",
       "<table border=\"1\" class=\"dataframe\">\n",
       "  <thead>\n",
       "    <tr style=\"text-align: right;\">\n",
       "      <th></th>\n",
       "      <th>host_is_superhost</th>\n",
       "      <th>no_of_host_verifications</th>\n",
       "      <th>host_response_time</th>\n",
       "      <th>number_of_reviews</th>\n",
       "      <th>amenities_count</th>\n",
       "      <th>calculated_host_listings_count</th>\n",
       "      <th>reviews_per_month</th>\n",
       "      <th>price</th>\n",
       "      <th>security_deposit</th>\n",
       "      <th>cleaning_fee</th>\n",
       "      <th>...</th>\n",
       "      <th>price_per_person</th>\n",
       "      <th>days_since_calendar_updated</th>\n",
       "      <th>account_duration_days</th>\n",
       "      <th>space_char_count</th>\n",
       "      <th>neighborhood_overview_char_count</th>\n",
       "      <th>notes_char_count</th>\n",
       "      <th>host_about_char_count</th>\n",
       "      <th>space_char_count_grouped</th>\n",
       "      <th>neighborhood_overview_char_count_grouped</th>\n",
       "      <th>notes_char_count_grouped</th>\n",
       "    </tr>\n",
       "  </thead>\n",
       "  <tbody>\n",
       "    <tr>\n",
       "      <th>0</th>\n",
       "      <td>0</td>\n",
       "      <td>4</td>\n",
       "      <td>2</td>\n",
       "      <td>207</td>\n",
       "      <td>10</td>\n",
       "      <td>2</td>\n",
       "      <td>4.07</td>\n",
       "      <td>85.0</td>\n",
       "      <td>0.0</td>\n",
       "      <td>0.0</td>\n",
       "      <td>...</td>\n",
       "      <td>21.250000</td>\n",
       "      <td>28</td>\n",
       "      <td>1607</td>\n",
       "      <td>1000</td>\n",
       "      <td>0</td>\n",
       "      <td>0</td>\n",
       "      <td>372</td>\n",
       "      <td>20</td>\n",
       "      <td>1</td>\n",
       "      <td>1</td>\n",
       "    </tr>\n",
       "    <tr>\n",
       "      <th>1</th>\n",
       "      <td>1</td>\n",
       "      <td>6</td>\n",
       "      <td>1</td>\n",
       "      <td>43</td>\n",
       "      <td>16</td>\n",
       "      <td>6</td>\n",
       "      <td>1.48</td>\n",
       "      <td>150.0</td>\n",
       "      <td>100.0</td>\n",
       "      <td>40.0</td>\n",
       "      <td>...</td>\n",
       "      <td>37.500000</td>\n",
       "      <td>0</td>\n",
       "      <td>1047</td>\n",
       "      <td>1000</td>\n",
       "      <td>167</td>\n",
       "      <td>1000</td>\n",
       "      <td>74</td>\n",
       "      <td>20</td>\n",
       "      <td>4</td>\n",
       "      <td>20</td>\n",
       "    </tr>\n",
       "    <tr>\n",
       "      <th>2</th>\n",
       "      <td>0</td>\n",
       "      <td>5</td>\n",
       "      <td>2</td>\n",
       "      <td>20</td>\n",
       "      <td>21</td>\n",
       "      <td>2</td>\n",
       "      <td>1.15</td>\n",
       "      <td>975.0</td>\n",
       "      <td>1000.0</td>\n",
       "      <td>300.0</td>\n",
       "      <td>...</td>\n",
       "      <td>88.636364</td>\n",
       "      <td>35</td>\n",
       "      <td>571</td>\n",
       "      <td>1000</td>\n",
       "      <td>669</td>\n",
       "      <td>155</td>\n",
       "      <td>343</td>\n",
       "      <td>20</td>\n",
       "      <td>14</td>\n",
       "      <td>4</td>\n",
       "    </tr>\n",
       "    <tr>\n",
       "      <th>3</th>\n",
       "      <td>0</td>\n",
       "      <td>5</td>\n",
       "      <td>1</td>\n",
       "      <td>38</td>\n",
       "      <td>13</td>\n",
       "      <td>1</td>\n",
       "      <td>0.89</td>\n",
       "      <td>450.0</td>\n",
       "      <td>700.0</td>\n",
       "      <td>125.0</td>\n",
       "      <td>...</td>\n",
       "      <td>75.000000</td>\n",
       "      <td>49</td>\n",
       "      <td>1497</td>\n",
       "      <td>488</td>\n",
       "      <td>492</td>\n",
       "      <td>9</td>\n",
       "      <td>354</td>\n",
       "      <td>10</td>\n",
       "      <td>10</td>\n",
       "      <td>1</td>\n",
       "    </tr>\n",
       "    <tr>\n",
       "      <th>4</th>\n",
       "      <td>1</td>\n",
       "      <td>4</td>\n",
       "      <td>1</td>\n",
       "      <td>58</td>\n",
       "      <td>7</td>\n",
       "      <td>1</td>\n",
       "      <td>2.46</td>\n",
       "      <td>80.0</td>\n",
       "      <td>150.0</td>\n",
       "      <td>0.0</td>\n",
       "      <td>...</td>\n",
       "      <td>40.000000</td>\n",
       "      <td>35</td>\n",
       "      <td>1314</td>\n",
       "      <td>1000</td>\n",
       "      <td>95</td>\n",
       "      <td>82</td>\n",
       "      <td>229</td>\n",
       "      <td>20</td>\n",
       "      <td>2</td>\n",
       "      <td>2</td>\n",
       "    </tr>\n",
       "  </tbody>\n",
       "</table>\n",
       "<p>5 rows × 23 columns</p>\n",
       "</div>"
      ],
      "text/plain": [
       "   host_is_superhost  no_of_host_verifications  host_response_time  \\\n",
       "0                  0                         4                   2   \n",
       "1                  1                         6                   1   \n",
       "2                  0                         5                   2   \n",
       "3                  0                         5                   1   \n",
       "4                  1                         4                   1   \n",
       "\n",
       "   number_of_reviews  amenities_count  calculated_host_listings_count  \\\n",
       "0                207               10                               2   \n",
       "1                 43               16                               6   \n",
       "2                 20               21                               2   \n",
       "3                 38               13                               1   \n",
       "4                 58                7                               1   \n",
       "\n",
       "   reviews_per_month  price  security_deposit  cleaning_fee  ...  \\\n",
       "0               4.07   85.0               0.0           0.0  ...   \n",
       "1               1.48  150.0             100.0          40.0  ...   \n",
       "2               1.15  975.0            1000.0         300.0  ...   \n",
       "3               0.89  450.0             700.0         125.0  ...   \n",
       "4               2.46   80.0             150.0           0.0  ...   \n",
       "\n",
       "   price_per_person  days_since_calendar_updated  account_duration_days  \\\n",
       "0         21.250000                           28                   1607   \n",
       "1         37.500000                            0                   1047   \n",
       "2         88.636364                           35                    571   \n",
       "3         75.000000                           49                   1497   \n",
       "4         40.000000                           35                   1314   \n",
       "\n",
       "   space_char_count  neighborhood_overview_char_count  notes_char_count  \\\n",
       "0              1000                                 0                 0   \n",
       "1              1000                               167              1000   \n",
       "2              1000                               669               155   \n",
       "3               488                               492                 9   \n",
       "4              1000                                95                82   \n",
       "\n",
       "   host_about_char_count  space_char_count_grouped  \\\n",
       "0                    372                        20   \n",
       "1                     74                        20   \n",
       "2                    343                        20   \n",
       "3                    354                        10   \n",
       "4                    229                        20   \n",
       "\n",
       "   neighborhood_overview_char_count_grouped  notes_char_count_grouped  \n",
       "0                                         1                         1  \n",
       "1                                         4                        20  \n",
       "2                                        14                         4  \n",
       "3                                        10                         1  \n",
       "4                                         2                         2  \n",
       "\n",
       "[5 rows x 23 columns]"
      ]
     },
     "execution_count": 2,
     "metadata": {},
     "output_type": "execute_result"
    }
   ],
   "source": [
    "df = pd.read_csv('cleaned_df_dropped_fts.csv')\n",
    "df.head()"
   ]
  },
  {
   "cell_type": "code",
   "execution_count": 3,
   "metadata": {},
   "outputs": [],
   "source": [
    "predictor_df = df.drop(['host_is_superhost'], axis = 1)"
   ]
  },
  {
   "cell_type": "code",
   "execution_count": 4,
   "metadata": {
    "scrolled": false
   },
   "outputs": [
    {
     "name": "stdout",
     "output_type": "stream",
     "text": [
      "Data dims :  (2803, 22)\n"
     ]
    }
   ],
   "source": [
    "print(\"Data dims : \", predictor_df.shape)"
   ]
  },
  {
   "cell_type": "code",
   "execution_count": 4,
   "metadata": {},
   "outputs": [],
   "source": [
    "superhost_df = df['host_is_superhost']"
   ]
  },
  {
   "cell_type": "code",
   "execution_count": 6,
   "metadata": {
    "scrolled": false
   },
   "outputs": [
    {
     "data": {
      "text/plain": [
       "(2803,)"
      ]
     },
     "execution_count": 6,
     "metadata": {},
     "output_type": "execute_result"
    }
   ],
   "source": [
    "superhost_df.shape"
   ]
  },
  {
   "cell_type": "code",
   "execution_count": 5,
   "metadata": {},
   "outputs": [],
   "source": [
    "from sklearn.model_selection import train_test_split\n",
    "from sklearn.tree import DecisionTreeClassifier\n",
    "from sklearn.metrics import confusion_matrix"
   ]
  },
  {
   "cell_type": "code",
   "execution_count": 6,
   "metadata": {},
   "outputs": [],
   "source": [
    "X_train, X_test, y_train, y_test = train_test_split(predictor_df, superhost_df, test_size = 0.2)"
   ]
  },
  {
   "cell_type": "markdown",
   "metadata": {},
   "source": [
    "## Attempt 1) Using SVM SMOTE"
   ]
  },
  {
   "cell_type": "markdown",
   "metadata": {},
   "source": [
    "Utilise a variant of SMOTE (Synthetic Minority Over-sampling TEchnique), SVM SMOTE, that artificially synthesises samples for the minority class. For SVM SMOTE, a Support Vector Machine is used to locate the decision boundary (separating the 2 classes) and examples in the minority class that are close to the support vectors become the focus for generating synthetic examples. \n",
    "\n",
    "In addition to using a SVM, the technique attempts to select regions where there are fewer examples of the minority class and tries to extrapolate towards the class boundary."
   ]
  },
  {
   "cell_type": "code",
   "execution_count": 8,
   "metadata": {},
   "outputs": [],
   "source": [
    "from imblearn.over_sampling import SVMSMOTE"
   ]
  },
  {
   "cell_type": "code",
   "execution_count": 9,
   "metadata": {},
   "outputs": [],
   "source": [
    "sm = SVMSMOTE()"
   ]
  },
  {
   "cell_type": "code",
   "execution_count": 10,
   "metadata": {},
   "outputs": [],
   "source": [
    "X_train_res, y_train_res = sm.fit_resample(X_train, y_train)"
   ]
  },
  {
   "cell_type": "code",
   "execution_count": 11,
   "metadata": {},
   "outputs": [
    {
     "data": {
      "text/plain": [
       "(3326, 22)"
      ]
     },
     "execution_count": 11,
     "metadata": {},
     "output_type": "execute_result"
    }
   ],
   "source": [
    "X_train_res.shape"
   ]
  },
  {
   "cell_type": "code",
   "execution_count": 12,
   "metadata": {},
   "outputs": [
    {
     "data": {
      "text/plain": [
       "(3326,)"
      ]
     },
     "execution_count": 12,
     "metadata": {},
     "output_type": "execute_result"
    }
   ],
   "source": [
    "y_train_res.shape"
   ]
  },
  {
   "cell_type": "code",
   "execution_count": 13,
   "metadata": {
    "scrolled": true
   },
   "outputs": [
    {
     "data": {
      "text/plain": [
       "1    1663\n",
       "0    1663\n",
       "Name: host_is_superhost, dtype: int64"
      ]
     },
     "execution_count": 13,
     "metadata": {},
     "output_type": "execute_result"
    }
   ],
   "source": [
    "y_train_res.value_counts()"
   ]
  },
  {
   "cell_type": "code",
   "execution_count": null,
   "metadata": {},
   "outputs": [],
   "source": []
  },
  {
   "cell_type": "markdown",
   "metadata": {},
   "source": [
    "# Random Forest Classification"
   ]
  },
  {
   "cell_type": "code",
   "execution_count": 14,
   "metadata": {},
   "outputs": [],
   "source": [
    "from sklearn.ensemble import RandomForestClassifier"
   ]
  },
  {
   "cell_type": "code",
   "execution_count": 80,
   "metadata": {},
   "outputs": [],
   "source": [
    "from sklearn.model_selection import validation_curve"
   ]
  },
  {
   "cell_type": "code",
   "execution_count": 82,
   "metadata": {
    "scrolled": true
   },
   "outputs": [
    {
     "data": {
      "text/plain": [
       "Text(0, 0.5, 'score')"
      ]
     },
     "execution_count": 82,
     "metadata": {},
     "output_type": "execute_result"
    },
    {
     "data": {
      "image/png": "[encoded data removed]",
      "text/plain": [
       "<Figure size 1080x360 with 1 Axes>"
      ]
     },
     "metadata": {},
     "output_type": "display_data"
    }
   ],
   "source": [
    "f_train_scores, f_test_scores = validation_curve(forest, \n",
    "                                             X_train_res, \n",
    "                                             y_train_res, \n",
    "                                             param_name=\"max_depth\", \n",
    "                                             param_range=np.arange(1, 50),\n",
    "                                             scoring=\"accuracy\",\n",
    "                                            cv=5,\n",
    "                                            n_jobs = -1\n",
    "                                             )\n",
    "f, axes = plt.subplots(1, 1, figsize=(15, 5))\n",
    "plt.plot(np.arange(1, 50), np.median(f_train_scores, 1), color='blue', label='training score')\n",
    "plt.plot(np.arange(1, 50), np.median(f_test_scores, 1), color='red', label='validation score')\n",
    "plt.legend(loc='best')\n",
    "plt.ylim(0, 1)\n",
    "plt.xlabel('max_depth')\n",
    "plt.ylabel('score')"
   ]
  },
  {
   "cell_type": "code",
   "execution_count": 83,
   "metadata": {},
   "outputs": [
    {
     "data": {
      "text/plain": [
       "47"
      ]
     },
     "execution_count": 83,
     "metadata": {},
     "output_type": "execute_result"
    }
   ],
   "source": [
    "np.argmax(np.median(f_test_scores, 1))"
   ]
  },
  {
   "cell_type": "code",
   "execution_count": 84,
   "metadata": {
    "scrolled": true
   },
   "outputs": [
    {
     "data": {
      "text/plain": [
       "0.9001490312965723"
      ]
     },
     "execution_count": 84,
     "metadata": {},
     "output_type": "execute_result"
    }
   ],
   "source": [
    "np.median(f_test_scores, 1)[47]"
   ]
  },
  {
   "cell_type": "code",
   "execution_count": 85,
   "metadata": {},
   "outputs": [],
   "source": [
    "f_param_grid = {'n_estimators': [100,200,300,500,1000],\n",
    "               'max_depth': [50],\n",
    "                'min_samples_split': [2,5,10]}"
   ]
  },
  {
   "cell_type": "code",
   "execution_count": 87,
   "metadata": {},
   "outputs": [],
   "source": [
    "from sklearn.model_selection import GridSearchCV"
   ]
  },
  {
   "cell_type": "code",
   "execution_count": 88,
   "metadata": {},
   "outputs": [],
   "source": [
    "f_grid = GridSearchCV(forest, f_param_grid, cv=5, n_jobs = -1)"
   ]
  },
  {
   "cell_type": "code",
   "execution_count": 89,
   "metadata": {},
   "outputs": [
    {
     "data": {
      "text/plain": [
       "GridSearchCV(cv=5, error_score=nan,\n",
       "             estimator=RandomForestClassifier(bootstrap=True, ccp_alpha=0.0,\n",
       "                                              class_weight=None,\n",
       "                                              criterion='gini', max_depth=None,\n",
       "                                              max_features='auto',\n",
       "                                              max_leaf_nodes=None,\n",
       "                                              max_samples=None,\n",
       "                                              min_impurity_decrease=0.0,\n",
       "                                              min_impurity_split=None,\n",
       "                                              min_samples_leaf=1,\n",
       "                                              min_samples_split=2,\n",
       "                                              min_weight_fraction_leaf=0.0,\n",
       "                                              n_estimators=100, n_jobs=None,\n",
       "                                              oob_score=False,\n",
       "                                              random_state=None, verbose=0,\n",
       "                                              warm_start=False),\n",
       "             iid='deprecated', n_jobs=-1,\n",
       "             param_grid={'max_depth': [50], 'min_samples_split': [2, 5, 10],\n",
       "                         'n_estimators': [100, 200, 300, 500, 1000]},\n",
       "             pre_dispatch='2*n_jobs', refit=True, return_train_score=False,\n",
       "             scoring=None, verbose=0)"
      ]
     },
     "execution_count": 89,
     "metadata": {},
     "output_type": "execute_result"
    }
   ],
   "source": [
    "f_grid.fit(X_train_res, y_train_res)"
   ]
  },
  {
   "cell_type": "code",
   "execution_count": 90,
   "metadata": {
    "scrolled": false
   },
   "outputs": [
    {
     "data": {
      "text/plain": [
       "{'max_depth': 50, 'min_samples_split': 2, 'n_estimators': 200}"
      ]
     },
     "execution_count": 90,
     "metadata": {},
     "output_type": "execute_result"
    }
   ],
   "source": [
    "f_grid.best_params_"
   ]
  },
  {
   "cell_type": "code",
   "execution_count": 15,
   "metadata": {},
   "outputs": [],
   "source": [
    "forest = RandomForestClassifier(max_depth = 48, n_estimators = 200)"
   ]
  },
  {
   "cell_type": "code",
   "execution_count": 16,
   "metadata": {},
   "outputs": [
    {
     "data": {
      "text/plain": [
       "RandomForestClassifier(bootstrap=True, ccp_alpha=0.0, class_weight=None,\n",
       "                       criterion='gini', max_depth=48, max_features='auto',\n",
       "                       max_leaf_nodes=None, max_samples=None,\n",
       "                       min_impurity_decrease=0.0, min_impurity_split=None,\n",
       "                       min_samples_leaf=1, min_samples_split=2,\n",
       "                       min_weight_fraction_leaf=0.0, n_estimators=200,\n",
       "                       n_jobs=None, oob_score=False, random_state=None,\n",
       "                       verbose=0, warm_start=False)"
      ]
     },
     "execution_count": 16,
     "metadata": {},
     "output_type": "execute_result"
    }
   ],
   "source": [
    "forest.fit(X_train_res, y_train_res) # train the model"
   ]
  },
  {
   "cell_type": "code",
   "execution_count": 17,
   "metadata": {},
   "outputs": [],
   "source": [
    "y_train_pred = forest.predict(X_train_res)\n",
    "y_test_pred = forest.predict(X_test)"
   ]
  },
  {
   "cell_type": "code",
   "execution_count": 18,
   "metadata": {},
   "outputs": [
    {
     "data": {
      "text/plain": [
       "<matplotlib.axes._subplots.AxesSubplot at 0x1a249d8320>"
      ]
     },
     "execution_count": 18,
     "metadata": {},
     "output_type": "execute_result"
    },
    {
     "data": {
      "image/png": "[encoded data removed]",
      "text/plain": [
       "<Figure size 864x360 with 4 Axes>"
      ]
     },
     "metadata": {},
     "output_type": "display_data"
    }
   ],
   "source": [
    "# Plot the Confusion Matrix\n",
    "f, axes = plt.subplots(1, 2, figsize=(12, 5))\n",
    "sb.heatmap(confusion_matrix(y_train_res, y_train_pred), annot = True, fmt=\".0f\", annot_kws={\"size\": 18}, ax = axes[0])\n",
    "sb.heatmap(confusion_matrix(y_test, y_test_pred), \n",
    "           annot = True, fmt=\".0f\", annot_kws={\"size\": 18}, ax = axes[1])"
   ]
  },
  {
   "cell_type": "code",
   "execution_count": 19,
   "metadata": {
    "scrolled": false
   },
   "outputs": [
    {
     "name": "stdout",
     "output_type": "stream",
     "text": [
      "Goodness of Fit of Model \tTrain Dataset\n",
      "Classification Accuracy \t: 1.0\n",
      "\n",
      "Goodness of Fit of Model \tTest Dataset\n",
      "Classification Accuracy \t: 0.8270944741532977\n",
      "\n"
     ]
    }
   ],
   "source": [
    "# Check the Goodness of Fit (on Train Data)\n",
    "print(\"Goodness of Fit of Model \\tTrain Dataset\")\n",
    "print(\"Classification Accuracy \\t:\", forest.score(X_train_res, y_train_res))\n",
    "print()\n",
    "\n",
    "# Check the Goodness of Fit (on Test Data)\n",
    "print(\"Goodness of Fit of Model \\tTest Dataset\")\n",
    "print(\"Classification Accuracy \\t:\", forest.score(X_test, y_test))\n",
    "print()"
   ]
  },
  {
   "cell_type": "code",
   "execution_count": 20,
   "metadata": {
    "scrolled": false
   },
   "outputs": [
    {
     "name": "stdout",
     "output_type": "stream",
     "text": [
      "372 49 48 92\n",
      "\n",
      "FPR = 0.1163895486935867\n",
      "FNR = 0.34285714285714286\n"
     ]
    }
   ],
   "source": [
    "TN_2, FP_2, FN_2, TP_2 = confusion_matrix(y_test, y_test_pred).ravel()\n",
    "\n",
    "print(TN_2, FP_2, FN_2, TP_2)\n",
    "print()\n",
    "\n",
    "print(\"FPR =\", FP_2/(FP_2+TN_2))\n",
    "\n",
    "print(\"FNR =\", FN_2/(FN_2+TP_2))"
   ]
  },
  {
   "cell_type": "markdown",
   "metadata": {},
   "source": [
    "majority in each category is predicted correctly"
   ]
  },
  {
   "cell_type": "markdown",
   "metadata": {},
   "source": [
    "# Support Vector Machine"
   ]
  },
  {
   "cell_type": "code",
   "execution_count": 22,
   "metadata": {},
   "outputs": [],
   "source": [
    "from sklearn.svm import SVC\n",
    "from sklearn.svm import NuSVC"
   ]
  },
  {
   "cell_type": "code",
   "execution_count": 23,
   "metadata": {},
   "outputs": [],
   "source": [
    "svc = NuSVC()"
   ]
  },
  {
   "cell_type": "code",
   "execution_count": 24,
   "metadata": {
    "scrolled": true
   },
   "outputs": [
    {
     "data": {
      "text/plain": [
       "NuSVC(break_ties=False, cache_size=200, class_weight=None, coef0=0.0,\n",
       "      decision_function_shape='ovr', degree=3, gamma='scale', kernel='rbf',\n",
       "      max_iter=-1, nu=0.5, probability=False, random_state=None, shrinking=True,\n",
       "      tol=0.001, verbose=False)"
      ]
     },
     "execution_count": 24,
     "metadata": {},
     "output_type": "execute_result"
    }
   ],
   "source": [
    "svc.fit(X_train_res, y_train_res) # train the model"
   ]
  },
  {
   "cell_type": "code",
   "execution_count": 25,
   "metadata": {},
   "outputs": [],
   "source": [
    "y_train_pred3 = svc.predict(X_train_res)\n",
    "y_test_pred3 = svc.predict(X_test)"
   ]
  },
  {
   "cell_type": "code",
   "execution_count": 26,
   "metadata": {
    "scrolled": true
   },
   "outputs": [
    {
     "data": {
      "text/plain": [
       "<matplotlib.axes._subplots.AxesSubplot at 0x1a255b3080>"
      ]
     },
     "execution_count": 26,
     "metadata": {},
     "output_type": "execute_result"
    },
    {
     "data": {
      "image/png": "[encoded data removed]",
      "text/plain": [
       "<Figure size 864x360 with 4 Axes>"
      ]
     },
     "metadata": {},
     "output_type": "display_data"
    }
   ],
   "source": [
    "# Plot the Confusion Matrix\n",
    "f, axes = plt.subplots(1, 2, figsize=(12, 5))\n",
    "sb.heatmap(confusion_matrix(y_train_res, y_train_pred3), annot = True, fmt=\".0f\", annot_kws={\"size\": 18}, ax = axes[0])\n",
    "sb.heatmap(confusion_matrix(y_test, y_test_pred3), \n",
    "           annot = True, fmt=\".0f\", annot_kws={\"size\": 18}, ax = axes[1])"
   ]
  },
  {
   "cell_type": "code",
   "execution_count": 27,
   "metadata": {
    "scrolled": true
   },
   "outputs": [
    {
     "name": "stdout",
     "output_type": "stream",
     "text": [
      "Goodness of Fit of Model \tTrain Dataset\n",
      "Classification Accuracy \t: 0.8529765484064943\n",
      "\n",
      "Goodness of Fit of Model \tTest Dataset\n",
      "Classification Accuracy \t: 0.7415329768270945\n",
      "\n"
     ]
    }
   ],
   "source": [
    "# Check the Goodness of Fit (on Train Data)\n",
    "print(\"Goodness of Fit of Model \\tTrain Dataset\")\n",
    "print(\"Classification Accuracy \\t:\", svc.score(X_train_res, y_train_res))\n",
    "print()\n",
    "\n",
    "# Check the Goodness of Fit (on Test Data)\n",
    "print(\"Goodness of Fit of Model \\tTest Dataset\")\n",
    "print(\"Classification Accuracy \\t:\", svc.score(X_test, y_test))\n",
    "print()"
   ]
  },
  {
   "cell_type": "code",
   "execution_count": 28,
   "metadata": {
    "scrolled": true
   },
   "outputs": [
    {
     "name": "stdout",
     "output_type": "stream",
     "text": [
      "328 93 52 88\n",
      "\n",
      "FPR = 0.2209026128266033\n",
      "FNR = 0.37142857142857144\n"
     ]
    }
   ],
   "source": [
    "TN_2, FP_2, FN_2, TP_2 = confusion_matrix(y_test, y_test_pred3).ravel()\n",
    "\n",
    "print(TN_2, FP_2, FN_2, TP_2)\n",
    "print()\n",
    "\n",
    "print(\"FPR =\", FP_2/(FP_2+TN_2))\n",
    "\n",
    "print(\"FNR =\", FN_2/(FN_2+TP_2))"
   ]
  },
  {
   "cell_type": "markdown",
   "metadata": {},
   "source": [
    "Logistic Regression; uses a logistic function to model the probabilities for binary classification"
   ]
  },
  {
   "cell_type": "code",
   "execution_count": 29,
   "metadata": {},
   "outputs": [],
   "source": [
    "from sklearn.linear_model import LogisticRegression"
   ]
  },
  {
   "cell_type": "code",
   "execution_count": 30,
   "metadata": {},
   "outputs": [],
   "source": [
    "log = LogisticRegression( solver='liblinear')"
   ]
  },
  {
   "cell_type": "code",
   "execution_count": 31,
   "metadata": {
    "scrolled": true
   },
   "outputs": [
    {
     "data": {
      "text/plain": [
       "LogisticRegression(C=1.0, class_weight=None, dual=False, fit_intercept=True,\n",
       "                   intercept_scaling=1, l1_ratio=None, max_iter=100,\n",
       "                   multi_class='auto', n_jobs=None, penalty='l2',\n",
       "                   random_state=None, solver='liblinear', tol=0.0001, verbose=0,\n",
       "                   warm_start=False)"
      ]
     },
     "execution_count": 31,
     "metadata": {},
     "output_type": "execute_result"
    }
   ],
   "source": [
    "log.fit(X_train_res, y_train_res) # train the model"
   ]
  },
  {
   "cell_type": "code",
   "execution_count": 32,
   "metadata": {},
   "outputs": [],
   "source": [
    "y_train_pred6 = log.predict(X_train_res)\n",
    "y_test_pred6 = log.predict(X_test)"
   ]
  },
  {
   "cell_type": "code",
   "execution_count": 33,
   "metadata": {
    "scrolled": true
   },
   "outputs": [
    {
     "data": {
      "text/plain": [
       "<matplotlib.axes._subplots.AxesSubplot at 0x1a2597ab38>"
      ]
     },
     "execution_count": 33,
     "metadata": {},
     "output_type": "execute_result"
    },
    {
     "data": {
      "image/png": "[encoded data removed]",
      "text/plain": [
       "<Figure size 864x360 with 4 Axes>"
      ]
     },
     "metadata": {},
     "output_type": "display_data"
    }
   ],
   "source": [
    "# Plot the Confusion Matrix\n",
    "f, axes = plt.subplots(1, 2, figsize=(12, 5))\n",
    "sb.heatmap(confusion_matrix(y_train_res, y_train_pred6), annot = True, fmt=\".0f\", annot_kws={\"size\": 18}, ax = axes[0])\n",
    "sb.heatmap(confusion_matrix(y_test, y_test_pred6), \n",
    "           annot = True, fmt=\".0f\", annot_kws={\"size\": 18}, ax = axes[1])"
   ]
  },
  {
   "cell_type": "code",
   "execution_count": 34,
   "metadata": {
    "scrolled": true
   },
   "outputs": [
    {
     "name": "stdout",
     "output_type": "stream",
     "text": [
      "Goodness of Fit of Model \tTrain Dataset\n",
      "Classification Accuracy \t: 0.7432351172579675\n",
      "\n",
      "Goodness of Fit of Model \tTest Dataset\n",
      "Classification Accuracy \t: 0.6951871657754011\n",
      "\n"
     ]
    }
   ],
   "source": [
    "# Check the Goodness of Fit (on Train Data)\n",
    "print(\"Goodness of Fit of Model \\tTrain Dataset\")\n",
    "print(\"Classification Accuracy \\t:\", log.score(X_train_res, y_train_res))\n",
    "print()\n",
    "\n",
    "# Check the Goodness of Fit (on Test Data)\n",
    "print(\"Goodness of Fit of Model \\tTest Dataset\")\n",
    "print(\"Classification Accuracy \\t:\", log.score(X_test, y_test))\n",
    "print()"
   ]
  },
  {
   "cell_type": "markdown",
   "metadata": {},
   "source": [
    "### Extracting Test Set"
   ]
  },
  {
   "cell_type": "code",
   "execution_count": 35,
   "metadata": {},
   "outputs": [
    {
     "data": {
      "text/plain": [
       "(5249, 23)"
      ]
     },
     "execution_count": 35,
     "metadata": {},
     "output_type": "execute_result"
    }
   ],
   "source": [
    "test_df = pd.read_csv('cleaned_df_2020.csv')\n",
    "test_df.shape"
   ]
  },
  {
   "cell_type": "code",
   "execution_count": 36,
   "metadata": {},
   "outputs": [
    {
     "data": {
      "text/html": [
       "<div>\n",
       "<style scoped>\n",
       "    .dataframe tbody tr th:only-of-type {\n",
       "        vertical-align: middle;\n",
       "    }\n",
       "\n",
       "    .dataframe tbody tr th {\n",
       "        vertical-align: top;\n",
       "    }\n",
       "\n",
       "    .dataframe thead th {\n",
       "        text-align: right;\n",
       "    }\n",
       "</style>\n",
       "<table border=\"1\" class=\"dataframe\">\n",
       "  <thead>\n",
       "    <tr style=\"text-align: right;\">\n",
       "      <th></th>\n",
       "      <th>host_is_superhost</th>\n",
       "      <th>no_of_host_verifications</th>\n",
       "      <th>host_response_time</th>\n",
       "      <th>number_of_reviews</th>\n",
       "      <th>amenities_count</th>\n",
       "      <th>calculated_host_listings_count</th>\n",
       "      <th>reviews_per_month</th>\n",
       "      <th>price</th>\n",
       "      <th>security_deposit</th>\n",
       "      <th>cleaning_fee</th>\n",
       "      <th>...</th>\n",
       "      <th>price_per_person</th>\n",
       "      <th>days_since_calendar_updated</th>\n",
       "      <th>account_duration_days</th>\n",
       "      <th>space_char_count</th>\n",
       "      <th>neighborhood_overview_char_count</th>\n",
       "      <th>notes_char_count</th>\n",
       "      <th>host_about_char_count</th>\n",
       "      <th>space_char_count_grouped</th>\n",
       "      <th>neighborhood_overview_char_count_grouped</th>\n",
       "      <th>notes_char_count_grouped</th>\n",
       "    </tr>\n",
       "  </thead>\n",
       "  <tbody>\n",
       "    <tr>\n",
       "      <th>0</th>\n",
       "      <td>1</td>\n",
       "      <td>8</td>\n",
       "      <td>1</td>\n",
       "      <td>32</td>\n",
       "      <td>39</td>\n",
       "      <td>2</td>\n",
       "      <td>0.23</td>\n",
       "      <td>296.0</td>\n",
       "      <td>500.0</td>\n",
       "      <td>250.0</td>\n",
       "      <td>...</td>\n",
       "      <td>32.888889</td>\n",
       "      <td>21</td>\n",
       "      <td>4221</td>\n",
       "      <td>1000</td>\n",
       "      <td>404</td>\n",
       "      <td>200</td>\n",
       "      <td>59</td>\n",
       "      <td>20</td>\n",
       "      <td>9</td>\n",
       "      <td>4</td>\n",
       "    </tr>\n",
       "    <tr>\n",
       "      <th>1</th>\n",
       "      <td>0</td>\n",
       "      <td>5</td>\n",
       "      <td>3</td>\n",
       "      <td>150</td>\n",
       "      <td>21</td>\n",
       "      <td>3</td>\n",
       "      <td>1.15</td>\n",
       "      <td>90.0</td>\n",
       "      <td>200.0</td>\n",
       "      <td>40.0</td>\n",
       "      <td>...</td>\n",
       "      <td>45.000000</td>\n",
       "      <td>92</td>\n",
       "      <td>3979</td>\n",
       "      <td>999</td>\n",
       "      <td>180</td>\n",
       "      <td>382</td>\n",
       "      <td>192</td>\n",
       "      <td>20</td>\n",
       "      <td>4</td>\n",
       "      <td>8</td>\n",
       "    </tr>\n",
       "    <tr>\n",
       "      <th>2</th>\n",
       "      <td>1</td>\n",
       "      <td>6</td>\n",
       "      <td>2</td>\n",
       "      <td>148</td>\n",
       "      <td>34</td>\n",
       "      <td>8</td>\n",
       "      <td>1.26</td>\n",
       "      <td>62.0</td>\n",
       "      <td>100.0</td>\n",
       "      <td>20.0</td>\n",
       "      <td>...</td>\n",
       "      <td>31.000000</td>\n",
       "      <td>15</td>\n",
       "      <td>3844</td>\n",
       "      <td>1000</td>\n",
       "      <td>669</td>\n",
       "      <td>205</td>\n",
       "      <td>2633</td>\n",
       "      <td>20</td>\n",
       "      <td>14</td>\n",
       "      <td>5</td>\n",
       "    </tr>\n",
       "    <tr>\n",
       "      <th>3</th>\n",
       "      <td>1</td>\n",
       "      <td>7</td>\n",
       "      <td>1</td>\n",
       "      <td>466</td>\n",
       "      <td>48</td>\n",
       "      <td>4</td>\n",
       "      <td>3.63</td>\n",
       "      <td>79.0</td>\n",
       "      <td>0.0</td>\n",
       "      <td>45.0</td>\n",
       "      <td>...</td>\n",
       "      <td>39.500000</td>\n",
       "      <td>5</td>\n",
       "      <td>3814</td>\n",
       "      <td>1000</td>\n",
       "      <td>308</td>\n",
       "      <td>1000</td>\n",
       "      <td>281</td>\n",
       "      <td>20</td>\n",
       "      <td>7</td>\n",
       "      <td>20</td>\n",
       "    </tr>\n",
       "    <tr>\n",
       "      <th>4</th>\n",
       "      <td>1</td>\n",
       "      <td>4</td>\n",
       "      <td>2</td>\n",
       "      <td>40</td>\n",
       "      <td>50</td>\n",
       "      <td>2</td>\n",
       "      <td>0.40</td>\n",
       "      <td>165.0</td>\n",
       "      <td>300.0</td>\n",
       "      <td>120.0</td>\n",
       "      <td>...</td>\n",
       "      <td>41.250000</td>\n",
       "      <td>2</td>\n",
       "      <td>3870</td>\n",
       "      <td>1000</td>\n",
       "      <td>248</td>\n",
       "      <td>193</td>\n",
       "      <td>805</td>\n",
       "      <td>20</td>\n",
       "      <td>5</td>\n",
       "      <td>4</td>\n",
       "    </tr>\n",
       "  </tbody>\n",
       "</table>\n",
       "<p>5 rows × 23 columns</p>\n",
       "</div>"
      ],
      "text/plain": [
       "   host_is_superhost  no_of_host_verifications  host_response_time  \\\n",
       "0                  1                         8                   1   \n",
       "1                  0                         5                   3   \n",
       "2                  1                         6                   2   \n",
       "3                  1                         7                   1   \n",
       "4                  1                         4                   2   \n",
       "\n",
       "   number_of_reviews  amenities_count  calculated_host_listings_count  \\\n",
       "0                 32               39                               2   \n",
       "1                150               21                               3   \n",
       "2                148               34                               8   \n",
       "3                466               48                               4   \n",
       "4                 40               50                               2   \n",
       "\n",
       "   reviews_per_month  price  security_deposit  cleaning_fee  ...  \\\n",
       "0               0.23  296.0             500.0         250.0  ...   \n",
       "1               1.15   90.0             200.0          40.0  ...   \n",
       "2               1.26   62.0             100.0          20.0  ...   \n",
       "3               3.63   79.0               0.0          45.0  ...   \n",
       "4               0.40  165.0             300.0         120.0  ...   \n",
       "\n",
       "   price_per_person  days_since_calendar_updated  account_duration_days  \\\n",
       "0         32.888889                           21                   4221   \n",
       "1         45.000000                           92                   3979   \n",
       "2         31.000000                           15                   3844   \n",
       "3         39.500000                            5                   3814   \n",
       "4         41.250000                            2                   3870   \n",
       "\n",
       "   space_char_count  neighborhood_overview_char_count  notes_char_count  \\\n",
       "0              1000                               404               200   \n",
       "1               999                               180               382   \n",
       "2              1000                               669               205   \n",
       "3              1000                               308              1000   \n",
       "4              1000                               248               193   \n",
       "\n",
       "   host_about_char_count  space_char_count_grouped  \\\n",
       "0                     59                        20   \n",
       "1                    192                        20   \n",
       "2                   2633                        20   \n",
       "3                    281                        20   \n",
       "4                    805                        20   \n",
       "\n",
       "   neighborhood_overview_char_count_grouped  notes_char_count_grouped  \n",
       "0                                         9                         4  \n",
       "1                                         4                         8  \n",
       "2                                        14                         5  \n",
       "3                                         7                        20  \n",
       "4                                         5                         4  \n",
       "\n",
       "[5 rows x 23 columns]"
      ]
     },
     "execution_count": 36,
     "metadata": {},
     "output_type": "execute_result"
    }
   ],
   "source": [
    "test_df.head()"
   ]
  },
  {
   "cell_type": "code",
   "execution_count": 37,
   "metadata": {},
   "outputs": [],
   "source": [
    "predictor_df_test = test_df.drop(['host_is_superhost'], axis = 1)"
   ]
  },
  {
   "cell_type": "code",
   "execution_count": 38,
   "metadata": {},
   "outputs": [
    {
     "name": "stdout",
     "output_type": "stream",
     "text": [
      "Data dims :  (5249, 22)\n"
     ]
    }
   ],
   "source": [
    "print(\"Data dims : \", predictor_df_test.shape)"
   ]
  },
  {
   "cell_type": "code",
   "execution_count": 39,
   "metadata": {},
   "outputs": [],
   "source": [
    "superhost_df_test = test_df['host_is_superhost']"
   ]
  },
  {
   "cell_type": "code",
   "execution_count": 40,
   "metadata": {},
   "outputs": [
    {
     "name": "stdout",
     "output_type": "stream",
     "text": [
      "Data dims :  (5249,)\n"
     ]
    }
   ],
   "source": [
    "print(\"Data dims : \", superhost_df_test.shape)"
   ]
  },
  {
   "cell_type": "code",
   "execution_count": 41,
   "metadata": {},
   "outputs": [],
   "source": [
    "test_prediction_2 = forest.predict(predictor_df_test)"
   ]
  },
  {
   "cell_type": "code",
   "execution_count": 42,
   "metadata": {
    "scrolled": true
   },
   "outputs": [
    {
     "data": {
      "text/plain": [
       "<matplotlib.axes._subplots.AxesSubplot at 0x1a258e0c18>"
      ]
     },
     "execution_count": 42,
     "metadata": {},
     "output_type": "execute_result"
    },
    {
     "data": {
      "image/png": "[encoded data removed]",
      "text/plain": [
       "<Figure size 432x288 with 2 Axes>"
      ]
     },
     "metadata": {},
     "output_type": "display_data"
    }
   ],
   "source": [
    "sb.heatmap(confusion_matrix(superhost_df_test, test_prediction_2), annot = True, fmt=\".0f\", annot_kws={\"size\": 18})\n"
   ]
  },
  {
   "cell_type": "code",
   "execution_count": 43,
   "metadata": {},
   "outputs": [
    {
     "name": "stdout",
     "output_type": "stream",
     "text": [
      "Classification Accuracy \t: 0.5682987235663935\n",
      "\n",
      "2112 248 2018 871\n",
      "\n",
      "FPR = 0.10508474576271186\n",
      "FNR = 0.6985115957078574\n"
     ]
    }
   ],
   "source": [
    "# Check the Goodness of Fit\n",
    "print(\"Classification Accuracy \\t:\", forest.score(predictor_df_test, superhost_df_test))\n",
    "print()\n",
    "\n",
    "TN_Test2, FP_Test2, FN_Test2, TP_Test2 = confusion_matrix(superhost_df_test, test_prediction_2).ravel()\n",
    "\n",
    "print(TN_Test2, FP_Test2, FN_Test2, TP_Test2)\n",
    "print()\n",
    "\n",
    "print(\"FPR =\", FP_Test2/(FP_Test2+TN_Test2))\n",
    "\n",
    "print(\"FNR =\", FN_Test2/(FN_Test2+TP_Test2))"
   ]
  },
  {
   "cell_type": "code",
   "execution_count": 44,
   "metadata": {},
   "outputs": [],
   "source": [
    "test_prediction_3 = svc.predict(predictor_df_test)"
   ]
  },
  {
   "cell_type": "code",
   "execution_count": 45,
   "metadata": {
    "scrolled": true
   },
   "outputs": [
    {
     "data": {
      "text/plain": [
       "<matplotlib.axes._subplots.AxesSubplot at 0x1a25714278>"
      ]
     },
     "execution_count": 45,
     "metadata": {},
     "output_type": "execute_result"
    },
    {
     "data": {
      "image/png": "[encoded data removed]",
      "text/plain": [
       "<Figure size 432x288 with 2 Axes>"
      ]
     },
     "metadata": {},
     "output_type": "display_data"
    }
   ],
   "source": [
    "sb.heatmap(confusion_matrix(superhost_df_test, test_prediction_3), annot = True, fmt=\".0f\", annot_kws={\"size\": 18})"
   ]
  },
  {
   "cell_type": "code",
   "execution_count": 46,
   "metadata": {},
   "outputs": [
    {
     "name": "stdout",
     "output_type": "stream",
     "text": [
      "Classification Accuracy \t: 0.5324823775957325\n",
      "\n",
      "1974 386 2068 821\n",
      "\n",
      "FPR = 0.1635593220338983\n",
      "FNR = 0.7158186223606784\n"
     ]
    }
   ],
   "source": [
    "# Check the Goodness of Fit\n",
    "print(\"Classification Accuracy \\t:\", svc.score(predictor_df_test, superhost_df_test))\n",
    "print()\n",
    "\n",
    "TN_Test3, FP_Test3, FN_Test3, TP_Test3 = confusion_matrix(superhost_df_test, test_prediction_3).ravel()\n",
    "\n",
    "print(TN_Test3, FP_Test3, FN_Test3, TP_Test3)\n",
    "print()\n",
    "\n",
    "print(\"FPR =\", FP_Test3/(FP_Test3+TN_Test3))\n",
    "\n",
    "print(\"FNR =\", FN_Test3/(FN_Test3+TP_Test3))"
   ]
  },
  {
   "cell_type": "code",
   "execution_count": 47,
   "metadata": {},
   "outputs": [],
   "source": [
    "test_prediction_5 = log.predict(predictor_df_test)"
   ]
  },
  {
   "cell_type": "code",
   "execution_count": 48,
   "metadata": {
    "scrolled": false
   },
   "outputs": [
    {
     "data": {
      "text/plain": [
       "<matplotlib.axes._subplots.AxesSubplot at 0x1a26277e10>"
      ]
     },
     "execution_count": 48,
     "metadata": {},
     "output_type": "execute_result"
    },
    {
     "data": {
      "image/png": "[encoded data removed]",
      "text/plain": [
       "<Figure size 432x288 with 2 Axes>"
      ]
     },
     "metadata": {},
     "output_type": "display_data"
    }
   ],
   "source": [
    "sb.heatmap(confusion_matrix(superhost_df_test, test_prediction_5), annot = True, fmt=\".0f\", annot_kws={\"size\": 18})"
   ]
  },
  {
   "cell_type": "code",
   "execution_count": 49,
   "metadata": {
    "scrolled": true
   },
   "outputs": [
    {
     "name": "stdout",
     "output_type": "stream",
     "text": [
      "Classification Accuracy \t: 0.6940369594208421\n",
      "\n",
      "1451 909 697 2192\n",
      "\n",
      "FPR = 0.38516949152542374\n",
      "FNR = 0.24125995154032537\n"
     ]
    }
   ],
   "source": [
    "# Check the Goodness of Fit\n",
    "print(\"Classification Accuracy \\t:\", log.score(predictor_df_test, superhost_df_test))\n",
    "print()\n",
    "\n",
    "TN_Test3, FP_Test3, FN_Test3, TP_Test3 = confusion_matrix(superhost_df_test, test_prediction_5).ravel()\n",
    "\n",
    "print(TN_Test3, FP_Test3, FN_Test3, TP_Test3)\n",
    "print()\n",
    "\n",
    "print(\"FPR =\", FP_Test3/(FP_Test3+TN_Test3))\n",
    "\n",
    "print(\"FNR =\", FN_Test3/(FN_Test3+TP_Test3))"
   ]
  },
  {
   "cell_type": "code",
   "execution_count": 50,
   "metadata": {
    "scrolled": true
   },
   "outputs": [
    {
     "data": {
      "text/plain": [
       "Index(['host_is_superhost', 'no_of_host_verifications', 'host_response_time',\n",
       "       'number_of_reviews', 'amenities_count',\n",
       "       'calculated_host_listings_count', 'reviews_per_month', 'price',\n",
       "       'security_deposit', 'cleaning_fee', 'availability_365',\n",
       "       'listing_duration_days', 'hosting_duration_days', 'price_per_person',\n",
       "       'days_since_calendar_updated', 'account_duration_days',\n",
       "       'space_char_count', 'neighborhood_overview_char_count',\n",
       "       'notes_char_count', 'host_about_char_count', 'space_char_count_grouped',\n",
       "       'neighborhood_overview_char_count_grouped', 'notes_char_count_grouped'],\n",
       "      dtype='object')"
      ]
     },
     "execution_count": 50,
     "metadata": {},
     "output_type": "execute_result"
    }
   ],
   "source": [
    "test_df.columns"
   ]
  },
  {
   "cell_type": "code",
   "execution_count": 64,
   "metadata": {},
   "outputs": [],
   "source": [
    "pd.set_option('display.max_columns', None)"
   ]
  },
  {
   "cell_type": "code",
   "execution_count": 65,
   "metadata": {
    "scrolled": true
   },
   "outputs": [
    {
     "data": {
      "text/html": [
       "<div>\n",
       "<style scoped>\n",
       "    .dataframe tbody tr th:only-of-type {\n",
       "        vertical-align: middle;\n",
       "    }\n",
       "\n",
       "    .dataframe tbody tr th {\n",
       "        vertical-align: top;\n",
       "    }\n",
       "\n",
       "    .dataframe thead th {\n",
       "        text-align: right;\n",
       "    }\n",
       "</style>\n",
       "<table border=\"1\" class=\"dataframe\">\n",
       "  <thead>\n",
       "    <tr style=\"text-align: right;\">\n",
       "      <th></th>\n",
       "      <th>no_of_host_verifications</th>\n",
       "      <th>host_response_time</th>\n",
       "      <th>number_of_reviews</th>\n",
       "      <th>amenities_count</th>\n",
       "      <th>calculated_host_listings_count</th>\n",
       "      <th>reviews_per_month</th>\n",
       "      <th>price</th>\n",
       "      <th>security_deposit</th>\n",
       "      <th>cleaning_fee</th>\n",
       "      <th>availability_365</th>\n",
       "      <th>listing_duration_days</th>\n",
       "      <th>hosting_duration_days</th>\n",
       "      <th>price_per_person</th>\n",
       "      <th>days_since_calendar_updated</th>\n",
       "      <th>account_duration_days</th>\n",
       "      <th>space_char_count</th>\n",
       "      <th>neighborhood_overview_char_count</th>\n",
       "      <th>notes_char_count</th>\n",
       "      <th>host_about_char_count</th>\n",
       "      <th>space_char_count_grouped</th>\n",
       "      <th>neighborhood_overview_char_count_grouped</th>\n",
       "      <th>notes_char_count_grouped</th>\n",
       "    </tr>\n",
       "  </thead>\n",
       "  <tbody>\n",
       "    <tr>\n",
       "      <th>mean</th>\n",
       "      <td>4.845523</td>\n",
       "      <td>1.653942</td>\n",
       "      <td>28.887977</td>\n",
       "      <td>14.603996</td>\n",
       "      <td>3.241527</td>\n",
       "      <td>2.220999</td>\n",
       "      <td>124.250089</td>\n",
       "      <td>140.384945</td>\n",
       "      <td>47.256511</td>\n",
       "      <td>254.756689</td>\n",
       "      <td>355.082768</td>\n",
       "      <td>835.433107</td>\n",
       "      <td>39.151493</td>\n",
       "      <td>23.244381</td>\n",
       "      <td>899.007492</td>\n",
       "      <td>580.817339</td>\n",
       "      <td>310.351052</td>\n",
       "      <td>186.5198</td>\n",
       "      <td>403.226543</td>\n",
       "      <td>11.993578</td>\n",
       "      <td>6.766679</td>\n",
       "      <td>4.393864</td>\n",
       "    </tr>\n",
       "    <tr>\n",
       "      <th>50%</th>\n",
       "      <td>5.000000</td>\n",
       "      <td>1.000000</td>\n",
       "      <td>14.000000</td>\n",
       "      <td>14.000000</td>\n",
       "      <td>1.000000</td>\n",
       "      <td>1.720000</td>\n",
       "      <td>100.000000</td>\n",
       "      <td>95.000000</td>\n",
       "      <td>35.000000</td>\n",
       "      <td>320.000000</td>\n",
       "      <td>193.000000</td>\n",
       "      <td>769.000000</td>\n",
       "      <td>35.000000</td>\n",
       "      <td>7.000000</td>\n",
       "      <td>835.000000</td>\n",
       "      <td>582.000000</td>\n",
       "      <td>244.000000</td>\n",
       "      <td>100.0000</td>\n",
       "      <td>297.000000</td>\n",
       "      <td>12.000000</td>\n",
       "      <td>5.000000</td>\n",
       "      <td>2.000000</td>\n",
       "    </tr>\n",
       "    <tr>\n",
       "      <th>75%</th>\n",
       "      <td>5.000000</td>\n",
       "      <td>2.000000</td>\n",
       "      <td>35.000000</td>\n",
       "      <td>17.000000</td>\n",
       "      <td>2.000000</td>\n",
       "      <td>3.150000</td>\n",
       "      <td>150.000000</td>\n",
       "      <td>200.000000</td>\n",
       "      <td>70.000000</td>\n",
       "      <td>359.000000</td>\n",
       "      <td>497.500000</td>\n",
       "      <td>1198.500000</td>\n",
       "      <td>47.500000</td>\n",
       "      <td>28.000000</td>\n",
       "      <td>1271.000000</td>\n",
       "      <td>1000.000000</td>\n",
       "      <td>451.000000</td>\n",
       "      <td>262.0000</td>\n",
       "      <td>577.000000</td>\n",
       "      <td>20.000000</td>\n",
       "      <td>9.500000</td>\n",
       "      <td>6.000000</td>\n",
       "    </tr>\n",
       "    <tr>\n",
       "      <th>max</th>\n",
       "      <td>8.000000</td>\n",
       "      <td>4.000000</td>\n",
       "      <td>474.000000</td>\n",
       "      <td>30.000000</td>\n",
       "      <td>37.000000</td>\n",
       "      <td>12.150000</td>\n",
       "      <td>999.000000</td>\n",
       "      <td>2500.000000</td>\n",
       "      <td>300.000000</td>\n",
       "      <td>365.000000</td>\n",
       "      <td>2355.000000</td>\n",
       "      <td>2578.000000</td>\n",
       "      <td>249.750000</td>\n",
       "      <td>426.000000</td>\n",
       "      <td>2611.000000</td>\n",
       "      <td>1000.000000</td>\n",
       "      <td>1000.000000</td>\n",
       "      <td>1000.0000</td>\n",
       "      <td>4354.000000</td>\n",
       "      <td>20.000000</td>\n",
       "      <td>20.000000</td>\n",
       "      <td>20.000000</td>\n",
       "    </tr>\n",
       "  </tbody>\n",
       "</table>\n",
       "</div>"
      ],
      "text/plain": [
       "      no_of_host_verifications  host_response_time  number_of_reviews  \\\n",
       "mean                  4.845523            1.653942          28.887977   \n",
       "50%                   5.000000            1.000000          14.000000   \n",
       "75%                   5.000000            2.000000          35.000000   \n",
       "max                   8.000000            4.000000         474.000000   \n",
       "\n",
       "      amenities_count  calculated_host_listings_count  reviews_per_month  \\\n",
       "mean        14.603996                        3.241527           2.220999   \n",
       "50%         14.000000                        1.000000           1.720000   \n",
       "75%         17.000000                        2.000000           3.150000   \n",
       "max         30.000000                       37.000000          12.150000   \n",
       "\n",
       "           price  security_deposit  cleaning_fee  availability_365  \\\n",
       "mean  124.250089        140.384945     47.256511        254.756689   \n",
       "50%   100.000000         95.000000     35.000000        320.000000   \n",
       "75%   150.000000        200.000000     70.000000        359.000000   \n",
       "max   999.000000       2500.000000    300.000000        365.000000   \n",
       "\n",
       "      listing_duration_days  hosting_duration_days  price_per_person  \\\n",
       "mean             355.082768             835.433107         39.151493   \n",
       "50%              193.000000             769.000000         35.000000   \n",
       "75%              497.500000            1198.500000         47.500000   \n",
       "max             2355.000000            2578.000000        249.750000   \n",
       "\n",
       "      days_since_calendar_updated  account_duration_days  space_char_count  \\\n",
       "mean                    23.244381             899.007492        580.817339   \n",
       "50%                      7.000000             835.000000        582.000000   \n",
       "75%                     28.000000            1271.000000       1000.000000   \n",
       "max                    426.000000            2611.000000       1000.000000   \n",
       "\n",
       "      neighborhood_overview_char_count  notes_char_count  \\\n",
       "mean                        310.351052          186.5198   \n",
       "50%                         244.000000          100.0000   \n",
       "75%                         451.000000          262.0000   \n",
       "max                        1000.000000         1000.0000   \n",
       "\n",
       "      host_about_char_count  space_char_count_grouped  \\\n",
       "mean             403.226543                 11.993578   \n",
       "50%              297.000000                 12.000000   \n",
       "75%              577.000000                 20.000000   \n",
       "max             4354.000000                 20.000000   \n",
       "\n",
       "      neighborhood_overview_char_count_grouped  notes_char_count_grouped  \n",
       "mean                                  6.766679                  4.393864  \n",
       "50%                                   5.000000                  2.000000  \n",
       "75%                                   9.500000                  6.000000  \n",
       "max                                  20.000000                 20.000000  "
      ]
     },
     "execution_count": 65,
     "metadata": {},
     "output_type": "execute_result"
    }
   ],
   "source": [
    "predictor_df.describe().loc[['mean','50%','75%','max']]"
   ]
  },
  {
   "cell_type": "markdown",
   "metadata": {},
   "source": [
    "Given Dataset^"
   ]
  },
  {
   "cell_type": "code",
   "execution_count": 66,
   "metadata": {
    "scrolled": false
   },
   "outputs": [
    {
     "data": {
      "text/html": [
       "<div>\n",
       "<style scoped>\n",
       "    .dataframe tbody tr th:only-of-type {\n",
       "        vertical-align: middle;\n",
       "    }\n",
       "\n",
       "    .dataframe tbody tr th {\n",
       "        vertical-align: top;\n",
       "    }\n",
       "\n",
       "    .dataframe thead th {\n",
       "        text-align: right;\n",
       "    }\n",
       "</style>\n",
       "<table border=\"1\" class=\"dataframe\">\n",
       "  <thead>\n",
       "    <tr style=\"text-align: right;\">\n",
       "      <th></th>\n",
       "      <th>no_of_host_verifications</th>\n",
       "      <th>host_response_time</th>\n",
       "      <th>number_of_reviews</th>\n",
       "      <th>amenities_count</th>\n",
       "      <th>calculated_host_listings_count</th>\n",
       "      <th>reviews_per_month</th>\n",
       "      <th>price</th>\n",
       "      <th>security_deposit</th>\n",
       "      <th>cleaning_fee</th>\n",
       "      <th>availability_365</th>\n",
       "      <th>listing_duration_days</th>\n",
       "      <th>hosting_duration_days</th>\n",
       "      <th>price_per_person</th>\n",
       "      <th>days_since_calendar_updated</th>\n",
       "      <th>account_duration_days</th>\n",
       "      <th>space_char_count</th>\n",
       "      <th>neighborhood_overview_char_count</th>\n",
       "      <th>notes_char_count</th>\n",
       "      <th>host_about_char_count</th>\n",
       "      <th>space_char_count_grouped</th>\n",
       "      <th>neighborhood_overview_char_count_grouped</th>\n",
       "      <th>notes_char_count_grouped</th>\n",
       "    </tr>\n",
       "  </thead>\n",
       "  <tbody>\n",
       "    <tr>\n",
       "      <th>mean</th>\n",
       "      <td>5.897504</td>\n",
       "      <td>1.236426</td>\n",
       "      <td>71.133549</td>\n",
       "      <td>32.014479</td>\n",
       "      <td>28.945513</td>\n",
       "      <td>2.498022</td>\n",
       "      <td>159.991427</td>\n",
       "      <td>223.288626</td>\n",
       "      <td>81.238903</td>\n",
       "      <td>174.93313</td>\n",
       "      <td>792.322728</td>\n",
       "      <td>1725.176415</td>\n",
       "      <td>47.135589</td>\n",
       "      <td>39.547533</td>\n",
       "      <td>1797.660888</td>\n",
       "      <td>514.456087</td>\n",
       "      <td>322.950086</td>\n",
       "      <td>252.392456</td>\n",
       "      <td>367.932559</td>\n",
       "      <td>10.723185</td>\n",
       "      <td>7.021337</td>\n",
       "      <td>5.678224</td>\n",
       "    </tr>\n",
       "    <tr>\n",
       "      <th>50%</th>\n",
       "      <td>6.000000</td>\n",
       "      <td>1.000000</td>\n",
       "      <td>37.000000</td>\n",
       "      <td>32.000000</td>\n",
       "      <td>2.000000</td>\n",
       "      <td>1.990000</td>\n",
       "      <td>115.000000</td>\n",
       "      <td>100.000000</td>\n",
       "      <td>60.000000</td>\n",
       "      <td>163.00000</td>\n",
       "      <td>630.000000</td>\n",
       "      <td>1738.000000</td>\n",
       "      <td>36.250000</td>\n",
       "      <td>8.000000</td>\n",
       "      <td>1822.000000</td>\n",
       "      <td>453.000000</td>\n",
       "      <td>248.000000</td>\n",
       "      <td>139.000000</td>\n",
       "      <td>281.000000</td>\n",
       "      <td>10.000000</td>\n",
       "      <td>5.000000</td>\n",
       "      <td>3.000000</td>\n",
       "    </tr>\n",
       "    <tr>\n",
       "      <th>75%</th>\n",
       "      <td>8.000000</td>\n",
       "      <td>1.000000</td>\n",
       "      <td>101.000000</td>\n",
       "      <td>38.000000</td>\n",
       "      <td>9.000000</td>\n",
       "      <td>3.770000</td>\n",
       "      <td>180.000000</td>\n",
       "      <td>300.000000</td>\n",
       "      <td>100.000000</td>\n",
       "      <td>286.00000</td>\n",
       "      <td>1212.000000</td>\n",
       "      <td>2332.000000</td>\n",
       "      <td>50.000000</td>\n",
       "      <td>42.000000</td>\n",
       "      <td>2392.000000</td>\n",
       "      <td>974.000000</td>\n",
       "      <td>479.000000</td>\n",
       "      <td>401.000000</td>\n",
       "      <td>542.000000</td>\n",
       "      <td>20.000000</td>\n",
       "      <td>10.000000</td>\n",
       "      <td>9.000000</td>\n",
       "    </tr>\n",
       "    <tr>\n",
       "      <th>max</th>\n",
       "      <td>12.000000</td>\n",
       "      <td>4.000000</td>\n",
       "      <td>833.000000</td>\n",
       "      <td>90.000000</td>\n",
       "      <td>316.000000</td>\n",
       "      <td>15.010000</td>\n",
       "      <td>10000.000000</td>\n",
       "      <td>5000.000000</td>\n",
       "      <td>500.000000</td>\n",
       "      <td>365.00000</td>\n",
       "      <td>4126.000000</td>\n",
       "      <td>4370.000000</td>\n",
       "      <td>10000.000000</td>\n",
       "      <td>1552.000000</td>\n",
       "      <td>4389.000000</td>\n",
       "      <td>1000.000000</td>\n",
       "      <td>1000.000000</td>\n",
       "      <td>1000.000000</td>\n",
       "      <td>4168.000000</td>\n",
       "      <td>20.000000</td>\n",
       "      <td>20.000000</td>\n",
       "      <td>20.000000</td>\n",
       "    </tr>\n",
       "  </tbody>\n",
       "</table>\n",
       "</div>"
      ],
      "text/plain": [
       "      no_of_host_verifications  host_response_time  number_of_reviews  \\\n",
       "mean                  5.897504            1.236426          71.133549   \n",
       "50%                   6.000000            1.000000          37.000000   \n",
       "75%                   8.000000            1.000000         101.000000   \n",
       "max                  12.000000            4.000000         833.000000   \n",
       "\n",
       "      amenities_count  calculated_host_listings_count  reviews_per_month  \\\n",
       "mean        32.014479                       28.945513           2.498022   \n",
       "50%         32.000000                        2.000000           1.990000   \n",
       "75%         38.000000                        9.000000           3.770000   \n",
       "max         90.000000                      316.000000          15.010000   \n",
       "\n",
       "             price  security_deposit  cleaning_fee  availability_365  \\\n",
       "mean    159.991427        223.288626     81.238903         174.93313   \n",
       "50%     115.000000        100.000000     60.000000         163.00000   \n",
       "75%     180.000000        300.000000    100.000000         286.00000   \n",
       "max   10000.000000       5000.000000    500.000000         365.00000   \n",
       "\n",
       "      listing_duration_days  hosting_duration_days  price_per_person  \\\n",
       "mean             792.322728            1725.176415         47.135589   \n",
       "50%              630.000000            1738.000000         36.250000   \n",
       "75%             1212.000000            2332.000000         50.000000   \n",
       "max             4126.000000            4370.000000      10000.000000   \n",
       "\n",
       "      days_since_calendar_updated  account_duration_days  space_char_count  \\\n",
       "mean                    39.547533            1797.660888        514.456087   \n",
       "50%                      8.000000            1822.000000        453.000000   \n",
       "75%                     42.000000            2392.000000        974.000000   \n",
       "max                   1552.000000            4389.000000       1000.000000   \n",
       "\n",
       "      neighborhood_overview_char_count  notes_char_count  \\\n",
       "mean                        322.950086        252.392456   \n",
       "50%                         248.000000        139.000000   \n",
       "75%                         479.000000        401.000000   \n",
       "max                        1000.000000       1000.000000   \n",
       "\n",
       "      host_about_char_count  space_char_count_grouped  \\\n",
       "mean             367.932559                 10.723185   \n",
       "50%              281.000000                 10.000000   \n",
       "75%              542.000000                 20.000000   \n",
       "max             4168.000000                 20.000000   \n",
       "\n",
       "      neighborhood_overview_char_count_grouped  notes_char_count_grouped  \n",
       "mean                                  7.021337                  5.678224  \n",
       "50%                                   5.000000                  3.000000  \n",
       "75%                                  10.000000                  9.000000  \n",
       "max                                  20.000000                 20.000000  "
      ]
     },
     "execution_count": 66,
     "metadata": {},
     "output_type": "execute_result"
    }
   ],
   "source": [
    "predictor_df_test.describe().loc[['mean','50%','75%','max']]"
   ]
  },
  {
   "cell_type": "markdown",
   "metadata": {},
   "source": [
    "2020 Set^"
   ]
  },
  {
   "cell_type": "markdown",
   "metadata": {},
   "source": [
    "After some examination, it seems some of the variables are out of range for the 2020 test set. Some of them are because of greater accumulation over time e.g. number_of_reviews, calculated_host_listings_count, account_duration_days, hosting_duration_days, listing_duration_days. Some could be because of new AirBnB developments, e.g. amenities_count (new amenity categories maybe), no_of_host_verifications. Thus, I'll remove these time-based predictors, amenities_count, & no_of_host_verifications to see if there is a difference in model score"
   ]
  },
  {
   "cell_type": "markdown",
   "metadata": {},
   "source": [
    "## Attempt 2) Removing time-based and other variables"
   ]
  },
  {
   "cell_type": "code",
   "execution_count": 67,
   "metadata": {},
   "outputs": [],
   "source": [
    "dropped_preds = predictor_df.drop(['account_duration_days','hosting_duration_days','listing_duration_days','number_of_reviews','calculated_host_listings_count','amenities_count','no_of_host_verifications'], axis = 1)\n"
   ]
  },
  {
   "cell_type": "code",
   "execution_count": 68,
   "metadata": {},
   "outputs": [
    {
     "data": {
      "text/plain": [
       "(2803, 15)"
      ]
     },
     "execution_count": 68,
     "metadata": {},
     "output_type": "execute_result"
    }
   ],
   "source": [
    "dropped_preds.shape"
   ]
  },
  {
   "cell_type": "code",
   "execution_count": 69,
   "metadata": {},
   "outputs": [],
   "source": [
    "dropped_preds_test = predictor_df_test.drop(['account_duration_days','hosting_duration_days','listing_duration_days','number_of_reviews','calculated_host_listings_count','amenities_count','no_of_host_verifications'], axis = 1)\n"
   ]
  },
  {
   "cell_type": "code",
   "execution_count": 70,
   "metadata": {},
   "outputs": [
    {
     "data": {
      "text/plain": [
       "(5249, 15)"
      ]
     },
     "execution_count": 70,
     "metadata": {},
     "output_type": "execute_result"
    }
   ],
   "source": [
    "dropped_preds_test.shape"
   ]
  },
  {
   "cell_type": "markdown",
   "metadata": {},
   "source": [
    "Run similar steps for these 2 new datasets"
   ]
  },
  {
   "cell_type": "code",
   "execution_count": 71,
   "metadata": {},
   "outputs": [],
   "source": [
    "X_train2, X_test2, y_train2, y_test2 = train_test_split(dropped_preds, superhost_df, test_size = 0.2)"
   ]
  },
  {
   "cell_type": "code",
   "execution_count": 72,
   "metadata": {},
   "outputs": [],
   "source": [
    "sm2 = SVMSMOTE()"
   ]
  },
  {
   "cell_type": "code",
   "execution_count": 73,
   "metadata": {},
   "outputs": [],
   "source": [
    "X_train2_res, y_train2_res = sm2.fit_resample(X_train2, y_train2)"
   ]
  },
  {
   "cell_type": "code",
   "execution_count": 74,
   "metadata": {},
   "outputs": [
    {
     "data": {
      "text/plain": [
       "(3326, 15)"
      ]
     },
     "execution_count": 74,
     "metadata": {},
     "output_type": "execute_result"
    }
   ],
   "source": [
    "X_train2_res.shape"
   ]
  },
  {
   "cell_type": "code",
   "execution_count": 75,
   "metadata": {},
   "outputs": [
    {
     "data": {
      "text/plain": [
       "(3326,)"
      ]
     },
     "execution_count": 75,
     "metadata": {},
     "output_type": "execute_result"
    }
   ],
   "source": [
    "y_train2_res.shape"
   ]
  },
  {
   "cell_type": "code",
   "execution_count": 76,
   "metadata": {
    "scrolled": true
   },
   "outputs": [
    {
     "data": {
      "text/plain": [
       "1    1663\n",
       "0    1663\n",
       "Name: host_is_superhost, dtype: int64"
      ]
     },
     "execution_count": 76,
     "metadata": {},
     "output_type": "execute_result"
    }
   ],
   "source": [
    "y_train2_res.value_counts()"
   ]
  },
  {
   "cell_type": "markdown",
   "metadata": {},
   "source": [
    "Run grid search"
   ]
  },
  {
   "cell_type": "code",
   "execution_count": 78,
   "metadata": {},
   "outputs": [],
   "source": [
    "from sklearn.model_selection import GridSearchCV"
   ]
  },
  {
   "cell_type": "code",
   "execution_count": 79,
   "metadata": {},
   "outputs": [],
   "source": [
    "f_param_grid2 = {'n_estimators': [100,200,300,500,1000],\n",
    "               'max_depth': [20,30,50],\n",
    "                'min_samples_split': [2,5,10]}"
   ]
  },
  {
   "cell_type": "code",
   "execution_count": 81,
   "metadata": {},
   "outputs": [],
   "source": [
    "f_grid = GridSearchCV(forest2, f_param_grid2, cv=5, n_jobs = -1)"
   ]
  },
  {
   "cell_type": "code",
   "execution_count": 82,
   "metadata": {},
   "outputs": [
    {
     "data": {
      "text/plain": [
       "GridSearchCV(cv=5, error_score=nan,\n",
       "             estimator=RandomForestClassifier(bootstrap=True, ccp_alpha=0.0,\n",
       "                                              class_weight=None,\n",
       "                                              criterion='gini', max_depth=None,\n",
       "                                              max_features='auto',\n",
       "                                              max_leaf_nodes=None,\n",
       "                                              max_samples=None,\n",
       "                                              min_impurity_decrease=0.0,\n",
       "                                              min_impurity_split=None,\n",
       "                                              min_samples_leaf=1,\n",
       "                                              min_samples_split=2,\n",
       "                                              min_weight_fraction_leaf=0.0,\n",
       "                                              n_estimators=100, n_jobs=None,\n",
       "                                              oob_score=False,\n",
       "                                              random_state=None, verbose=0,\n",
       "                                              warm_start=False),\n",
       "             iid='deprecated', n_jobs=-1,\n",
       "             param_grid={'max_depth': [20, 30, 50],\n",
       "                         'min_samples_split': [2, 5, 10],\n",
       "                         'n_estimators': [100, 200, 300, 500, 1000]},\n",
       "             pre_dispatch='2*n_jobs', refit=True, return_train_score=False,\n",
       "             scoring=None, verbose=0)"
      ]
     },
     "execution_count": 82,
     "metadata": {},
     "output_type": "execute_result"
    }
   ],
   "source": [
    "f_grid.fit(X_train2_res, y_train2_res)"
   ]
  },
  {
   "cell_type": "code",
   "execution_count": 83,
   "metadata": {
    "scrolled": false
   },
   "outputs": [
    {
     "data": {
      "text/plain": [
       "{'max_depth': 50, 'min_samples_split': 2, 'n_estimators': 500}"
      ]
     },
     "execution_count": 83,
     "metadata": {},
     "output_type": "execute_result"
    }
   ],
   "source": [
    "f_grid.best_params_"
   ]
  },
  {
   "cell_type": "code",
   "execution_count": 101,
   "metadata": {},
   "outputs": [],
   "source": [
    "forest2 = RandomForestClassifier(max_depth = 30, min_samples_split = 5, n_estimators = 1000)"
   ]
  },
  {
   "cell_type": "code",
   "execution_count": 102,
   "metadata": {},
   "outputs": [
    {
     "data": {
      "text/plain": [
       "RandomForestClassifier(bootstrap=True, ccp_alpha=0.0, class_weight=None,\n",
       "                       criterion='gini', max_depth=30, max_features='auto',\n",
       "                       max_leaf_nodes=None, max_samples=None,\n",
       "                       min_impurity_decrease=0.0, min_impurity_split=None,\n",
       "                       min_samples_leaf=1, min_samples_split=5,\n",
       "                       min_weight_fraction_leaf=0.0, n_estimators=1000,\n",
       "                       n_jobs=None, oob_score=False, random_state=None,\n",
       "                       verbose=0, warm_start=False)"
      ]
     },
     "execution_count": 102,
     "metadata": {},
     "output_type": "execute_result"
    }
   ],
   "source": [
    "forest2.fit(X_train2_res, y_train2_res) # train the model"
   ]
  },
  {
   "cell_type": "code",
   "execution_count": 103,
   "metadata": {},
   "outputs": [],
   "source": [
    "y_train2_pred = forest2.predict(X_train2_res)\n",
    "y_test2_pred = forest2.predict(X_test2)"
   ]
  },
  {
   "cell_type": "code",
   "execution_count": 104,
   "metadata": {},
   "outputs": [
    {
     "data": {
      "text/plain": [
       "<matplotlib.axes._subplots.AxesSubplot at 0x1a2dd2b470>"
      ]
     },
     "execution_count": 104,
     "metadata": {},
     "output_type": "execute_result"
    },
    {
     "data": {
      "image/png": "[encoded data removed]",
      "text/plain": [
       "<Figure size 864x360 with 4 Axes>"
      ]
     },
     "metadata": {},
     "output_type": "display_data"
    }
   ],
   "source": [
    "# Plot the Confusion Matrix\n",
    "f, axes = plt.subplots(1, 2, figsize=(12, 5))\n",
    "sb.heatmap(confusion_matrix(y_train2_res, y_train2_pred), annot = True, fmt=\".0f\", annot_kws={\"size\": 18}, ax = axes[0])\n",
    "sb.heatmap(confusion_matrix(y_test2, y_test2_pred), \n",
    "           annot = True, fmt=\".0f\", annot_kws={\"size\": 18}, ax = axes[1])"
   ]
  },
  {
   "cell_type": "code",
   "execution_count": 105,
   "metadata": {
    "scrolled": false
   },
   "outputs": [
    {
     "name": "stdout",
     "output_type": "stream",
     "text": [
      "Goodness of Fit of Model \tTrain Dataset\n",
      "Classification Accuracy \t: 0.9993986770895971\n",
      "\n",
      "Goodness of Fit of Model \tTest Dataset\n",
      "Classification Accuracy \t: 0.7540106951871658\n",
      "\n"
     ]
    }
   ],
   "source": [
    "# Check the Goodness of Fit (on Train Data)\n",
    "print(\"Goodness of Fit of Model \\tTrain Dataset\")\n",
    "print(\"Classification Accuracy \\t:\", forest2.score(X_train2_res, y_train2_res))\n",
    "print()\n",
    "\n",
    "# Check the Goodness of Fit (on Test Data)\n",
    "print(\"Goodness of Fit of Model \\tTest Dataset\")\n",
    "print(\"Classification Accuracy \\t:\", forest2.score(X_test2, y_test2))\n",
    "print()"
   ]
  },
  {
   "cell_type": "code",
   "execution_count": 106,
   "metadata": {
    "scrolled": false
   },
   "outputs": [
    {
     "name": "stdout",
     "output_type": "stream",
     "text": [
      "348 73 65 75\n",
      "\n",
      "FPR = 0.17339667458432304\n",
      "FNR = 0.4642857142857143\n"
     ]
    }
   ],
   "source": [
    "TN_2, FP_2, FN_2, TP_2 = confusion_matrix(y_test2, y_test2_pred).ravel()\n",
    "\n",
    "print(TN_2, FP_2, FN_2, TP_2)\n",
    "print()\n",
    "\n",
    "print(\"FPR =\", FP_2/(FP_2+TN_2))\n",
    "\n",
    "print(\"FNR =\", FN_2/(FN_2+TP_2))"
   ]
  },
  {
   "cell_type": "code",
   "execution_count": 107,
   "metadata": {},
   "outputs": [],
   "source": [
    "test_prediction_drop1 = forest2.predict(dropped_preds_test)"
   ]
  },
  {
   "cell_type": "code",
   "execution_count": 109,
   "metadata": {
    "scrolled": true
   },
   "outputs": [
    {
     "data": {
      "text/plain": [
       "<matplotlib.axes._subplots.AxesSubplot at 0x1a30118898>"
      ]
     },
     "execution_count": 109,
     "metadata": {},
     "output_type": "execute_result"
    },
    {
     "data": {
      "image/png": "[encoded data removed]",
      "text/plain": [
       "<Figure size 432x288 with 2 Axes>"
      ]
     },
     "metadata": {},
     "output_type": "display_data"
    }
   ],
   "source": [
    "sb.heatmap(confusion_matrix(superhost_df_test, test_prediction_drop1), annot = True, fmt=\".0f\", annot_kws={\"size\": 18})\n"
   ]
  },
  {
   "cell_type": "code",
   "execution_count": 111,
   "metadata": {},
   "outputs": [],
   "source": [
    "from sklearn.metrics import classification_report"
   ]
  },
  {
   "cell_type": "code",
   "execution_count": 113,
   "metadata": {},
   "outputs": [
    {
     "name": "stdout",
     "output_type": "stream",
     "text": [
      "              precision    recall  f1-score   support\n",
      "\n",
      "           0       0.52      0.76      0.62      2360\n",
      "           1       0.69      0.43      0.53      2889\n",
      "\n",
      "    accuracy                           0.58      5249\n",
      "   macro avg       0.60      0.60      0.57      5249\n",
      "weighted avg       0.61      0.58      0.57      5249\n",
      "\n"
     ]
    }
   ],
   "source": [
    "print(classification_report(superhost_df_test, test_prediction_drop1))\n"
   ]
  },
  {
   "cell_type": "code",
   "execution_count": 114,
   "metadata": {},
   "outputs": [],
   "source": [
    "svc2 = NuSVC()"
   ]
  },
  {
   "cell_type": "code",
   "execution_count": 115,
   "metadata": {
    "scrolled": true
   },
   "outputs": [
    {
     "data": {
      "text/plain": [
       "NuSVC(break_ties=False, cache_size=200, class_weight=None, coef0=0.0,\n",
       "      decision_function_shape='ovr', degree=3, gamma='scale', kernel='rbf',\n",
       "      max_iter=-1, nu=0.5, probability=False, random_state=None, shrinking=True,\n",
       "      tol=0.001, verbose=False)"
      ]
     },
     "execution_count": 115,
     "metadata": {},
     "output_type": "execute_result"
    }
   ],
   "source": [
    "svc2.fit(X_train2_res, y_train2_res) # train the model"
   ]
  },
  {
   "cell_type": "code",
   "execution_count": 117,
   "metadata": {},
   "outputs": [],
   "source": [
    "y_train_pred10 = svc2.predict(X_train2_res)\n",
    "y_test_pred10 = svc2.predict(X_test2)"
   ]
  },
  {
   "cell_type": "code",
   "execution_count": 118,
   "metadata": {
    "scrolled": true
   },
   "outputs": [
    {
     "data": {
      "text/plain": [
       "<matplotlib.axes._subplots.AxesSubplot at 0x1a303d4630>"
      ]
     },
     "execution_count": 118,
     "metadata": {},
     "output_type": "execute_result"
    },
    {
     "data": {
      "image/png": "[encoded data removed]",
      "text/plain": [
       "<Figure size 864x360 with 4 Axes>"
      ]
     },
     "metadata": {},
     "output_type": "display_data"
    }
   ],
   "source": [
    "# Plot the Confusion Matrix\n",
    "f, axes = plt.subplots(1, 2, figsize=(12, 5))\n",
    "sb.heatmap(confusion_matrix(y_train2_res, y_train_pred10), annot = True, fmt=\".0f\", annot_kws={\"size\": 18}, ax = axes[0])\n",
    "sb.heatmap(confusion_matrix(y_test2, y_test_pred10), \n",
    "           annot = True, fmt=\".0f\", annot_kws={\"size\": 18}, ax = axes[1])"
   ]
  },
  {
   "cell_type": "code",
   "execution_count": 119,
   "metadata": {
    "scrolled": true
   },
   "outputs": [
    {
     "name": "stdout",
     "output_type": "stream",
     "text": [
      "Goodness of Fit of Model \tTrain Dataset\n",
      "Classification Accuracy \t: 0.8436560432952496\n",
      "\n",
      "Goodness of Fit of Model \tTest Dataset\n",
      "Classification Accuracy \t: 0.7237076648841355\n",
      "\n"
     ]
    }
   ],
   "source": [
    "# Check the Goodness of Fit (on Train Data)\n",
    "print(\"Goodness of Fit of Model \\tTrain Dataset\")\n",
    "print(\"Classification Accuracy \\t:\", svc2.score(X_train2_res, y_train2_res))\n",
    "print()\n",
    "\n",
    "# Check the Goodness of Fit (on Test Data)\n",
    "print(\"Goodness of Fit of Model \\tTest Dataset\")\n",
    "print(\"Classification Accuracy \\t:\", svc2.score(X_test2, y_test2))\n",
    "print()"
   ]
  },
  {
   "cell_type": "code",
   "execution_count": 121,
   "metadata": {},
   "outputs": [],
   "source": [
    "test_prediction_drop2 = svc2.predict(dropped_preds_test)"
   ]
  },
  {
   "cell_type": "code",
   "execution_count": 122,
   "metadata": {
    "scrolled": false
   },
   "outputs": [
    {
     "data": {
      "text/plain": [
       "<matplotlib.axes._subplots.AxesSubplot at 0x1a305f2400>"
      ]
     },
     "execution_count": 122,
     "metadata": {},
     "output_type": "execute_result"
    },
    {
     "data": {
      "image/png": "[encoded data removed]",
      "text/plain": [
       "<Figure size 432x288 with 2 Axes>"
      ]
     },
     "metadata": {},
     "output_type": "display_data"
    }
   ],
   "source": [
    "sb.heatmap(confusion_matrix(superhost_df_test, test_prediction_drop2), annot = True, fmt=\".0f\", annot_kws={\"size\": 18})\n"
   ]
  },
  {
   "cell_type": "code",
   "execution_count": 123,
   "metadata": {},
   "outputs": [
    {
     "name": "stdout",
     "output_type": "stream",
     "text": [
      "              precision    recall  f1-score   support\n",
      "\n",
      "           0       0.51      0.79      0.62      2360\n",
      "           1       0.69      0.39      0.50      2889\n",
      "\n",
      "    accuracy                           0.57      5249\n",
      "   macro avg       0.60      0.59      0.56      5249\n",
      "weighted avg       0.61      0.57      0.55      5249\n",
      "\n"
     ]
    }
   ],
   "source": [
    "print(classification_report(superhost_df_test, test_prediction_drop2))"
   ]
  },
  {
   "cell_type": "markdown",
   "metadata": {},
   "source": [
    "Logistic Regression; uses a logistic function to model the probabilities for binary classification"
   ]
  },
  {
   "cell_type": "code",
   "execution_count": 124,
   "metadata": {},
   "outputs": [],
   "source": [
    "log2 = LogisticRegression( solver='liblinear')"
   ]
  },
  {
   "cell_type": "code",
   "execution_count": 125,
   "metadata": {
    "scrolled": true
   },
   "outputs": [
    {
     "data": {
      "text/plain": [
       "LogisticRegression(C=1.0, class_weight=None, dual=False, fit_intercept=True,\n",
       "                   intercept_scaling=1, l1_ratio=None, max_iter=100,\n",
       "                   multi_class='auto', n_jobs=None, penalty='l2',\n",
       "                   random_state=None, solver='liblinear', tol=0.0001, verbose=0,\n",
       "                   warm_start=False)"
      ]
     },
     "execution_count": 125,
     "metadata": {},
     "output_type": "execute_result"
    }
   ],
   "source": [
    "log2.fit(X_train2_res, y_train2_res) # train the model"
   ]
  },
  {
   "cell_type": "code",
   "execution_count": 127,
   "metadata": {},
   "outputs": [],
   "source": [
    "y_train_pred11 = log2.predict(X_train2_res)\n",
    "y_test_pred11 = log2.predict(X_test2)"
   ]
  },
  {
   "cell_type": "code",
   "execution_count": 128,
   "metadata": {
    "scrolled": true
   },
   "outputs": [
    {
     "data": {
      "text/plain": [
       "<matplotlib.axes._subplots.AxesSubplot at 0x1a30a654a8>"
      ]
     },
     "execution_count": 128,
     "metadata": {},
     "output_type": "execute_result"
    },
    {
     "data": {
      "image/png": "[encoded data removed]",
      "text/plain": [
       "<Figure size 864x360 with 4 Axes>"
      ]
     },
     "metadata": {},
     "output_type": "display_data"
    }
   ],
   "source": [
    "# Plot the Confusion Matrix\n",
    "f, axes = plt.subplots(1, 2, figsize=(12, 5))\n",
    "sb.heatmap(confusion_matrix(y_train2_res, y_train_pred11), annot = True, fmt=\".0f\", annot_kws={\"size\": 18}, ax = axes[0])\n",
    "sb.heatmap(confusion_matrix(y_test2, y_test_pred11), \n",
    "           annot = True, fmt=\".0f\", annot_kws={\"size\": 18}, ax = axes[1])"
   ]
  },
  {
   "cell_type": "code",
   "execution_count": 129,
   "metadata": {
    "scrolled": true
   },
   "outputs": [
    {
     "name": "stdout",
     "output_type": "stream",
     "text": [
      "Goodness of Fit of Model \tTrain Dataset\n",
      "Classification Accuracy \t: 0.7450390859891762\n",
      "\n",
      "Goodness of Fit of Model \tTest Dataset\n",
      "Classification Accuracy \t: 0.6702317290552585\n",
      "\n"
     ]
    }
   ],
   "source": [
    "# Check the Goodness of Fit (on Train Data)\n",
    "print(\"Goodness of Fit of Model \\tTrain Dataset\")\n",
    "print(\"Classification Accuracy \\t:\", log2.score(X_train2_res, y_train2_res))\n",
    "print()\n",
    "\n",
    "# Check the Goodness of Fit (on Test Data)\n",
    "print(\"Goodness of Fit of Model \\tTest Dataset\")\n",
    "print(\"Classification Accuracy \\t:\", log2.score(X_test2, y_test2))\n",
    "print()"
   ]
  },
  {
   "cell_type": "code",
   "execution_count": 130,
   "metadata": {},
   "outputs": [],
   "source": [
    "test_prediction_drop3 = log2.predict(dropped_preds_test)"
   ]
  },
  {
   "cell_type": "code",
   "execution_count": 131,
   "metadata": {
    "scrolled": true
   },
   "outputs": [
    {
     "data": {
      "text/plain": [
       "<matplotlib.axes._subplots.AxesSubplot at 0x1a30c896d8>"
      ]
     },
     "execution_count": 131,
     "metadata": {},
     "output_type": "execute_result"
    },
    {
     "data": {
      "image/png": "[encoded data removed]",
      "text/plain": [
       "<Figure size 432x288 with 2 Axes>"
      ]
     },
     "metadata": {},
     "output_type": "display_data"
    }
   ],
   "source": [
    "sb.heatmap(confusion_matrix(superhost_df_test, test_prediction_drop3), annot = True, fmt=\".0f\", annot_kws={\"size\": 18})\n"
   ]
  },
  {
   "cell_type": "code",
   "execution_count": 133,
   "metadata": {},
   "outputs": [
    {
     "name": "stdout",
     "output_type": "stream",
     "text": [
      "              precision    recall  f1-score   support\n",
      "\n",
      "           0       0.53      0.57      0.55      2360\n",
      "           1       0.62      0.58      0.60      2889\n",
      "\n",
      "    accuracy                           0.58      5249\n",
      "   macro avg       0.57      0.57      0.57      5249\n",
      "weighted avg       0.58      0.58      0.58      5249\n",
      "\n"
     ]
    }
   ],
   "source": [
    "print(classification_report(superhost_df_test, test_prediction_drop3))"
   ]
  },
  {
   "cell_type": "code",
   "execution_count": 135,
   "metadata": {},
   "outputs": [
    {
     "data": {
      "text/plain": [
       "1    0.550391\n",
       "0    0.449609\n",
       "Name: host_is_superhost, dtype: float64"
      ]
     },
     "execution_count": 135,
     "metadata": {},
     "output_type": "execute_result"
    }
   ],
   "source": [
    "superhost_df_test.value_counts(normalize = True)"
   ]
  },
  {
   "cell_type": "markdown",
   "metadata": {},
   "source": [
    "Scores are higher than that of a dummy classifier, but not much of a difference after removing the time-based and other predictors"
   ]
  }
 ],
 "metadata": {
  "kernelspec": {
   "display_name": "Python 3",
   "language": "python",
   "name": "python3"
  },
  "language_info": {
   "codemirror_mode": {
    "name": "ipython",
    "version": 3
   },
   "file_extension": ".py",
   "mimetype": "text/x-python",
   "name": "python",
   "nbconvert_exporter": "python",
   "pygments_lexer": "ipython3",
   "version": "3.7.3"
  }
 },
 "nbformat": 4,
 "nbformat_minor": 2
}
