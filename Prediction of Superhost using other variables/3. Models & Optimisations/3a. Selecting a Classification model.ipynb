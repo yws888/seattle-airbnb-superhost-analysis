{
 "cells": [
  {
   "cell_type": "code",
   "execution_count": 1,
   "metadata": {},
   "outputs": [],
   "source": [
    "# Basic Libraries\n",
    "import numpy as np\n",
    "import pandas as pd\n",
    "import seaborn as sb\n",
    "import matplotlib.pyplot as plt # we only need pyplot\n",
    "sb.set() # set the default Seaborn style for graphics"
   ]
  },
  {
   "cell_type": "code",
   "execution_count": 2,
   "metadata": {
    "scrolled": false
   },
   "outputs": [
    {
     "data": {
      "text/html": [
       "<div>\n",
       "<style scoped>\n",
       "    .dataframe tbody tr th:only-of-type {\n",
       "        vertical-align: middle;\n",
       "    }\n",
       "\n",
       "    .dataframe tbody tr th {\n",
       "        vertical-align: top;\n",
       "    }\n",
       "\n",
       "    .dataframe thead th {\n",
       "        text-align: right;\n",
       "    }\n",
       "</style>\n",
       "<table border=\"1\" class=\"dataframe\">\n",
       "  <thead>\n",
       "    <tr style=\"text-align: right;\">\n",
       "      <th></th>\n",
       "      <th>host_is_superhost</th>\n",
       "      <th>no_of_host_verifications</th>\n",
       "      <th>host_response_time</th>\n",
       "      <th>number_of_reviews</th>\n",
       "      <th>amenities_count</th>\n",
       "      <th>calculated_host_listings_count</th>\n",
       "      <th>reviews_per_month</th>\n",
       "      <th>price</th>\n",
       "      <th>security_deposit</th>\n",
       "      <th>cleaning_fee</th>\n",
       "      <th>...</th>\n",
       "      <th>price_per_person</th>\n",
       "      <th>days_since_calendar_updated</th>\n",
       "      <th>account_duration_days</th>\n",
       "      <th>space_char_count</th>\n",
       "      <th>neighborhood_overview_char_count</th>\n",
       "      <th>notes_char_count</th>\n",
       "      <th>host_about_char_count</th>\n",
       "      <th>space_char_count_grouped</th>\n",
       "      <th>neighborhood_overview_char_count_grouped</th>\n",
       "      <th>notes_char_count_grouped</th>\n",
       "    </tr>\n",
       "  </thead>\n",
       "  <tbody>\n",
       "    <tr>\n",
       "      <th>0</th>\n",
       "      <td>0</td>\n",
       "      <td>4</td>\n",
       "      <td>2</td>\n",
       "      <td>207</td>\n",
       "      <td>10</td>\n",
       "      <td>2</td>\n",
       "      <td>4.07</td>\n",
       "      <td>85.0</td>\n",
       "      <td>0.0</td>\n",
       "      <td>0.0</td>\n",
       "      <td>...</td>\n",
       "      <td>21.250000</td>\n",
       "      <td>28</td>\n",
       "      <td>1607</td>\n",
       "      <td>1000</td>\n",
       "      <td>0</td>\n",
       "      <td>0</td>\n",
       "      <td>372</td>\n",
       "      <td>20</td>\n",
       "      <td>1</td>\n",
       "      <td>1</td>\n",
       "    </tr>\n",
       "    <tr>\n",
       "      <th>1</th>\n",
       "      <td>1</td>\n",
       "      <td>6</td>\n",
       "      <td>1</td>\n",
       "      <td>43</td>\n",
       "      <td>16</td>\n",
       "      <td>6</td>\n",
       "      <td>1.48</td>\n",
       "      <td>150.0</td>\n",
       "      <td>100.0</td>\n",
       "      <td>40.0</td>\n",
       "      <td>...</td>\n",
       "      <td>37.500000</td>\n",
       "      <td>0</td>\n",
       "      <td>1047</td>\n",
       "      <td>1000</td>\n",
       "      <td>167</td>\n",
       "      <td>1000</td>\n",
       "      <td>74</td>\n",
       "      <td>20</td>\n",
       "      <td>4</td>\n",
       "      <td>20</td>\n",
       "    </tr>\n",
       "    <tr>\n",
       "      <th>2</th>\n",
       "      <td>0</td>\n",
       "      <td>5</td>\n",
       "      <td>2</td>\n",
       "      <td>20</td>\n",
       "      <td>21</td>\n",
       "      <td>2</td>\n",
       "      <td>1.15</td>\n",
       "      <td>975.0</td>\n",
       "      <td>1000.0</td>\n",
       "      <td>300.0</td>\n",
       "      <td>...</td>\n",
       "      <td>88.636364</td>\n",
       "      <td>35</td>\n",
       "      <td>571</td>\n",
       "      <td>1000</td>\n",
       "      <td>669</td>\n",
       "      <td>155</td>\n",
       "      <td>343</td>\n",
       "      <td>20</td>\n",
       "      <td>14</td>\n",
       "      <td>4</td>\n",
       "    </tr>\n",
       "    <tr>\n",
       "      <th>3</th>\n",
       "      <td>0</td>\n",
       "      <td>5</td>\n",
       "      <td>1</td>\n",
       "      <td>38</td>\n",
       "      <td>13</td>\n",
       "      <td>1</td>\n",
       "      <td>0.89</td>\n",
       "      <td>450.0</td>\n",
       "      <td>700.0</td>\n",
       "      <td>125.0</td>\n",
       "      <td>...</td>\n",
       "      <td>75.000000</td>\n",
       "      <td>49</td>\n",
       "      <td>1497</td>\n",
       "      <td>488</td>\n",
       "      <td>492</td>\n",
       "      <td>9</td>\n",
       "      <td>354</td>\n",
       "      <td>10</td>\n",
       "      <td>10</td>\n",
       "      <td>1</td>\n",
       "    </tr>\n",
       "    <tr>\n",
       "      <th>4</th>\n",
       "      <td>1</td>\n",
       "      <td>4</td>\n",
       "      <td>1</td>\n",
       "      <td>58</td>\n",
       "      <td>7</td>\n",
       "      <td>1</td>\n",
       "      <td>2.46</td>\n",
       "      <td>80.0</td>\n",
       "      <td>150.0</td>\n",
       "      <td>0.0</td>\n",
       "      <td>...</td>\n",
       "      <td>40.000000</td>\n",
       "      <td>35</td>\n",
       "      <td>1314</td>\n",
       "      <td>1000</td>\n",
       "      <td>95</td>\n",
       "      <td>82</td>\n",
       "      <td>229</td>\n",
       "      <td>20</td>\n",
       "      <td>2</td>\n",
       "      <td>2</td>\n",
       "    </tr>\n",
       "  </tbody>\n",
       "</table>\n",
       "<p>5 rows × 23 columns</p>\n",
       "</div>"
      ],
      "text/plain": [
       "   host_is_superhost  no_of_host_verifications  host_response_time  \\\n",
       "0                  0                         4                   2   \n",
       "1                  1                         6                   1   \n",
       "2                  0                         5                   2   \n",
       "3                  0                         5                   1   \n",
       "4                  1                         4                   1   \n",
       "\n",
       "   number_of_reviews  amenities_count  calculated_host_listings_count  \\\n",
       "0                207               10                               2   \n",
       "1                 43               16                               6   \n",
       "2                 20               21                               2   \n",
       "3                 38               13                               1   \n",
       "4                 58                7                               1   \n",
       "\n",
       "   reviews_per_month  price  security_deposit  cleaning_fee  ...  \\\n",
       "0               4.07   85.0               0.0           0.0  ...   \n",
       "1               1.48  150.0             100.0          40.0  ...   \n",
       "2               1.15  975.0            1000.0         300.0  ...   \n",
       "3               0.89  450.0             700.0         125.0  ...   \n",
       "4               2.46   80.0             150.0           0.0  ...   \n",
       "\n",
       "   price_per_person  days_since_calendar_updated  account_duration_days  \\\n",
       "0         21.250000                           28                   1607   \n",
       "1         37.500000                            0                   1047   \n",
       "2         88.636364                           35                    571   \n",
       "3         75.000000                           49                   1497   \n",
       "4         40.000000                           35                   1314   \n",
       "\n",
       "   space_char_count  neighborhood_overview_char_count  notes_char_count  \\\n",
       "0              1000                                 0                 0   \n",
       "1              1000                               167              1000   \n",
       "2              1000                               669               155   \n",
       "3               488                               492                 9   \n",
       "4              1000                                95                82   \n",
       "\n",
       "   host_about_char_count  space_char_count_grouped  \\\n",
       "0                    372                        20   \n",
       "1                     74                        20   \n",
       "2                    343                        20   \n",
       "3                    354                        10   \n",
       "4                    229                        20   \n",
       "\n",
       "   neighborhood_overview_char_count_grouped  notes_char_count_grouped  \n",
       "0                                         1                         1  \n",
       "1                                         4                        20  \n",
       "2                                        14                         4  \n",
       "3                                        10                         1  \n",
       "4                                         2                         2  \n",
       "\n",
       "[5 rows x 23 columns]"
      ]
     },
     "execution_count": 2,
     "metadata": {},
     "output_type": "execute_result"
    }
   ],
   "source": [
    "df = pd.read_csv('cleaned_df_dropped_fts.csv')\n",
    "df.head()"
   ]
  },
  {
   "cell_type": "code",
   "execution_count": 3,
   "metadata": {},
   "outputs": [],
   "source": [
    "predictor_df = df.drop(['host_is_superhost'], axis = 1)"
   ]
  },
  {
   "cell_type": "code",
   "execution_count": 5,
   "metadata": {
    "scrolled": false
   },
   "outputs": [
    {
     "name": "stdout",
     "output_type": "stream",
     "text": [
      "Data dims :  (2803, 22)\n"
     ]
    }
   ],
   "source": [
    "print(\"Data dims : \", predictor_df.shape)"
   ]
  },
  {
   "cell_type": "code",
   "execution_count": 4,
   "metadata": {},
   "outputs": [],
   "source": [
    "superhost_df = df['host_is_superhost']"
   ]
  },
  {
   "cell_type": "code",
   "execution_count": 7,
   "metadata": {
    "scrolled": true
   },
   "outputs": [
    {
     "data": {
      "text/plain": [
       "(2803,)"
      ]
     },
     "execution_count": 7,
     "metadata": {},
     "output_type": "execute_result"
    }
   ],
   "source": [
    "superhost_df.shape"
   ]
  },
  {
   "cell_type": "code",
   "execution_count": 22,
   "metadata": {},
   "outputs": [
    {
     "data": {
      "text/plain": [
       "0    0.743489\n",
       "1    0.256511\n",
       "Name: host_is_superhost, dtype: float64"
      ]
     },
     "execution_count": 22,
     "metadata": {},
     "output_type": "execute_result"
    }
   ],
   "source": [
    "superhost_df.value_counts(normalize = True)"
   ]
  },
  {
   "cell_type": "markdown",
   "metadata": {},
   "source": [
    "Before beginning to check the models, a benchmark for a dummy classifier which simply predicts 1 class for all values could be obtained, so in this case the rate to aim above for should be 0.743489"
   ]
  },
  {
   "cell_type": "markdown",
   "metadata": {},
   "source": [
    "## Multi-Variate Decision Tree"
   ]
  },
  {
   "cell_type": "code",
   "execution_count": 7,
   "metadata": {},
   "outputs": [],
   "source": [
    "from sklearn.model_selection import train_test_split\n",
    "from sklearn.tree import DecisionTreeClassifier\n",
    "from sklearn.metrics import confusion_matrix"
   ]
  },
  {
   "cell_type": "code",
   "execution_count": 8,
   "metadata": {},
   "outputs": [],
   "source": [
    "X_train, X_test, y_train, y_test = train_test_split(predictor_df, superhost_df, test_size = 0.2)"
   ]
  },
  {
   "cell_type": "code",
   "execution_count": 9,
   "metadata": {
    "scrolled": false
   },
   "outputs": [],
   "source": [
    "dectree = DecisionTreeClassifier(class_weight='balanced')  # create the decision tree object"
   ]
  },
  {
   "cell_type": "markdown",
   "metadata": {},
   "source": [
    "Using cross-validation score to check model effectiveness and hopefully avoid removing important points from the train set"
   ]
  },
  {
   "cell_type": "code",
   "execution_count": 10,
   "metadata": {},
   "outputs": [],
   "source": [
    "from sklearn.model_selection import cross_val_score"
   ]
  },
  {
   "cell_type": "markdown",
   "metadata": {},
   "source": [
    "Split the data into 5 equal parts, using 1 part as a test set and the other 4 as a train set; and change the test set with each iteration"
   ]
  },
  {
   "cell_type": "code",
   "execution_count": 11,
   "metadata": {
    "scrolled": false
   },
   "outputs": [
    {
     "data": {
      "text/plain": [
       "array([0.7201426 , 0.73083779, 0.73796791, 0.73571429, 0.69285714])"
      ]
     },
     "execution_count": 11,
     "metadata": {},
     "output_type": "execute_result"
    }
   ],
   "source": [
    "cross_val_score(dectree, predictor_df, superhost_df, cv=5)\n"
   ]
  },
  {
   "cell_type": "markdown",
   "metadata": {},
   "source": [
    "Using LeaveOneOut, which leaves only 1 point as a test set and the remaining data points are used as test sets."
   ]
  },
  {
   "cell_type": "code",
   "execution_count": 12,
   "metadata": {},
   "outputs": [],
   "source": [
    "from sklearn.model_selection import LeaveOneOut"
   ]
  },
  {
   "cell_type": "code",
   "execution_count": 13,
   "metadata": {},
   "outputs": [
    {
     "data": {
      "text/plain": [
       "0.7263646093471281"
      ]
     },
     "execution_count": 13,
     "metadata": {},
     "output_type": "execute_result"
    }
   ],
   "source": [
    "scores = cross_val_score(dectree, predictor_df, superhost_df, cv=LeaveOneOut())\n",
    "scores.mean()"
   ]
  },
  {
   "cell_type": "markdown",
   "metadata": {},
   "source": [
    "The above shows the overall accuracy rate of each of the predictions of the single point that is used as a test set. But this takes way too long so it will be not be used again later"
   ]
  },
  {
   "cell_type": "markdown",
   "metadata": {},
   "source": [
    "Using a validation curve to find the optimal value for the hyperparameter max_depth in this case for dectree"
   ]
  },
  {
   "cell_type": "code",
   "execution_count": 14,
   "metadata": {},
   "outputs": [],
   "source": [
    "from sklearn.model_selection import validation_curve"
   ]
  },
  {
   "cell_type": "code",
   "execution_count": 15,
   "metadata": {
    "scrolled": false
   },
   "outputs": [
    {
     "data": {
      "text/plain": [
       "Text(0, 0.5, 'score')"
      ]
     },
     "execution_count": 15,
     "metadata": {},
     "output_type": "execute_result"
    },
    {
     "data": {
      "image/png": "[encoded data removed]",
      "text/plain": [
       "<Figure size 1080x360 with 1 Axes>"
      ]
     },
     "metadata": {},
     "output_type": "display_data"
    }
   ],
   "source": [
    "\n",
    "train_scores, test_scores = validation_curve(dectree, \n",
    "                                             predictor_df, \n",
    "                                             superhost_df, \n",
    "                                             param_name=\"max_depth\", \n",
    "                                             param_range=np.arange(1, 30),\n",
    "                                             cv=5, \n",
    "                                             scoring=\"accuracy\"\n",
    "                                             )\n",
    "f, axes = plt.subplots(1, 1, figsize=(15, 5))\n",
    "plt.plot(np.arange(1, 30), np.median(train_scores, 1), color='blue', label='training score')\n",
    "plt.plot(np.arange(1, 30), np.median(test_scores, 1), color='red', label='validation score')\n",
    "plt.legend(loc='best')\n",
    "plt.ylim(0, 1)\n",
    "plt.xlabel('max_depth')\n",
    "plt.ylabel('score')"
   ]
  },
  {
   "cell_type": "code",
   "execution_count": 19,
   "metadata": {
    "scrolled": true
   },
   "outputs": [
    {
     "data": {
      "text/plain": [
       "0.7290552584670231"
      ]
     },
     "execution_count": 19,
     "metadata": {},
     "output_type": "execute_result"
    }
   ],
   "source": [
    "np.median(test_scores, 1)[26]"
   ]
  },
  {
   "cell_type": "code",
   "execution_count": 16,
   "metadata": {
    "scrolled": true
   },
   "outputs": [
    {
     "data": {
      "text/plain": [
       "26"
      ]
     },
     "execution_count": 16,
     "metadata": {},
     "output_type": "execute_result"
    }
   ],
   "source": [
    "np.argmax(np.median(test_scores, 1))"
   ]
  },
  {
   "cell_type": "markdown",
   "metadata": {},
   "source": [
    "Score is highest at index = 26, i.e. max_depth = 27"
   ]
  },
  {
   "cell_type": "markdown",
   "metadata": {},
   "source": [
    "Using GridSearch to check optimal max_depth"
   ]
  },
  {
   "cell_type": "code",
   "execution_count": 20,
   "metadata": {},
   "outputs": [],
   "source": [
    "from sklearn.model_selection import GridSearchCV"
   ]
  },
  {
   "cell_type": "code",
   "execution_count": 21,
   "metadata": {},
   "outputs": [],
   "source": [
    "param_grid = {'max_depth': np.arange(1, 30)}"
   ]
  },
  {
   "cell_type": "code",
   "execution_count": 22,
   "metadata": {},
   "outputs": [],
   "source": [
    "grid = GridSearchCV(dectree, param_grid, cv=5)"
   ]
  },
  {
   "cell_type": "code",
   "execution_count": 25,
   "metadata": {
    "scrolled": true
   },
   "outputs": [
    {
     "data": {
      "text/plain": [
       "GridSearchCV(cv=5, error_score=nan,\n",
       "             estimator=DecisionTreeClassifier(ccp_alpha=0.0,\n",
       "                                              class_weight='balanced',\n",
       "                                              criterion='gini', max_depth=None,\n",
       "                                              max_features=None,\n",
       "                                              max_leaf_nodes=None,\n",
       "                                              min_impurity_decrease=0.0,\n",
       "                                              min_impurity_split=None,\n",
       "                                              min_samples_leaf=1,\n",
       "                                              min_samples_split=2,\n",
       "                                              min_weight_fraction_leaf=0.0,\n",
       "                                              presort='deprecated',\n",
       "                                              random_state=None,\n",
       "                                              splitter='best'),\n",
       "             iid='deprecated', n_jobs=None,\n",
       "             param_grid={'max_depth': array([ 1,  2,  3,  4,  5,  6,  7,  8,  9, 10, 11, 12, 13, 14, 15, 16, 17,\n",
       "       18, 19, 20, 21, 22, 23, 24, 25, 26, 27, 28, 29])},\n",
       "             pre_dispatch='2*n_jobs', refit=True, return_train_score=False,\n",
       "             scoring=None, verbose=0)"
      ]
     },
     "execution_count": 25,
     "metadata": {},
     "output_type": "execute_result"
    }
   ],
   "source": [
    "grid.fit(predictor_df, superhost_df)"
   ]
  },
  {
   "cell_type": "code",
   "execution_count": 26,
   "metadata": {
    "scrolled": false
   },
   "outputs": [
    {
     "data": {
      "text/plain": [
       "{'max_depth': 27}"
      ]
     },
     "execution_count": 26,
     "metadata": {},
     "output_type": "execute_result"
    }
   ],
   "source": [
    "grid.best_params_"
   ]
  },
  {
   "cell_type": "markdown",
   "metadata": {},
   "source": [
    "Modify the decision tree with the given results"
   ]
  },
  {
   "cell_type": "code",
   "execution_count": 27,
   "metadata": {},
   "outputs": [],
   "source": [
    "dectree = DecisionTreeClassifier(max_depth = 27, class_weight='balanced')  # create the decision tree object"
   ]
  },
  {
   "cell_type": "code",
   "execution_count": 28,
   "metadata": {
    "scrolled": true
   },
   "outputs": [
    {
     "data": {
      "text/plain": [
       "DecisionTreeClassifier(ccp_alpha=0.0, class_weight='balanced', criterion='gini',\n",
       "                       max_depth=27, max_features=None, max_leaf_nodes=None,\n",
       "                       min_impurity_decrease=0.0, min_impurity_split=None,\n",
       "                       min_samples_leaf=1, min_samples_split=2,\n",
       "                       min_weight_fraction_leaf=0.0, presort='deprecated',\n",
       "                       random_state=None, splitter='best')"
      ]
     },
     "execution_count": 28,
     "metadata": {},
     "output_type": "execute_result"
    }
   ],
   "source": [
    "dectree.fit(X_train, y_train)  # train the decision tree model"
   ]
  },
  {
   "cell_type": "code",
   "execution_count": 29,
   "metadata": {},
   "outputs": [],
   "source": [
    "y_train_pred1 = dectree.predict(X_train)\n",
    "y_test_pred1 = dectree.predict(X_test)"
   ]
  },
  {
   "cell_type": "code",
   "execution_count": 30,
   "metadata": {
    "scrolled": true
   },
   "outputs": [
    {
     "data": {
      "text/plain": [
       "<matplotlib.axes._subplots.AxesSubplot at 0x1a23a85400>"
      ]
     },
     "execution_count": 30,
     "metadata": {},
     "output_type": "execute_result"
    },
    {
     "data": {
      "image/png": "[encoded data removed]",
      "text/plain": [
       "<Figure size 864x360 with 4 Axes>"
      ]
     },
     "metadata": {},
     "output_type": "display_data"
    }
   ],
   "source": [
    "# Plot the Confusion Matrix\n",
    "f, axes = plt.subplots(1, 2, figsize=(12, 5))\n",
    "sb.heatmap(confusion_matrix(y_train, y_train_pred1), annot = True, fmt=\".0f\", annot_kws={\"size\": 18}, ax = axes[0])\n",
    "sb.heatmap(confusion_matrix(y_test, y_test_pred1), \n",
    "           annot = True, fmt=\".0f\", annot_kws={\"size\": 18}, ax = axes[1])\n"
   ]
  },
  {
   "cell_type": "code",
   "execution_count": 31,
   "metadata": {
    "scrolled": true
   },
   "outputs": [
    {
     "name": "stdout",
     "output_type": "stream",
     "text": [
      "Goodness of Fit of Model \tTrain Dataset\n",
      "Classification Accuracy \t: 1.0\n",
      "\n",
      "Goodness of Fit of Model \tTest Dataset\n",
      "Classification Accuracy \t: 0.7486631016042781\n",
      "\n"
     ]
    }
   ],
   "source": [
    "# Check the Goodness of Fit (on Train Data)\n",
    "print(\"Goodness of Fit of Model \\tTrain Dataset\")\n",
    "print(\"Classification Accuracy \\t:\", dectree.score(X_train, y_train))\n",
    "print()\n",
    "\n",
    "# Check the Goodness of Fit (on Test Data)\n",
    "print(\"Goodness of Fit of Model \\tTest Dataset\")\n",
    "print(\"Classification Accuracy \\t:\", dectree.score(X_test, y_test))\n",
    "print()\n",
    "\n"
   ]
  },
  {
   "cell_type": "code",
   "execution_count": 32,
   "metadata": {},
   "outputs": [],
   "source": [
    "from sklearn.metrics import classification_report"
   ]
  },
  {
   "cell_type": "code",
   "execution_count": 33,
   "metadata": {},
   "outputs": [
    {
     "name": "stdout",
     "output_type": "stream",
     "text": [
      "              precision    recall  f1-score   support\n",
      "\n",
      "           0       0.82      0.85      0.83       416\n",
      "           1       0.52      0.47      0.49       145\n",
      "\n",
      "    accuracy                           0.75       561\n",
      "   macro avg       0.67      0.66      0.66       561\n",
      "weighted avg       0.74      0.75      0.74       561\n",
      "\n"
     ]
    }
   ],
   "source": [
    "print(classification_report(y_test, y_test_pred1))"
   ]
  },
  {
   "cell_type": "code",
   "execution_count": 34,
   "metadata": {},
   "outputs": [
    {
     "name": "stdout",
     "output_type": "stream",
     "text": [
      "352 64 77 68\n",
      "\n",
      "FPR for Test Set = 0.15384615384615385\n",
      "FNR for Test Set = 0.5310344827586206\n"
     ]
    }
   ],
   "source": [
    "TN_Test, FP_Test, FN_Test, TP_Test = confusion_matrix(y_test, y_test_pred1).ravel()\n",
    "\n",
    "print(TN_Test, FP_Test, FN_Test, TP_Test)\n",
    "print()\n",
    "\n",
    "print(\"FPR for Test Set =\", FP_Test/(FP_Test+TN_Test))\n",
    "\n",
    "print(\"FNR for Test Set =\", FN_Test/(FN_Test+TP_Test))"
   ]
  },
  {
   "cell_type": "markdown",
   "metadata": {},
   "source": [
    "Decision tree is probably not be the optimal model for this dataset"
   ]
  },
  {
   "cell_type": "markdown",
   "metadata": {},
   "source": [
    "# Random Forest Classification"
   ]
  },
  {
   "cell_type": "code",
   "execution_count": 5,
   "metadata": {},
   "outputs": [],
   "source": [
    "from sklearn.ensemble import RandomForestClassifier"
   ]
  },
  {
   "cell_type": "code",
   "execution_count": 35,
   "metadata": {},
   "outputs": [],
   "source": [
    "forest = RandomForestClassifier(class_weight='balanced')"
   ]
  },
  {
   "cell_type": "markdown",
   "metadata": {},
   "source": [
    "Like above, objective is to find the optimal hyperparameters first before fitting the model"
   ]
  },
  {
   "cell_type": "code",
   "execution_count": 36,
   "metadata": {
    "scrolled": true
   },
   "outputs": [
    {
     "data": {
      "text/plain": [
       "array([0.78074866, 0.78431373, 0.79857398, 0.7625    , 0.77142857])"
      ]
     },
     "execution_count": 36,
     "metadata": {},
     "output_type": "execute_result"
    }
   ],
   "source": [
    "cross_val_score(forest, predictor_df, superhost_df, cv=5)"
   ]
  },
  {
   "cell_type": "code",
   "execution_count": 72,
   "metadata": {
    "scrolled": false
   },
   "outputs": [
    {
     "data": {
      "text/plain": [
       "Text(0, 0.5, 'score')"
      ]
     },
     "execution_count": 72,
     "metadata": {},
     "output_type": "execute_result"
    },
    {
     "data": {
      "image/png": "[encoded data removed]",
      "text/plain": [
       "<Figure size 1080x360 with 1 Axes>"
      ]
     },
     "metadata": {},
     "output_type": "display_data"
    }
   ],
   "source": [
    "f_train_scores1, f_test_scores1 = validation_curve(forest, \n",
    "                                             predictor_df, \n",
    "                                             superhost_df, \n",
    "                                             param_name=\"n_estimators\", \n",
    "                                             param_range=np.arange(1, 100),\n",
    "                                             n_jobs = -1,\n",
    "                                            cv=5,\n",
    "                                             scoring=\"accuracy\"\n",
    "                                             )\n",
    "f, axes = plt.subplots(1, 1, figsize=(15, 5))\n",
    "plt.plot(np.arange(1, 100), np.mean(f_train_scores1, 1), color='blue', label='training score')\n",
    "plt.plot(np.arange(1, 100), np.mean(f_test_scores1, 1), color='red', label='validation score')\n",
    "plt.legend(loc='best')\n",
    "plt.ylim(0, 1)\n",
    "plt.xlabel('n_estimators')\n",
    "plt.ylabel('score')"
   ]
  },
  {
   "cell_type": "code",
   "execution_count": 77,
   "metadata": {},
   "outputs": [
    {
     "data": {
      "text/plain": [
       "0.7873644003055768"
      ]
     },
     "execution_count": 77,
     "metadata": {},
     "output_type": "execute_result"
    }
   ],
   "source": [
    "np.mean(f_test_scores1, 1)[61]"
   ]
  },
  {
   "cell_type": "code",
   "execution_count": 73,
   "metadata": {
    "scrolled": false
   },
   "outputs": [
    {
     "data": {
      "text/plain": [
       "61"
      ]
     },
     "execution_count": 73,
     "metadata": {},
     "output_type": "execute_result"
    }
   ],
   "source": [
    "np.argmax(np.mean(f_test_scores1, 1))"
   ]
  },
  {
   "cell_type": "code",
   "execution_count": 49,
   "metadata": {
    "scrolled": true
   },
   "outputs": [
    {
     "data": {
      "text/plain": [
       "Text(0, 0.5, 'score')"
      ]
     },
     "execution_count": 49,
     "metadata": {},
     "output_type": "execute_result"
    },
    {
     "data": {
      "image/png": "[encoded data removed]",
      "text/plain": [
       "<Figure size 1080x360 with 1 Axes>"
      ]
     },
     "metadata": {},
     "output_type": "display_data"
    }
   ],
   "source": [
    "f_train_scores, f_test_scores = validation_curve(forest, \n",
    "                                             predictor_df, \n",
    "                                             superhost_df, \n",
    "                                             param_name=\"max_depth\", \n",
    "                                             param_range=np.arange(1, 50),\n",
    "                                             scoring=\"accuracy\",\n",
    "                                            cv=5,\n",
    "                                            n_jobs = -1\n",
    "                                             )\n",
    "f, axes = plt.subplots(1, 1, figsize=(15, 5))\n",
    "plt.plot(np.arange(1, 50), np.median(f_train_scores, 1), color='blue', label='training score')\n",
    "plt.plot(np.arange(1, 50), np.median(f_test_scores, 1), color='red', label='validation score')\n",
    "plt.legend(loc='best')\n",
    "plt.ylim(0, 1)\n",
    "plt.xlabel('max_depth')\n",
    "plt.ylabel('score')"
   ]
  },
  {
   "cell_type": "code",
   "execution_count": 51,
   "metadata": {},
   "outputs": [
    {
     "data": {
      "text/plain": [
       "0.7914438502673797"
      ]
     },
     "execution_count": 51,
     "metadata": {},
     "output_type": "execute_result"
    }
   ],
   "source": [
    "np.median(f_test_scores, 1)[17]"
   ]
  },
  {
   "cell_type": "code",
   "execution_count": 50,
   "metadata": {
    "scrolled": false
   },
   "outputs": [
    {
     "data": {
      "text/plain": [
       "17"
      ]
     },
     "execution_count": 50,
     "metadata": {},
     "output_type": "execute_result"
    }
   ],
   "source": [
    "np.argmax(np.median(f_test_scores, 1))"
   ]
  },
  {
   "cell_type": "markdown",
   "metadata": {},
   "source": [
    "18 may be the optimal max_depth"
   ]
  },
  {
   "cell_type": "markdown",
   "metadata": {},
   "source": [
    "For random forest, instead of only using Grid Search, which tries out every combination, I'll use randomized search as well"
   ]
  },
  {
   "cell_type": "code",
   "execution_count": 86,
   "metadata": {},
   "outputs": [],
   "source": [
    "from sklearn.model_selection import RandomizedSearchCV"
   ]
  },
  {
   "cell_type": "code",
   "execution_count": 93,
   "metadata": {},
   "outputs": [],
   "source": [
    "# Number of trees in random forest\n",
    "n_estimators = [int(x) for x in np.linspace(start = 200, stop = 1000, num = 10)]\n",
    "# Number of features to consider at every split\n",
    "max_features = ['auto', 'log2']\n",
    "# Maximum number of levels in tree\n",
    "max_depth = [int(x) for x in np.linspace(10, 110, num = 11)]\n",
    "max_depth.append(None)\n",
    "# Minimum number of samples required to split a node\n",
    "min_samples_split = [2, 5, 10]\n",
    "# Minimum number of samples required at each leaf node\n",
    "min_samples_leaf = [1, 2, 3]"
   ]
  },
  {
   "cell_type": "code",
   "execution_count": 94,
   "metadata": {},
   "outputs": [],
   "source": [
    "# Create the random grid\n",
    "random_grid = {'n_estimators': n_estimators,\n",
    "               'max_features': max_features,\n",
    "               'max_depth': max_depth,\n",
    "               'min_samples_split': min_samples_split,\n",
    "               'min_samples_leaf': min_samples_leaf}"
   ]
  },
  {
   "cell_type": "code",
   "execution_count": 95,
   "metadata": {},
   "outputs": [
    {
     "data": {
      "text/plain": [
       "RandomizedSearchCV(cv=5, error_score=nan,\n",
       "                   estimator=RandomForestClassifier(bootstrap=True,\n",
       "                                                    ccp_alpha=0.0,\n",
       "                                                    class_weight='balanced',\n",
       "                                                    criterion='gini',\n",
       "                                                    max_depth=None,\n",
       "                                                    max_features='auto',\n",
       "                                                    max_leaf_nodes=None,\n",
       "                                                    max_samples=None,\n",
       "                                                    min_impurity_decrease=0.0,\n",
       "                                                    min_impurity_split=None,\n",
       "                                                    min_samples_leaf=1,\n",
       "                                                    min_samples_split=2,\n",
       "                                                    min_weight_fraction_leaf=0.0,\n",
       "                                                    n_estimators=100,...\n",
       "                   iid='deprecated', n_iter=30, n_jobs=-1,\n",
       "                   param_distributions={'max_depth': [10, 20, 30, 40, 50, 60,\n",
       "                                                      70, 80, 90, 100, 110,\n",
       "                                                      None],\n",
       "                                        'max_features': ['auto', 'log2'],\n",
       "                                        'min_samples_leaf': [1, 2, 3],\n",
       "                                        'min_samples_split': [2, 5, 10],\n",
       "                                        'n_estimators': [200, 288, 377, 466,\n",
       "                                                         555, 644, 733, 822,\n",
       "                                                         911, 1000]},\n",
       "                   pre_dispatch='2*n_jobs', random_state=None, refit=True,\n",
       "                   return_train_score=False, scoring=None, verbose=0)"
      ]
     },
     "execution_count": 95,
     "metadata": {},
     "output_type": "execute_result"
    }
   ],
   "source": [
    "# Use the random grid to search for best hyperparameters\n",
    "rf_random = RandomizedSearchCV(estimator = forest, param_distributions = random_grid, n_iter = 30, cv = 5, n_jobs = -1)\n",
    "# Fit the random search model\n",
    "rf_random.fit(predictor_df, superhost_df)"
   ]
  },
  {
   "cell_type": "code",
   "execution_count": 96,
   "metadata": {
    "scrolled": true
   },
   "outputs": [
    {
     "data": {
      "text/plain": [
       "{'n_estimators': 200,\n",
       " 'min_samples_split': 5,\n",
       " 'min_samples_leaf': 1,\n",
       " 'max_features': 'auto',\n",
       " 'max_depth': 30}"
      ]
     },
     "execution_count": 96,
     "metadata": {},
     "output_type": "execute_result"
    }
   ],
   "source": [
    "rf_random.best_params_"
   ]
  },
  {
   "cell_type": "markdown",
   "metadata": {},
   "source": [
    "After narrowing down, use Grid Search for the remaining permutations:"
   ]
  },
  {
   "cell_type": "code",
   "execution_count": 153,
   "metadata": {},
   "outputs": [],
   "source": [
    "f_param_grid = {'n_estimators': [100,200,300,500,1000],\n",
    "               'max_depth': [20,30,50],\n",
    "            'max_features': ['auto',0.1,0.5]}"
   ]
  },
  {
   "cell_type": "code",
   "execution_count": 154,
   "metadata": {},
   "outputs": [],
   "source": [
    "f_grid = GridSearchCV(forest, f_param_grid, cv=5, n_jobs = -1)"
   ]
  },
  {
   "cell_type": "code",
   "execution_count": 155,
   "metadata": {
    "scrolled": true
   },
   "outputs": [
    {
     "data": {
      "text/plain": [
       "GridSearchCV(cv=5, error_score=nan,\n",
       "             estimator=RandomForestClassifier(bootstrap=True, ccp_alpha=0.0,\n",
       "                                              class_weight='balanced',\n",
       "                                              criterion='gini', max_depth=20,\n",
       "                                              max_features='auto',\n",
       "                                              max_leaf_nodes=None,\n",
       "                                              max_samples=None,\n",
       "                                              min_impurity_decrease=0.0,\n",
       "                                              min_impurity_split=None,\n",
       "                                              min_samples_leaf=1,\n",
       "                                              min_samples_split=5,\n",
       "                                              min_weight_fraction_leaf=0.0,\n",
       "                                              n_estimators=1000, n_jobs=None,\n",
       "                                              oob_score=False,\n",
       "                                              random_state=None, verbose=0,\n",
       "                                              warm_start=False),\n",
       "             iid='deprecated', n_jobs=-1,\n",
       "             param_grid={'max_depth': [20, 30, 50],\n",
       "                         'max_features': ['auto', 0.1, 0.5],\n",
       "                         'n_estimators': [100, 200, 300, 500, 1000]},\n",
       "             pre_dispatch='2*n_jobs', refit=True, return_train_score=False,\n",
       "             scoring=None, verbose=0)"
      ]
     },
     "execution_count": 155,
     "metadata": {},
     "output_type": "execute_result"
    }
   ],
   "source": [
    "f_grid.fit(predictor_df, superhost_df)"
   ]
  },
  {
   "cell_type": "markdown",
   "metadata": {},
   "source": [
    "Result of a previous grid search:"
   ]
  },
  {
   "cell_type": "code",
   "execution_count": 100,
   "metadata": {
    "scrolled": true
   },
   "outputs": [
    {
     "data": {
      "text/plain": [
       "{'max_depth': 20, 'min_samples_split': 5, 'n_estimators': 1000}"
      ]
     },
     "execution_count": 100,
     "metadata": {},
     "output_type": "execute_result"
    }
   ],
   "source": [
    "f_grid.best_params_"
   ]
  },
  {
   "cell_type": "markdown",
   "metadata": {},
   "source": [
    "Create the new model"
   ]
  },
  {
   "cell_type": "code",
   "execution_count": 188,
   "metadata": {},
   "outputs": [],
   "source": [
    "forest = RandomForestClassifier(max_depth = 20, min_samples_split= 5, n_estimators=1000, class_weight='balanced')"
   ]
  },
  {
   "cell_type": "code",
   "execution_count": 189,
   "metadata": {},
   "outputs": [
    {
     "data": {
      "text/plain": [
       "RandomForestClassifier(bootstrap=True, ccp_alpha=0.0, class_weight='balanced',\n",
       "                       criterion='gini', max_depth=20, max_features='auto',\n",
       "                       max_leaf_nodes=None, max_samples=None,\n",
       "                       min_impurity_decrease=0.0, min_impurity_split=None,\n",
       "                       min_samples_leaf=1, min_samples_split=5,\n",
       "                       min_weight_fraction_leaf=0.0, n_estimators=1000,\n",
       "                       n_jobs=None, oob_score=False, random_state=None,\n",
       "                       verbose=0, warm_start=False)"
      ]
     },
     "execution_count": 189,
     "metadata": {},
     "output_type": "execute_result"
    }
   ],
   "source": [
    "forest.fit(X_train, y_train) # train the model"
   ]
  },
  {
   "cell_type": "code",
   "execution_count": 190,
   "metadata": {},
   "outputs": [],
   "source": [
    "y_train_pred2 = forest.predict(X_train)\n",
    "y_test_pred2 = forest.predict(X_test)"
   ]
  },
  {
   "cell_type": "code",
   "execution_count": 191,
   "metadata": {},
   "outputs": [
    {
     "data": {
      "text/plain": [
       "<matplotlib.axes._subplots.AxesSubplot at 0x1a33cb1320>"
      ]
     },
     "execution_count": 191,
     "metadata": {},
     "output_type": "execute_result"
    },
    {
     "data": {
      "image/png": "[encoded data removed]",
      "text/plain": [
       "<Figure size 864x360 with 4 Axes>"
      ]
     },
     "metadata": {},
     "output_type": "display_data"
    }
   ],
   "source": [
    "# Plot the Confusion Matrix\n",
    "f, axes = plt.subplots(1, 2, figsize=(12, 5))\n",
    "sb.heatmap(confusion_matrix(y_train, y_train_pred2), annot = True, fmt=\".0f\", annot_kws={\"size\": 18}, ax = axes[0])\n",
    "sb.heatmap(confusion_matrix(y_test, y_test_pred2), \n",
    "           annot = True, fmt=\".0f\", annot_kws={\"size\": 18}, ax = axes[1])"
   ]
  },
  {
   "cell_type": "code",
   "execution_count": 192,
   "metadata": {
    "scrolled": false
   },
   "outputs": [
    {
     "name": "stdout",
     "output_type": "stream",
     "text": [
      "Goodness of Fit of Model \tTrain Dataset\n",
      "Classification Accuracy \t: 0.9991079393398751\n",
      "\n",
      "Goodness of Fit of Model \tTest Dataset\n",
      "Classification Accuracy \t: 0.8128342245989305\n",
      "\n"
     ]
    }
   ],
   "source": [
    "# Check the Goodness of Fit (on Train Data)\n",
    "print(\"Goodness of Fit of Model \\tTrain Dataset\")\n",
    "print(\"Classification Accuracy \\t:\", forest.score(X_train, y_train))\n",
    "print()\n",
    "\n",
    "# Check the Goodness of Fit (on Test Data)\n",
    "print(\"Goodness of Fit of Model \\tTest Dataset\")\n",
    "print(\"Classification Accuracy \\t:\", forest.score(X_test, y_test))\n",
    "print()"
   ]
  },
  {
   "cell_type": "code",
   "execution_count": 193,
   "metadata": {},
   "outputs": [
    {
     "name": "stdout",
     "output_type": "stream",
     "text": [
      "1666 2 0 574\n",
      "\n",
      "FPR = 0.001199040767386091\n",
      "FNR = 0.0\n"
     ]
    }
   ],
   "source": [
    "TN_Test, FP_Test, FN_Test, TP_Test = confusion_matrix(y_train, y_train_pred2).ravel()\n",
    "\n",
    "print(TN_Test, FP_Test, FN_Test, TP_Test)\n",
    "print()\n",
    "\n",
    "print(\"FPR =\", FP_Test/(FP_Test+TN_Test))\n",
    "\n",
    "print(\"FNR =\", FN_Test/(FN_Test+TP_Test))"
   ]
  },
  {
   "cell_type": "code",
   "execution_count": 194,
   "metadata": {},
   "outputs": [
    {
     "name": "stdout",
     "output_type": "stream",
     "text": [
      "394 22 83 62\n",
      "\n",
      "FPR = 0.052884615384615384\n",
      "FNR = 0.5724137931034483\n"
     ]
    }
   ],
   "source": [
    "TN_2, FP_2, FN_2, TP_2 = confusion_matrix(y_test, y_test_pred2).ravel()\n",
    "\n",
    "print(TN_2, FP_2, FN_2, TP_2)\n",
    "print()\n",
    "\n",
    "print(\"FPR =\", FP_2/(FP_2+TN_2))\n",
    "\n",
    "print(\"FNR =\", FN_2/(FN_2+TP_2))"
   ]
  },
  {
   "cell_type": "markdown",
   "metadata": {},
   "source": [
    "Better score but more than half of the superhosts are predicted wrongly"
   ]
  },
  {
   "cell_type": "markdown",
   "metadata": {},
   "source": [
    "# Support Vector Machine"
   ]
  },
  {
   "cell_type": "markdown",
   "metadata": {},
   "source": [
    "Creates a multidimensional plane to separate the classes"
   ]
  },
  {
   "cell_type": "code",
   "execution_count": 195,
   "metadata": {},
   "outputs": [],
   "source": [
    "from sklearn.svm import SVC\n",
    "from sklearn.svm import NuSVC"
   ]
  },
  {
   "cell_type": "code",
   "execution_count": 223,
   "metadata": {},
   "outputs": [],
   "source": [
    "svc = NuSVC(gamma='scale', class_weight='balanced')"
   ]
  },
  {
   "cell_type": "code",
   "execution_count": 224,
   "metadata": {
    "scrolled": true
   },
   "outputs": [
    {
     "data": {
      "text/plain": [
       "NuSVC(break_ties=False, cache_size=200, class_weight='balanced', coef0=0.0,\n",
       "      decision_function_shape='ovr', degree=3, gamma='scale', kernel='rbf',\n",
       "      max_iter=-1, nu=0.5, probability=False, random_state=None, shrinking=True,\n",
       "      tol=0.001, verbose=False)"
      ]
     },
     "execution_count": 224,
     "metadata": {},
     "output_type": "execute_result"
    }
   ],
   "source": [
    "svc.fit(X_train, y_train) # train the model"
   ]
  },
  {
   "cell_type": "code",
   "execution_count": 225,
   "metadata": {},
   "outputs": [],
   "source": [
    "y_train_pred3 = svc.predict(X_train)\n",
    "y_test_pred3 = svc.predict(X_test)"
   ]
  },
  {
   "cell_type": "code",
   "execution_count": 226,
   "metadata": {
    "scrolled": true
   },
   "outputs": [
    {
     "data": {
      "text/plain": [
       "<matplotlib.axes._subplots.AxesSubplot at 0x1a3552e6d8>"
      ]
     },
     "execution_count": 226,
     "metadata": {},
     "output_type": "execute_result"
    },
    {
     "data": {
      "image/png": "[encoded data removed]",
      "text/plain": [
       "<Figure size 864x360 with 4 Axes>"
      ]
     },
     "metadata": {},
     "output_type": "display_data"
    }
   ],
   "source": [
    "# Plot the Confusion Matrix\n",
    "f, axes = plt.subplots(1, 2, figsize=(12, 5))\n",
    "sb.heatmap(confusion_matrix(y_train, y_train_pred3), annot = True, fmt=\".0f\", annot_kws={\"size\": 18}, ax = axes[0])\n",
    "sb.heatmap(confusion_matrix(y_test, y_test_pred3), \n",
    "           annot = True, fmt=\".0f\", annot_kws={\"size\": 18}, ax = axes[1])"
   ]
  },
  {
   "cell_type": "code",
   "execution_count": 227,
   "metadata": {
    "scrolled": false
   },
   "outputs": [
    {
     "name": "stdout",
     "output_type": "stream",
     "text": [
      "Goodness of Fit of Model \tTrain Dataset\n",
      "Classification Accuracy \t: 0.7769848349687779\n",
      "\n",
      "Goodness of Fit of Model \tTest Dataset\n",
      "Classification Accuracy \t: 0.7468805704099821\n",
      "\n"
     ]
    }
   ],
   "source": [
    "# Check the Goodness of Fit (on Train Data)\n",
    "print(\"Goodness of Fit of Model \\tTrain Dataset\")\n",
    "print(\"Classification Accuracy \\t:\", svc.score(X_train, y_train))\n",
    "print()\n",
    "\n",
    "# Check the Goodness of Fit (on Test Data)\n",
    "print(\"Goodness of Fit of Model \\tTest Dataset\")\n",
    "print(\"Classification Accuracy \\t:\", svc.score(X_test, y_test))\n",
    "print()"
   ]
  },
  {
   "cell_type": "markdown",
   "metadata": {},
   "source": [
    "## BalancedRandomForestClassifier"
   ]
  },
  {
   "cell_type": "markdown",
   "metadata": {},
   "source": [
    "For imbalanced sets, supposedly"
   ]
  },
  {
   "cell_type": "code",
   "execution_count": 196,
   "metadata": {
    "scrolled": false
   },
   "outputs": [],
   "source": [
    "from imblearn.ensemble import BalancedRandomForestClassifier"
   ]
  },
  {
   "cell_type": "code",
   "execution_count": 198,
   "metadata": {},
   "outputs": [],
   "source": [
    "bforest = BalancedRandomForestClassifier(max_depth = 20, min_samples_split= 5, n_estimators=1000)"
   ]
  },
  {
   "cell_type": "code",
   "execution_count": 199,
   "metadata": {
    "scrolled": true
   },
   "outputs": [
    {
     "data": {
      "text/plain": [
       "BalancedRandomForestClassifier(bootstrap=True, ccp_alpha=0.0, class_weight=None,\n",
       "                               criterion='gini', max_depth=20,\n",
       "                               max_features='auto', max_leaf_nodes=None,\n",
       "                               max_samples=None, min_impurity_decrease=0.0,\n",
       "                               min_samples_leaf=2, min_samples_split=5,\n",
       "                               min_weight_fraction_leaf=0.0, n_estimators=1000,\n",
       "                               n_jobs=None, oob_score=False, random_state=None,\n",
       "                               replacement=False, sampling_strategy='auto',\n",
       "                               verbose=0, warm_start=False)"
      ]
     },
     "execution_count": 199,
     "metadata": {},
     "output_type": "execute_result"
    }
   ],
   "source": [
    "bforest.fit(X_train, y_train) # train the model"
   ]
  },
  {
   "cell_type": "code",
   "execution_count": 200,
   "metadata": {},
   "outputs": [],
   "source": [
    "y_train_pred5 = bforest.predict(X_train)\n",
    "y_test_pred5 = bforest.predict(X_test)"
   ]
  },
  {
   "cell_type": "code",
   "execution_count": 202,
   "metadata": {
    "scrolled": true
   },
   "outputs": [
    {
     "data": {
      "text/plain": [
       "<matplotlib.axes._subplots.AxesSubplot at 0x1a34547b00>"
      ]
     },
     "execution_count": 202,
     "metadata": {},
     "output_type": "execute_result"
    },
    {
     "data": {
      "image/png": "[encoded data removed]",
      "text/plain": [
       "<Figure size 864x360 with 4 Axes>"
      ]
     },
     "metadata": {},
     "output_type": "display_data"
    }
   ],
   "source": [
    "# Plot the Confusion Matrix\n",
    "f, axes = plt.subplots(1, 2, figsize=(12, 5))\n",
    "sb.heatmap(confusion_matrix(y_train, y_train_pred5), annot = True, fmt=\".0f\", annot_kws={\"size\": 18}, ax = axes[0])\n",
    "sb.heatmap(confusion_matrix(y_test, y_test_pred5), \n",
    "           annot = True, fmt=\".0f\", annot_kws={\"size\": 18}, ax = axes[1])"
   ]
  },
  {
   "cell_type": "code",
   "execution_count": 204,
   "metadata": {
    "scrolled": false
   },
   "outputs": [
    {
     "name": "stdout",
     "output_type": "stream",
     "text": [
      "Goodness of Fit of Model \tTrain Dataset\n",
      "Classification Accuracy \t: 0.8742194469223907\n",
      "\n",
      "Goodness of Fit of Model \tTest Dataset\n",
      "Classification Accuracy \t: 0.7557932263814616\n",
      "\n"
     ]
    }
   ],
   "source": [
    "# Check the Goodness of Fit (on Train Data)\n",
    "print(\"Goodness of Fit of Model \\tTrain Dataset\")\n",
    "print(\"Classification Accuracy \\t:\", bforest.score(X_train, y_train))\n",
    "print()\n",
    "\n",
    "# Check the Goodness of Fit (on Test Data)\n",
    "print(\"Goodness of Fit of Model \\tTest Dataset\")\n",
    "print(\"Classification Accuracy \\t:\", bforest.score(X_test, y_test))\n",
    "print()"
   ]
  },
  {
   "cell_type": "markdown",
   "metadata": {},
   "source": [
    "Predicts superhosts more accurately"
   ]
  },
  {
   "cell_type": "markdown",
   "metadata": {},
   "source": [
    "Logistic Regression; uses a logistic function to model the probabilities for binary classification"
   ]
  },
  {
   "cell_type": "code",
   "execution_count": 212,
   "metadata": {},
   "outputs": [],
   "source": [
    "from sklearn.linear_model import LogisticRegression"
   ]
  },
  {
   "cell_type": "code",
   "execution_count": 218,
   "metadata": {},
   "outputs": [],
   "source": [
    "log = LogisticRegression(class_weight = 'balanced',solver='liblinear')"
   ]
  },
  {
   "cell_type": "code",
   "execution_count": 219,
   "metadata": {
    "scrolled": true
   },
   "outputs": [
    {
     "data": {
      "text/plain": [
       "LogisticRegression(C=1.0, class_weight='balanced', dual=False,\n",
       "                   fit_intercept=True, intercept_scaling=1, l1_ratio=None,\n",
       "                   max_iter=100, multi_class='auto', n_jobs=None, penalty='l2',\n",
       "                   random_state=None, solver='liblinear', tol=0.0001, verbose=0,\n",
       "                   warm_start=False)"
      ]
     },
     "execution_count": 219,
     "metadata": {},
     "output_type": "execute_result"
    }
   ],
   "source": [
    "log.fit(X_train, y_train) # train the model"
   ]
  },
  {
   "cell_type": "code",
   "execution_count": 220,
   "metadata": {},
   "outputs": [],
   "source": [
    "y_train_pred6 = log.predict(X_train)\n",
    "y_test_pred6 = log.predict(X_test)"
   ]
  },
  {
   "cell_type": "code",
   "execution_count": 221,
   "metadata": {
    "scrolled": true
   },
   "outputs": [
    {
     "data": {
      "text/plain": [
       "<matplotlib.axes._subplots.AxesSubplot at 0x1a352d9400>"
      ]
     },
     "execution_count": 221,
     "metadata": {},
     "output_type": "execute_result"
    },
    {
     "data": {
      "image/png": "[encoded data removed]",
      "text/plain": [
       "<Figure size 864x360 with 4 Axes>"
      ]
     },
     "metadata": {},
     "output_type": "display_data"
    }
   ],
   "source": [
    "# Plot the Confusion Matrix\n",
    "f, axes = plt.subplots(1, 2, figsize=(12, 5))\n",
    "sb.heatmap(confusion_matrix(y_train, y_train_pred6), annot = True, fmt=\".0f\", annot_kws={\"size\": 18}, ax = axes[0])\n",
    "sb.heatmap(confusion_matrix(y_test, y_test_pred6), \n",
    "           annot = True, fmt=\".0f\", annot_kws={\"size\": 18}, ax = axes[1])"
   ]
  },
  {
   "cell_type": "code",
   "execution_count": 222,
   "metadata": {
    "scrolled": false
   },
   "outputs": [
    {
     "name": "stdout",
     "output_type": "stream",
     "text": [
      "Goodness of Fit of Model \tTrain Dataset\n",
      "Classification Accuracy \t: 0.6846565566458519\n",
      "\n",
      "Goodness of Fit of Model \tTest Dataset\n",
      "Classification Accuracy \t: 0.6880570409982175\n",
      "\n"
     ]
    }
   ],
   "source": [
    "# Check the Goodness of Fit (on Train Data)\n",
    "print(\"Goodness of Fit of Model \\tTrain Dataset\")\n",
    "print(\"Classification Accuracy \\t:\", log.score(X_train, y_train))\n",
    "print()\n",
    "\n",
    "# Check the Goodness of Fit (on Test Data)\n",
    "print(\"Goodness of Fit of Model \\tTest Dataset\")\n",
    "print(\"Classification Accuracy \\t:\", log.score(X_test, y_test))\n",
    "print()"
   ]
  },
  {
   "cell_type": "markdown",
   "metadata": {},
   "source": [
    "### Extracting Test Set"
   ]
  },
  {
   "cell_type": "code",
   "execution_count": 228,
   "metadata": {},
   "outputs": [
    {
     "data": {
      "text/plain": [
       "(5249, 23)"
      ]
     },
     "execution_count": 228,
     "metadata": {},
     "output_type": "execute_result"
    }
   ],
   "source": [
    "test_df = pd.read_csv('cleaned_df_2020.csv')\n",
    "test_df.shape"
   ]
  },
  {
   "cell_type": "code",
   "execution_count": 229,
   "metadata": {},
   "outputs": [
    {
     "data": {
      "text/html": [
       "<div>\n",
       "<style scoped>\n",
       "    .dataframe tbody tr th:only-of-type {\n",
       "        vertical-align: middle;\n",
       "    }\n",
       "\n",
       "    .dataframe tbody tr th {\n",
       "        vertical-align: top;\n",
       "    }\n",
       "\n",
       "    .dataframe thead th {\n",
       "        text-align: right;\n",
       "    }\n",
       "</style>\n",
       "<table border=\"1\" class=\"dataframe\">\n",
       "  <thead>\n",
       "    <tr style=\"text-align: right;\">\n",
       "      <th></th>\n",
       "      <th>host_is_superhost</th>\n",
       "      <th>no_of_host_verifications</th>\n",
       "      <th>host_response_time</th>\n",
       "      <th>number_of_reviews</th>\n",
       "      <th>amenities_count</th>\n",
       "      <th>calculated_host_listings_count</th>\n",
       "      <th>reviews_per_month</th>\n",
       "      <th>price</th>\n",
       "      <th>security_deposit</th>\n",
       "      <th>cleaning_fee</th>\n",
       "      <th>...</th>\n",
       "      <th>price_per_person</th>\n",
       "      <th>days_since_calendar_updated</th>\n",
       "      <th>account_duration_days</th>\n",
       "      <th>space_char_count</th>\n",
       "      <th>neighborhood_overview_char_count</th>\n",
       "      <th>notes_char_count</th>\n",
       "      <th>host_about_char_count</th>\n",
       "      <th>space_char_count_grouped</th>\n",
       "      <th>neighborhood_overview_char_count_grouped</th>\n",
       "      <th>notes_char_count_grouped</th>\n",
       "    </tr>\n",
       "  </thead>\n",
       "  <tbody>\n",
       "    <tr>\n",
       "      <th>0</th>\n",
       "      <td>1</td>\n",
       "      <td>8</td>\n",
       "      <td>1</td>\n",
       "      <td>32</td>\n",
       "      <td>39</td>\n",
       "      <td>2</td>\n",
       "      <td>0.23</td>\n",
       "      <td>296.0</td>\n",
       "      <td>500.0</td>\n",
       "      <td>250.0</td>\n",
       "      <td>...</td>\n",
       "      <td>32.888889</td>\n",
       "      <td>21</td>\n",
       "      <td>4221</td>\n",
       "      <td>1000</td>\n",
       "      <td>404</td>\n",
       "      <td>200</td>\n",
       "      <td>59</td>\n",
       "      <td>20</td>\n",
       "      <td>9</td>\n",
       "      <td>4</td>\n",
       "    </tr>\n",
       "    <tr>\n",
       "      <th>1</th>\n",
       "      <td>0</td>\n",
       "      <td>5</td>\n",
       "      <td>3</td>\n",
       "      <td>150</td>\n",
       "      <td>21</td>\n",
       "      <td>3</td>\n",
       "      <td>1.15</td>\n",
       "      <td>90.0</td>\n",
       "      <td>200.0</td>\n",
       "      <td>40.0</td>\n",
       "      <td>...</td>\n",
       "      <td>45.000000</td>\n",
       "      <td>92</td>\n",
       "      <td>3979</td>\n",
       "      <td>999</td>\n",
       "      <td>180</td>\n",
       "      <td>382</td>\n",
       "      <td>192</td>\n",
       "      <td>20</td>\n",
       "      <td>4</td>\n",
       "      <td>8</td>\n",
       "    </tr>\n",
       "    <tr>\n",
       "      <th>2</th>\n",
       "      <td>1</td>\n",
       "      <td>6</td>\n",
       "      <td>2</td>\n",
       "      <td>148</td>\n",
       "      <td>34</td>\n",
       "      <td>8</td>\n",
       "      <td>1.26</td>\n",
       "      <td>62.0</td>\n",
       "      <td>100.0</td>\n",
       "      <td>20.0</td>\n",
       "      <td>...</td>\n",
       "      <td>31.000000</td>\n",
       "      <td>15</td>\n",
       "      <td>3844</td>\n",
       "      <td>1000</td>\n",
       "      <td>669</td>\n",
       "      <td>205</td>\n",
       "      <td>2633</td>\n",
       "      <td>20</td>\n",
       "      <td>14</td>\n",
       "      <td>5</td>\n",
       "    </tr>\n",
       "    <tr>\n",
       "      <th>3</th>\n",
       "      <td>1</td>\n",
       "      <td>7</td>\n",
       "      <td>1</td>\n",
       "      <td>466</td>\n",
       "      <td>48</td>\n",
       "      <td>4</td>\n",
       "      <td>3.63</td>\n",
       "      <td>79.0</td>\n",
       "      <td>0.0</td>\n",
       "      <td>45.0</td>\n",
       "      <td>...</td>\n",
       "      <td>39.500000</td>\n",
       "      <td>5</td>\n",
       "      <td>3814</td>\n",
       "      <td>1000</td>\n",
       "      <td>308</td>\n",
       "      <td>1000</td>\n",
       "      <td>281</td>\n",
       "      <td>20</td>\n",
       "      <td>7</td>\n",
       "      <td>20</td>\n",
       "    </tr>\n",
       "    <tr>\n",
       "      <th>4</th>\n",
       "      <td>1</td>\n",
       "      <td>4</td>\n",
       "      <td>2</td>\n",
       "      <td>40</td>\n",
       "      <td>50</td>\n",
       "      <td>2</td>\n",
       "      <td>0.40</td>\n",
       "      <td>165.0</td>\n",
       "      <td>300.0</td>\n",
       "      <td>120.0</td>\n",
       "      <td>...</td>\n",
       "      <td>41.250000</td>\n",
       "      <td>2</td>\n",
       "      <td>3870</td>\n",
       "      <td>1000</td>\n",
       "      <td>248</td>\n",
       "      <td>193</td>\n",
       "      <td>805</td>\n",
       "      <td>20</td>\n",
       "      <td>5</td>\n",
       "      <td>4</td>\n",
       "    </tr>\n",
       "  </tbody>\n",
       "</table>\n",
       "<p>5 rows × 23 columns</p>\n",
       "</div>"
      ],
      "text/plain": [
       "   host_is_superhost  no_of_host_verifications  host_response_time  \\\n",
       "0                  1                         8                   1   \n",
       "1                  0                         5                   3   \n",
       "2                  1                         6                   2   \n",
       "3                  1                         7                   1   \n",
       "4                  1                         4                   2   \n",
       "\n",
       "   number_of_reviews  amenities_count  calculated_host_listings_count  \\\n",
       "0                 32               39                               2   \n",
       "1                150               21                               3   \n",
       "2                148               34                               8   \n",
       "3                466               48                               4   \n",
       "4                 40               50                               2   \n",
       "\n",
       "   reviews_per_month  price  security_deposit  cleaning_fee  ...  \\\n",
       "0               0.23  296.0             500.0         250.0  ...   \n",
       "1               1.15   90.0             200.0          40.0  ...   \n",
       "2               1.26   62.0             100.0          20.0  ...   \n",
       "3               3.63   79.0               0.0          45.0  ...   \n",
       "4               0.40  165.0             300.0         120.0  ...   \n",
       "\n",
       "   price_per_person  days_since_calendar_updated  account_duration_days  \\\n",
       "0         32.888889                           21                   4221   \n",
       "1         45.000000                           92                   3979   \n",
       "2         31.000000                           15                   3844   \n",
       "3         39.500000                            5                   3814   \n",
       "4         41.250000                            2                   3870   \n",
       "\n",
       "   space_char_count  neighborhood_overview_char_count  notes_char_count  \\\n",
       "0              1000                               404               200   \n",
       "1               999                               180               382   \n",
       "2              1000                               669               205   \n",
       "3              1000                               308              1000   \n",
       "4              1000                               248               193   \n",
       "\n",
       "   host_about_char_count  space_char_count_grouped  \\\n",
       "0                     59                        20   \n",
       "1                    192                        20   \n",
       "2                   2633                        20   \n",
       "3                    281                        20   \n",
       "4                    805                        20   \n",
       "\n",
       "   neighborhood_overview_char_count_grouped  notes_char_count_grouped  \n",
       "0                                         9                         4  \n",
       "1                                         4                         8  \n",
       "2                                        14                         5  \n",
       "3                                         7                        20  \n",
       "4                                         5                         4  \n",
       "\n",
       "[5 rows x 23 columns]"
      ]
     },
     "execution_count": 229,
     "metadata": {},
     "output_type": "execute_result"
    }
   ],
   "source": [
    "test_df.head()"
   ]
  },
  {
   "cell_type": "code",
   "execution_count": 230,
   "metadata": {},
   "outputs": [],
   "source": [
    "predictor_df_test = test_df.drop(['host_is_superhost'], axis = 1)"
   ]
  },
  {
   "cell_type": "code",
   "execution_count": 231,
   "metadata": {},
   "outputs": [
    {
     "name": "stdout",
     "output_type": "stream",
     "text": [
      "Data dims :  (5249, 22)\n"
     ]
    }
   ],
   "source": [
    "print(\"Data dims : \", predictor_df_test.shape)"
   ]
  },
  {
   "cell_type": "code",
   "execution_count": 232,
   "metadata": {},
   "outputs": [],
   "source": [
    "superhost_df_test = test_df['host_is_superhost']"
   ]
  },
  {
   "cell_type": "code",
   "execution_count": 233,
   "metadata": {},
   "outputs": [
    {
     "name": "stdout",
     "output_type": "stream",
     "text": [
      "Data dims :  (5249,)\n"
     ]
    }
   ],
   "source": [
    "print(\"Data dims : \", superhost_df_test.shape)"
   ]
  },
  {
   "cell_type": "code",
   "execution_count": 234,
   "metadata": {},
   "outputs": [],
   "source": [
    "test_prediction_1 = dectree.predict(predictor_df_test)"
   ]
  },
  {
   "cell_type": "code",
   "execution_count": 235,
   "metadata": {},
   "outputs": [
    {
     "data": {
      "text/plain": [
       "<matplotlib.axes._subplots.AxesSubplot at 0x1a35854710>"
      ]
     },
     "execution_count": 235,
     "metadata": {},
     "output_type": "execute_result"
    },
    {
     "data": {
      "image/png": "[encoded data removed]",
      "text/plain": [
       "<Figure size 432x288 with 2 Axes>"
      ]
     },
     "metadata": {},
     "output_type": "display_data"
    }
   ],
   "source": [
    "sb.heatmap(confusion_matrix(superhost_df_test, test_prediction_1), annot = True, fmt=\".0f\", annot_kws={\"size\": 18})\n"
   ]
  },
  {
   "cell_type": "code",
   "execution_count": 236,
   "metadata": {},
   "outputs": [
    {
     "name": "stdout",
     "output_type": "stream",
     "text": [
      "Classification Accuracy \t: 0.4759001714612307\n",
      "\n",
      "1805 555 2196 693\n",
      "\n",
      "FPR = 0.23516949152542374\n",
      "FNR = 0.7601246105919003\n"
     ]
    }
   ],
   "source": [
    "# Check the Goodness of Fit\n",
    "print(\"Classification Accuracy \\t:\", dectree.score(predictor_df_test, superhost_df_test))\n",
    "print()\n",
    "\n",
    "TN_Test1, FP_Test1, FN_Test1, TP_Test1 = confusion_matrix(superhost_df_test, test_prediction_1).ravel()\n",
    "\n",
    "print(TN_Test1, FP_Test1, FN_Test1, TP_Test1)\n",
    "print()\n",
    "\n",
    "print(\"FPR =\", FP_Test1/(FP_Test1+TN_Test1))\n",
    "\n",
    "print(\"FNR =\", FN_Test1/(FN_Test1+TP_Test1))"
   ]
  },
  {
   "cell_type": "code",
   "execution_count": 237,
   "metadata": {},
   "outputs": [],
   "source": [
    "test_prediction_2 = forest.predict(predictor_df_test)"
   ]
  },
  {
   "cell_type": "code",
   "execution_count": 238,
   "metadata": {},
   "outputs": [
    {
     "data": {
      "text/plain": [
       "<matplotlib.axes._subplots.AxesSubplot at 0x1a35abbdd8>"
      ]
     },
     "execution_count": 238,
     "metadata": {},
     "output_type": "execute_result"
    },
    {
     "data": {
      "image/png": "[encoded data removed]",
      "text/plain": [
       "<Figure size 432x288 with 2 Axes>"
      ]
     },
     "metadata": {},
     "output_type": "display_data"
    }
   ],
   "source": [
    "sb.heatmap(confusion_matrix(superhost_df_test, test_prediction_2), annot = True, fmt=\".0f\", annot_kws={\"size\": 18})\n"
   ]
  },
  {
   "cell_type": "code",
   "execution_count": 240,
   "metadata": {},
   "outputs": [
    {
     "name": "stdout",
     "output_type": "stream",
     "text": [
      "Classification Accuracy \t: 0.4882834825681082\n",
      "\n",
      "2322 38 2648 241\n",
      "\n",
      "FPR = 0.016101694915254237\n",
      "FNR = 0.9165801315334026\n"
     ]
    }
   ],
   "source": [
    "# Check the Goodness of Fit\n",
    "print(\"Classification Accuracy \\t:\", forest.score(predictor_df_test, superhost_df_test))\n",
    "print()\n",
    "\n",
    "TN_Test2, FP_Test2, FN_Test2, TP_Test2 = confusion_matrix(superhost_df_test, test_prediction_2).ravel()\n",
    "\n",
    "print(TN_Test2, FP_Test2, FN_Test2, TP_Test2)\n",
    "print()\n",
    "\n",
    "print(\"FPR =\", FP_Test2/(FP_Test2+TN_Test2))\n",
    "\n",
    "print(\"FNR =\", FN_Test2/(FN_Test2+TP_Test2))"
   ]
  },
  {
   "cell_type": "code",
   "execution_count": 242,
   "metadata": {},
   "outputs": [],
   "source": [
    "test_prediction_3 = svc.predict(predictor_df_test)"
   ]
  },
  {
   "cell_type": "code",
   "execution_count": 243,
   "metadata": {
    "scrolled": true
   },
   "outputs": [
    {
     "data": {
      "text/plain": [
       "<matplotlib.axes._subplots.AxesSubplot at 0x1a35bf3550>"
      ]
     },
     "execution_count": 243,
     "metadata": {},
     "output_type": "execute_result"
    },
    {
     "data": {
      "image/png": "[encoded data removed]",
      "text/plain": [
       "<Figure size 432x288 with 2 Axes>"
      ]
     },
     "metadata": {},
     "output_type": "display_data"
    }
   ],
   "source": [
    "sb.heatmap(confusion_matrix(superhost_df_test, test_prediction_3), annot = True, fmt=\".0f\", annot_kws={\"size\": 18})"
   ]
  },
  {
   "cell_type": "code",
   "execution_count": 245,
   "metadata": {},
   "outputs": [
    {
     "name": "stdout",
     "output_type": "stream",
     "text": [
      "Classification Accuracy \t: 0.4652314726614593\n",
      "\n",
      "2134 226 2581 308\n",
      "\n",
      "FPR = 0.09576271186440678\n",
      "FNR = 0.8933887158186223\n"
     ]
    }
   ],
   "source": [
    "# Check the Goodness of Fit\n",
    "print(\"Classification Accuracy \\t:\", svc.score(predictor_df_test, superhost_df_test))\n",
    "print()\n",
    "\n",
    "TN_Test3, FP_Test3, FN_Test3, TP_Test3 = confusion_matrix(superhost_df_test, test_prediction_3).ravel()\n",
    "\n",
    "print(TN_Test3, FP_Test3, FN_Test3, TP_Test3)\n",
    "print()\n",
    "\n",
    "print(\"FPR =\", FP_Test3/(FP_Test3+TN_Test3))\n",
    "\n",
    "print(\"FNR =\", FN_Test3/(FN_Test3+TP_Test3))"
   ]
  },
  {
   "cell_type": "code",
   "execution_count": 246,
   "metadata": {},
   "outputs": [],
   "source": [
    "test_prediction_4 = bforest.predict(predictor_df_test)"
   ]
  },
  {
   "cell_type": "code",
   "execution_count": 247,
   "metadata": {},
   "outputs": [
    {
     "data": {
      "text/plain": [
       "<matplotlib.axes._subplots.AxesSubplot at 0x1a35bf31d0>"
      ]
     },
     "execution_count": 247,
     "metadata": {},
     "output_type": "execute_result"
    },
    {
     "data": {
      "image/png": "[encoded data removed]",
      "text/plain": [
       "<Figure size 432x288 with 2 Axes>"
      ]
     },
     "metadata": {},
     "output_type": "display_data"
    }
   ],
   "source": [
    "sb.heatmap(confusion_matrix(superhost_df_test, test_prediction_4), annot = True, fmt=\".0f\", annot_kws={\"size\": 18})"
   ]
  },
  {
   "cell_type": "code",
   "execution_count": 249,
   "metadata": {
    "scrolled": true
   },
   "outputs": [
    {
     "name": "stdout",
     "output_type": "stream",
     "text": [
      "Classification Accuracy \t: 0.697847208992189\n",
      "\n",
      "1673 687 899 1990\n",
      "\n",
      "FPR = 0.2911016949152542\n",
      "FNR = 0.31118033921772237\n"
     ]
    }
   ],
   "source": [
    "# Check the Goodness of Fit\n",
    "print(\"Classification Accuracy \\t:\", bforest.score(predictor_df_test, superhost_df_test))\n",
    "print()\n",
    "\n",
    "TN_Test4, FP_Test4, FN_Test4, TP_Test4 = confusion_matrix(superhost_df_test, test_prediction_4).ravel()\n",
    "\n",
    "print(TN_Test4, FP_Test4, FN_Test4, TP_Test4)\n",
    "print()\n",
    "\n",
    "print(\"FPR =\", FP_Test4/(FP_Test4+TN_Test4))\n",
    "\n",
    "print(\"FNR =\", FN_Test4/(FN_Test4+TP_Test4))"
   ]
  },
  {
   "cell_type": "code",
   "execution_count": 250,
   "metadata": {},
   "outputs": [],
   "source": [
    "test_prediction_5 = log.predict(predictor_df_test)"
   ]
  },
  {
   "cell_type": "code",
   "execution_count": 251,
   "metadata": {
    "scrolled": true
   },
   "outputs": [
    {
     "data": {
      "text/plain": [
       "<matplotlib.axes._subplots.AxesSubplot at 0x1a35c94b70>"
      ]
     },
     "execution_count": 251,
     "metadata": {},
     "output_type": "execute_result"
    },
    {
     "data": {
      "image/png": "[encoded data removed]",
      "text/plain": [
       "<Figure size 432x288 with 2 Axes>"
      ]
     },
     "metadata": {},
     "output_type": "display_data"
    }
   ],
   "source": [
    "sb.heatmap(confusion_matrix(superhost_df_test, test_prediction_5), annot = True, fmt=\".0f\", annot_kws={\"size\": 18})"
   ]
  },
  {
   "cell_type": "code",
   "execution_count": 252,
   "metadata": {},
   "outputs": [
    {
     "name": "stdout",
     "output_type": "stream",
     "text": [
      "Classification Accuracy \t: 0.7048961706991808\n",
      "\n",
      "1397 963 586 2303\n",
      "\n",
      "FPR = 0.4080508474576271\n",
      "FNR = 0.20283835237106265\n"
     ]
    }
   ],
   "source": [
    "# Check the Goodness of Fit\n",
    "print(\"Classification Accuracy \\t:\", log.score(predictor_df_test, superhost_df_test))\n",
    "print()\n",
    "\n",
    "TN_Test3, FP_Test3, FN_Test3, TP_Test3 = confusion_matrix(superhost_df_test, test_prediction_5).ravel()\n",
    "\n",
    "print(TN_Test3, FP_Test3, FN_Test3, TP_Test3)\n",
    "print()\n",
    "\n",
    "print(\"FPR =\", FP_Test3/(FP_Test3+TN_Test3))\n",
    "\n",
    "print(\"FNR =\", FN_Test3/(FN_Test3+TP_Test3))"
   ]
  },
  {
   "cell_type": "markdown",
   "metadata": {},
   "source": [
    "The models that predicted a greater % of superhosts accurately previously, scored higher with this unseen test set, which had a greater proportion of superhosts than nonsuperhosts, whereas for the training set it was the other way round. Thus, I will attempt to oversample the superhosts in the training set before fitting the model, via SMOTE to see if this can help improve scores on the test set, using similar models as the ones here"
   ]
  }
 ],
 "metadata": {
  "kernelspec": {
   "display_name": "Python 3",
   "language": "python",
   "name": "python3"
  },
  "language_info": {
   "codemirror_mode": {
    "name": "ipython",
    "version": 3
   },
   "file_extension": ".py",
   "mimetype": "text/x-python",
   "name": "python",
   "nbconvert_exporter": "python",
   "pygments_lexer": "ipython3",
   "version": "3.7.3"
  }
 },
 "nbformat": 4,
 "nbformat_minor": 2
}
