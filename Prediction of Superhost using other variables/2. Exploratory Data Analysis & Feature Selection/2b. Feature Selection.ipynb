{
 "cells": [
  {
   "cell_type": "code",
   "execution_count": 1,
   "metadata": {},
   "outputs": [],
   "source": [
    "# Basic Libraries\n",
    "import numpy as np\n",
    "import pandas as pd\n",
    "import seaborn as sb\n",
    "import matplotlib.pyplot as plt # we only need pyplot\n",
    "sb.set() # set the default Seaborn style for graphics"
   ]
  },
  {
   "cell_type": "code",
   "execution_count": 2,
   "metadata": {
    "scrolled": false
   },
   "outputs": [
    {
     "data": {
      "text/html": [
       "<div>\n",
       "<style scoped>\n",
       "    .dataframe tbody tr th:only-of-type {\n",
       "        vertical-align: middle;\n",
       "    }\n",
       "\n",
       "    .dataframe tbody tr th {\n",
       "        vertical-align: top;\n",
       "    }\n",
       "\n",
       "    .dataframe thead th {\n",
       "        text-align: right;\n",
       "    }\n",
       "</style>\n",
       "<table border=\"1\" class=\"dataframe\">\n",
       "  <thead>\n",
       "    <tr style=\"text-align: right;\">\n",
       "      <th></th>\n",
       "      <th>host_is_superhost</th>\n",
       "      <th>host_identity_verified</th>\n",
       "      <th>Dog(s) present</th>\n",
       "      <th>Pets live on this property</th>\n",
       "      <th>cancellation_policy</th>\n",
       "      <th>no_of_host_verifications</th>\n",
       "      <th>host_response_time</th>\n",
       "      <th>number_of_reviews</th>\n",
       "      <th>amenities_count</th>\n",
       "      <th>calculated_host_listings_count</th>\n",
       "      <th>...</th>\n",
       "      <th>days_since_calendar_updated</th>\n",
       "      <th>account_duration_days</th>\n",
       "      <th>space_char_count</th>\n",
       "      <th>neighborhood_overview_char_count</th>\n",
       "      <th>notes_char_count</th>\n",
       "      <th>host_about_char_count</th>\n",
       "      <th>space_char_count_grouped</th>\n",
       "      <th>description_char_count_grouped</th>\n",
       "      <th>neighborhood_overview_char_count_grouped</th>\n",
       "      <th>notes_char_count_grouped</th>\n",
       "    </tr>\n",
       "  </thead>\n",
       "  <tbody>\n",
       "    <tr>\n",
       "      <th>0</th>\n",
       "      <td>0</td>\n",
       "      <td>1</td>\n",
       "      <td>0</td>\n",
       "      <td>0</td>\n",
       "      <td>2</td>\n",
       "      <td>4</td>\n",
       "      <td>2</td>\n",
       "      <td>207</td>\n",
       "      <td>10</td>\n",
       "      <td>2</td>\n",
       "      <td>...</td>\n",
       "      <td>28</td>\n",
       "      <td>1607</td>\n",
       "      <td>1000</td>\n",
       "      <td>0</td>\n",
       "      <td>0</td>\n",
       "      <td>372</td>\n",
       "      <td>20</td>\n",
       "      <td>20</td>\n",
       "      <td>1</td>\n",
       "      <td>1</td>\n",
       "    </tr>\n",
       "    <tr>\n",
       "      <th>1</th>\n",
       "      <td>1</td>\n",
       "      <td>1</td>\n",
       "      <td>0</td>\n",
       "      <td>0</td>\n",
       "      <td>3</td>\n",
       "      <td>6</td>\n",
       "      <td>1</td>\n",
       "      <td>43</td>\n",
       "      <td>16</td>\n",
       "      <td>6</td>\n",
       "      <td>...</td>\n",
       "      <td>0</td>\n",
       "      <td>1047</td>\n",
       "      <td>1000</td>\n",
       "      <td>167</td>\n",
       "      <td>1000</td>\n",
       "      <td>74</td>\n",
       "      <td>20</td>\n",
       "      <td>20</td>\n",
       "      <td>4</td>\n",
       "      <td>20</td>\n",
       "    </tr>\n",
       "    <tr>\n",
       "      <th>2</th>\n",
       "      <td>0</td>\n",
       "      <td>1</td>\n",
       "      <td>1</td>\n",
       "      <td>1</td>\n",
       "      <td>3</td>\n",
       "      <td>5</td>\n",
       "      <td>2</td>\n",
       "      <td>20</td>\n",
       "      <td>21</td>\n",
       "      <td>2</td>\n",
       "      <td>...</td>\n",
       "      <td>35</td>\n",
       "      <td>571</td>\n",
       "      <td>1000</td>\n",
       "      <td>669</td>\n",
       "      <td>155</td>\n",
       "      <td>343</td>\n",
       "      <td>20</td>\n",
       "      <td>20</td>\n",
       "      <td>14</td>\n",
       "      <td>4</td>\n",
       "    </tr>\n",
       "    <tr>\n",
       "      <th>3</th>\n",
       "      <td>0</td>\n",
       "      <td>1</td>\n",
       "      <td>0</td>\n",
       "      <td>0</td>\n",
       "      <td>3</td>\n",
       "      <td>5</td>\n",
       "      <td>1</td>\n",
       "      <td>38</td>\n",
       "      <td>13</td>\n",
       "      <td>1</td>\n",
       "      <td>...</td>\n",
       "      <td>49</td>\n",
       "      <td>1497</td>\n",
       "      <td>488</td>\n",
       "      <td>492</td>\n",
       "      <td>9</td>\n",
       "      <td>354</td>\n",
       "      <td>10</td>\n",
       "      <td>20</td>\n",
       "      <td>10</td>\n",
       "      <td>1</td>\n",
       "    </tr>\n",
       "    <tr>\n",
       "      <th>4</th>\n",
       "      <td>1</td>\n",
       "      <td>1</td>\n",
       "      <td>0</td>\n",
       "      <td>0</td>\n",
       "      <td>2</td>\n",
       "      <td>4</td>\n",
       "      <td>1</td>\n",
       "      <td>58</td>\n",
       "      <td>7</td>\n",
       "      <td>1</td>\n",
       "      <td>...</td>\n",
       "      <td>35</td>\n",
       "      <td>1314</td>\n",
       "      <td>1000</td>\n",
       "      <td>95</td>\n",
       "      <td>82</td>\n",
       "      <td>229</td>\n",
       "      <td>20</td>\n",
       "      <td>20</td>\n",
       "      <td>2</td>\n",
       "      <td>2</td>\n",
       "    </tr>\n",
       "  </tbody>\n",
       "</table>\n",
       "<p>5 rows × 28 columns</p>\n",
       "</div>"
      ],
      "text/plain": [
       "   host_is_superhost  host_identity_verified  Dog(s) present  \\\n",
       "0                  0                       1               0   \n",
       "1                  1                       1               0   \n",
       "2                  0                       1               1   \n",
       "3                  0                       1               0   \n",
       "4                  1                       1               0   \n",
       "\n",
       "   Pets live on this property  cancellation_policy  no_of_host_verifications  \\\n",
       "0                           0                    2                         4   \n",
       "1                           0                    3                         6   \n",
       "2                           1                    3                         5   \n",
       "3                           0                    3                         5   \n",
       "4                           0                    2                         4   \n",
       "\n",
       "   host_response_time  number_of_reviews  amenities_count  \\\n",
       "0                   2                207               10   \n",
       "1                   1                 43               16   \n",
       "2                   2                 20               21   \n",
       "3                   1                 38               13   \n",
       "4                   1                 58                7   \n",
       "\n",
       "   calculated_host_listings_count  ...  days_since_calendar_updated  \\\n",
       "0                               2  ...                           28   \n",
       "1                               6  ...                            0   \n",
       "2                               2  ...                           35   \n",
       "3                               1  ...                           49   \n",
       "4                               1  ...                           35   \n",
       "\n",
       "   account_duration_days  space_char_count  neighborhood_overview_char_count  \\\n",
       "0                   1607              1000                                 0   \n",
       "1                   1047              1000                               167   \n",
       "2                    571              1000                               669   \n",
       "3                   1497               488                               492   \n",
       "4                   1314              1000                                95   \n",
       "\n",
       "   notes_char_count  host_about_char_count  space_char_count_grouped  \\\n",
       "0                 0                    372                        20   \n",
       "1              1000                     74                        20   \n",
       "2               155                    343                        20   \n",
       "3                 9                    354                        10   \n",
       "4                82                    229                        20   \n",
       "\n",
       "   description_char_count_grouped  neighborhood_overview_char_count_grouped  \\\n",
       "0                              20                                         1   \n",
       "1                              20                                         4   \n",
       "2                              20                                        14   \n",
       "3                              20                                        10   \n",
       "4                              20                                         2   \n",
       "\n",
       "   notes_char_count_grouped  \n",
       "0                         1  \n",
       "1                        20  \n",
       "2                         4  \n",
       "3                         1  \n",
       "4                         2  \n",
       "\n",
       "[5 rows x 28 columns]"
      ]
     },
     "execution_count": 2,
     "metadata": {},
     "output_type": "execute_result"
    }
   ],
   "source": [
    "df = pd.read_csv('cleaned_df_final.csv')\n",
    "df.head()"
   ]
  },
  {
   "cell_type": "code",
   "execution_count": 3,
   "metadata": {},
   "outputs": [],
   "source": [
    "predictor_df = df.drop([\"host_is_superhost\"], axis = 1)"
   ]
  },
  {
   "cell_type": "code",
   "execution_count": 4,
   "metadata": {},
   "outputs": [],
   "source": [
    "from sklearn.feature_selection import VarianceThreshold"
   ]
  },
  {
   "cell_type": "code",
   "execution_count": 8,
   "metadata": {},
   "outputs": [],
   "source": [
    "def variance_threshold_selector(data, threshold=.8 * (1 - .8)):\n",
    "    selector = VarianceThreshold(threshold)\n",
    "    selector.fit(data)\n",
    "    return data[data.columns[selector.get_support(indices=True)]]"
   ]
  },
  {
   "cell_type": "code",
   "execution_count": 17,
   "metadata": {
    "scrolled": true
   },
   "outputs": [
    {
     "data": {
      "text/plain": [
       "Index(['host_identity_verified', 'Dog(s) present',\n",
       "       'Pets live on this property', 'cancellation_policy',\n",
       "       'no_of_host_verifications', 'host_response_time', 'number_of_reviews',\n",
       "       'amenities_count', 'calculated_host_listings_count',\n",
       "       'reviews_per_month', 'price', 'security_deposit', 'cleaning_fee',\n",
       "       'availability_365', 'listing_duration_days', 'hosting_duration_days',\n",
       "       'price_per_person', 'days_since_calendar_updated',\n",
       "       'account_duration_days', 'space_char_count',\n",
       "       'neighborhood_overview_char_count', 'notes_char_count',\n",
       "       'host_about_char_count', 'space_char_count_grouped',\n",
       "       'description_char_count_grouped',\n",
       "       'neighborhood_overview_char_count_grouped', 'notes_char_count_grouped'],\n",
       "      dtype='object')"
      ]
     },
     "execution_count": 17,
     "metadata": {},
     "output_type": "execute_result"
    }
   ],
   "source": [
    "predictor_df.columns"
   ]
  },
  {
   "cell_type": "code",
   "execution_count": 16,
   "metadata": {},
   "outputs": [
    {
     "data": {
      "text/plain": [
       "(2803, 27)"
      ]
     },
     "execution_count": 16,
     "metadata": {},
     "output_type": "execute_result"
    }
   ],
   "source": [
    "predictor_df.shape"
   ]
  },
  {
   "cell_type": "code",
   "execution_count": 13,
   "metadata": {},
   "outputs": [
    {
     "data": {
      "text/plain": [
       "Index(['Pets live on this property', 'cancellation_policy',\n",
       "       'no_of_host_verifications', 'host_response_time', 'number_of_reviews',\n",
       "       'amenities_count', 'calculated_host_listings_count',\n",
       "       'reviews_per_month', 'price', 'security_deposit', 'cleaning_fee',\n",
       "       'availability_365', 'listing_duration_days', 'hosting_duration_days',\n",
       "       'price_per_person', 'days_since_calendar_updated',\n",
       "       'account_duration_days', 'space_char_count',\n",
       "       'neighborhood_overview_char_count', 'notes_char_count',\n",
       "       'host_about_char_count', 'space_char_count_grouped',\n",
       "       'description_char_count_grouped',\n",
       "       'neighborhood_overview_char_count_grouped', 'notes_char_count_grouped'],\n",
       "      dtype='object')"
      ]
     },
     "execution_count": 13,
     "metadata": {},
     "output_type": "execute_result"
    }
   ],
   "source": [
    "variance_threshold_selector(predictor_df).columns"
   ]
  },
  {
   "cell_type": "code",
   "execution_count": 18,
   "metadata": {},
   "outputs": [
    {
     "data": {
      "text/plain": [
       "(2803, 25)"
      ]
     },
     "execution_count": 18,
     "metadata": {},
     "output_type": "execute_result"
    }
   ],
   "source": [
    "variance_threshold_selector(predictor_df).shape"
   ]
  },
  {
   "cell_type": "markdown",
   "metadata": {},
   "source": [
    "'host_identity_verified', 'Dog(s) present' filtered out due to low Variance"
   ]
  },
  {
   "cell_type": "code",
   "execution_count": 4,
   "metadata": {},
   "outputs": [],
   "source": [
    "sh_df = df['host_is_superhost']"
   ]
  },
  {
   "cell_type": "code",
   "execution_count": 21,
   "metadata": {},
   "outputs": [],
   "source": [
    "from sklearn.feature_selection import SelectKBest"
   ]
  },
  {
   "cell_type": "code",
   "execution_count": 22,
   "metadata": {
    "scrolled": true
   },
   "outputs": [
    {
     "data": {
      "text/plain": [
       "SelectKBest(k=20, score_func=<function f_classif at 0x1a16829c80>)"
      ]
     },
     "execution_count": 22,
     "metadata": {},
     "output_type": "execute_result"
    }
   ],
   "source": [
    "selector = SelectKBest(k = 20)\n",
    "selector.fit(predictor_df, sh_df)"
   ]
  },
  {
   "cell_type": "code",
   "execution_count": 30,
   "metadata": {},
   "outputs": [],
   "source": [
    "cols = selector.get_support(indices=True)\n",
    "selected_pred_df = predictor_df.iloc[:,cols]"
   ]
  },
  {
   "cell_type": "code",
   "execution_count": 31,
   "metadata": {
    "scrolled": true
   },
   "outputs": [
    {
     "data": {
      "text/plain": [
       "(2803, 20)"
      ]
     },
     "execution_count": 31,
     "metadata": {},
     "output_type": "execute_result"
    }
   ],
   "source": [
    "selected_pred_df.shape"
   ]
  },
  {
   "cell_type": "code",
   "execution_count": 34,
   "metadata": {
    "scrolled": true
   },
   "outputs": [
    {
     "data": {
      "text/plain": [
       "Index(['host_identity_verified', 'Dog(s) present',\n",
       "       'Pets live on this property', 'cancellation_policy',\n",
       "       'no_of_host_verifications', 'host_response_time', 'number_of_reviews',\n",
       "       'amenities_count', 'calculated_host_listings_count',\n",
       "       'reviews_per_month', 'listing_duration_days', 'price_per_person',\n",
       "       'days_since_calendar_updated', 'space_char_count',\n",
       "       'neighborhood_overview_char_count', 'notes_char_count',\n",
       "       'space_char_count_grouped', 'description_char_count_grouped',\n",
       "       'neighborhood_overview_char_count_grouped', 'notes_char_count_grouped'],\n",
       "      dtype='object')"
      ]
     },
     "execution_count": 34,
     "metadata": {},
     "output_type": "execute_result"
    }
   ],
   "source": [
    "selected_pred_df.columns"
   ]
  },
  {
   "cell_type": "code",
   "execution_count": 26,
   "metadata": {},
   "outputs": [],
   "source": [
    "np.set_printoptions(formatter={'float': lambda x: \"{0:0.3f}\".format(x)})"
   ]
  },
  {
   "cell_type": "code",
   "execution_count": 47,
   "metadata": {},
   "outputs": [],
   "source": [
    "all_scores_dict = {}\n",
    "for i, score in enumerate(selector.scores_):\n",
    "    all_scores_dict[predictor_df.columns[i]] = score"
   ]
  },
  {
   "cell_type": "code",
   "execution_count": 41,
   "metadata": {},
   "outputs": [
    {
     "data": {
      "text/plain": [
       "[('reviews_per_month', 195.90293048751994),\n",
       " ('number_of_reviews', 133.86689282763504),\n",
       " ('host_response_time', 85.23972613433544),\n",
       " ('neighborhood_overview_char_count_grouped', 54.524372212763566),\n",
       " ('neighborhood_overview_char_count', 53.17114148648972),\n",
       " ('calculated_host_listings_count', 47.92716715612462),\n",
       " ('days_since_calendar_updated', 39.59288922489987),\n",
       " ('host_identity_verified', 37.86914646721763),\n",
       " ('Pets live on this property', 36.607219572301915),\n",
       " ('notes_char_count', 29.582513328976443),\n",
       " ('notes_char_count_grouped', 28.316904943438747),\n",
       " ('Dog(s) present', 28.066423170017103),\n",
       " ('listing_duration_days', 25.58713716940699),\n",
       " ('amenities_count', 22.736459461512833),\n",
       " ('no_of_host_verifications', 21.116334561131143),\n",
       " ('description_char_count_grouped', 20.040351769147712),\n",
       " ('price_per_person', 19.288913755603076),\n",
       " ('space_char_count', 12.824095779319775),\n",
       " ('space_char_count_grouped', 12.618214637517983),\n",
       " ('cancellation_policy', 9.057888277576676),\n",
       " ('security_deposit', 7.953164780110703),\n",
       " ('availability_365', 7.850746459754215),\n",
       " ('host_about_char_count', 2.0418315814885135),\n",
       " ('price', 1.7091177411881997),\n",
       " ('cleaning_fee', 1.4442682925069101),\n",
       " ('hosting_duration_days', 1.1886199989391977),\n",
       " ('account_duration_days', 0.0006787534639406819)]"
      ]
     },
     "execution_count": 41,
     "metadata": {},
     "output_type": "execute_result"
    }
   ],
   "source": [
    "import operator\n",
    "sorted_d = sorted(all_scores_dict.items(), key=operator.itemgetter(1),reverse = True)\n",
    "sorted_d"
   ]
  },
  {
   "cell_type": "markdown",
   "metadata": {},
   "source": [
    "Print Feature Importance using ExtraTreesClassifier"
   ]
  },
  {
   "cell_type": "code",
   "execution_count": 48,
   "metadata": {},
   "outputs": [],
   "source": [
    "from sklearn.ensemble import ExtraTreesClassifier"
   ]
  },
  {
   "cell_type": "code",
   "execution_count": 51,
   "metadata": {},
   "outputs": [],
   "source": [
    "# Build a forest and compute the feature importances\n",
    "forest = ExtraTreesClassifier(n_estimators=100,\n",
    "                              random_state=0, class_weight='balanced')"
   ]
  },
  {
   "cell_type": "code",
   "execution_count": 52,
   "metadata": {
    "scrolled": true
   },
   "outputs": [
    {
     "name": "stdout",
     "output_type": "stream",
     "text": [
      "Rankings:\n",
      "Feature 9) reviews_per_month: 0.068\n",
      "Feature 6) number_of_reviews: 0.066\n",
      "Feature 8) calculated_host_listings_count: 0.059\n",
      "Feature 14) listing_duration_days: 0.047\n",
      "Feature 5) host_response_time: 0.045\n",
      "Feature 15) hosting_duration_days: 0.041\n",
      "Feature 20) neighborhood_overview_char_count: 0.041\n",
      "Feature 18) account_duration_days: 0.041\n",
      "Feature 16) price_per_person: 0.041\n",
      "Feature 22) host_about_char_count: 0.040\n",
      "Feature 7) amenities_count: 0.038\n",
      "Feature 21) notes_char_count: 0.037\n",
      "Feature 25) neighborhood_overview_char_count_grouped: 0.037\n",
      "Feature 17) days_since_calendar_updated: 0.036\n",
      "Feature 12) cleaning_fee: 0.036\n",
      "Feature 13) availability_365: 0.035\n",
      "Feature 10) price: 0.035\n",
      "Feature 11) security_deposit: 0.034\n",
      "Feature 4) no_of_host_verifications: 0.034\n",
      "Feature 26) notes_char_count_grouped: 0.034\n",
      "Feature 3) cancellation_policy: 0.033\n",
      "Feature 19) space_char_count: 0.030\n",
      "Feature 23) space_char_count_grouped: 0.030\n",
      "Feature 0) host_identity_verified: 0.020\n",
      "Feature 2) Pets live on this property: 0.018\n",
      "Feature 24) description_char_count_grouped: 0.014\n",
      "Feature 1) Dog(s) present: 0.011\n"
     ]
    },
    {
     "data": {
      "image/png": "[encoded data removed]",
      "text/plain": [
       "<Figure size 432x288 with 1 Axes>"
      ]
     },
     "metadata": {
      "needs_background": "light"
     },
     "output_type": "display_data"
    }
   ],
   "source": [
    "forest.fit(predictor_df, sh_df)\n",
    "importances = forest.feature_importances_\n",
    "std = np.std([tree.feature_importances_ for tree in forest.estimators_],\n",
    "             axis=0)\n",
    "indices = np.argsort(importances)[::-1]\n",
    "\n",
    "print(\"Rankings:\")\n",
    "\n",
    "for f in range(predictor_df.shape[1]):\n",
    "    print(\"Feature %d) %s: %.3f\" % (indices[f], predictor_df.columns[(indices[f])], round(importances[indices[f]], 3)))\n",
    "\n",
    "\n",
    "# Plot the feature importances of the forest\n",
    "plt.figure()\n",
    "plt.title(\"Feature importances\")\n",
    "plt.bar(range(predictor_df.shape[1]), importances[indices],\n",
    "       color=\"r\", yerr=std[indices], align=\"center\")\n",
    "plt.xticks(range(predictor_df.shape[1]), indices)\n",
    "plt.xlim([-1, predictor_df.shape[1]])\n",
    "plt.show()\n",
    "\n",
    "#The lines near the top of each bar are error bars that indicate the error or uncertainty "
   ]
  },
  {
   "cell_type": "markdown",
   "metadata": {},
   "source": [
    "Decision: to remove description_char_count_grouped and maybe the Boolean variables "
   ]
  },
  {
   "cell_type": "markdown",
   "metadata": {},
   "source": [
    "Print Feature Importance using Random Forest Classifier"
   ]
  },
  {
   "cell_type": "code",
   "execution_count": 5,
   "metadata": {},
   "outputs": [],
   "source": [
    "from sklearn.ensemble import RandomForestClassifier\n"
   ]
  },
  {
   "cell_type": "code",
   "execution_count": 14,
   "metadata": {},
   "outputs": [],
   "source": [
    "clf = RandomForestClassifier(n_estimators=108, random_state=0, class_weight = 'balanced')"
   ]
  },
  {
   "cell_type": "code",
   "execution_count": 15,
   "metadata": {
    "scrolled": false
   },
   "outputs": [
    {
     "data": {
      "text/plain": [
       "RandomForestClassifier(bootstrap=True, ccp_alpha=0.0, class_weight='balanced',\n",
       "                       criterion='gini', max_depth=None, max_features='auto',\n",
       "                       max_leaf_nodes=None, max_samples=None,\n",
       "                       min_impurity_decrease=0.0, min_impurity_split=None,\n",
       "                       min_samples_leaf=1, min_samples_split=2,\n",
       "                       min_weight_fraction_leaf=0.0, n_estimators=108,\n",
       "                       n_jobs=None, oob_score=False, random_state=0, verbose=0,\n",
       "                       warm_start=False)"
      ]
     },
     "execution_count": 15,
     "metadata": {},
     "output_type": "execute_result"
    }
   ],
   "source": [
    "clf.fit(predictor_df, sh_df)"
   ]
  },
  {
   "cell_type": "code",
   "execution_count": 16,
   "metadata": {
    "scrolled": true
   },
   "outputs": [
    {
     "name": "stdout",
     "output_type": "stream",
     "text": [
      "Rankings:\n",
      "Feature 6) number_of_reviews: 0.107\n",
      "Feature 9) reviews_per_month: 0.095\n",
      "Feature 14) listing_duration_days: 0.066\n",
      "Feature 16) price_per_person: 0.063\n",
      "Feature 18) account_duration_days: 0.051\n",
      "Feature 22) host_about_char_count: 0.051\n",
      "Feature 10) price: 0.049\n",
      "Feature 13) availability_365: 0.043\n",
      "Feature 8) calculated_host_listings_count: 0.043\n",
      "Feature 15) hosting_duration_days: 0.042\n",
      "Feature 20) neighborhood_overview_char_count: 0.041\n",
      "Feature 7) amenities_count: 0.037\n",
      "Feature 21) notes_char_count: 0.035\n",
      "Feature 17) days_since_calendar_updated: 0.033\n",
      "Feature 12) cleaning_fee: 0.033\n",
      "Feature 25) neighborhood_overview_char_count_grouped: 0.030\n",
      "Feature 11) security_deposit: 0.028\n",
      "Feature 19) space_char_count: 0.026\n",
      "Feature 5) host_response_time: 0.025\n",
      "Feature 26) notes_char_count_grouped: 0.025\n",
      "Feature 4) no_of_host_verifications: 0.020\n",
      "Feature 23) space_char_count_grouped: 0.019\n",
      "Feature 3) cancellation_policy: 0.013\n",
      "Feature 2) Pets live on this property: 0.008\n",
      "Feature 24) description_char_count_grouped: 0.008\n",
      "Feature 0) host_identity_verified: 0.007\n",
      "Feature 1) Dog(s) present: 0.005\n"
     ]
    },
    {
     "data": {
      "image/png": "[encoded data removed]",
      "text/plain": [
       "<Figure size 432x288 with 1 Axes>"
      ]
     },
     "metadata": {},
     "output_type": "display_data"
    }
   ],
   "source": [
    "importances = clf.feature_importances_\n",
    "std = np.std([clf.feature_importances_ for tree in clf.estimators_],\n",
    "             axis=0)\n",
    "indices = np.argsort(importances)[::-1]\n",
    "\n",
    "print(\"Rankings:\")\n",
    "\n",
    "for f in range(predictor_df.shape[1]):\n",
    "    print(\"Feature %d) %s: %.3f\" % (indices[f], predictor_df.columns[(indices[f])], round(importances[indices[f]], 3)))\n",
    "\n",
    "\n",
    "# Plot the feature importances of the forest\n",
    "plt.figure()\n",
    "plt.title(\"Feature importances\")\n",
    "plt.bar(range(predictor_df.shape[1]), importances[indices],\n",
    "       color=\"b\", yerr=std[indices], align=\"center\")\n",
    "plt.xticks(range(predictor_df.shape[1]), indices)\n",
    "plt.xlim([-1, predictor_df.shape[1]])\n",
    "plt.show()\n",
    "\n",
    "#The lines near the top of each bar are error bars that indicate the error or uncertainty "
   ]
  },
  {
   "cell_type": "markdown",
   "metadata": {},
   "source": [
    "After viewing feature importances, compare performance after removing certain features"
   ]
  },
  {
   "cell_type": "code",
   "execution_count": 25,
   "metadata": {},
   "outputs": [],
   "source": [
    "from sklearn.model_selection import train_test_split"
   ]
  },
  {
   "cell_type": "code",
   "execution_count": 26,
   "metadata": {},
   "outputs": [],
   "source": [
    "X_train, X_test, y_train, y_test = train_test_split(predictor_df, sh_df, test_size=0.2)"
   ]
  },
  {
   "cell_type": "code",
   "execution_count": 43,
   "metadata": {},
   "outputs": [],
   "source": [
    "forest1=RandomForestClassifier(n_estimators=100, class_weight='balanced')"
   ]
  },
  {
   "cell_type": "code",
   "execution_count": 44,
   "metadata": {},
   "outputs": [
    {
     "data": {
      "text/plain": [
       "RandomForestClassifier(bootstrap=True, ccp_alpha=0.0, class_weight='balanced',\n",
       "                       criterion='gini', max_depth=None, max_features='auto',\n",
       "                       max_leaf_nodes=None, max_samples=None,\n",
       "                       min_impurity_decrease=0.0, min_impurity_split=None,\n",
       "                       min_samples_leaf=1, min_samples_split=2,\n",
       "                       min_weight_fraction_leaf=0.0, n_estimators=100,\n",
       "                       n_jobs=None, oob_score=False, random_state=None,\n",
       "                       verbose=0, warm_start=False)"
      ]
     },
     "execution_count": 44,
     "metadata": {},
     "output_type": "execute_result"
    }
   ],
   "source": [
    "forest1.fit(X_train, y_train)"
   ]
  },
  {
   "cell_type": "code",
   "execution_count": 45,
   "metadata": {},
   "outputs": [],
   "source": [
    "y_train_pred1 = forest1.predict(X_train)\n",
    "y_test_pred1 = forest1.predict(X_test)"
   ]
  },
  {
   "cell_type": "code",
   "execution_count": 46,
   "metadata": {},
   "outputs": [],
   "source": [
    "from sklearn.metrics import confusion_matrix"
   ]
  },
  {
   "cell_type": "code",
   "execution_count": 47,
   "metadata": {
    "scrolled": false
   },
   "outputs": [
    {
     "data": {
      "text/plain": [
       "<matplotlib.axes._subplots.AxesSubplot at 0x1a277da3c8>"
      ]
     },
     "execution_count": 47,
     "metadata": {},
     "output_type": "execute_result"
    },
    {
     "data": {
      "image/png": "[encoded data removed]",
      "text/plain": [
       "<Figure size 864x360 with 4 Axes>"
      ]
     },
     "metadata": {},
     "output_type": "display_data"
    }
   ],
   "source": [
    "# Plot the Confusion Matrix\n",
    "f, axes = plt.subplots(1, 2, figsize=(12, 5))\n",
    "sb.heatmap(confusion_matrix(y_train, y_train_pred1), annot = True, fmt=\".0f\", annot_kws={\"size\": 18}, ax = axes[0])\n",
    "sb.heatmap(confusion_matrix(y_test, y_test_pred1), \n",
    "           annot = True, fmt=\".0f\", annot_kws={\"size\": 18}, ax = axes[1])\n"
   ]
  },
  {
   "cell_type": "markdown",
   "metadata": {},
   "source": [
    "Remove last 3: description_char_count_grouped, host_identity_verified, Dog(s) present, "
   ]
  },
  {
   "cell_type": "code",
   "execution_count": 11,
   "metadata": {},
   "outputs": [],
   "source": [
    "from sklearn.feature_selection import SelectFromModel"
   ]
  },
  {
   "cell_type": "markdown",
   "metadata": {},
   "source": [
    "Identify And Select Most Important Features and create a new model using only these features"
   ]
  },
  {
   "cell_type": "code",
   "execution_count": 31,
   "metadata": {},
   "outputs": [],
   "source": [
    "sfm = SelectFromModel(forest1, threshold=0.01)"
   ]
  },
  {
   "cell_type": "code",
   "execution_count": 32,
   "metadata": {
    "scrolled": false
   },
   "outputs": [
    {
     "data": {
      "text/plain": [
       "SelectFromModel(estimator=RandomForestClassifier(bootstrap=True, ccp_alpha=0.0,\n",
       "                                                 class_weight='balanced',\n",
       "                                                 criterion='gini',\n",
       "                                                 max_depth=None,\n",
       "                                                 max_features='auto',\n",
       "                                                 max_leaf_nodes=None,\n",
       "                                                 max_samples=None,\n",
       "                                                 min_impurity_decrease=0.0,\n",
       "                                                 min_impurity_split=None,\n",
       "                                                 min_samples_leaf=1,\n",
       "                                                 min_samples_split=2,\n",
       "                                                 min_weight_fraction_leaf=0.0,\n",
       "                                                 n_estimators=100, n_jobs=None,\n",
       "                                                 oob_score=False,\n",
       "                                                 random_state=0, verbose=0,\n",
       "                                                 warm_start=False),\n",
       "                max_features=None, norm_order=1, prefit=False, threshold=0.01)"
      ]
     },
     "execution_count": 32,
     "metadata": {},
     "output_type": "execute_result"
    }
   ],
   "source": [
    "sfm.fit(X_train, y_train)"
   ]
  },
  {
   "cell_type": "markdown",
   "metadata": {},
   "source": [
    "Columns chosen:"
   ]
  },
  {
   "cell_type": "code",
   "execution_count": 33,
   "metadata": {
    "scrolled": false
   },
   "outputs": [
    {
     "name": "stdout",
     "output_type": "stream",
     "text": [
      "cancellation_policy\n",
      "no_of_host_verifications\n",
      "host_response_time\n",
      "number_of_reviews\n",
      "amenities_count\n",
      "calculated_host_listings_count\n",
      "reviews_per_month\n",
      "price\n",
      "security_deposit\n",
      "cleaning_fee\n",
      "availability_365\n",
      "listing_duration_days\n",
      "hosting_duration_days\n",
      "price_per_person\n",
      "days_since_calendar_updated\n",
      "account_duration_days\n",
      "space_char_count\n",
      "neighborhood_overview_char_count\n",
      "notes_char_count\n",
      "host_about_char_count\n",
      "space_char_count_grouped\n",
      "neighborhood_overview_char_count_grouped\n",
      "notes_char_count_grouped\n"
     ]
    }
   ],
   "source": [
    "for feature_list_index in sfm.get_support(indices=True):\n",
    "    print(X_train.columns[feature_list_index])"
   ]
  },
  {
   "cell_type": "markdown",
   "metadata": {},
   "source": [
    "removed 4 columns: 'host_identity_verified', 'Dog(s) present',\n",
    "       'Pets live on this property’, ’description_char_count_grouped’"
   ]
  },
  {
   "cell_type": "code",
   "execution_count": 34,
   "metadata": {},
   "outputs": [],
   "source": [
    "# Create A Data Subset With Only The Most Important Features\n",
    "X_important_train = sfm.transform(X_train)\n",
    "X_important_test = sfm.transform(X_test)"
   ]
  },
  {
   "cell_type": "code",
   "execution_count": 39,
   "metadata": {},
   "outputs": [],
   "source": [
    "forest2=RandomForestClassifier(n_estimators=100, class_weight='balanced')"
   ]
  },
  {
   "cell_type": "code",
   "execution_count": 40,
   "metadata": {},
   "outputs": [
    {
     "data": {
      "text/plain": [
       "RandomForestClassifier(bootstrap=True, ccp_alpha=0.0, class_weight='balanced',\n",
       "                       criterion='gini', max_depth=None, max_features='auto',\n",
       "                       max_leaf_nodes=None, max_samples=None,\n",
       "                       min_impurity_decrease=0.0, min_impurity_split=None,\n",
       "                       min_samples_leaf=1, min_samples_split=2,\n",
       "                       min_weight_fraction_leaf=0.0, n_estimators=100,\n",
       "                       n_jobs=None, oob_score=False, random_state=None,\n",
       "                       verbose=0, warm_start=False)"
      ]
     },
     "execution_count": 40,
     "metadata": {},
     "output_type": "execute_result"
    }
   ],
   "source": [
    "forest2.fit(X_important_train, y_train)"
   ]
  },
  {
   "cell_type": "code",
   "execution_count": 41,
   "metadata": {},
   "outputs": [],
   "source": [
    "y_train_pred2 = forest2.predict(X_important_train)\n",
    "y_test_pred2 = forest2.predict(X_important_test)"
   ]
  },
  {
   "cell_type": "code",
   "execution_count": 42,
   "metadata": {},
   "outputs": [
    {
     "data": {
      "text/plain": [
       "<matplotlib.axes._subplots.AxesSubplot at 0x1a3ac4a940>"
      ]
     },
     "execution_count": 42,
     "metadata": {},
     "output_type": "execute_result"
    },
    {
     "data": {
      "image/png": "[encoded data removed]",
      "text/plain": [
       "<Figure size 864x360 with 4 Axes>"
      ]
     },
     "metadata": {},
     "output_type": "display_data"
    }
   ],
   "source": [
    "# Plot the Confusion Matrix\n",
    "f, axes = plt.subplots(1, 2, figsize=(12, 5))\n",
    "sb.heatmap(confusion_matrix(y_train, y_train_pred2), annot = True, fmt=\".0f\", annot_kws={\"size\": 18}, ax = axes[0])\n",
    "sb.heatmap(confusion_matrix(y_test, y_test_pred2), \n",
    "           annot = True, fmt=\".0f\", annot_kws={\"size\": 18}, ax = axes[1])"
   ]
  },
  {
   "cell_type": "code",
   "execution_count": 54,
   "metadata": {},
   "outputs": [
    {
     "name": "stdout",
     "output_type": "stream",
     "text": [
      "Goodness of Fit of Model using all features \t\tTest Dataset\n",
      "Classification Accuracy \t\t\t\t: 0.8110516934046346\n",
      "\n",
      "Goodness of Fit of Model using less features \t \tTest Dataset\n",
      "Classification Accuracy \t\t\t\t: 0.8253119429590018\n",
      "\n"
     ]
    }
   ],
   "source": [
    "print(\"Goodness of Fit of Model using all features \\t\\tTest Dataset\")\n",
    "print(\"Classification Accuracy \\t\\t\\t\\t:\", forest1.score(X_test, y_test))\n",
    "print()\n",
    "\n",
    "# Check the Goodness of Fit (on Test Data)\n",
    "print(\"Goodness of Fit of Model using less features \\t \\tTest Dataset\")\n",
    "print(\"Classification Accuracy \\t\\t\\t\\t:\", forest2.score(X_important_test, y_test))\n",
    "print()"
   ]
  },
  {
   "cell_type": "markdown",
   "metadata": {},
   "source": [
    "Slight increase in test set performance after removing the features from test set"
   ]
  },
  {
   "cell_type": "code",
   "execution_count": 59,
   "metadata": {},
   "outputs": [
    {
     "data": {
      "text/html": [
       "<div>\n",
       "<style scoped>\n",
       "    .dataframe tbody tr th:only-of-type {\n",
       "        vertical-align: middle;\n",
       "    }\n",
       "\n",
       "    .dataframe tbody tr th {\n",
       "        vertical-align: top;\n",
       "    }\n",
       "\n",
       "    .dataframe thead th {\n",
       "        text-align: right;\n",
       "    }\n",
       "</style>\n",
       "<table border=\"1\" class=\"dataframe\">\n",
       "  <thead>\n",
       "    <tr style=\"text-align: right;\">\n",
       "      <th></th>\n",
       "      <th>cancellation_policy</th>\n",
       "      <th>no_of_host_verifications</th>\n",
       "      <th>host_response_time</th>\n",
       "      <th>number_of_reviews</th>\n",
       "      <th>amenities_count</th>\n",
       "      <th>calculated_host_listings_count</th>\n",
       "      <th>reviews_per_month</th>\n",
       "      <th>price</th>\n",
       "      <th>security_deposit</th>\n",
       "      <th>cleaning_fee</th>\n",
       "      <th>...</th>\n",
       "      <th>price_per_person</th>\n",
       "      <th>days_since_calendar_updated</th>\n",
       "      <th>account_duration_days</th>\n",
       "      <th>space_char_count</th>\n",
       "      <th>neighborhood_overview_char_count</th>\n",
       "      <th>notes_char_count</th>\n",
       "      <th>host_about_char_count</th>\n",
       "      <th>space_char_count_grouped</th>\n",
       "      <th>neighborhood_overview_char_count_grouped</th>\n",
       "      <th>notes_char_count_grouped</th>\n",
       "    </tr>\n",
       "  </thead>\n",
       "  <tbody>\n",
       "    <tr>\n",
       "      <th>0</th>\n",
       "      <td>2</td>\n",
       "      <td>4</td>\n",
       "      <td>2</td>\n",
       "      <td>207</td>\n",
       "      <td>10</td>\n",
       "      <td>2</td>\n",
       "      <td>4.07</td>\n",
       "      <td>85.0</td>\n",
       "      <td>0.0</td>\n",
       "      <td>0.0</td>\n",
       "      <td>...</td>\n",
       "      <td>21.250000</td>\n",
       "      <td>28</td>\n",
       "      <td>1607</td>\n",
       "      <td>1000</td>\n",
       "      <td>0</td>\n",
       "      <td>0</td>\n",
       "      <td>372</td>\n",
       "      <td>20</td>\n",
       "      <td>1</td>\n",
       "      <td>1</td>\n",
       "    </tr>\n",
       "    <tr>\n",
       "      <th>1</th>\n",
       "      <td>3</td>\n",
       "      <td>6</td>\n",
       "      <td>1</td>\n",
       "      <td>43</td>\n",
       "      <td>16</td>\n",
       "      <td>6</td>\n",
       "      <td>1.48</td>\n",
       "      <td>150.0</td>\n",
       "      <td>100.0</td>\n",
       "      <td>40.0</td>\n",
       "      <td>...</td>\n",
       "      <td>37.500000</td>\n",
       "      <td>0</td>\n",
       "      <td>1047</td>\n",
       "      <td>1000</td>\n",
       "      <td>167</td>\n",
       "      <td>1000</td>\n",
       "      <td>74</td>\n",
       "      <td>20</td>\n",
       "      <td>4</td>\n",
       "      <td>20</td>\n",
       "    </tr>\n",
       "    <tr>\n",
       "      <th>2</th>\n",
       "      <td>3</td>\n",
       "      <td>5</td>\n",
       "      <td>2</td>\n",
       "      <td>20</td>\n",
       "      <td>21</td>\n",
       "      <td>2</td>\n",
       "      <td>1.15</td>\n",
       "      <td>975.0</td>\n",
       "      <td>1000.0</td>\n",
       "      <td>300.0</td>\n",
       "      <td>...</td>\n",
       "      <td>88.636364</td>\n",
       "      <td>35</td>\n",
       "      <td>571</td>\n",
       "      <td>1000</td>\n",
       "      <td>669</td>\n",
       "      <td>155</td>\n",
       "      <td>343</td>\n",
       "      <td>20</td>\n",
       "      <td>14</td>\n",
       "      <td>4</td>\n",
       "    </tr>\n",
       "    <tr>\n",
       "      <th>3</th>\n",
       "      <td>3</td>\n",
       "      <td>5</td>\n",
       "      <td>1</td>\n",
       "      <td>38</td>\n",
       "      <td>13</td>\n",
       "      <td>1</td>\n",
       "      <td>0.89</td>\n",
       "      <td>450.0</td>\n",
       "      <td>700.0</td>\n",
       "      <td>125.0</td>\n",
       "      <td>...</td>\n",
       "      <td>75.000000</td>\n",
       "      <td>49</td>\n",
       "      <td>1497</td>\n",
       "      <td>488</td>\n",
       "      <td>492</td>\n",
       "      <td>9</td>\n",
       "      <td>354</td>\n",
       "      <td>10</td>\n",
       "      <td>10</td>\n",
       "      <td>1</td>\n",
       "    </tr>\n",
       "    <tr>\n",
       "      <th>4</th>\n",
       "      <td>2</td>\n",
       "      <td>4</td>\n",
       "      <td>1</td>\n",
       "      <td>58</td>\n",
       "      <td>7</td>\n",
       "      <td>1</td>\n",
       "      <td>2.46</td>\n",
       "      <td>80.0</td>\n",
       "      <td>150.0</td>\n",
       "      <td>0.0</td>\n",
       "      <td>...</td>\n",
       "      <td>40.000000</td>\n",
       "      <td>35</td>\n",
       "      <td>1314</td>\n",
       "      <td>1000</td>\n",
       "      <td>95</td>\n",
       "      <td>82</td>\n",
       "      <td>229</td>\n",
       "      <td>20</td>\n",
       "      <td>2</td>\n",
       "      <td>2</td>\n",
       "    </tr>\n",
       "    <tr>\n",
       "      <th>...</th>\n",
       "      <td>...</td>\n",
       "      <td>...</td>\n",
       "      <td>...</td>\n",
       "      <td>...</td>\n",
       "      <td>...</td>\n",
       "      <td>...</td>\n",
       "      <td>...</td>\n",
       "      <td>...</td>\n",
       "      <td>...</td>\n",
       "      <td>...</td>\n",
       "      <td>...</td>\n",
       "      <td>...</td>\n",
       "      <td>...</td>\n",
       "      <td>...</td>\n",
       "      <td>...</td>\n",
       "      <td>...</td>\n",
       "      <td>...</td>\n",
       "      <td>...</td>\n",
       "      <td>...</td>\n",
       "      <td>...</td>\n",
       "      <td>...</td>\n",
       "    </tr>\n",
       "    <tr>\n",
       "      <th>2798</th>\n",
       "      <td>3</td>\n",
       "      <td>5</td>\n",
       "      <td>3</td>\n",
       "      <td>10</td>\n",
       "      <td>9</td>\n",
       "      <td>1</td>\n",
       "      <td>1.18</td>\n",
       "      <td>120.0</td>\n",
       "      <td>0.0</td>\n",
       "      <td>75.0</td>\n",
       "      <td>...</td>\n",
       "      <td>30.000000</td>\n",
       "      <td>153</td>\n",
       "      <td>257</td>\n",
       "      <td>983</td>\n",
       "      <td>340</td>\n",
       "      <td>1000</td>\n",
       "      <td>0</td>\n",
       "      <td>20</td>\n",
       "      <td>7</td>\n",
       "      <td>20</td>\n",
       "    </tr>\n",
       "    <tr>\n",
       "      <th>2799</th>\n",
       "      <td>3</td>\n",
       "      <td>5</td>\n",
       "      <td>1</td>\n",
       "      <td>5</td>\n",
       "      <td>22</td>\n",
       "      <td>1</td>\n",
       "      <td>1.56</td>\n",
       "      <td>154.0</td>\n",
       "      <td>150.0</td>\n",
       "      <td>85.0</td>\n",
       "      <td>...</td>\n",
       "      <td>30.800000</td>\n",
       "      <td>4</td>\n",
       "      <td>1519</td>\n",
       "      <td>232</td>\n",
       "      <td>408</td>\n",
       "      <td>519</td>\n",
       "      <td>335</td>\n",
       "      <td>5</td>\n",
       "      <td>9</td>\n",
       "      <td>11</td>\n",
       "    </tr>\n",
       "    <tr>\n",
       "      <th>2800</th>\n",
       "      <td>2</td>\n",
       "      <td>4</td>\n",
       "      <td>2</td>\n",
       "      <td>2</td>\n",
       "      <td>15</td>\n",
       "      <td>1</td>\n",
       "      <td>0.63</td>\n",
       "      <td>65.0</td>\n",
       "      <td>0.0</td>\n",
       "      <td>20.0</td>\n",
       "      <td>...</td>\n",
       "      <td>21.666667</td>\n",
       "      <td>7</td>\n",
       "      <td>702</td>\n",
       "      <td>730</td>\n",
       "      <td>615</td>\n",
       "      <td>175</td>\n",
       "      <td>0</td>\n",
       "      <td>15</td>\n",
       "      <td>13</td>\n",
       "      <td>4</td>\n",
       "    </tr>\n",
       "    <tr>\n",
       "      <th>2801</th>\n",
       "      <td>2</td>\n",
       "      <td>5</td>\n",
       "      <td>1</td>\n",
       "      <td>73</td>\n",
       "      <td>19</td>\n",
       "      <td>3</td>\n",
       "      <td>4.01</td>\n",
       "      <td>95.0</td>\n",
       "      <td>500.0</td>\n",
       "      <td>0.0</td>\n",
       "      <td>...</td>\n",
       "      <td>23.750000</td>\n",
       "      <td>1</td>\n",
       "      <td>1220</td>\n",
       "      <td>1000</td>\n",
       "      <td>1000</td>\n",
       "      <td>795</td>\n",
       "      <td>714</td>\n",
       "      <td>20</td>\n",
       "      <td>20</td>\n",
       "      <td>16</td>\n",
       "    </tr>\n",
       "    <tr>\n",
       "      <th>2802</th>\n",
       "      <td>3</td>\n",
       "      <td>5</td>\n",
       "      <td>2</td>\n",
       "      <td>1</td>\n",
       "      <td>16</td>\n",
       "      <td>8</td>\n",
       "      <td>0.30</td>\n",
       "      <td>359.0</td>\n",
       "      <td>0.0</td>\n",
       "      <td>230.0</td>\n",
       "      <td>...</td>\n",
       "      <td>59.833333</td>\n",
       "      <td>0</td>\n",
       "      <td>266</td>\n",
       "      <td>1000</td>\n",
       "      <td>414</td>\n",
       "      <td>0</td>\n",
       "      <td>0</td>\n",
       "      <td>20</td>\n",
       "      <td>9</td>\n",
       "      <td>1</td>\n",
       "    </tr>\n",
       "  </tbody>\n",
       "</table>\n",
       "<p>2803 rows × 23 columns</p>\n",
       "</div>"
      ],
      "text/plain": [
       "      cancellation_policy  no_of_host_verifications  host_response_time  \\\n",
       "0                       2                         4                   2   \n",
       "1                       3                         6                   1   \n",
       "2                       3                         5                   2   \n",
       "3                       3                         5                   1   \n",
       "4                       2                         4                   1   \n",
       "...                   ...                       ...                 ...   \n",
       "2798                    3                         5                   3   \n",
       "2799                    3                         5                   1   \n",
       "2800                    2                         4                   2   \n",
       "2801                    2                         5                   1   \n",
       "2802                    3                         5                   2   \n",
       "\n",
       "      number_of_reviews  amenities_count  calculated_host_listings_count  \\\n",
       "0                   207               10                               2   \n",
       "1                    43               16                               6   \n",
       "2                    20               21                               2   \n",
       "3                    38               13                               1   \n",
       "4                    58                7                               1   \n",
       "...                 ...              ...                             ...   \n",
       "2798                 10                9                               1   \n",
       "2799                  5               22                               1   \n",
       "2800                  2               15                               1   \n",
       "2801                 73               19                               3   \n",
       "2802                  1               16                               8   \n",
       "\n",
       "      reviews_per_month  price  security_deposit  cleaning_fee  ...  \\\n",
       "0                  4.07   85.0               0.0           0.0  ...   \n",
       "1                  1.48  150.0             100.0          40.0  ...   \n",
       "2                  1.15  975.0            1000.0         300.0  ...   \n",
       "3                  0.89  450.0             700.0         125.0  ...   \n",
       "4                  2.46   80.0             150.0           0.0  ...   \n",
       "...                 ...    ...               ...           ...  ...   \n",
       "2798               1.18  120.0               0.0          75.0  ...   \n",
       "2799               1.56  154.0             150.0          85.0  ...   \n",
       "2800               0.63   65.0               0.0          20.0  ...   \n",
       "2801               4.01   95.0             500.0           0.0  ...   \n",
       "2802               0.30  359.0               0.0         230.0  ...   \n",
       "\n",
       "      price_per_person  days_since_calendar_updated  account_duration_days  \\\n",
       "0            21.250000                           28                   1607   \n",
       "1            37.500000                            0                   1047   \n",
       "2            88.636364                           35                    571   \n",
       "3            75.000000                           49                   1497   \n",
       "4            40.000000                           35                   1314   \n",
       "...                ...                          ...                    ...   \n",
       "2798         30.000000                          153                    257   \n",
       "2799         30.800000                            4                   1519   \n",
       "2800         21.666667                            7                    702   \n",
       "2801         23.750000                            1                   1220   \n",
       "2802         59.833333                            0                    266   \n",
       "\n",
       "      space_char_count  neighborhood_overview_char_count  notes_char_count  \\\n",
       "0                 1000                                 0                 0   \n",
       "1                 1000                               167              1000   \n",
       "2                 1000                               669               155   \n",
       "3                  488                               492                 9   \n",
       "4                 1000                                95                82   \n",
       "...                ...                               ...               ...   \n",
       "2798               983                               340              1000   \n",
       "2799               232                               408               519   \n",
       "2800               730                               615               175   \n",
       "2801              1000                              1000               795   \n",
       "2802              1000                               414                 0   \n",
       "\n",
       "      host_about_char_count  space_char_count_grouped  \\\n",
       "0                       372                        20   \n",
       "1                        74                        20   \n",
       "2                       343                        20   \n",
       "3                       354                        10   \n",
       "4                       229                        20   \n",
       "...                     ...                       ...   \n",
       "2798                      0                        20   \n",
       "2799                    335                         5   \n",
       "2800                      0                        15   \n",
       "2801                    714                        20   \n",
       "2802                      0                        20   \n",
       "\n",
       "      neighborhood_overview_char_count_grouped  notes_char_count_grouped  \n",
       "0                                            1                         1  \n",
       "1                                            4                        20  \n",
       "2                                           14                         4  \n",
       "3                                           10                         1  \n",
       "4                                            2                         2  \n",
       "...                                        ...                       ...  \n",
       "2798                                         7                        20  \n",
       "2799                                         9                        11  \n",
       "2800                                        13                         4  \n",
       "2801                                        20                        16  \n",
       "2802                                         9                         1  \n",
       "\n",
       "[2803 rows x 23 columns]"
      ]
     },
     "execution_count": 59,
     "metadata": {},
     "output_type": "execute_result"
    }
   ],
   "source": [
    "predictor_df.drop(['host_identity_verified', 'Dog(s) present', 'Pets live on this property', 'description_char_count_grouped'], axis = 1)\n",
    "\n"
   ]
  },
  {
   "cell_type": "markdown",
   "metadata": {},
   "source": [
    "Recursive Feature Elimination"
   ]
  },
  {
   "cell_type": "code",
   "execution_count": 60,
   "metadata": {},
   "outputs": [],
   "source": [
    "from sklearn.feature_selection import RFE"
   ]
  },
  {
   "cell_type": "code",
   "execution_count": 64,
   "metadata": {},
   "outputs": [],
   "source": [
    "rfe = RFE(forest1, 20)"
   ]
  },
  {
   "cell_type": "code",
   "execution_count": 65,
   "metadata": {},
   "outputs": [],
   "source": [
    "fit = rfe.fit(predictor_df, sh_df)"
   ]
  },
  {
   "cell_type": "code",
   "execution_count": 82,
   "metadata": {},
   "outputs": [
    {
     "name": "stdout",
     "output_type": "stream",
     "text": [
      "Selected Columns\n",
      "host_response_time, number_of_reviews, amenities_count, calculated_host_listings_count, reviews_per_month, price, security_deposit, cleaning_fee, availability_365, listing_duration_days, hosting_duration_days, price_per_person, days_since_calendar_updated, account_duration_days, space_char_count, neighborhood_overview_char_count, notes_char_count, host_about_char_count, neighborhood_overview_char_count_grouped, notes_char_count_grouped, \n",
      "\n",
      "Dropped Columns\n",
      "host_identity_verified, Dog(s) present, Pets live on this property, cancellation_policy, no_of_host_verifications, space_char_count_grouped, description_char_count_grouped, \n",
      "\n",
      "Feature Ranking (1 is the highest; denotes selection): [8 7 6 4 2 1 1 1 1 1 1 1 1 1 1 1 1 1 1 1 1 1 1 3 5 1 1]\n"
     ]
    }
   ],
   "source": [
    "count = 0\n",
    "print(\"Selected Columns\")\n",
    "for col in fit.support_:\n",
    "    if col == True:\n",
    "        print(predictor_df.columns[count], end = ', ')\n",
    "    count+=1\n",
    "\n",
    "count = 0\n",
    "print(\"\\n\")\n",
    "print(\"Dropped Columns\")\n",
    "for col in fit.support_:\n",
    "    if col == False:\n",
    "        print(predictor_df.columns[count], end = ', ')\n",
    "    count+=1\n",
    "\n",
    "print(\"\\n\")\n",
    "print(\"Feature Ranking (1 is the highest; denotes selection): %s\" % fit.ranking_)"
   ]
  },
  {
   "cell_type": "markdown",
   "metadata": {},
   "source": [
    "To drop from predictors: host_identity_verified, Dog(s) present, Pets live on this property, description_char_count_grouped, cancellation_policy"
   ]
  },
  {
   "cell_type": "code",
   "execution_count": null,
   "metadata": {},
   "outputs": [],
   "source": []
  }
 ],
 "metadata": {
  "kernelspec": {
   "display_name": "Python 3",
   "language": "python",
   "name": "python3"
  },
  "language_info": {
   "codemirror_mode": {
    "name": "ipython",
    "version": 3
   },
   "file_extension": ".py",
   "mimetype": "text/x-python",
   "name": "python",
   "nbconvert_exporter": "python",
   "pygments_lexer": "ipython3",
   "version": "3.7.3"
  }
 },
 "nbformat": 4,
 "nbformat_minor": 2
}
