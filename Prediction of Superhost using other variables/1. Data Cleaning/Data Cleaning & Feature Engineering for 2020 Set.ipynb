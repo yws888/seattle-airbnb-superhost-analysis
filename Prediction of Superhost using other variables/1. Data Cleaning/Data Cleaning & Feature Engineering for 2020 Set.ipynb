{
 "cells": [
  {
   "cell_type": "code",
   "execution_count": 1,
   "metadata": {},
   "outputs": [],
   "source": [
    "# Basic Libraries\n",
    "import numpy as np\n",
    "import pandas as pd\n",
    "import seaborn as sb\n",
    "import matplotlib.pyplot as plt # we only need pyplot\n",
    "sb.set() # set the default Seaborn style for graphics"
   ]
  },
  {
   "cell_type": "code",
   "execution_count": 2,
   "metadata": {
    "scrolled": false
   },
   "outputs": [
    {
     "data": {
      "text/html": [
       "<div>\n",
       "<style scoped>\n",
       "    .dataframe tbody tr th:only-of-type {\n",
       "        vertical-align: middle;\n",
       "    }\n",
       "\n",
       "    .dataframe tbody tr th {\n",
       "        vertical-align: top;\n",
       "    }\n",
       "\n",
       "    .dataframe thead th {\n",
       "        text-align: right;\n",
       "    }\n",
       "</style>\n",
       "<table border=\"1\" class=\"dataframe\">\n",
       "  <thead>\n",
       "    <tr style=\"text-align: right;\">\n",
       "      <th></th>\n",
       "      <th>id</th>\n",
       "      <th>listing_url</th>\n",
       "      <th>scrape_id</th>\n",
       "      <th>last_scraped</th>\n",
       "      <th>name</th>\n",
       "      <th>summary</th>\n",
       "      <th>space</th>\n",
       "      <th>description</th>\n",
       "      <th>experiences_offered</th>\n",
       "      <th>neighborhood_overview</th>\n",
       "      <th>...</th>\n",
       "      <th>instant_bookable</th>\n",
       "      <th>is_business_travel_ready</th>\n",
       "      <th>cancellation_policy</th>\n",
       "      <th>require_guest_profile_picture</th>\n",
       "      <th>require_guest_phone_verification</th>\n",
       "      <th>calculated_host_listings_count</th>\n",
       "      <th>calculated_host_listings_count_entire_homes</th>\n",
       "      <th>calculated_host_listings_count_private_rooms</th>\n",
       "      <th>calculated_host_listings_count_shared_rooms</th>\n",
       "      <th>reviews_per_month</th>\n",
       "    </tr>\n",
       "  </thead>\n",
       "  <tbody>\n",
       "    <tr>\n",
       "      <th>0</th>\n",
       "      <td>2318</td>\n",
       "      <td>https://www.airbnb.com/rooms/2318</td>\n",
       "      <td>2.020030e+13</td>\n",
       "      <td>17/03/2020</td>\n",
       "      <td>Casa Madrona - Urban Oasis 1 block from the park!</td>\n",
       "      <td>Gorgeous, architect remodeled, Dutch Colonial ...</td>\n",
       "      <td>This beautiful, gracious home has been complet...</td>\n",
       "      <td>Gorgeous, architect remodeled, Dutch Colonial ...</td>\n",
       "      <td>none</td>\n",
       "      <td>Madrona is a hidden gem of a neighborhood. It ...</td>\n",
       "      <td>...</td>\n",
       "      <td>t</td>\n",
       "      <td>f</td>\n",
       "      <td>strict_14_with_grace_period</td>\n",
       "      <td>f</td>\n",
       "      <td>f</td>\n",
       "      <td>2</td>\n",
       "      <td>2</td>\n",
       "      <td>0</td>\n",
       "      <td>0</td>\n",
       "      <td>0.23</td>\n",
       "    </tr>\n",
       "    <tr>\n",
       "      <th>1</th>\n",
       "      <td>6606</td>\n",
       "      <td>https://www.airbnb.com/rooms/6606</td>\n",
       "      <td>2.020030e+13</td>\n",
       "      <td>18/03/2020</td>\n",
       "      <td>Fab, private seattle urban cottage!</td>\n",
       "      <td>This tiny cottage is only 15x10, but it has ev...</td>\n",
       "      <td>Soo centrally located, this is a little house ...</td>\n",
       "      <td>This tiny cottage is only 15x10, but it has ev...</td>\n",
       "      <td>none</td>\n",
       "      <td>A peaceful yet highly accessible neighborhood,...</td>\n",
       "      <td>...</td>\n",
       "      <td>f</td>\n",
       "      <td>f</td>\n",
       "      <td>strict_14_with_grace_period</td>\n",
       "      <td>f</td>\n",
       "      <td>f</td>\n",
       "      <td>3</td>\n",
       "      <td>3</td>\n",
       "      <td>0</td>\n",
       "      <td>0</td>\n",
       "      <td>1.15</td>\n",
       "    </tr>\n",
       "    <tr>\n",
       "      <th>2</th>\n",
       "      <td>9419</td>\n",
       "      <td>https://www.airbnb.com/rooms/9419</td>\n",
       "      <td>2.020030e+13</td>\n",
       "      <td>18/03/2020</td>\n",
       "      <td>Glorious sun room w/ memory foambed</td>\n",
       "      <td>This beautiful double room features a magical ...</td>\n",
       "      <td>Our new Sunny space has a private room from th...</td>\n",
       "      <td>This beautiful double room features a magical ...</td>\n",
       "      <td>none</td>\n",
       "      <td>Lots of restaurants (see our guide book) bars,...</td>\n",
       "      <td>...</td>\n",
       "      <td>f</td>\n",
       "      <td>f</td>\n",
       "      <td>moderate</td>\n",
       "      <td>t</td>\n",
       "      <td>t</td>\n",
       "      <td>8</td>\n",
       "      <td>0</td>\n",
       "      <td>8</td>\n",
       "      <td>0</td>\n",
       "      <td>1.26</td>\n",
       "    </tr>\n",
       "    <tr>\n",
       "      <th>3</th>\n",
       "      <td>9460</td>\n",
       "      <td>https://www.airbnb.com/rooms/9460</td>\n",
       "      <td>2.020030e+13</td>\n",
       "      <td>18/03/2020</td>\n",
       "      <td>Downtown Convention Center B&amp;B -- Free Minibar</td>\n",
       "      <td>Take up a glass of wine and unwind on one of t...</td>\n",
       "      <td>Greetings from Seattle. Thanks for considering...</td>\n",
       "      <td>Take up a glass of wine and unwind on one of t...</td>\n",
       "      <td>none</td>\n",
       "      <td>This is where Downtown meets First Hill and hi...</td>\n",
       "      <td>...</td>\n",
       "      <td>t</td>\n",
       "      <td>f</td>\n",
       "      <td>moderate</td>\n",
       "      <td>f</td>\n",
       "      <td>f</td>\n",
       "      <td>4</td>\n",
       "      <td>3</td>\n",
       "      <td>1</td>\n",
       "      <td>0</td>\n",
       "      <td>3.63</td>\n",
       "    </tr>\n",
       "    <tr>\n",
       "      <th>4</th>\n",
       "      <td>9531</td>\n",
       "      <td>https://www.airbnb.com/rooms/9531</td>\n",
       "      <td>2.020030e+13</td>\n",
       "      <td>18/03/2020</td>\n",
       "      <td>The Adorable Sweet Orange Craftsman</td>\n",
       "      <td>The Sweet Orange is a delightful and spacious ...</td>\n",
       "      <td>The Sweet Orange invites you to stay and play,...</td>\n",
       "      <td>The Sweet Orange is a delightful and spacious ...</td>\n",
       "      <td>none</td>\n",
       "      <td>The neighborhood is awesome!  Just far enough ...</td>\n",
       "      <td>...</td>\n",
       "      <td>f</td>\n",
       "      <td>f</td>\n",
       "      <td>strict_14_with_grace_period</td>\n",
       "      <td>f</td>\n",
       "      <td>t</td>\n",
       "      <td>2</td>\n",
       "      <td>2</td>\n",
       "      <td>0</td>\n",
       "      <td>0</td>\n",
       "      <td>0.40</td>\n",
       "    </tr>\n",
       "  </tbody>\n",
       "</table>\n",
       "<p>5 rows × 106 columns</p>\n",
       "</div>"
      ],
      "text/plain": [
       "     id                        listing_url     scrape_id last_scraped  \\\n",
       "0  2318  https://www.airbnb.com/rooms/2318  2.020030e+13   17/03/2020   \n",
       "1  6606  https://www.airbnb.com/rooms/6606  2.020030e+13   18/03/2020   \n",
       "2  9419  https://www.airbnb.com/rooms/9419  2.020030e+13   18/03/2020   \n",
       "3  9460  https://www.airbnb.com/rooms/9460  2.020030e+13   18/03/2020   \n",
       "4  9531  https://www.airbnb.com/rooms/9531  2.020030e+13   18/03/2020   \n",
       "\n",
       "                                                name  \\\n",
       "0  Casa Madrona - Urban Oasis 1 block from the park!   \n",
       "1                Fab, private seattle urban cottage!   \n",
       "2                Glorious sun room w/ memory foambed   \n",
       "3     Downtown Convention Center B&B -- Free Minibar   \n",
       "4                The Adorable Sweet Orange Craftsman   \n",
       "\n",
       "                                             summary  \\\n",
       "0  Gorgeous, architect remodeled, Dutch Colonial ...   \n",
       "1  This tiny cottage is only 15x10, but it has ev...   \n",
       "2  This beautiful double room features a magical ...   \n",
       "3  Take up a glass of wine and unwind on one of t...   \n",
       "4  The Sweet Orange is a delightful and spacious ...   \n",
       "\n",
       "                                               space  \\\n",
       "0  This beautiful, gracious home has been complet...   \n",
       "1  Soo centrally located, this is a little house ...   \n",
       "2  Our new Sunny space has a private room from th...   \n",
       "3  Greetings from Seattle. Thanks for considering...   \n",
       "4  The Sweet Orange invites you to stay and play,...   \n",
       "\n",
       "                                         description experiences_offered  \\\n",
       "0  Gorgeous, architect remodeled, Dutch Colonial ...                none   \n",
       "1  This tiny cottage is only 15x10, but it has ev...                none   \n",
       "2  This beautiful double room features a magical ...                none   \n",
       "3  Take up a glass of wine and unwind on one of t...                none   \n",
       "4  The Sweet Orange is a delightful and spacious ...                none   \n",
       "\n",
       "                               neighborhood_overview  ... instant_bookable  \\\n",
       "0  Madrona is a hidden gem of a neighborhood. It ...  ...                t   \n",
       "1  A peaceful yet highly accessible neighborhood,...  ...                f   \n",
       "2  Lots of restaurants (see our guide book) bars,...  ...                f   \n",
       "3  This is where Downtown meets First Hill and hi...  ...                t   \n",
       "4  The neighborhood is awesome!  Just far enough ...  ...                f   \n",
       "\n",
       "  is_business_travel_ready          cancellation_policy  \\\n",
       "0                        f  strict_14_with_grace_period   \n",
       "1                        f  strict_14_with_grace_period   \n",
       "2                        f                     moderate   \n",
       "3                        f                     moderate   \n",
       "4                        f  strict_14_with_grace_period   \n",
       "\n",
       "  require_guest_profile_picture require_guest_phone_verification  \\\n",
       "0                             f                                f   \n",
       "1                             f                                f   \n",
       "2                             t                                t   \n",
       "3                             f                                f   \n",
       "4                             f                                t   \n",
       "\n",
       "   calculated_host_listings_count  \\\n",
       "0                               2   \n",
       "1                               3   \n",
       "2                               8   \n",
       "3                               4   \n",
       "4                               2   \n",
       "\n",
       "   calculated_host_listings_count_entire_homes  \\\n",
       "0                                            2   \n",
       "1                                            3   \n",
       "2                                            0   \n",
       "3                                            3   \n",
       "4                                            2   \n",
       "\n",
       "  calculated_host_listings_count_private_rooms  \\\n",
       "0                                            0   \n",
       "1                                            0   \n",
       "2                                            8   \n",
       "3                                            1   \n",
       "4                                            0   \n",
       "\n",
       "   calculated_host_listings_count_shared_rooms  reviews_per_month  \n",
       "0                                            0               0.23  \n",
       "1                                            0               1.15  \n",
       "2                                            0               1.26  \n",
       "3                                            0               3.63  \n",
       "4                                            0               0.40  \n",
       "\n",
       "[5 rows x 106 columns]"
      ]
     },
     "execution_count": 2,
     "metadata": {},
     "output_type": "execute_result"
    }
   ],
   "source": [
    "df = pd.read_csv('listings 2020 full.csv')\n",
    "df.head()"
   ]
  },
  {
   "cell_type": "markdown",
   "metadata": {},
   "source": [
    "Extract the desired variables to be utilised (some may be dropped later; not all will be in the model)"
   ]
  },
  {
   "cell_type": "code",
   "execution_count": 3,
   "metadata": {
    "scrolled": true
   },
   "outputs": [],
   "source": [
    "df=df[['price','amenities','accommodates','security_deposit','cleaning_fee','availability_365',\n",
    "       'calculated_host_listings_count','reviews_per_month','minimum_nights',\n",
    "       'host_is_superhost','host_since','last_review','first_review',\n",
    "       \"host_verifications\", 'last_scraped', 'calendar_updated','number_of_reviews','host_response_time','space',\n",
    "       'neighborhood_overview','notes','host_about']]\n",
    "\n"
   ]
  },
  {
   "cell_type": "code",
   "execution_count": 4,
   "metadata": {},
   "outputs": [
    {
     "data": {
      "text/plain": [
       "(7505, 22)"
      ]
     },
     "execution_count": 4,
     "metadata": {},
     "output_type": "execute_result"
    }
   ],
   "source": [
    "df.shape"
   ]
  },
  {
   "cell_type": "code",
   "execution_count": 5,
   "metadata": {},
   "outputs": [
    {
     "data": {
      "text/plain": [
       "price                              object\n",
       "amenities                          object\n",
       "accommodates                        int64\n",
       "security_deposit                   object\n",
       "cleaning_fee                       object\n",
       "availability_365                    int64\n",
       "calculated_host_listings_count      int64\n",
       "reviews_per_month                 float64\n",
       "minimum_nights                      int64\n",
       "host_is_superhost                  object\n",
       "host_since                         object\n",
       "last_review                        object\n",
       "first_review                       object\n",
       "host_verifications                 object\n",
       "last_scraped                       object\n",
       "calendar_updated                   object\n",
       "number_of_reviews                   int64\n",
       "host_response_time                 object\n",
       "space                              object\n",
       "neighborhood_overview              object\n",
       "notes                              object\n",
       "host_about                         object\n",
       "dtype: object"
      ]
     },
     "execution_count": 5,
     "metadata": {},
     "output_type": "execute_result"
    }
   ],
   "source": [
    "df.dtypes"
   ]
  },
  {
   "cell_type": "code",
   "execution_count": 6,
   "metadata": {
    "scrolled": false
   },
   "outputs": [
    {
     "data": {
      "text/plain": [
       "price                              0.000000\n",
       "amenities                          0.000000\n",
       "accommodates                       0.000000\n",
       "security_deposit                  15.389740\n",
       "cleaning_fee                       6.795470\n",
       "availability_365                   0.000000\n",
       "calculated_host_listings_count     0.000000\n",
       "reviews_per_month                 13.111259\n",
       "minimum_nights                     0.000000\n",
       "host_is_superhost                  0.000000\n",
       "host_since                         0.000000\n",
       "last_review                       13.111259\n",
       "first_review                      13.111259\n",
       "host_verifications                 0.000000\n",
       "last_scraped                       0.000000\n",
       "calendar_updated                   0.000000\n",
       "number_of_reviews                  0.000000\n",
       "host_response_time                20.013324\n",
       "space                             17.175217\n",
       "neighborhood_overview             27.315123\n",
       "notes                             38.441039\n",
       "host_about                        24.956696\n",
       "dtype: float64"
      ]
     },
     "execution_count": 6,
     "metadata": {},
     "output_type": "execute_result"
    }
   ],
   "source": [
    "df.isna().sum()/len(df)*100"
   ]
  },
  {
   "cell_type": "markdown",
   "metadata": {},
   "source": [
    "For security_deposit and cleaning_fee, I'll assume that null value means there is no such fee for that listing. Thus I'll fill with 0. "
   ]
  },
  {
   "cell_type": "code",
   "execution_count": 7,
   "metadata": {},
   "outputs": [],
   "source": [
    "df['security_deposit'] = df['security_deposit'].fillna('$0.0')\n",
    "df['cleaning_fee'] = df['cleaning_fee'].fillna('$0.0')"
   ]
  },
  {
   "cell_type": "code",
   "execution_count": 8,
   "metadata": {
    "scrolled": false
   },
   "outputs": [
    {
     "data": {
      "text/plain": [
       "price                              0.000000\n",
       "amenities                          0.000000\n",
       "accommodates                       0.000000\n",
       "security_deposit                   0.000000\n",
       "cleaning_fee                       0.000000\n",
       "availability_365                   0.000000\n",
       "calculated_host_listings_count     0.000000\n",
       "reviews_per_month                 13.111259\n",
       "minimum_nights                     0.000000\n",
       "host_is_superhost                  0.000000\n",
       "host_since                         0.000000\n",
       "last_review                       13.111259\n",
       "first_review                      13.111259\n",
       "host_verifications                 0.000000\n",
       "last_scraped                       0.000000\n",
       "calendar_updated                   0.000000\n",
       "number_of_reviews                  0.000000\n",
       "host_response_time                20.013324\n",
       "space                             17.175217\n",
       "neighborhood_overview             27.315123\n",
       "notes                             38.441039\n",
       "host_about                        24.956696\n",
       "dtype: float64"
      ]
     },
     "execution_count": 8,
     "metadata": {},
     "output_type": "execute_result"
    }
   ],
   "source": [
    "df.isna().sum()/len(df)*100"
   ]
  },
  {
   "cell_type": "markdown",
   "metadata": {},
   "source": [
    "Before I drop NaN values for the other columns, I'll first obtain character count for each of the textual variables "
   ]
  },
  {
   "cell_type": "code",
   "execution_count": 9,
   "metadata": {
    "scrolled": true
   },
   "outputs": [],
   "source": [
    "df['space'] = df['space'].astype(str)"
   ]
  },
  {
   "cell_type": "code",
   "execution_count": 10,
   "metadata": {},
   "outputs": [],
   "source": [
    "for i in df[\"space\"].index:\n",
    "    if (df.at[i,\"space\"] == 'nan'):\n",
    "        df.at[i,\"space_char_count\"] = 0\n",
    "    else:\n",
    "        df.at[i,\"space_char_count\"] = len(df.at[i,\"space\"])"
   ]
  },
  {
   "cell_type": "code",
   "execution_count": 11,
   "metadata": {},
   "outputs": [
    {
     "data": {
      "text/plain": [
       "0    1000.0\n",
       "1     999.0\n",
       "2    1000.0\n",
       "3    1000.0\n",
       "4    1000.0\n",
       "Name: space_char_count, dtype: float64"
      ]
     },
     "execution_count": 11,
     "metadata": {},
     "output_type": "execute_result"
    }
   ],
   "source": [
    "df['space_char_count'].head()"
   ]
  },
  {
   "cell_type": "code",
   "execution_count": 13,
   "metadata": {},
   "outputs": [],
   "source": [
    "df['neighborhood_overview'] = df['neighborhood_overview'].astype(str)"
   ]
  },
  {
   "cell_type": "code",
   "execution_count": 14,
   "metadata": {},
   "outputs": [],
   "source": [
    "for i in df[\"neighborhood_overview\"].index:\n",
    "    if (df.at[i,\"neighborhood_overview\"] == 'nan'):\n",
    "        df.at[i,\"neighborhood_overview_char_count\"] = 0\n",
    "    else:\n",
    "        df.at[i,\"neighborhood_overview_char_count\"] = len(df.at[i,\"neighborhood_overview\"])"
   ]
  },
  {
   "cell_type": "code",
   "execution_count": 15,
   "metadata": {},
   "outputs": [
    {
     "data": {
      "text/plain": [
       "0    404.0\n",
       "1    180.0\n",
       "2    669.0\n",
       "3    308.0\n",
       "4    248.0\n",
       "Name: neighborhood_overview_char_count, dtype: float64"
      ]
     },
     "execution_count": 15,
     "metadata": {},
     "output_type": "execute_result"
    }
   ],
   "source": [
    "df['neighborhood_overview_char_count'].head()"
   ]
  },
  {
   "cell_type": "code",
   "execution_count": 16,
   "metadata": {},
   "outputs": [],
   "source": [
    "df['notes'] = df['notes'].astype(str)"
   ]
  },
  {
   "cell_type": "code",
   "execution_count": 17,
   "metadata": {},
   "outputs": [],
   "source": [
    "for i in df[\"notes\"].index:\n",
    "    if (df.at[i,\"notes\"] == 'nan'):\n",
    "        df.at[i,\"notes_char_count\"] = 0\n",
    "    else:\n",
    "        df.at[i,\"notes_char_count\"] = len(df.at[i,\"notes\"])"
   ]
  },
  {
   "cell_type": "code",
   "execution_count": 18,
   "metadata": {},
   "outputs": [
    {
     "data": {
      "text/plain": [
       "0     200.0\n",
       "1     382.0\n",
       "2     205.0\n",
       "3    1000.0\n",
       "4     193.0\n",
       "Name: notes_char_count, dtype: float64"
      ]
     },
     "execution_count": 18,
     "metadata": {},
     "output_type": "execute_result"
    }
   ],
   "source": [
    "df['notes_char_count'].head()"
   ]
  },
  {
   "cell_type": "code",
   "execution_count": 19,
   "metadata": {},
   "outputs": [],
   "source": [
    "df['host_about'] = df['host_about'].astype(str)"
   ]
  },
  {
   "cell_type": "code",
   "execution_count": 20,
   "metadata": {},
   "outputs": [],
   "source": [
    "for i in df[\"host_about\"].index:\n",
    "    if (df.at[i,\"host_about\"] == 'nan'):\n",
    "        df.at[i,\"host_about_char_count\"] = 0\n",
    "    else:\n",
    "        df.at[i,\"host_about_char_count\"] = len(df.at[i,\"host_about\"])"
   ]
  },
  {
   "cell_type": "code",
   "execution_count": 21,
   "metadata": {},
   "outputs": [
    {
     "data": {
      "text/plain": [
       "0      59.0\n",
       "1     192.0\n",
       "2    2633.0\n",
       "3     281.0\n",
       "4     805.0\n",
       "Name: host_about_char_count, dtype: float64"
      ]
     },
     "execution_count": 21,
     "metadata": {},
     "output_type": "execute_result"
    }
   ],
   "source": [
    "df['host_about_char_count'].head()"
   ]
  },
  {
   "cell_type": "markdown",
   "metadata": {},
   "source": [
    "Now we can drop the textual columns"
   ]
  },
  {
   "cell_type": "code",
   "execution_count": 22,
   "metadata": {},
   "outputs": [],
   "source": [
    "df = df.drop(['space', 'neighborhood_overview', 'notes', 'host_about'], axis = 1)"
   ]
  },
  {
   "cell_type": "markdown",
   "metadata": {},
   "source": [
    "Next, drop the remaining rows containing NaN values"
   ]
  },
  {
   "cell_type": "code",
   "execution_count": 23,
   "metadata": {
    "scrolled": false
   },
   "outputs": [
    {
     "data": {
      "text/plain": [
       "price                                0.000000\n",
       "amenities                            0.000000\n",
       "accommodates                         0.000000\n",
       "security_deposit                     0.000000\n",
       "cleaning_fee                         0.000000\n",
       "availability_365                     0.000000\n",
       "calculated_host_listings_count       0.000000\n",
       "reviews_per_month                   13.111259\n",
       "minimum_nights                       0.000000\n",
       "host_is_superhost                    0.000000\n",
       "host_since                           0.000000\n",
       "last_review                         13.111259\n",
       "first_review                        13.111259\n",
       "host_verifications                   0.000000\n",
       "last_scraped                         0.000000\n",
       "calendar_updated                     0.000000\n",
       "number_of_reviews                    0.000000\n",
       "host_response_time                  20.013324\n",
       "space_char_count                     0.000000\n",
       "neighborhood_overview_char_count     0.000000\n",
       "notes_char_count                     0.000000\n",
       "host_about_char_count                0.000000\n",
       "dtype: float64"
      ]
     },
     "execution_count": 23,
     "metadata": {},
     "output_type": "execute_result"
    }
   ],
   "source": [
    "df.isna().sum()/len(df)*100"
   ]
  },
  {
   "cell_type": "code",
   "execution_count": 24,
   "metadata": {},
   "outputs": [],
   "source": [
    "df = df.dropna()"
   ]
  },
  {
   "cell_type": "markdown",
   "metadata": {},
   "source": [
    "Final check for Null values"
   ]
  },
  {
   "cell_type": "code",
   "execution_count": 25,
   "metadata": {
    "scrolled": true
   },
   "outputs": [
    {
     "data": {
      "text/plain": [
       "price                               False\n",
       "amenities                           False\n",
       "accommodates                        False\n",
       "security_deposit                    False\n",
       "cleaning_fee                        False\n",
       "availability_365                    False\n",
       "calculated_host_listings_count      False\n",
       "reviews_per_month                   False\n",
       "minimum_nights                      False\n",
       "host_is_superhost                   False\n",
       "host_since                          False\n",
       "last_review                         False\n",
       "first_review                        False\n",
       "host_verifications                  False\n",
       "last_scraped                        False\n",
       "calendar_updated                    False\n",
       "number_of_reviews                   False\n",
       "host_response_time                  False\n",
       "space_char_count                    False\n",
       "neighborhood_overview_char_count    False\n",
       "notes_char_count                    False\n",
       "host_about_char_count               False\n",
       "dtype: bool"
      ]
     },
     "execution_count": 25,
     "metadata": {},
     "output_type": "execute_result"
    }
   ],
   "source": [
    "df.isnull().any()"
   ]
  },
  {
   "cell_type": "markdown",
   "metadata": {},
   "source": [
    "Next up is data processing"
   ]
  },
  {
   "cell_type": "code",
   "execution_count": 26,
   "metadata": {},
   "outputs": [
    {
     "data": {
      "text/plain": [
       "price                                object\n",
       "amenities                            object\n",
       "accommodates                          int64\n",
       "security_deposit                     object\n",
       "cleaning_fee                         object\n",
       "availability_365                      int64\n",
       "calculated_host_listings_count        int64\n",
       "reviews_per_month                   float64\n",
       "minimum_nights                        int64\n",
       "host_is_superhost                    object\n",
       "host_since                           object\n",
       "last_review                          object\n",
       "first_review                         object\n",
       "host_verifications                   object\n",
       "last_scraped                         object\n",
       "calendar_updated                     object\n",
       "number_of_reviews                     int64\n",
       "host_response_time                   object\n",
       "space_char_count                    float64\n",
       "neighborhood_overview_char_count    float64\n",
       "notes_char_count                    float64\n",
       "host_about_char_count               float64\n",
       "dtype: object"
      ]
     },
     "execution_count": 26,
     "metadata": {},
     "output_type": "execute_result"
    }
   ],
   "source": [
    "df.dtypes"
   ]
  },
  {
   "cell_type": "code",
   "execution_count": 28,
   "metadata": {},
   "outputs": [],
   "source": [
    "df['price'] = df['price'].str.replace('$', '').str.replace(',', '').astype(float)"
   ]
  },
  {
   "cell_type": "markdown",
   "metadata": {},
   "source": [
    "Create a new column, 'price_per_person' obtained by 'price' / 'accommodates'"
   ]
  },
  {
   "cell_type": "code",
   "execution_count": 29,
   "metadata": {},
   "outputs": [],
   "source": [
    "df['price_per_person'] = df['price'] / df['accommodates']"
   ]
  },
  {
   "cell_type": "markdown",
   "metadata": {},
   "source": [
    "Drop 'accommodates' as we won't need it anymore"
   ]
  },
  {
   "cell_type": "code",
   "execution_count": 30,
   "metadata": {},
   "outputs": [],
   "source": [
    "df = df.drop(['accommodates'], axis = 1)"
   ]
  },
  {
   "cell_type": "code",
   "execution_count": 31,
   "metadata": {},
   "outputs": [
    {
     "data": {
      "text/plain": [
       "price                               float64\n",
       "amenities                            object\n",
       "security_deposit                     object\n",
       "cleaning_fee                         object\n",
       "availability_365                      int64\n",
       "calculated_host_listings_count        int64\n",
       "reviews_per_month                   float64\n",
       "minimum_nights                        int64\n",
       "host_is_superhost                    object\n",
       "host_since                           object\n",
       "last_review                          object\n",
       "first_review                         object\n",
       "host_verifications                   object\n",
       "last_scraped                         object\n",
       "calendar_updated                     object\n",
       "number_of_reviews                     int64\n",
       "host_response_time                   object\n",
       "space_char_count                    float64\n",
       "neighborhood_overview_char_count    float64\n",
       "notes_char_count                    float64\n",
       "host_about_char_count               float64\n",
       "price_per_person                    float64\n",
       "dtype: object"
      ]
     },
     "execution_count": 31,
     "metadata": {},
     "output_type": "execute_result"
    }
   ],
   "source": [
    "df.dtypes"
   ]
  },
  {
   "cell_type": "code",
   "execution_count": 32,
   "metadata": {},
   "outputs": [],
   "source": [
    "df['security_deposit'] = df['security_deposit'].str.replace('$', '').str.replace(',', '').astype(float)"
   ]
  },
  {
   "cell_type": "code",
   "execution_count": 33,
   "metadata": {},
   "outputs": [],
   "source": [
    "df['cleaning_fee'] = df['cleaning_fee'].str.replace('$', '').str.replace(',', '').astype(float)"
   ]
  },
  {
   "cell_type": "code",
   "execution_count": 34,
   "metadata": {
    "scrolled": true
   },
   "outputs": [
    {
     "data": {
      "text/plain": [
       "price                               float64\n",
       "amenities                            object\n",
       "security_deposit                    float64\n",
       "cleaning_fee                        float64\n",
       "availability_365                      int64\n",
       "calculated_host_listings_count        int64\n",
       "reviews_per_month                   float64\n",
       "minimum_nights                        int64\n",
       "host_is_superhost                    object\n",
       "host_since                           object\n",
       "last_review                          object\n",
       "first_review                         object\n",
       "host_verifications                   object\n",
       "last_scraped                         object\n",
       "calendar_updated                     object\n",
       "number_of_reviews                     int64\n",
       "host_response_time                   object\n",
       "space_char_count                    float64\n",
       "neighborhood_overview_char_count    float64\n",
       "notes_char_count                    float64\n",
       "host_about_char_count               float64\n",
       "price_per_person                    float64\n",
       "dtype: object"
      ]
     },
     "execution_count": 34,
     "metadata": {},
     "output_type": "execute_result"
    }
   ],
   "source": [
    "df.dtypes"
   ]
  },
  {
   "cell_type": "markdown",
   "metadata": {},
   "source": [
    "For the Boolean variables, assign True to 1 and False to 0 for usage in models later"
   ]
  },
  {
   "cell_type": "code",
   "execution_count": 35,
   "metadata": {},
   "outputs": [],
   "source": [
    "dict_2 = {'t' : 1, 'f' : 0}"
   ]
  },
  {
   "cell_type": "code",
   "execution_count": 36,
   "metadata": {},
   "outputs": [],
   "source": [
    "df['host_is_superhost'] = df['host_is_superhost'].map(dict_2)"
   ]
  },
  {
   "cell_type": "code",
   "execution_count": 37,
   "metadata": {},
   "outputs": [
    {
     "data": {
      "text/plain": [
       "price                               float64\n",
       "amenities                            object\n",
       "security_deposit                    float64\n",
       "cleaning_fee                        float64\n",
       "availability_365                      int64\n",
       "calculated_host_listings_count        int64\n",
       "reviews_per_month                   float64\n",
       "minimum_nights                        int64\n",
       "host_is_superhost                     int64\n",
       "host_since                           object\n",
       "last_review                          object\n",
       "first_review                         object\n",
       "host_verifications                   object\n",
       "last_scraped                         object\n",
       "calendar_updated                     object\n",
       "number_of_reviews                     int64\n",
       "host_response_time                   object\n",
       "space_char_count                    float64\n",
       "neighborhood_overview_char_count    float64\n",
       "notes_char_count                    float64\n",
       "host_about_char_count               float64\n",
       "price_per_person                    float64\n",
       "dtype: object"
      ]
     },
     "execution_count": 37,
     "metadata": {},
     "output_type": "execute_result"
    }
   ],
   "source": [
    "df.dtypes"
   ]
  },
  {
   "cell_type": "code",
   "execution_count": 38,
   "metadata": {},
   "outputs": [],
   "source": [
    "import datetime\n",
    "\n",
    "#change the dates into a recognisable date format\n",
    "\n",
    "df['host_since']=pd.to_datetime(df['host_since'])\n",
    "df['first_review']=pd.to_datetime(df['first_review'])\n",
    "df['last_review']=pd.to_datetime(df['last_review'])\n",
    "df['last_scraped']=pd.to_datetime(df['last_scraped'])"
   ]
  },
  {
   "cell_type": "markdown",
   "metadata": {},
   "source": [
    "Create a column 'listing_duration_days' as an indicator of how long the listing has been listed"
   ]
  },
  {
   "cell_type": "code",
   "execution_count": 39,
   "metadata": {
    "scrolled": true
   },
   "outputs": [
    {
     "data": {
      "text/plain": [
       "0   4126 days\n",
       "1   3725 days\n",
       "2   3437 days\n",
       "3   3959 days\n",
       "4   2585 days\n",
       "Name: listing_duration_days, dtype: timedelta64[ns]"
      ]
     },
     "execution_count": 39,
     "metadata": {},
     "output_type": "execute_result"
    }
   ],
   "source": [
    "df['listing_duration_days'] = df['last_review'] - df['first_review']\n",
    "df['listing_duration_days'].head()"
   ]
  },
  {
   "cell_type": "markdown",
   "metadata": {},
   "source": [
    "Convert to int type"
   ]
  },
  {
   "cell_type": "code",
   "execution_count": 40,
   "metadata": {},
   "outputs": [
    {
     "data": {
      "text/plain": [
       "0    4126\n",
       "1    3725\n",
       "2    3437\n",
       "3    3959\n",
       "4    2585\n",
       "Name: listing_duration_days, dtype: int64"
      ]
     },
     "execution_count": 40,
     "metadata": {},
     "output_type": "execute_result"
    }
   ],
   "source": [
    "df[\"listing_duration_days\"] = df[\"listing_duration_days\"].dt.days\n",
    "df['listing_duration_days'].head()"
   ]
  },
  {
   "cell_type": "markdown",
   "metadata": {},
   "source": [
    "Create a column 'hosting_duration_days' as a relative indicator of how long the host has been hosting (experience)"
   ]
  },
  {
   "cell_type": "code",
   "execution_count": 41,
   "metadata": {},
   "outputs": [],
   "source": [
    "df = df.assign(hosting_duration_days = df['last_review'] - df['host_since'])"
   ]
  },
  {
   "cell_type": "code",
   "execution_count": 42,
   "metadata": {},
   "outputs": [
    {
     "data": {
      "text/plain": [
       "0   4146 days\n",
       "1   3807 days\n",
       "2   3762 days\n",
       "3   3921 days\n",
       "4   3791 days\n",
       "Name: hosting_duration_days, dtype: timedelta64[ns]"
      ]
     },
     "execution_count": 42,
     "metadata": {},
     "output_type": "execute_result"
    }
   ],
   "source": [
    "df['hosting_duration_days'].head()"
   ]
  },
  {
   "cell_type": "code",
   "execution_count": 43,
   "metadata": {
    "scrolled": true
   },
   "outputs": [
    {
     "data": {
      "text/plain": [
       "0    4146\n",
       "1    3807\n",
       "2    3762\n",
       "3    3921\n",
       "4    3791\n",
       "Name: hosting_duration_days, dtype: int64"
      ]
     },
     "execution_count": 43,
     "metadata": {},
     "output_type": "execute_result"
    }
   ],
   "source": [
    "df[\"hosting_duration_days\"] = df[\"hosting_duration_days\"].dt.days\n",
    "df['hosting_duration_days'].head()"
   ]
  },
  {
   "cell_type": "code",
   "execution_count": 44,
   "metadata": {},
   "outputs": [
    {
     "data": {
      "text/plain": [
       "price                                      float64\n",
       "amenities                                   object\n",
       "security_deposit                           float64\n",
       "cleaning_fee                               float64\n",
       "availability_365                             int64\n",
       "calculated_host_listings_count               int64\n",
       "reviews_per_month                          float64\n",
       "minimum_nights                               int64\n",
       "host_is_superhost                            int64\n",
       "host_since                          datetime64[ns]\n",
       "last_review                         datetime64[ns]\n",
       "first_review                        datetime64[ns]\n",
       "host_verifications                          object\n",
       "last_scraped                        datetime64[ns]\n",
       "calendar_updated                            object\n",
       "number_of_reviews                            int64\n",
       "host_response_time                          object\n",
       "space_char_count                           float64\n",
       "neighborhood_overview_char_count           float64\n",
       "notes_char_count                           float64\n",
       "host_about_char_count                      float64\n",
       "price_per_person                           float64\n",
       "listing_duration_days                        int64\n",
       "hosting_duration_days                        int64\n",
       "dtype: object"
      ]
     },
     "execution_count": 44,
     "metadata": {},
     "output_type": "execute_result"
    }
   ],
   "source": [
    "df.dtypes"
   ]
  },
  {
   "cell_type": "markdown",
   "metadata": {},
   "source": [
    "For 'calendar_updated', it is to be converted into a useable form"
   ]
  },
  {
   "cell_type": "code",
   "execution_count": 45,
   "metadata": {},
   "outputs": [],
   "source": [
    "df[\"calendar_updated\"] = df[\"calendar_updated\"].str.replace('a ', '1 ')"
   ]
  },
  {
   "cell_type": "code",
   "execution_count": 46,
   "metadata": {},
   "outputs": [],
   "source": [
    "from dateutil.relativedelta import relativedelta"
   ]
  },
  {
   "cell_type": "code",
   "execution_count": 47,
   "metadata": {},
   "outputs": [],
   "source": [
    "def get_past_date(str_days_ago):\n",
    "    day_scraped = df.at[0,\"last_scraped\"]\n",
    "    splitted = str_days_ago.split()\n",
    "    if len(splitted) == 1 and splitted[0].lower() == 'today':\n",
    "        return str(day_scraped.isoformat())\n",
    "    elif len(splitted) == 1 and splitted[0].lower() == 'yesterday':\n",
    "        date = day_scraped - relativedelta(days=1)\n",
    "        return str(date.isoformat())\n",
    "    elif len(splitted) == 1 and splitted[0].lower() == 'never':\n",
    "        return \"never\"\n",
    "    elif splitted[1].lower() in ['day', 'days', 'd']:\n",
    "        date = day_scraped - relativedelta(days=int(splitted[0]))\n",
    "        return str(date.isoformat())\n",
    "    elif splitted[1].lower() in ['wk', 'wks', 'week', 'weeks', 'w']:\n",
    "        date = day_scraped - relativedelta(weeks=int(splitted[0]))\n",
    "        return str(date.isoformat())\n",
    "    elif splitted[1].lower() in ['mon', 'mons', 'month', 'months', 'm']:\n",
    "        date = day_scraped - relativedelta(months=int(splitted[0]))\n",
    "        return str(date.isoformat())\n",
    "    elif splitted[1].lower() in ['yrs', 'yr', 'years', 'year', 'y']:\n",
    "        date = day_scraped - relativedelta(years=int(splitted[0]))\n",
    "        return str(date.isoformat())\n",
    "    else:\n",
    "        return \"Wrong Argument format\""
   ]
  },
  {
   "cell_type": "code",
   "execution_count": 48,
   "metadata": {},
   "outputs": [],
   "source": [
    "for i in df[\"calendar_updated\"].index:\n",
    "    df.at[i,\"calendar_updated_temp\"] = get_past_date(df.at[i,\"calendar_updated\"])"
   ]
  },
  {
   "cell_type": "markdown",
   "metadata": {},
   "source": [
    "Drop rows containing 'never'"
   ]
  },
  {
   "cell_type": "code",
   "execution_count": 49,
   "metadata": {},
   "outputs": [],
   "source": [
    "df = df[df.calendar_updated_temp != 'never']"
   ]
  },
  {
   "cell_type": "code",
   "execution_count": 50,
   "metadata": {
    "scrolled": true
   },
   "outputs": [
    {
     "data": {
      "text/plain": [
       "2020-03-17T00:00:00    1179\n",
       "2020-03-10T00:00:00     553\n",
       "2020-03-03T00:00:00     506\n",
       "2020-02-25T00:00:00     351\n",
       "2020-01-17T00:00:00     315\n",
       "2020-02-18T00:00:00     259\n",
       "2020-03-16T00:00:00     238\n",
       "2019-12-17T00:00:00     197\n",
       "2020-03-12T00:00:00     179\n",
       "2020-03-14T00:00:00     176\n",
       "2020-03-13T00:00:00     171\n",
       "2020-02-11T00:00:00     157\n",
       "2020-02-04T00:00:00     156\n",
       "2019-09-17T00:00:00     138\n",
       "2019-11-17T00:00:00     130\n",
       "2019-10-17T00:00:00     106\n",
       "2020-01-28T00:00:00     105\n",
       "2020-03-15T00:00:00      93\n",
       "2020-03-11T00:00:00      64\n",
       "2019-08-17T00:00:00      43\n",
       "2019-07-17T00:00:00      32\n",
       "2019-05-17T00:00:00      29\n",
       "2019-06-17T00:00:00      24\n",
       "2019-04-17T00:00:00      15\n",
       "2019-01-17T00:00:00       6\n",
       "2019-02-17T00:00:00       6\n",
       "2019-03-17T00:00:00       5\n",
       "2018-10-17T00:00:00       5\n",
       "2018-07-17T00:00:00       5\n",
       "2018-09-17T00:00:00       4\n",
       "2018-12-17T00:00:00       3\n",
       "2018-08-17T00:00:00       3\n",
       "2018-11-17T00:00:00       2\n",
       "2018-03-17T00:00:00       2\n",
       "2017-05-17T00:00:00       1\n",
       "2017-04-17T00:00:00       1\n",
       "2017-12-17T00:00:00       1\n",
       "2018-04-17T00:00:00       1\n",
       "2018-06-17T00:00:00       1\n",
       "2016-07-17T00:00:00       1\n",
       "2015-12-17T00:00:00       1\n",
       "Name: calendar_updated_temp, dtype: int64"
      ]
     },
     "execution_count": 50,
     "metadata": {},
     "output_type": "execute_result"
    }
   ],
   "source": [
    "df[\"calendar_updated_temp\"].value_counts()"
   ]
  },
  {
   "cell_type": "code",
   "execution_count": 51,
   "metadata": {},
   "outputs": [],
   "source": [
    "df[\"calendar_updated_temp\"]=pd.to_datetime(df[\"calendar_updated_temp\"])"
   ]
  },
  {
   "cell_type": "markdown",
   "metadata": {},
   "source": [
    "Create a new column, 'days_since_calendar_updated', to replace 'calendar_updated', where the data is in a more usable form"
   ]
  },
  {
   "cell_type": "code",
   "execution_count": 52,
   "metadata": {},
   "outputs": [],
   "source": [
    "df['days_since_calendar_updated'] = df['last_scraped'] - df[\"calendar_updated_temp\"]"
   ]
  },
  {
   "cell_type": "code",
   "execution_count": 53,
   "metadata": {},
   "outputs": [],
   "source": [
    "df['days_since_calendar_updated'] = df['days_since_calendar_updated'].dt.days"
   ]
  },
  {
   "cell_type": "code",
   "execution_count": 54,
   "metadata": {},
   "outputs": [
    {
     "data": {
      "text/plain": [
       "0    21\n",
       "1    92\n",
       "2    15\n",
       "3     5\n",
       "4     2\n",
       "Name: days_since_calendar_updated, dtype: int64"
      ]
     },
     "execution_count": 54,
     "metadata": {},
     "output_type": "execute_result"
    }
   ],
   "source": [
    "df['days_since_calendar_updated'].head()"
   ]
  },
  {
   "cell_type": "code",
   "execution_count": 55,
   "metadata": {
    "scrolled": true
   },
   "outputs": [
    {
     "data": {
      "text/plain": [
       "price                                      float64\n",
       "amenities                                   object\n",
       "security_deposit                           float64\n",
       "cleaning_fee                               float64\n",
       "availability_365                             int64\n",
       "calculated_host_listings_count               int64\n",
       "reviews_per_month                          float64\n",
       "minimum_nights                               int64\n",
       "host_is_superhost                            int64\n",
       "host_since                          datetime64[ns]\n",
       "last_review                         datetime64[ns]\n",
       "first_review                        datetime64[ns]\n",
       "host_verifications                          object\n",
       "last_scraped                        datetime64[ns]\n",
       "calendar_updated                            object\n",
       "number_of_reviews                            int64\n",
       "host_response_time                          object\n",
       "space_char_count                           float64\n",
       "neighborhood_overview_char_count           float64\n",
       "notes_char_count                           float64\n",
       "host_about_char_count                      float64\n",
       "price_per_person                           float64\n",
       "listing_duration_days                        int64\n",
       "hosting_duration_days                        int64\n",
       "calendar_updated_temp               datetime64[ns]\n",
       "days_since_calendar_updated                  int64\n",
       "dtype: object"
      ]
     },
     "execution_count": 55,
     "metadata": {},
     "output_type": "execute_result"
    }
   ],
   "source": [
    "df.dtypes"
   ]
  },
  {
   "cell_type": "markdown",
   "metadata": {},
   "source": [
    "Drop the unneeded columns:"
   ]
  },
  {
   "cell_type": "code",
   "execution_count": 56,
   "metadata": {},
   "outputs": [],
   "source": [
    "df = df.drop(['calendar_updated_temp','calendar_updated'], axis = 1)"
   ]
  },
  {
   "cell_type": "code",
   "execution_count": 57,
   "metadata": {
    "scrolled": true
   },
   "outputs": [
    {
     "data": {
      "text/plain": [
       "price                                      float64\n",
       "amenities                                   object\n",
       "security_deposit                           float64\n",
       "cleaning_fee                               float64\n",
       "availability_365                             int64\n",
       "calculated_host_listings_count               int64\n",
       "reviews_per_month                          float64\n",
       "minimum_nights                               int64\n",
       "host_is_superhost                            int64\n",
       "host_since                          datetime64[ns]\n",
       "last_review                         datetime64[ns]\n",
       "first_review                        datetime64[ns]\n",
       "host_verifications                          object\n",
       "last_scraped                        datetime64[ns]\n",
       "number_of_reviews                            int64\n",
       "host_response_time                          object\n",
       "space_char_count                           float64\n",
       "neighborhood_overview_char_count           float64\n",
       "notes_char_count                           float64\n",
       "host_about_char_count                      float64\n",
       "price_per_person                           float64\n",
       "listing_duration_days                        int64\n",
       "hosting_duration_days                        int64\n",
       "days_since_calendar_updated                  int64\n",
       "dtype: object"
      ]
     },
     "execution_count": 57,
     "metadata": {},
     "output_type": "execute_result"
    }
   ],
   "source": [
    "df.dtypes"
   ]
  },
  {
   "cell_type": "markdown",
   "metadata": {},
   "source": [
    "Since 'host_verifications' is a list of sorts, count the number in each 'list'"
   ]
  },
  {
   "cell_type": "code",
   "execution_count": 58,
   "metadata": {},
   "outputs": [],
   "source": [
    "for i in df[\"host_verifications\"].index:\n",
    "    if len(df.at[i,\"host_verifications\"]) > 2 :\n",
    "        count = 1\n",
    "        for char in df.at[i,\"host_verifications\"]:\n",
    "            if char == ',':\n",
    "                count+=1\n",
    "    else:\n",
    "        count = 0\n",
    "    df.at[i,\"no_of_host_verifications\"] = count\n",
    "    count = 0"
   ]
  },
  {
   "cell_type": "code",
   "execution_count": 59,
   "metadata": {},
   "outputs": [
    {
     "data": {
      "text/plain": [
       "6.0     935\n",
       "5.0     802\n",
       "4.0     748\n",
       "7.0     636\n",
       "8.0     545\n",
       "3.0     470\n",
       "9.0     362\n",
       "2.0     326\n",
       "10.0    274\n",
       "11.0    111\n",
       "1.0      32\n",
       "12.0     23\n",
       "Name: no_of_host_verifications, dtype: int64"
      ]
     },
     "execution_count": 59,
     "metadata": {},
     "output_type": "execute_result"
    }
   ],
   "source": [
    "df[\"no_of_host_verifications\"].value_counts()"
   ]
  },
  {
   "cell_type": "code",
   "execution_count": 60,
   "metadata": {},
   "outputs": [],
   "source": [
    "df = df.drop(['host_verifications'], axis = 1)"
   ]
  },
  {
   "cell_type": "markdown",
   "metadata": {},
   "source": [
    "Next, check for and remove any anomalies because **at least 100 days have to elapse before superhost can be awarded**, so I will be excluding those with new accounts as they may not be an accurate indicator about whether it meets the superhost requirement."
   ]
  },
  {
   "cell_type": "code",
   "execution_count": 61,
   "metadata": {},
   "outputs": [],
   "source": [
    "df['account_duration_days'] = df['last_scraped'] - df['host_since']"
   ]
  },
  {
   "cell_type": "code",
   "execution_count": 62,
   "metadata": {},
   "outputs": [],
   "source": [
    "df[\"account_duration_days\"] = df[\"account_duration_days\"].dt.days"
   ]
  },
  {
   "cell_type": "code",
   "execution_count": 63,
   "metadata": {},
   "outputs": [],
   "source": [
    "df['evaluation_period_elapsed'] = df['account_duration_days'].apply(lambda x: True if x >= 100 else False)"
   ]
  },
  {
   "cell_type": "code",
   "execution_count": 64,
   "metadata": {},
   "outputs": [
    {
     "data": {
      "text/html": [
       "<div>\n",
       "<style scoped>\n",
       "    .dataframe tbody tr th:only-of-type {\n",
       "        vertical-align: middle;\n",
       "    }\n",
       "\n",
       "    .dataframe tbody tr th {\n",
       "        vertical-align: top;\n",
       "    }\n",
       "\n",
       "    .dataframe thead th {\n",
       "        text-align: right;\n",
       "    }\n",
       "</style>\n",
       "<table border=\"1\" class=\"dataframe\">\n",
       "  <thead>\n",
       "    <tr style=\"text-align: right;\">\n",
       "      <th>host_is_superhost</th>\n",
       "      <th>0</th>\n",
       "      <th>1</th>\n",
       "    </tr>\n",
       "    <tr>\n",
       "      <th>evaluation_period_elapsed</th>\n",
       "      <th></th>\n",
       "      <th></th>\n",
       "    </tr>\n",
       "  </thead>\n",
       "  <tbody>\n",
       "    <tr>\n",
       "      <th>False</th>\n",
       "      <td>15</td>\n",
       "      <td>0</td>\n",
       "    </tr>\n",
       "    <tr>\n",
       "      <th>True</th>\n",
       "      <td>2360</td>\n",
       "      <td>2889</td>\n",
       "    </tr>\n",
       "  </tbody>\n",
       "</table>\n",
       "</div>"
      ],
      "text/plain": [
       "host_is_superhost             0     1\n",
       "evaluation_period_elapsed            \n",
       "False                        15     0\n",
       "True                       2360  2889"
      ]
     },
     "execution_count": 64,
     "metadata": {},
     "output_type": "execute_result"
    }
   ],
   "source": [
    "pd.crosstab(df[\"evaluation_period_elapsed\"],df[\"host_is_superhost\"])"
   ]
  },
  {
   "cell_type": "markdown",
   "metadata": {},
   "source": [
    "As one can see, none of the superhosts have AirBnB account age of less than or equal to 100 days old. I will drop the rows with account age less than or equal to 100 days old:"
   ]
  },
  {
   "cell_type": "code",
   "execution_count": 65,
   "metadata": {},
   "outputs": [],
   "source": [
    "df = df[df.account_duration_days >= 100]"
   ]
  },
  {
   "cell_type": "code",
   "execution_count": 66,
   "metadata": {},
   "outputs": [
    {
     "data": {
      "text/html": [
       "<div>\n",
       "<style scoped>\n",
       "    .dataframe tbody tr th:only-of-type {\n",
       "        vertical-align: middle;\n",
       "    }\n",
       "\n",
       "    .dataframe tbody tr th {\n",
       "        vertical-align: top;\n",
       "    }\n",
       "\n",
       "    .dataframe thead th {\n",
       "        text-align: right;\n",
       "    }\n",
       "</style>\n",
       "<table border=\"1\" class=\"dataframe\">\n",
       "  <thead>\n",
       "    <tr style=\"text-align: right;\">\n",
       "      <th>host_is_superhost</th>\n",
       "      <th>0</th>\n",
       "      <th>1</th>\n",
       "    </tr>\n",
       "    <tr>\n",
       "      <th>evaluation_period_elapsed</th>\n",
       "      <th></th>\n",
       "      <th></th>\n",
       "    </tr>\n",
       "  </thead>\n",
       "  <tbody>\n",
       "    <tr>\n",
       "      <th>True</th>\n",
       "      <td>2360</td>\n",
       "      <td>2889</td>\n",
       "    </tr>\n",
       "  </tbody>\n",
       "</table>\n",
       "</div>"
      ],
      "text/plain": [
       "host_is_superhost             0     1\n",
       "evaluation_period_elapsed            \n",
       "True                       2360  2889"
      ]
     },
     "execution_count": 66,
     "metadata": {},
     "output_type": "execute_result"
    }
   ],
   "source": [
    "pd.crosstab(df[\"evaluation_period_elapsed\"],df[\"host_is_superhost\"])"
   ]
  },
  {
   "cell_type": "code",
   "execution_count": 67,
   "metadata": {},
   "outputs": [
    {
     "data": {
      "text/plain": [
       "price                                      float64\n",
       "amenities                                   object\n",
       "security_deposit                           float64\n",
       "cleaning_fee                               float64\n",
       "availability_365                             int64\n",
       "calculated_host_listings_count               int64\n",
       "reviews_per_month                          float64\n",
       "minimum_nights                               int64\n",
       "host_is_superhost                            int64\n",
       "host_since                          datetime64[ns]\n",
       "last_review                         datetime64[ns]\n",
       "first_review                        datetime64[ns]\n",
       "last_scraped                        datetime64[ns]\n",
       "number_of_reviews                            int64\n",
       "host_response_time                          object\n",
       "space_char_count                           float64\n",
       "neighborhood_overview_char_count           float64\n",
       "notes_char_count                           float64\n",
       "host_about_char_count                      float64\n",
       "price_per_person                           float64\n",
       "listing_duration_days                        int64\n",
       "hosting_duration_days                        int64\n",
       "days_since_calendar_updated                  int64\n",
       "no_of_host_verifications                   float64\n",
       "account_duration_days                        int64\n",
       "evaluation_period_elapsed                     bool\n",
       "dtype: object"
      ]
     },
     "execution_count": 67,
     "metadata": {},
     "output_type": "execute_result"
    }
   ],
   "source": [
    "df.dtypes"
   ]
  },
  {
   "cell_type": "code",
   "execution_count": 68,
   "metadata": {},
   "outputs": [],
   "source": [
    "df = df.drop(['evaluation_period_elapsed','last_scraped','first_review','last_review','host_since'], axis = 1)"
   ]
  },
  {
   "cell_type": "code",
   "execution_count": 69,
   "metadata": {
    "scrolled": true
   },
   "outputs": [
    {
     "data": {
      "text/plain": [
       "price                               float64\n",
       "amenities                            object\n",
       "security_deposit                    float64\n",
       "cleaning_fee                        float64\n",
       "availability_365                      int64\n",
       "calculated_host_listings_count        int64\n",
       "reviews_per_month                   float64\n",
       "minimum_nights                        int64\n",
       "host_is_superhost                     int64\n",
       "number_of_reviews                     int64\n",
       "host_response_time                   object\n",
       "space_char_count                    float64\n",
       "neighborhood_overview_char_count    float64\n",
       "notes_char_count                    float64\n",
       "host_about_char_count               float64\n",
       "price_per_person                    float64\n",
       "listing_duration_days                 int64\n",
       "hosting_duration_days                 int64\n",
       "days_since_calendar_updated           int64\n",
       "no_of_host_verifications            float64\n",
       "account_duration_days                 int64\n",
       "dtype: object"
      ]
     },
     "execution_count": 69,
     "metadata": {},
     "output_type": "execute_result"
    }
   ],
   "source": [
    "df.dtypes"
   ]
  },
  {
   "cell_type": "code",
   "execution_count": 70,
   "metadata": {
    "scrolled": true
   },
   "outputs": [
    {
     "data": {
      "text/html": [
       "<div>\n",
       "<style scoped>\n",
       "    .dataframe tbody tr th:only-of-type {\n",
       "        vertical-align: middle;\n",
       "    }\n",
       "\n",
       "    .dataframe tbody tr th {\n",
       "        vertical-align: top;\n",
       "    }\n",
       "\n",
       "    .dataframe thead th {\n",
       "        text-align: right;\n",
       "    }\n",
       "</style>\n",
       "<table border=\"1\" class=\"dataframe\">\n",
       "  <thead>\n",
       "    <tr style=\"text-align: right;\">\n",
       "      <th>host_is_superhost</th>\n",
       "      <th>0</th>\n",
       "      <th>1</th>\n",
       "    </tr>\n",
       "    <tr>\n",
       "      <th>host_response_time</th>\n",
       "      <th></th>\n",
       "      <th></th>\n",
       "    </tr>\n",
       "  </thead>\n",
       "  <tbody>\n",
       "    <tr>\n",
       "      <th>a few days or more</th>\n",
       "      <td>0.017797</td>\n",
       "      <td>0.001731</td>\n",
       "    </tr>\n",
       "    <tr>\n",
       "      <th>within a day</th>\n",
       "      <td>0.064407</td>\n",
       "      <td>0.033922</td>\n",
       "    </tr>\n",
       "    <tr>\n",
       "      <th>within a few hours</th>\n",
       "      <td>0.124153</td>\n",
       "      <td>0.106265</td>\n",
       "    </tr>\n",
       "    <tr>\n",
       "      <th>within an hour</th>\n",
       "      <td>0.793644</td>\n",
       "      <td>0.858082</td>\n",
       "    </tr>\n",
       "  </tbody>\n",
       "</table>\n",
       "</div>"
      ],
      "text/plain": [
       "host_is_superhost          0         1\n",
       "host_response_time                    \n",
       "a few days or more  0.017797  0.001731\n",
       "within a day        0.064407  0.033922\n",
       "within a few hours  0.124153  0.106265\n",
       "within an hour      0.793644  0.858082"
      ]
     },
     "execution_count": 70,
     "metadata": {},
     "output_type": "execute_result"
    }
   ],
   "source": [
    "pd.crosstab(df['host_response_time'],df[\"host_is_superhost\"], normalize='columns')"
   ]
  },
  {
   "cell_type": "markdown",
   "metadata": {},
   "source": [
    "For 'host_response_time', similarly it will be converted correspondingly, with 1 for 'within an hour', the fastest, 2 for 'within a few hours', 3 for 'within a day' and 4 for 'a few days or more', the slowest."
   ]
  },
  {
   "cell_type": "code",
   "execution_count": 71,
   "metadata": {},
   "outputs": [],
   "source": [
    "dict_3 = {'within an hour' : 1, 'within a few hours': 2, 'within a day': 3, 'a few days or more': 4}"
   ]
  },
  {
   "cell_type": "code",
   "execution_count": 72,
   "metadata": {},
   "outputs": [],
   "source": [
    "df['host_response_time'] = df['host_response_time'].map(dict_3)"
   ]
  },
  {
   "cell_type": "code",
   "execution_count": 73,
   "metadata": {
    "scrolled": true
   },
   "outputs": [
    {
     "data": {
      "text/plain": [
       "price                               float64\n",
       "amenities                            object\n",
       "security_deposit                    float64\n",
       "cleaning_fee                        float64\n",
       "availability_365                      int64\n",
       "calculated_host_listings_count        int64\n",
       "reviews_per_month                   float64\n",
       "minimum_nights                        int64\n",
       "host_is_superhost                     int64\n",
       "number_of_reviews                     int64\n",
       "host_response_time                    int64\n",
       "space_char_count                    float64\n",
       "neighborhood_overview_char_count    float64\n",
       "notes_char_count                    float64\n",
       "host_about_char_count               float64\n",
       "price_per_person                    float64\n",
       "listing_duration_days                 int64\n",
       "hosting_duration_days                 int64\n",
       "days_since_calendar_updated           int64\n",
       "no_of_host_verifications            float64\n",
       "account_duration_days                 int64\n",
       "dtype: object"
      ]
     },
     "execution_count": 73,
     "metadata": {},
     "output_type": "execute_result"
    }
   ],
   "source": [
    "df.dtypes"
   ]
  },
  {
   "cell_type": "markdown",
   "metadata": {},
   "source": [
    "Lastly, for amenities first a count of amenities for each listing is obtained:"
   ]
  },
  {
   "cell_type": "code",
   "execution_count": 74,
   "metadata": {},
   "outputs": [],
   "source": [
    "for i in df[\"amenities\"].index:\n",
    "    if len(df.at[i,\"amenities\"]) > 2 :\n",
    "        count = 1\n",
    "        for char in df.at[i,\"amenities\"]:\n",
    "            if char == ',':\n",
    "                count+=1\n",
    "    else:\n",
    "        count = 0\n",
    "    df.at[i,\"amenities_count\"] = count\n",
    "    count = 0"
   ]
  },
  {
   "cell_type": "markdown",
   "metadata": {},
   "source": [
    "Also, some pre-calculations show that certain specific amenities may be more common in superhosts than non-superhosts. These shall be extracted as 1/0 (T/F) in a new column"
   ]
  },
  {
   "cell_type": "code",
   "execution_count": 101,
   "metadata": {},
   "outputs": [],
   "source": [
    "df[\"Dog(s)\"] = df[\"amenities\"].map(lambda x: 1 if \"Dog(s)\" in x else 0)"
   ]
  },
  {
   "cell_type": "code",
   "execution_count": 102,
   "metadata": {},
   "outputs": [
    {
     "data": {
      "text/html": [
       "<div>\n",
       "<style scoped>\n",
       "    .dataframe tbody tr th:only-of-type {\n",
       "        vertical-align: middle;\n",
       "    }\n",
       "\n",
       "    .dataframe tbody tr th {\n",
       "        vertical-align: top;\n",
       "    }\n",
       "\n",
       "    .dataframe thead th {\n",
       "        text-align: right;\n",
       "    }\n",
       "</style>\n",
       "<table border=\"1\" class=\"dataframe\">\n",
       "  <thead>\n",
       "    <tr style=\"text-align: right;\">\n",
       "      <th>host_is_superhost</th>\n",
       "      <th>0</th>\n",
       "      <th>1</th>\n",
       "    </tr>\n",
       "    <tr>\n",
       "      <th>Dog(s)</th>\n",
       "      <th></th>\n",
       "      <th></th>\n",
       "    </tr>\n",
       "  </thead>\n",
       "  <tbody>\n",
       "    <tr>\n",
       "      <th>0</th>\n",
       "      <td>0.885797</td>\n",
       "      <td>0.808067</td>\n",
       "    </tr>\n",
       "    <tr>\n",
       "      <th>1</th>\n",
       "      <td>0.114203</td>\n",
       "      <td>0.191933</td>\n",
       "    </tr>\n",
       "  </tbody>\n",
       "</table>\n",
       "</div>"
      ],
      "text/plain": [
       "host_is_superhost         0         1\n",
       "Dog(s)                               \n",
       "0                  0.885797  0.808067\n",
       "1                  0.114203  0.191933"
      ]
     },
     "execution_count": 102,
     "metadata": {},
     "output_type": "execute_result"
    }
   ],
   "source": [
    "pd.crosstab(df[\"Dog(s)\"],df[\"host_is_superhost\"], normalize = 'columns')"
   ]
  },
  {
   "cell_type": "code",
   "execution_count": 103,
   "metadata": {},
   "outputs": [],
   "source": [
    "df[\"Pets live on this property\"] = df[\"amenities\"].map(lambda x: 1 if \"Pets live on this property\" in x else 0)"
   ]
  },
  {
   "cell_type": "code",
   "execution_count": 104,
   "metadata": {},
   "outputs": [
    {
     "data": {
      "text/html": [
       "<div>\n",
       "<style scoped>\n",
       "    .dataframe tbody tr th:only-of-type {\n",
       "        vertical-align: middle;\n",
       "    }\n",
       "\n",
       "    .dataframe tbody tr th {\n",
       "        vertical-align: top;\n",
       "    }\n",
       "\n",
       "    .dataframe thead th {\n",
       "        text-align: right;\n",
       "    }\n",
       "</style>\n",
       "<table border=\"1\" class=\"dataframe\">\n",
       "  <thead>\n",
       "    <tr style=\"text-align: right;\">\n",
       "      <th>host_is_superhost</th>\n",
       "      <th>0</th>\n",
       "      <th>1</th>\n",
       "    </tr>\n",
       "    <tr>\n",
       "      <th>Pets live on this property</th>\n",
       "      <th></th>\n",
       "      <th></th>\n",
       "    </tr>\n",
       "  </thead>\n",
       "  <tbody>\n",
       "    <tr>\n",
       "      <th>0</th>\n",
       "      <td>0.793186</td>\n",
       "      <td>0.682893</td>\n",
       "    </tr>\n",
       "    <tr>\n",
       "      <th>1</th>\n",
       "      <td>0.206814</td>\n",
       "      <td>0.317107</td>\n",
       "    </tr>\n",
       "  </tbody>\n",
       "</table>\n",
       "</div>"
      ],
      "text/plain": [
       "host_is_superhost                  0         1\n",
       "Pets live on this property                    \n",
       "0                           0.793186  0.682893\n",
       "1                           0.206814  0.317107"
      ]
     },
     "execution_count": 104,
     "metadata": {},
     "output_type": "execute_result"
    }
   ],
   "source": [
    "pd.crosstab(df[\"Pets live on this property\"],df[\"host_is_superhost\"], normalize = 'columns')"
   ]
  },
  {
   "cell_type": "code",
   "execution_count": 76,
   "metadata": {
    "scrolled": true
   },
   "outputs": [
    {
     "data": {
      "text/plain": [
       "price                               float64\n",
       "security_deposit                    float64\n",
       "cleaning_fee                        float64\n",
       "availability_365                      int64\n",
       "calculated_host_listings_count        int64\n",
       "reviews_per_month                   float64\n",
       "minimum_nights                        int64\n",
       "host_is_superhost                     int64\n",
       "number_of_reviews                     int64\n",
       "host_response_time                    int64\n",
       "space_char_count                    float64\n",
       "neighborhood_overview_char_count    float64\n",
       "notes_char_count                    float64\n",
       "host_about_char_count               float64\n",
       "price_per_person                    float64\n",
       "listing_duration_days                 int64\n",
       "hosting_duration_days                 int64\n",
       "days_since_calendar_updated           int64\n",
       "no_of_host_verifications            float64\n",
       "account_duration_days                 int64\n",
       "amenities_count                     float64\n",
       "dtype: object"
      ]
     },
     "execution_count": 76,
     "metadata": {},
     "output_type": "execute_result"
    }
   ],
   "source": [
    "df.dtypes"
   ]
  },
  {
   "cell_type": "code",
   "execution_count": 75,
   "metadata": {},
   "outputs": [],
   "source": [
    "df = df.drop([\"amenities\"], axis = 1)"
   ]
  },
  {
   "cell_type": "markdown",
   "metadata": {},
   "source": [
    "Finally, convert some floats to int"
   ]
  },
  {
   "cell_type": "code",
   "execution_count": 77,
   "metadata": {},
   "outputs": [],
   "source": [
    "df[\"amenities_count\"] = df[\"amenities_count\"].astype(int)\n",
    "\n",
    "df[\"space_char_count\"] = df[\"space_char_count\"].astype(int)\n",
    "\n",
    "df[\"neighborhood_overview_char_count\"] = df[\"neighborhood_overview_char_count\"].astype(int)\n",
    "\n",
    "df[\"notes_char_count\"] = df[\"notes_char_count\"].astype(int)\n",
    "\n",
    "df[\"host_about_char_count\"] = df[\"host_about_char_count\"].astype(int)"
   ]
  },
  {
   "cell_type": "code",
   "execution_count": 78,
   "metadata": {},
   "outputs": [],
   "source": [
    "df[\"no_of_host_verifications\"] = df[\"no_of_host_verifications\"].astype(int)"
   ]
  },
  {
   "cell_type": "code",
   "execution_count": 112,
   "metadata": {},
   "outputs": [],
   "source": [
    "df = df.rename(columns={\"Dog(s)\": \"Dog(s) present\"})"
   ]
  },
  {
   "cell_type": "code",
   "execution_count": 79,
   "metadata": {
    "scrolled": true
   },
   "outputs": [
    {
     "data": {
      "text/plain": [
       "price                               float64\n",
       "security_deposit                    float64\n",
       "cleaning_fee                        float64\n",
       "availability_365                      int64\n",
       "calculated_host_listings_count        int64\n",
       "reviews_per_month                   float64\n",
       "minimum_nights                        int64\n",
       "host_is_superhost                     int64\n",
       "number_of_reviews                     int64\n",
       "host_response_time                    int64\n",
       "space_char_count                      int64\n",
       "neighborhood_overview_char_count      int64\n",
       "notes_char_count                      int64\n",
       "host_about_char_count                 int64\n",
       "price_per_person                    float64\n",
       "listing_duration_days                 int64\n",
       "hosting_duration_days                 int64\n",
       "days_since_calendar_updated           int64\n",
       "no_of_host_verifications              int64\n",
       "account_duration_days                 int64\n",
       "amenities_count                       int64\n",
       "dtype: object"
      ]
     },
     "execution_count": 79,
     "metadata": {},
     "output_type": "execute_result"
    }
   ],
   "source": [
    "df.dtypes"
   ]
  },
  {
   "cell_type": "markdown",
   "metadata": {},
   "source": [
    "cancellation_policy, host_identity_verified, instant_bookable, host_is_superhost, host_response_time, Dog(s) present, Pets live on this property are categorical variables but are encoded with labels."
   ]
  },
  {
   "cell_type": "markdown",
   "metadata": {},
   "source": [
    "Additional steps to further discretize the char_counts for the textual variables and sort them into bins."
   ]
  },
  {
   "cell_type": "code",
   "execution_count": 5,
   "metadata": {
    "scrolled": true
   },
   "outputs": [
    {
     "data": {
      "text/plain": [
       "price                                float64\n",
       "security_deposit                     float64\n",
       "cleaning_fee                         float64\n",
       "availability_365                       int64\n",
       "calculated_host_listings_count         int64\n",
       "reviews_per_month                    float64\n",
       "minimum_nights                         int64\n",
       "cancellation_policy                    int64\n",
       "host_identity_verified                 int64\n",
       "instant_bookable                       int64\n",
       "host_is_superhost                      int64\n",
       "number_of_reviews                      int64\n",
       "host_response_time                     int64\n",
       "space_char_count                       int64\n",
       "description_char_count                 int64\n",
       "neighborhood_overview_char_count       int64\n",
       "notes_char_count                       int64\n",
       "host_about_char_count                  int64\n",
       "price_per_person                     float64\n",
       "listing_duration_days                  int64\n",
       "hosting_duration_days                  int64\n",
       "days_since_calendar_updated            int64\n",
       "no_of_host_verifications               int64\n",
       "account_duration_days                  int64\n",
       "amenities_count                        int64\n",
       "Dog(s) present                         int64\n",
       "Pets live on this property             int64\n",
       "host_about_char_count_grouped       category\n",
       "dtype: object"
      ]
     },
     "execution_count": 5,
     "metadata": {},
     "output_type": "execute_result"
    }
   ],
   "source": [
    "df.dtypes"
   ]
  },
  {
   "cell_type": "code",
   "execution_count": 80,
   "metadata": {},
   "outputs": [],
   "source": [
    "df['space_char_count_grouped'] = pd.cut(df['space_char_count'], range(0, 1001, 50), precision=0, include_lowest = True)\n"
   ]
  },
  {
   "cell_type": "code",
   "execution_count": 82,
   "metadata": {},
   "outputs": [],
   "source": [
    "df['neighborhood_overview_char_count_grouped'] = pd.cut(df['neighborhood_overview_char_count'], range(0, 1001, 50), precision=0, include_lowest = True)\n"
   ]
  },
  {
   "cell_type": "code",
   "execution_count": 83,
   "metadata": {},
   "outputs": [],
   "source": [
    "df['notes_char_count_grouped'] = pd.cut(df['notes_char_count'], range(0, 1001, 50), precision=0, include_lowest = True)\n"
   ]
  },
  {
   "cell_type": "code",
   "execution_count": 84,
   "metadata": {},
   "outputs": [
    {
     "data": {
      "text/plain": [
       "price                                        float64\n",
       "security_deposit                             float64\n",
       "cleaning_fee                                 float64\n",
       "availability_365                               int64\n",
       "calculated_host_listings_count                 int64\n",
       "reviews_per_month                            float64\n",
       "minimum_nights                                 int64\n",
       "host_is_superhost                              int64\n",
       "number_of_reviews                              int64\n",
       "host_response_time                             int64\n",
       "space_char_count                               int64\n",
       "neighborhood_overview_char_count               int64\n",
       "notes_char_count                               int64\n",
       "host_about_char_count                          int64\n",
       "price_per_person                             float64\n",
       "listing_duration_days                          int64\n",
       "hosting_duration_days                          int64\n",
       "days_since_calendar_updated                    int64\n",
       "no_of_host_verifications                       int64\n",
       "account_duration_days                          int64\n",
       "amenities_count                                int64\n",
       "space_char_count_grouped                    category\n",
       "neighborhood_overview_char_count_grouped    category\n",
       "notes_char_count_grouped                    category\n",
       "dtype: object"
      ]
     },
     "execution_count": 84,
     "metadata": {},
     "output_type": "execute_result"
    }
   ],
   "source": [
    "df.dtypes"
   ]
  },
  {
   "cell_type": "markdown",
   "metadata": {},
   "source": [
    "Encode each bin with a numerical label; **1 = 0-50, 2 = 51-100, 3 = 101-150, ..., 20 = 951-1000**"
   ]
  },
  {
   "cell_type": "code",
   "execution_count": 85,
   "metadata": {},
   "outputs": [],
   "source": [
    "df['space_char_count_grouped'] = pd.cut(df['space_char_count'], range(0, 1001, 50), precision=0, include_lowest = True, labels=[1, 2, 3, 4,\n",
    "                                                                                              5,6,7,8,9,10,11,12,\n",
    "                                                                                              13,14,15,16,17,18,\n",
    "                                                                                              19,20])\n"
   ]
  },
  {
   "cell_type": "code",
   "execution_count": 86,
   "metadata": {},
   "outputs": [],
   "source": [
    "df['notes_char_count_grouped'] = pd.cut(df['notes_char_count'], range(0, 1001, 50), precision=0, include_lowest = True, labels=[1, 2, 3, 4,\n",
    "                                                                                              5,6,7,8,9,10,11,12,\n",
    "                                                                                              13,14,15,16,17,18,\n",
    "                                                                                              19,20])\n"
   ]
  },
  {
   "cell_type": "code",
   "execution_count": 87,
   "metadata": {},
   "outputs": [],
   "source": [
    "df['neighborhood_overview_char_count_grouped'] = pd.cut(df['neighborhood_overview_char_count'], range(0, 1001, 50), precision=0, include_lowest = True, labels=[1, 2, 3, 4,\n",
    "                                                                                              5,6,7,8,9,10,11,12,\n",
    "                                                                                              13,14,15,16,17,18,\n",
    "                                                                                              19,20])"
   ]
  },
  {
   "cell_type": "code",
   "execution_count": 88,
   "metadata": {},
   "outputs": [],
   "source": [
    "df.to_csv ('~/Downloads/cleaned_df_2020.csv', index = False, header=True)"
   ]
  },
  {
   "cell_type": "code",
   "execution_count": 96,
   "metadata": {},
   "outputs": [
    {
     "data": {
      "text/html": [
       "<div>\n",
       "<style scoped>\n",
       "    .dataframe tbody tr th:only-of-type {\n",
       "        vertical-align: middle;\n",
       "    }\n",
       "\n",
       "    .dataframe tbody tr th {\n",
       "        vertical-align: top;\n",
       "    }\n",
       "\n",
       "    .dataframe thead th {\n",
       "        text-align: right;\n",
       "    }\n",
       "</style>\n",
       "<table border=\"1\" class=\"dataframe\">\n",
       "  <thead>\n",
       "    <tr style=\"text-align: right;\">\n",
       "      <th></th>\n",
       "      <th>price</th>\n",
       "      <th>security_deposit</th>\n",
       "      <th>cleaning_fee</th>\n",
       "      <th>availability_365</th>\n",
       "      <th>calculated_host_listings_count</th>\n",
       "      <th>reviews_per_month</th>\n",
       "      <th>host_is_superhost</th>\n",
       "      <th>number_of_reviews</th>\n",
       "      <th>host_response_time</th>\n",
       "      <th>space_char_count</th>\n",
       "      <th>...</th>\n",
       "      <th>price_per_person</th>\n",
       "      <th>listing_duration_days</th>\n",
       "      <th>hosting_duration_days</th>\n",
       "      <th>days_since_calendar_updated</th>\n",
       "      <th>no_of_host_verifications</th>\n",
       "      <th>account_duration_days</th>\n",
       "      <th>amenities_count</th>\n",
       "      <th>space_char_count_grouped</th>\n",
       "      <th>neighborhood_overview_char_count_grouped</th>\n",
       "      <th>notes_char_count_grouped</th>\n",
       "    </tr>\n",
       "  </thead>\n",
       "  <tbody>\n",
       "    <tr>\n",
       "      <th>0</th>\n",
       "      <td>296.0</td>\n",
       "      <td>500.0</td>\n",
       "      <td>250.0</td>\n",
       "      <td>86</td>\n",
       "      <td>2</td>\n",
       "      <td>0.23</td>\n",
       "      <td>1</td>\n",
       "      <td>32</td>\n",
       "      <td>1</td>\n",
       "      <td>1000</td>\n",
       "      <td>...</td>\n",
       "      <td>32.888889</td>\n",
       "      <td>4126</td>\n",
       "      <td>4146</td>\n",
       "      <td>21</td>\n",
       "      <td>8</td>\n",
       "      <td>4221</td>\n",
       "      <td>39</td>\n",
       "      <td>20</td>\n",
       "      <td>9</td>\n",
       "      <td>4</td>\n",
       "    </tr>\n",
       "    <tr>\n",
       "      <th>1</th>\n",
       "      <td>90.0</td>\n",
       "      <td>200.0</td>\n",
       "      <td>40.0</td>\n",
       "      <td>45</td>\n",
       "      <td>3</td>\n",
       "      <td>1.15</td>\n",
       "      <td>0</td>\n",
       "      <td>150</td>\n",
       "      <td>3</td>\n",
       "      <td>999</td>\n",
       "      <td>...</td>\n",
       "      <td>45.000000</td>\n",
       "      <td>3725</td>\n",
       "      <td>3807</td>\n",
       "      <td>92</td>\n",
       "      <td>5</td>\n",
       "      <td>3979</td>\n",
       "      <td>21</td>\n",
       "      <td>20</td>\n",
       "      <td>4</td>\n",
       "      <td>8</td>\n",
       "    </tr>\n",
       "    <tr>\n",
       "      <th>2</th>\n",
       "      <td>62.0</td>\n",
       "      <td>100.0</td>\n",
       "      <td>20.0</td>\n",
       "      <td>365</td>\n",
       "      <td>8</td>\n",
       "      <td>1.26</td>\n",
       "      <td>1</td>\n",
       "      <td>148</td>\n",
       "      <td>2</td>\n",
       "      <td>1000</td>\n",
       "      <td>...</td>\n",
       "      <td>31.000000</td>\n",
       "      <td>3437</td>\n",
       "      <td>3762</td>\n",
       "      <td>15</td>\n",
       "      <td>6</td>\n",
       "      <td>3844</td>\n",
       "      <td>34</td>\n",
       "      <td>20</td>\n",
       "      <td>14</td>\n",
       "      <td>5</td>\n",
       "    </tr>\n",
       "    <tr>\n",
       "      <th>3</th>\n",
       "      <td>79.0</td>\n",
       "      <td>0.0</td>\n",
       "      <td>45.0</td>\n",
       "      <td>10</td>\n",
       "      <td>4</td>\n",
       "      <td>3.63</td>\n",
       "      <td>1</td>\n",
       "      <td>466</td>\n",
       "      <td>1</td>\n",
       "      <td>1000</td>\n",
       "      <td>...</td>\n",
       "      <td>39.500000</td>\n",
       "      <td>3959</td>\n",
       "      <td>3921</td>\n",
       "      <td>5</td>\n",
       "      <td>7</td>\n",
       "      <td>3814</td>\n",
       "      <td>48</td>\n",
       "      <td>20</td>\n",
       "      <td>7</td>\n",
       "      <td>20</td>\n",
       "    </tr>\n",
       "    <tr>\n",
       "      <th>4</th>\n",
       "      <td>165.0</td>\n",
       "      <td>300.0</td>\n",
       "      <td>120.0</td>\n",
       "      <td>276</td>\n",
       "      <td>2</td>\n",
       "      <td>0.40</td>\n",
       "      <td>1</td>\n",
       "      <td>40</td>\n",
       "      <td>2</td>\n",
       "      <td>1000</td>\n",
       "      <td>...</td>\n",
       "      <td>41.250000</td>\n",
       "      <td>2585</td>\n",
       "      <td>3791</td>\n",
       "      <td>2</td>\n",
       "      <td>4</td>\n",
       "      <td>3870</td>\n",
       "      <td>50</td>\n",
       "      <td>20</td>\n",
       "      <td>5</td>\n",
       "      <td>4</td>\n",
       "    </tr>\n",
       "  </tbody>\n",
       "</table>\n",
       "<p>5 rows × 23 columns</p>\n",
       "</div>"
      ],
      "text/plain": [
       "   price  security_deposit  cleaning_fee  availability_365  \\\n",
       "0  296.0             500.0         250.0                86   \n",
       "1   90.0             200.0          40.0                45   \n",
       "2   62.0             100.0          20.0               365   \n",
       "3   79.0               0.0          45.0                10   \n",
       "4  165.0             300.0         120.0               276   \n",
       "\n",
       "   calculated_host_listings_count  reviews_per_month  host_is_superhost  \\\n",
       "0                               2               0.23                  1   \n",
       "1                               3               1.15                  0   \n",
       "2                               8               1.26                  1   \n",
       "3                               4               3.63                  1   \n",
       "4                               2               0.40                  1   \n",
       "\n",
       "   number_of_reviews  host_response_time  space_char_count  ...  \\\n",
       "0                 32                   1              1000  ...   \n",
       "1                150                   3               999  ...   \n",
       "2                148                   2              1000  ...   \n",
       "3                466                   1              1000  ...   \n",
       "4                 40                   2              1000  ...   \n",
       "\n",
       "   price_per_person  listing_duration_days  hosting_duration_days  \\\n",
       "0         32.888889                   4126                   4146   \n",
       "1         45.000000                   3725                   3807   \n",
       "2         31.000000                   3437                   3762   \n",
       "3         39.500000                   3959                   3921   \n",
       "4         41.250000                   2585                   3791   \n",
       "\n",
       "   days_since_calendar_updated  no_of_host_verifications  \\\n",
       "0                           21                         8   \n",
       "1                           92                         5   \n",
       "2                           15                         6   \n",
       "3                            5                         7   \n",
       "4                            2                         4   \n",
       "\n",
       "   account_duration_days  amenities_count  space_char_count_grouped  \\\n",
       "0                   4221               39                        20   \n",
       "1                   3979               21                        20   \n",
       "2                   3844               34                        20   \n",
       "3                   3814               48                        20   \n",
       "4                   3870               50                        20   \n",
       "\n",
       "   neighborhood_overview_char_count_grouped  notes_char_count_grouped  \n",
       "0                                         9                         4  \n",
       "1                                         4                         8  \n",
       "2                                        14                         5  \n",
       "3                                         7                        20  \n",
       "4                                         5                         4  \n",
       "\n",
       "[5 rows x 23 columns]"
      ]
     },
     "execution_count": 96,
     "metadata": {},
     "output_type": "execute_result"
    }
   ],
   "source": [
    "df.head()"
   ]
  },
  {
   "cell_type": "code",
   "execution_count": 95,
   "metadata": {},
   "outputs": [],
   "source": [
    "df = df.drop([\"minimum_nights\"], axis = 1)"
   ]
  },
  {
   "cell_type": "code",
   "execution_count": 98,
   "metadata": {},
   "outputs": [],
   "source": [
    "df=df[['host_is_superhost', \n",
    "         'no_of_host_verifications', 'host_response_time',\n",
    "        'number_of_reviews', 'amenities_count', 'calculated_host_listings_count', 'reviews_per_month',\n",
    "'price',\n",
    " 'security_deposit',\n",
    " 'cleaning_fee',\n",
    " 'availability_365',\n",
    "'listing_duration_days',\n",
    " 'hosting_duration_days',\n",
    "'price_per_person',\n",
    "'days_since_calendar_updated',\n",
    " 'account_duration_days',\n",
    " 'space_char_count',\n",
    " 'neighborhood_overview_char_count',\n",
    " 'notes_char_count',\n",
    " 'host_about_char_count',\n",
    " 'space_char_count_grouped',\n",
    " 'neighborhood_overview_char_count_grouped',\n",
    " 'notes_char_count_grouped']]"
   ]
  },
  {
   "cell_type": "code",
   "execution_count": 99,
   "metadata": {},
   "outputs": [],
   "source": [
    "df.to_csv ('~/Downloads/cleaned_df_2020.csv', index = False, header=True)"
   ]
  }
 ],
 "metadata": {
  "kernelspec": {
   "display_name": "Python 3",
   "language": "python",
   "name": "python3"
  },
  "language_info": {
   "codemirror_mode": {
    "name": "ipython",
    "version": 3
   },
   "file_extension": ".py",
   "mimetype": "text/x-python",
   "name": "python",
   "nbconvert_exporter": "python",
   "pygments_lexer": "ipython3",
   "version": "3.7.3"
  }
 },
 "nbformat": 4,
 "nbformat_minor": 2
}
