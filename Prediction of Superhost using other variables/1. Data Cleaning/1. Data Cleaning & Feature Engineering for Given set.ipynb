{
 "cells": [
  {
   "cell_type": "code",
   "execution_count": 1,
   "metadata": {},
   "outputs": [],
   "source": [
    "# Basic Libraries\n",
    "import numpy as np\n",
    "import pandas as pd\n",
    "import seaborn as sb\n",
    "import matplotlib.pyplot as plt # we only need pyplot\n",
    "sb.set() # set the default Seaborn style for graphics"
   ]
  },
  {
   "cell_type": "code",
   "execution_count": 2,
   "metadata": {
    "scrolled": false
   },
   "outputs": [
    {
     "data": {
      "text/html": [
       "<div>\n",
       "<style scoped>\n",
       "    .dataframe tbody tr th:only-of-type {\n",
       "        vertical-align: middle;\n",
       "    }\n",
       "\n",
       "    .dataframe tbody tr th {\n",
       "        vertical-align: top;\n",
       "    }\n",
       "\n",
       "    .dataframe thead th {\n",
       "        text-align: right;\n",
       "    }\n",
       "</style>\n",
       "<table border=\"1\" class=\"dataframe\">\n",
       "  <thead>\n",
       "    <tr style=\"text-align: right;\">\n",
       "      <th></th>\n",
       "      <th>id</th>\n",
       "      <th>listing_url</th>\n",
       "      <th>scrape_id</th>\n",
       "      <th>last_scraped</th>\n",
       "      <th>name</th>\n",
       "      <th>summary</th>\n",
       "      <th>space</th>\n",
       "      <th>description</th>\n",
       "      <th>experiences_offered</th>\n",
       "      <th>neighborhood_overview</th>\n",
       "      <th>...</th>\n",
       "      <th>review_scores_value</th>\n",
       "      <th>requires_license</th>\n",
       "      <th>license</th>\n",
       "      <th>jurisdiction_names</th>\n",
       "      <th>instant_bookable</th>\n",
       "      <th>cancellation_policy</th>\n",
       "      <th>require_guest_profile_picture</th>\n",
       "      <th>require_guest_phone_verification</th>\n",
       "      <th>calculated_host_listings_count</th>\n",
       "      <th>reviews_per_month</th>\n",
       "    </tr>\n",
       "  </thead>\n",
       "  <tbody>\n",
       "    <tr>\n",
       "      <th>0</th>\n",
       "      <td>241032</td>\n",
       "      <td>https://www.airbnb.com/rooms/241032</td>\n",
       "      <td>20160104002432</td>\n",
       "      <td>2016-01-04</td>\n",
       "      <td>Stylish Queen Anne Apartment</td>\n",
       "      <td>NaN</td>\n",
       "      <td>Make your self at home in this charming one-be...</td>\n",
       "      <td>Make your self at home in this charming one-be...</td>\n",
       "      <td>none</td>\n",
       "      <td>NaN</td>\n",
       "      <td>...</td>\n",
       "      <td>10.0</td>\n",
       "      <td>f</td>\n",
       "      <td>NaN</td>\n",
       "      <td>WASHINGTON</td>\n",
       "      <td>f</td>\n",
       "      <td>moderate</td>\n",
       "      <td>f</td>\n",
       "      <td>f</td>\n",
       "      <td>2</td>\n",
       "      <td>4.07</td>\n",
       "    </tr>\n",
       "    <tr>\n",
       "      <th>1</th>\n",
       "      <td>953595</td>\n",
       "      <td>https://www.airbnb.com/rooms/953595</td>\n",
       "      <td>20160104002432</td>\n",
       "      <td>2016-01-04</td>\n",
       "      <td>Bright &amp; Airy Queen Anne Apartment</td>\n",
       "      <td>Chemically sensitive? We've removed the irrita...</td>\n",
       "      <td>Beautiful, hypoallergenic apartment in an extr...</td>\n",
       "      <td>Chemically sensitive? We've removed the irrita...</td>\n",
       "      <td>none</td>\n",
       "      <td>Queen Anne is a wonderful, truly functional vi...</td>\n",
       "      <td>...</td>\n",
       "      <td>10.0</td>\n",
       "      <td>f</td>\n",
       "      <td>NaN</td>\n",
       "      <td>WASHINGTON</td>\n",
       "      <td>f</td>\n",
       "      <td>strict</td>\n",
       "      <td>t</td>\n",
       "      <td>t</td>\n",
       "      <td>6</td>\n",
       "      <td>1.48</td>\n",
       "    </tr>\n",
       "    <tr>\n",
       "      <th>2</th>\n",
       "      <td>3308979</td>\n",
       "      <td>https://www.airbnb.com/rooms/3308979</td>\n",
       "      <td>20160104002432</td>\n",
       "      <td>2016-01-04</td>\n",
       "      <td>New Modern House-Amazing water view</td>\n",
       "      <td>New modern house built in 2013.  Spectacular s...</td>\n",
       "      <td>Our house is modern, light and fresh with a wa...</td>\n",
       "      <td>New modern house built in 2013.  Spectacular s...</td>\n",
       "      <td>none</td>\n",
       "      <td>Upper Queen Anne is a charming neighborhood fu...</td>\n",
       "      <td>...</td>\n",
       "      <td>10.0</td>\n",
       "      <td>f</td>\n",
       "      <td>NaN</td>\n",
       "      <td>WASHINGTON</td>\n",
       "      <td>f</td>\n",
       "      <td>strict</td>\n",
       "      <td>f</td>\n",
       "      <td>f</td>\n",
       "      <td>2</td>\n",
       "      <td>1.15</td>\n",
       "    </tr>\n",
       "    <tr>\n",
       "      <th>3</th>\n",
       "      <td>7421966</td>\n",
       "      <td>https://www.airbnb.com/rooms/7421966</td>\n",
       "      <td>20160104002432</td>\n",
       "      <td>2016-01-04</td>\n",
       "      <td>Queen Anne Chateau</td>\n",
       "      <td>A charming apartment that sits atop Queen Anne...</td>\n",
       "      <td>NaN</td>\n",
       "      <td>A charming apartment that sits atop Queen Anne...</td>\n",
       "      <td>none</td>\n",
       "      <td>NaN</td>\n",
       "      <td>...</td>\n",
       "      <td>NaN</td>\n",
       "      <td>f</td>\n",
       "      <td>NaN</td>\n",
       "      <td>WASHINGTON</td>\n",
       "      <td>f</td>\n",
       "      <td>flexible</td>\n",
       "      <td>f</td>\n",
       "      <td>f</td>\n",
       "      <td>1</td>\n",
       "      <td>NaN</td>\n",
       "    </tr>\n",
       "    <tr>\n",
       "      <th>4</th>\n",
       "      <td>278830</td>\n",
       "      <td>https://www.airbnb.com/rooms/278830</td>\n",
       "      <td>20160104002432</td>\n",
       "      <td>2016-01-04</td>\n",
       "      <td>Charming craftsman 3 bdm house</td>\n",
       "      <td>Cozy family craftman house in beautiful neighb...</td>\n",
       "      <td>Cozy family craftman house in beautiful neighb...</td>\n",
       "      <td>Cozy family craftman house in beautiful neighb...</td>\n",
       "      <td>none</td>\n",
       "      <td>We are in the beautiful neighborhood of Queen ...</td>\n",
       "      <td>...</td>\n",
       "      <td>9.0</td>\n",
       "      <td>f</td>\n",
       "      <td>NaN</td>\n",
       "      <td>WASHINGTON</td>\n",
       "      <td>f</td>\n",
       "      <td>strict</td>\n",
       "      <td>f</td>\n",
       "      <td>f</td>\n",
       "      <td>1</td>\n",
       "      <td>0.89</td>\n",
       "    </tr>\n",
       "  </tbody>\n",
       "</table>\n",
       "<p>5 rows × 92 columns</p>\n",
       "</div>"
      ],
      "text/plain": [
       "        id                           listing_url       scrape_id last_scraped  \\\n",
       "0   241032   https://www.airbnb.com/rooms/241032  20160104002432   2016-01-04   \n",
       "1   953595   https://www.airbnb.com/rooms/953595  20160104002432   2016-01-04   \n",
       "2  3308979  https://www.airbnb.com/rooms/3308979  20160104002432   2016-01-04   \n",
       "3  7421966  https://www.airbnb.com/rooms/7421966  20160104002432   2016-01-04   \n",
       "4   278830   https://www.airbnb.com/rooms/278830  20160104002432   2016-01-04   \n",
       "\n",
       "                                  name  \\\n",
       "0         Stylish Queen Anne Apartment   \n",
       "1   Bright & Airy Queen Anne Apartment   \n",
       "2  New Modern House-Amazing water view   \n",
       "3                   Queen Anne Chateau   \n",
       "4       Charming craftsman 3 bdm house   \n",
       "\n",
       "                                             summary  \\\n",
       "0                                                NaN   \n",
       "1  Chemically sensitive? We've removed the irrita...   \n",
       "2  New modern house built in 2013.  Spectacular s...   \n",
       "3  A charming apartment that sits atop Queen Anne...   \n",
       "4  Cozy family craftman house in beautiful neighb...   \n",
       "\n",
       "                                               space  \\\n",
       "0  Make your self at home in this charming one-be...   \n",
       "1  Beautiful, hypoallergenic apartment in an extr...   \n",
       "2  Our house is modern, light and fresh with a wa...   \n",
       "3                                                NaN   \n",
       "4  Cozy family craftman house in beautiful neighb...   \n",
       "\n",
       "                                         description experiences_offered  \\\n",
       "0  Make your self at home in this charming one-be...                none   \n",
       "1  Chemically sensitive? We've removed the irrita...                none   \n",
       "2  New modern house built in 2013.  Spectacular s...                none   \n",
       "3  A charming apartment that sits atop Queen Anne...                none   \n",
       "4  Cozy family craftman house in beautiful neighb...                none   \n",
       "\n",
       "                               neighborhood_overview  ... review_scores_value  \\\n",
       "0                                                NaN  ...                10.0   \n",
       "1  Queen Anne is a wonderful, truly functional vi...  ...                10.0   \n",
       "2  Upper Queen Anne is a charming neighborhood fu...  ...                10.0   \n",
       "3                                                NaN  ...                 NaN   \n",
       "4  We are in the beautiful neighborhood of Queen ...  ...                 9.0   \n",
       "\n",
       "  requires_license license jurisdiction_names instant_bookable  \\\n",
       "0                f     NaN         WASHINGTON                f   \n",
       "1                f     NaN         WASHINGTON                f   \n",
       "2                f     NaN         WASHINGTON                f   \n",
       "3                f     NaN         WASHINGTON                f   \n",
       "4                f     NaN         WASHINGTON                f   \n",
       "\n",
       "  cancellation_policy  require_guest_profile_picture  \\\n",
       "0            moderate                              f   \n",
       "1              strict                              t   \n",
       "2              strict                              f   \n",
       "3            flexible                              f   \n",
       "4              strict                              f   \n",
       "\n",
       "  require_guest_phone_verification calculated_host_listings_count  \\\n",
       "0                                f                              2   \n",
       "1                                t                              6   \n",
       "2                                f                              2   \n",
       "3                                f                              1   \n",
       "4                                f                              1   \n",
       "\n",
       "  reviews_per_month  \n",
       "0              4.07  \n",
       "1              1.48  \n",
       "2              1.15  \n",
       "3               NaN  \n",
       "4              0.89  \n",
       "\n",
       "[5 rows x 92 columns]"
      ]
     },
     "execution_count": 2,
     "metadata": {},
     "output_type": "execute_result"
    }
   ],
   "source": [
    "df = pd.read_csv('listings.csv')\n",
    "df.head()"
   ]
  },
  {
   "cell_type": "markdown",
   "metadata": {},
   "source": [
    "The aim is to identify possibly relevant variables from the dataset that may differentiate between superhost listings and nonsuperhost listings for classification purposes. \n",
    "\n",
    "In addition, criteria used by AirBnB to confer the superhost status will be ignored, as the objective is to see if there are any other variables that can help classify between superhosts and nonsuperhosts. As such, the 4 criterion below (adapted from the AirBnB website) and its corresponding variables will not be used as predictors for this model:\n",
    "-response rate (host_response_rate)\n",
    "-cancellation rate (host_acceptance_rate?)\n",
    "-overall rating (review_scores_rating)\n",
    "-Completed at least 10 trips / 3 reservations that total at least 100 nights (may not have a corresponding column)\n",
    "\n",
    "For this model, image variables are not used as predictors, as they require additional preprocessing to be converted into a useful feature. Some of the textual variables however, were utilised. Their character count was obtained. Note though that this dataset had a limit of 1000 characters for most of the textual variables, cutting off these for some listings. Hence, quite a few listings have 1000 characters as the value.\n",
    "\n",
    "Also, since there isn't an exact description for each column in this dataset, some of the possibly useful predictors e.g. guests_included, extra_people, were omitted as I was unsure of what exactly they meant.\n",
    "\n",
    "Neighbourhood was omitted as the superhosts and non-superhosts can be visually observed from the map of Seattle"
   ]
  },
  {
   "cell_type": "markdown",
   "metadata": {},
   "source": [
    "Extract the desired variables to be utilised (some may be dropped later; not all will be in the model)"
   ]
  },
  {
   "cell_type": "code",
   "execution_count": 3,
   "metadata": {
    "scrolled": true
   },
   "outputs": [],
   "source": [
    "df=df[['price','amenities','accommodates','security_deposit','cleaning_fee','availability_365','calculated_host_listings_count','reviews_per_month','minimum_nights','cancellation_policy','host_identity_verified','instant_bookable','host_is_superhost','host_since','last_review','first_review', \"host_verifications\", 'last_scraped', 'calendar_updated','number_of_reviews','host_response_time','space',\"description\",'neighborhood_overview','notes','host_about']]"
   ]
  },
  {
   "cell_type": "code",
   "execution_count": 4,
   "metadata": {},
   "outputs": [
    {
     "data": {
      "text/plain": [
       "(3818, 26)"
      ]
     },
     "execution_count": 4,
     "metadata": {},
     "output_type": "execute_result"
    }
   ],
   "source": [
    "df.shape"
   ]
  },
  {
   "cell_type": "code",
   "execution_count": 5,
   "metadata": {},
   "outputs": [
    {
     "data": {
      "text/plain": [
       "price                              object\n",
       "amenities                          object\n",
       "accommodates                        int64\n",
       "security_deposit                   object\n",
       "cleaning_fee                       object\n",
       "availability_365                    int64\n",
       "calculated_host_listings_count      int64\n",
       "reviews_per_month                 float64\n",
       "minimum_nights                      int64\n",
       "cancellation_policy                object\n",
       "host_identity_verified             object\n",
       "instant_bookable                   object\n",
       "host_is_superhost                  object\n",
       "host_since                         object\n",
       "last_review                        object\n",
       "first_review                       object\n",
       "host_verifications                 object\n",
       "last_scraped                       object\n",
       "calendar_updated                   object\n",
       "number_of_reviews                   int64\n",
       "host_response_time                 object\n",
       "space                              object\n",
       "description                        object\n",
       "neighborhood_overview              object\n",
       "notes                              object\n",
       "host_about                         object\n",
       "dtype: object"
      ]
     },
     "execution_count": 5,
     "metadata": {},
     "output_type": "execute_result"
    }
   ],
   "source": [
    "df.dtypes"
   ]
  },
  {
   "cell_type": "code",
   "execution_count": 6,
   "metadata": {
    "scrolled": false
   },
   "outputs": [
    {
     "data": {
      "text/plain": [
       "price                              0.000000\n",
       "amenities                          0.000000\n",
       "accommodates                       0.000000\n",
       "security_deposit                  51.126244\n",
       "cleaning_fee                      26.977475\n",
       "availability_365                   0.000000\n",
       "calculated_host_listings_count     0.000000\n",
       "reviews_per_month                 16.422211\n",
       "minimum_nights                     0.000000\n",
       "cancellation_policy                0.000000\n",
       "host_identity_verified             0.052383\n",
       "instant_bookable                   0.000000\n",
       "host_is_superhost                  0.052383\n",
       "host_since                         0.052383\n",
       "last_review                       16.422211\n",
       "first_review                      16.422211\n",
       "host_verifications                 0.000000\n",
       "last_scraped                       0.000000\n",
       "calendar_updated                   0.000000\n",
       "number_of_reviews                  0.000000\n",
       "host_response_time                13.698271\n",
       "space                             14.903091\n",
       "description                        0.000000\n",
       "neighborhood_overview             27.029859\n",
       "notes                             42.063908\n",
       "host_about                        22.498690\n",
       "dtype: float64"
      ]
     },
     "execution_count": 6,
     "metadata": {},
     "output_type": "execute_result"
    }
   ],
   "source": [
    "df.isna().sum()/len(df)*100"
   ]
  },
  {
   "cell_type": "markdown",
   "metadata": {},
   "source": [
    "For security_deposit and cleaning_fee, I'll assume that null value means there is no such fee for that listing. Thus I'll fill with 0. "
   ]
  },
  {
   "cell_type": "code",
   "execution_count": 7,
   "metadata": {},
   "outputs": [],
   "source": [
    "df['security_deposit'] = df['security_deposit'].fillna('$0.0')\n",
    "df['cleaning_fee'] = df['cleaning_fee'].fillna('$0.0')"
   ]
  },
  {
   "cell_type": "code",
   "execution_count": 8,
   "metadata": {
    "scrolled": false
   },
   "outputs": [
    {
     "data": {
      "text/plain": [
       "price                              0.000000\n",
       "amenities                          0.000000\n",
       "accommodates                       0.000000\n",
       "security_deposit                   0.000000\n",
       "cleaning_fee                       0.000000\n",
       "availability_365                   0.000000\n",
       "calculated_host_listings_count     0.000000\n",
       "reviews_per_month                 16.422211\n",
       "minimum_nights                     0.000000\n",
       "cancellation_policy                0.000000\n",
       "host_identity_verified             0.052383\n",
       "instant_bookable                   0.000000\n",
       "host_is_superhost                  0.052383\n",
       "host_since                         0.052383\n",
       "last_review                       16.422211\n",
       "first_review                      16.422211\n",
       "host_verifications                 0.000000\n",
       "last_scraped                       0.000000\n",
       "calendar_updated                   0.000000\n",
       "number_of_reviews                  0.000000\n",
       "host_response_time                13.698271\n",
       "space                             14.903091\n",
       "description                        0.000000\n",
       "neighborhood_overview             27.029859\n",
       "notes                             42.063908\n",
       "host_about                        22.498690\n",
       "dtype: float64"
      ]
     },
     "execution_count": 8,
     "metadata": {},
     "output_type": "execute_result"
    }
   ],
   "source": [
    "df.isna().sum()/len(df)*100"
   ]
  },
  {
   "cell_type": "markdown",
   "metadata": {},
   "source": [
    "Before I drop NaN values for the other columns, I'll first obtain character count for each of the textual variables "
   ]
  },
  {
   "cell_type": "code",
   "execution_count": 9,
   "metadata": {
    "scrolled": true
   },
   "outputs": [],
   "source": [
    "df['space'] = df['space'].astype(str)"
   ]
  },
  {
   "cell_type": "code",
   "execution_count": 10,
   "metadata": {},
   "outputs": [],
   "source": [
    "for i in df[\"space\"].index:\n",
    "    if (df.at[i,\"space\"] == 'nan'):\n",
    "        df.at[i,\"space_char_count\"] = 0\n",
    "    else:\n",
    "        df.at[i,\"space_char_count\"] = len(df.at[i,\"space\"])"
   ]
  },
  {
   "cell_type": "code",
   "execution_count": 11,
   "metadata": {},
   "outputs": [
    {
     "data": {
      "text/plain": [
       "0    1000.0\n",
       "1    1000.0\n",
       "2    1000.0\n",
       "3       0.0\n",
       "4     488.0\n",
       "Name: space_char_count, dtype: float64"
      ]
     },
     "execution_count": 11,
     "metadata": {},
     "output_type": "execute_result"
    }
   ],
   "source": [
    "df['space_char_count'].head()"
   ]
  },
  {
   "cell_type": "code",
   "execution_count": 12,
   "metadata": {},
   "outputs": [],
   "source": [
    "df['description'] = df['description'].astype(str)"
   ]
  },
  {
   "cell_type": "code",
   "execution_count": 13,
   "metadata": {},
   "outputs": [],
   "source": [
    "for i in df[\"description\"].index:\n",
    "    if (df.at[i,\"description\"] == 'nan'):\n",
    "        df.at[i,\"description_char_count\"] = 0\n",
    "    else:\n",
    "        df.at[i,\"description_char_count\"] = len(df.at[i,\"description\"])"
   ]
  },
  {
   "cell_type": "code",
   "execution_count": 14,
   "metadata": {},
   "outputs": [
    {
     "data": {
      "text/plain": [
       "0    1000.0\n",
       "1    1000.0\n",
       "2    1000.0\n",
       "3     243.0\n",
       "4    1000.0\n",
       "Name: description_char_count, dtype: float64"
      ]
     },
     "execution_count": 14,
     "metadata": {},
     "output_type": "execute_result"
    }
   ],
   "source": [
    "df['description_char_count'].head()"
   ]
  },
  {
   "cell_type": "code",
   "execution_count": 15,
   "metadata": {},
   "outputs": [],
   "source": [
    "df['neighborhood_overview'] = df['neighborhood_overview'].astype(str)"
   ]
  },
  {
   "cell_type": "code",
   "execution_count": 16,
   "metadata": {},
   "outputs": [],
   "source": [
    "for i in df[\"neighborhood_overview\"].index:\n",
    "    if (df.at[i,\"neighborhood_overview\"] == 'nan'):\n",
    "        df.at[i,\"neighborhood_overview_char_count\"] = 0\n",
    "    else:\n",
    "        df.at[i,\"neighborhood_overview_char_count\"] = len(df.at[i,\"neighborhood_overview\"])"
   ]
  },
  {
   "cell_type": "code",
   "execution_count": 17,
   "metadata": {},
   "outputs": [
    {
     "data": {
      "text/plain": [
       "0      0.0\n",
       "1    167.0\n",
       "2    669.0\n",
       "3      0.0\n",
       "4    492.0\n",
       "Name: neighborhood_overview_char_count, dtype: float64"
      ]
     },
     "execution_count": 17,
     "metadata": {},
     "output_type": "execute_result"
    }
   ],
   "source": [
    "df['neighborhood_overview_char_count'].head()"
   ]
  },
  {
   "cell_type": "code",
   "execution_count": 18,
   "metadata": {},
   "outputs": [],
   "source": [
    "df['notes'] = df['notes'].astype(str)"
   ]
  },
  {
   "cell_type": "code",
   "execution_count": 19,
   "metadata": {},
   "outputs": [],
   "source": [
    "for i in df[\"notes\"].index:\n",
    "    if (df.at[i,\"notes\"] == 'nan'):\n",
    "        df.at[i,\"notes_char_count\"] = 0\n",
    "    else:\n",
    "        df.at[i,\"notes_char_count\"] = len(df.at[i,\"notes\"])"
   ]
  },
  {
   "cell_type": "code",
   "execution_count": 20,
   "metadata": {},
   "outputs": [
    {
     "data": {
      "text/plain": [
       "0       0.0\n",
       "1    1000.0\n",
       "2     155.0\n",
       "3       0.0\n",
       "4       9.0\n",
       "Name: notes_char_count, dtype: float64"
      ]
     },
     "execution_count": 20,
     "metadata": {},
     "output_type": "execute_result"
    }
   ],
   "source": [
    "df['notes_char_count'].head()"
   ]
  },
  {
   "cell_type": "code",
   "execution_count": 21,
   "metadata": {},
   "outputs": [],
   "source": [
    "df['host_about'] = df['host_about'].astype(str)"
   ]
  },
  {
   "cell_type": "code",
   "execution_count": 22,
   "metadata": {},
   "outputs": [],
   "source": [
    "for i in df[\"host_about\"].index:\n",
    "    if (df.at[i,\"host_about\"] == 'nan'):\n",
    "        df.at[i,\"host_about_char_count\"] = 0\n",
    "    else:\n",
    "        df.at[i,\"host_about_char_count\"] = len(df.at[i,\"host_about\"])"
   ]
  },
  {
   "cell_type": "code",
   "execution_count": 23,
   "metadata": {},
   "outputs": [
    {
     "data": {
      "text/plain": [
       "0    372.0\n",
       "1     74.0\n",
       "2    343.0\n",
       "3      0.0\n",
       "4    354.0\n",
       "Name: host_about_char_count, dtype: float64"
      ]
     },
     "execution_count": 23,
     "metadata": {},
     "output_type": "execute_result"
    }
   ],
   "source": [
    "df['host_about_char_count'].head()"
   ]
  },
  {
   "cell_type": "markdown",
   "metadata": {},
   "source": [
    "Now we can drop the textual columns"
   ]
  },
  {
   "cell_type": "code",
   "execution_count": 24,
   "metadata": {},
   "outputs": [],
   "source": [
    "df = df.drop(['space', 'description', 'neighborhood_overview', 'notes', 'host_about'], axis = 1)"
   ]
  },
  {
   "cell_type": "markdown",
   "metadata": {},
   "source": [
    "Next, drop the remaining rows containing NaN values"
   ]
  },
  {
   "cell_type": "code",
   "execution_count": 25,
   "metadata": {
    "scrolled": false
   },
   "outputs": [
    {
     "data": {
      "text/plain": [
       "price                                0.000000\n",
       "amenities                            0.000000\n",
       "accommodates                         0.000000\n",
       "security_deposit                     0.000000\n",
       "cleaning_fee                         0.000000\n",
       "availability_365                     0.000000\n",
       "calculated_host_listings_count       0.000000\n",
       "reviews_per_month                   16.422211\n",
       "minimum_nights                       0.000000\n",
       "cancellation_policy                  0.000000\n",
       "host_identity_verified               0.052383\n",
       "instant_bookable                     0.000000\n",
       "host_is_superhost                    0.052383\n",
       "host_since                           0.052383\n",
       "last_review                         16.422211\n",
       "first_review                        16.422211\n",
       "host_verifications                   0.000000\n",
       "last_scraped                         0.000000\n",
       "calendar_updated                     0.000000\n",
       "number_of_reviews                    0.000000\n",
       "host_response_time                  13.698271\n",
       "space_char_count                     0.000000\n",
       "description_char_count               0.000000\n",
       "neighborhood_overview_char_count     0.000000\n",
       "notes_char_count                     0.000000\n",
       "host_about_char_count                0.000000\n",
       "dtype: float64"
      ]
     },
     "execution_count": 25,
     "metadata": {},
     "output_type": "execute_result"
    }
   ],
   "source": [
    "df.isna().sum()/len(df)*100"
   ]
  },
  {
   "cell_type": "code",
   "execution_count": 26,
   "metadata": {},
   "outputs": [],
   "source": [
    "df = df.dropna()"
   ]
  },
  {
   "cell_type": "markdown",
   "metadata": {},
   "source": [
    "Final check for Null values"
   ]
  },
  {
   "cell_type": "code",
   "execution_count": 27,
   "metadata": {
    "scrolled": true
   },
   "outputs": [
    {
     "data": {
      "text/plain": [
       "price                               False\n",
       "amenities                           False\n",
       "accommodates                        False\n",
       "security_deposit                    False\n",
       "cleaning_fee                        False\n",
       "availability_365                    False\n",
       "calculated_host_listings_count      False\n",
       "reviews_per_month                   False\n",
       "minimum_nights                      False\n",
       "cancellation_policy                 False\n",
       "host_identity_verified              False\n",
       "instant_bookable                    False\n",
       "host_is_superhost                   False\n",
       "host_since                          False\n",
       "last_review                         False\n",
       "first_review                        False\n",
       "host_verifications                  False\n",
       "last_scraped                        False\n",
       "calendar_updated                    False\n",
       "number_of_reviews                   False\n",
       "host_response_time                  False\n",
       "space_char_count                    False\n",
       "description_char_count              False\n",
       "neighborhood_overview_char_count    False\n",
       "notes_char_count                    False\n",
       "host_about_char_count               False\n",
       "dtype: bool"
      ]
     },
     "execution_count": 27,
     "metadata": {},
     "output_type": "execute_result"
    }
   ],
   "source": [
    "df.isnull().any()"
   ]
  },
  {
   "cell_type": "markdown",
   "metadata": {},
   "source": [
    "Next up is data processing"
   ]
  },
  {
   "cell_type": "code",
   "execution_count": 28,
   "metadata": {},
   "outputs": [
    {
     "data": {
      "text/plain": [
       "price                                object\n",
       "amenities                            object\n",
       "accommodates                          int64\n",
       "security_deposit                     object\n",
       "cleaning_fee                         object\n",
       "availability_365                      int64\n",
       "calculated_host_listings_count        int64\n",
       "reviews_per_month                   float64\n",
       "minimum_nights                        int64\n",
       "cancellation_policy                  object\n",
       "host_identity_verified               object\n",
       "instant_bookable                     object\n",
       "host_is_superhost                    object\n",
       "host_since                           object\n",
       "last_review                          object\n",
       "first_review                         object\n",
       "host_verifications                   object\n",
       "last_scraped                         object\n",
       "calendar_updated                     object\n",
       "number_of_reviews                     int64\n",
       "host_response_time                   object\n",
       "space_char_count                    float64\n",
       "description_char_count              float64\n",
       "neighborhood_overview_char_count    float64\n",
       "notes_char_count                    float64\n",
       "host_about_char_count               float64\n",
       "dtype: object"
      ]
     },
     "execution_count": 28,
     "metadata": {},
     "output_type": "execute_result"
    }
   ],
   "source": [
    "df.dtypes"
   ]
  },
  {
   "cell_type": "code",
   "execution_count": 29,
   "metadata": {},
   "outputs": [],
   "source": [
    "df['price'] = df['price'].str.replace('$', '').astype(float)"
   ]
  },
  {
   "cell_type": "markdown",
   "metadata": {},
   "source": [
    "Create a new column, 'price_per_person' obtained by 'price' / 'accommodates'"
   ]
  },
  {
   "cell_type": "code",
   "execution_count": 30,
   "metadata": {},
   "outputs": [],
   "source": [
    "df['price_per_person'] = df['price'] / df['accommodates']"
   ]
  },
  {
   "cell_type": "markdown",
   "metadata": {},
   "source": [
    "Drop 'accommodates' as we won't need it anymore"
   ]
  },
  {
   "cell_type": "code",
   "execution_count": 31,
   "metadata": {},
   "outputs": [],
   "source": [
    "df = df.drop(['accommodates'], axis = 1)"
   ]
  },
  {
   "cell_type": "code",
   "execution_count": 32,
   "metadata": {},
   "outputs": [
    {
     "data": {
      "text/plain": [
       "price                               float64\n",
       "amenities                            object\n",
       "security_deposit                     object\n",
       "cleaning_fee                         object\n",
       "availability_365                      int64\n",
       "calculated_host_listings_count        int64\n",
       "reviews_per_month                   float64\n",
       "minimum_nights                        int64\n",
       "cancellation_policy                  object\n",
       "host_identity_verified               object\n",
       "instant_bookable                     object\n",
       "host_is_superhost                    object\n",
       "host_since                           object\n",
       "last_review                          object\n",
       "first_review                         object\n",
       "host_verifications                   object\n",
       "last_scraped                         object\n",
       "calendar_updated                     object\n",
       "number_of_reviews                     int64\n",
       "host_response_time                   object\n",
       "space_char_count                    float64\n",
       "description_char_count              float64\n",
       "neighborhood_overview_char_count    float64\n",
       "notes_char_count                    float64\n",
       "host_about_char_count               float64\n",
       "price_per_person                    float64\n",
       "dtype: object"
      ]
     },
     "execution_count": 32,
     "metadata": {},
     "output_type": "execute_result"
    }
   ],
   "source": [
    "df.dtypes"
   ]
  },
  {
   "cell_type": "code",
   "execution_count": 33,
   "metadata": {},
   "outputs": [],
   "source": [
    "df['security_deposit'] = df['security_deposit'].str.replace('$', '').str.replace(',', '').astype(float)"
   ]
  },
  {
   "cell_type": "code",
   "execution_count": 34,
   "metadata": {},
   "outputs": [],
   "source": [
    "df['cleaning_fee'] = df['cleaning_fee'].str.replace('$', '').str.replace(',', '').astype(float)"
   ]
  },
  {
   "cell_type": "code",
   "execution_count": 35,
   "metadata": {
    "scrolled": true
   },
   "outputs": [
    {
     "data": {
      "text/plain": [
       "price                               float64\n",
       "amenities                            object\n",
       "security_deposit                    float64\n",
       "cleaning_fee                        float64\n",
       "availability_365                      int64\n",
       "calculated_host_listings_count        int64\n",
       "reviews_per_month                   float64\n",
       "minimum_nights                        int64\n",
       "cancellation_policy                  object\n",
       "host_identity_verified               object\n",
       "instant_bookable                     object\n",
       "host_is_superhost                    object\n",
       "host_since                           object\n",
       "last_review                          object\n",
       "first_review                         object\n",
       "host_verifications                   object\n",
       "last_scraped                         object\n",
       "calendar_updated                     object\n",
       "number_of_reviews                     int64\n",
       "host_response_time                   object\n",
       "space_char_count                    float64\n",
       "description_char_count              float64\n",
       "neighborhood_overview_char_count    float64\n",
       "notes_char_count                    float64\n",
       "host_about_char_count               float64\n",
       "price_per_person                    float64\n",
       "dtype: object"
      ]
     },
     "execution_count": 35,
     "metadata": {},
     "output_type": "execute_result"
    }
   ],
   "source": [
    "df.dtypes"
   ]
  },
  {
   "cell_type": "code",
   "execution_count": 37,
   "metadata": {},
   "outputs": [
    {
     "data": {
      "text/plain": [
       "strict      1169\n",
       "moderate    1023\n",
       "flexible     679\n",
       "Name: cancellation_policy, dtype: int64"
      ]
     },
     "execution_count": 37,
     "metadata": {},
     "output_type": "execute_result"
    }
   ],
   "source": [
    "df['cancellation_policy'].value_counts()"
   ]
  },
  {
   "cell_type": "markdown",
   "metadata": {},
   "source": [
    "For ordered categorical variable 'cancellation_policy', change each category to a number where 1 is the least strict / most flexible and 3 is the strictest"
   ]
  },
  {
   "cell_type": "code",
   "execution_count": 36,
   "metadata": {},
   "outputs": [],
   "source": [
    "dict_1 = {'flexible' : 1, 'moderate': 2, 'strict': 3}\n"
   ]
  },
  {
   "cell_type": "code",
   "execution_count": 40,
   "metadata": {},
   "outputs": [],
   "source": [
    "df['cancellation_policy'] = df['cancellation_policy'].map(dict_1)"
   ]
  },
  {
   "cell_type": "code",
   "execution_count": 42,
   "metadata": {},
   "outputs": [
    {
     "data": {
      "text/plain": [
       "price                               float64\n",
       "amenities                            object\n",
       "security_deposit                    float64\n",
       "cleaning_fee                        float64\n",
       "availability_365                      int64\n",
       "calculated_host_listings_count        int64\n",
       "reviews_per_month                   float64\n",
       "minimum_nights                        int64\n",
       "cancellation_policy                   int64\n",
       "host_identity_verified               object\n",
       "instant_bookable                     object\n",
       "host_is_superhost                    object\n",
       "host_since                           object\n",
       "last_review                          object\n",
       "first_review                         object\n",
       "host_verifications                   object\n",
       "last_scraped                         object\n",
       "calendar_updated                     object\n",
       "number_of_reviews                     int64\n",
       "host_response_time                   object\n",
       "space_char_count                    float64\n",
       "description_char_count              float64\n",
       "neighborhood_overview_char_count    float64\n",
       "notes_char_count                    float64\n",
       "host_about_char_count               float64\n",
       "price_per_person                    float64\n",
       "dtype: object"
      ]
     },
     "execution_count": 42,
     "metadata": {},
     "output_type": "execute_result"
    }
   ],
   "source": [
    "df.dtypes"
   ]
  },
  {
   "cell_type": "markdown",
   "metadata": {},
   "source": [
    "For the Boolean variables, assign True to 1 and False to 0 for usage in models later"
   ]
  },
  {
   "cell_type": "code",
   "execution_count": 43,
   "metadata": {},
   "outputs": [],
   "source": [
    "dict_2 = {'t' : 1, 'f' : 0}"
   ]
  },
  {
   "cell_type": "code",
   "execution_count": 47,
   "metadata": {},
   "outputs": [],
   "source": [
    "df['host_identity_verified'] = df['host_identity_verified'].map(dict_2)"
   ]
  },
  {
   "cell_type": "code",
   "execution_count": 48,
   "metadata": {},
   "outputs": [],
   "source": [
    "df['instant_bookable'] = df['instant_bookable'].map(dict_2)"
   ]
  },
  {
   "cell_type": "code",
   "execution_count": 49,
   "metadata": {},
   "outputs": [],
   "source": [
    "df['host_is_superhost'] = df['host_is_superhost'].map(dict_2)"
   ]
  },
  {
   "cell_type": "code",
   "execution_count": 50,
   "metadata": {},
   "outputs": [
    {
     "data": {
      "text/plain": [
       "price                               float64\n",
       "amenities                            object\n",
       "security_deposit                    float64\n",
       "cleaning_fee                        float64\n",
       "availability_365                      int64\n",
       "calculated_host_listings_count        int64\n",
       "reviews_per_month                   float64\n",
       "minimum_nights                        int64\n",
       "cancellation_policy                   int64\n",
       "host_identity_verified                int64\n",
       "instant_bookable                      int64\n",
       "host_is_superhost                     int64\n",
       "host_since                           object\n",
       "last_review                          object\n",
       "first_review                         object\n",
       "host_verifications                   object\n",
       "last_scraped                         object\n",
       "calendar_updated                     object\n",
       "number_of_reviews                     int64\n",
       "host_response_time                   object\n",
       "space_char_count                    float64\n",
       "description_char_count              float64\n",
       "neighborhood_overview_char_count    float64\n",
       "notes_char_count                    float64\n",
       "host_about_char_count               float64\n",
       "price_per_person                    float64\n",
       "dtype: object"
      ]
     },
     "execution_count": 50,
     "metadata": {},
     "output_type": "execute_result"
    }
   ],
   "source": [
    "df.dtypes"
   ]
  },
  {
   "cell_type": "code",
   "execution_count": 51,
   "metadata": {},
   "outputs": [],
   "source": [
    "import datetime\n",
    "\n",
    "#change the dates into a recognisable date format\n",
    "\n",
    "df['host_since']=pd.to_datetime(df['host_since'])\n",
    "df['first_review']=pd.to_datetime(df['first_review'])\n",
    "df['last_review']=pd.to_datetime(df['last_review'])\n",
    "df['last_scraped']=pd.to_datetime(df['last_scraped'])"
   ]
  },
  {
   "cell_type": "markdown",
   "metadata": {},
   "source": [
    "Create a column 'listing_duration_days' as an indicator of how long the listing has been listed"
   ]
  },
  {
   "cell_type": "code",
   "execution_count": 54,
   "metadata": {
    "scrolled": true
   },
   "outputs": [
    {
     "data": {
      "text/plain": [
       "0   1523 days\n",
       "1    862 days\n",
       "2    400 days\n",
       "4   1201 days\n",
       "6    679 days\n",
       "Name: listing_duration_days, dtype: timedelta64[ns]"
      ]
     },
     "execution_count": 54,
     "metadata": {},
     "output_type": "execute_result"
    }
   ],
   "source": [
    "df['listing_duration_days'] = df['last_review'] - df['first_review']\n",
    "df['listing_duration_days'].head()"
   ]
  },
  {
   "cell_type": "markdown",
   "metadata": {},
   "source": [
    "Convert to int type"
   ]
  },
  {
   "cell_type": "code",
   "execution_count": 55,
   "metadata": {},
   "outputs": [
    {
     "data": {
      "text/plain": [
       "0    1523\n",
       "1     862\n",
       "2     400\n",
       "4    1201\n",
       "6     679\n",
       "Name: listing_duration_days, dtype: int64"
      ]
     },
     "execution_count": 55,
     "metadata": {},
     "output_type": "execute_result"
    }
   ],
   "source": [
    "df[\"listing_duration_days\"] = df[\"listing_duration_days\"].dt.days\n",
    "df['listing_duration_days'].head()"
   ]
  },
  {
   "cell_type": "markdown",
   "metadata": {},
   "source": [
    "Create a column 'hosting_duration_days' as a relative indicator of how long the host has been hosting (experience)"
   ]
  },
  {
   "cell_type": "code",
   "execution_count": 56,
   "metadata": {},
   "outputs": [],
   "source": [
    "df = df.assign(hosting_duration_days = df['last_review'] - df['host_since'])"
   ]
  },
  {
   "cell_type": "code",
   "execution_count": 57,
   "metadata": {},
   "outputs": [
    {
     "data": {
      "text/plain": [
       "0   1605 days\n",
       "1   1041 days\n",
       "2    448 days\n",
       "4   1425 days\n",
       "6   1286 days\n",
       "Name: hosting_duration_days, dtype: timedelta64[ns]"
      ]
     },
     "execution_count": 57,
     "metadata": {},
     "output_type": "execute_result"
    }
   ],
   "source": [
    "df['hosting_duration_days'].head()"
   ]
  },
  {
   "cell_type": "code",
   "execution_count": 58,
   "metadata": {
    "scrolled": true
   },
   "outputs": [
    {
     "data": {
      "text/plain": [
       "0    1605\n",
       "1    1041\n",
       "2     448\n",
       "4    1425\n",
       "6    1286\n",
       "Name: hosting_duration_days, dtype: int64"
      ]
     },
     "execution_count": 58,
     "metadata": {},
     "output_type": "execute_result"
    }
   ],
   "source": [
    "df[\"hosting_duration_days\"] = df[\"hosting_duration_days\"].dt.days\n",
    "df['hosting_duration_days'].head()"
   ]
  },
  {
   "cell_type": "code",
   "execution_count": 59,
   "metadata": {},
   "outputs": [
    {
     "data": {
      "text/plain": [
       "price                                      float64\n",
       "amenities                                   object\n",
       "security_deposit                           float64\n",
       "cleaning_fee                               float64\n",
       "availability_365                             int64\n",
       "calculated_host_listings_count               int64\n",
       "reviews_per_month                          float64\n",
       "minimum_nights                               int64\n",
       "cancellation_policy                          int64\n",
       "host_identity_verified                       int64\n",
       "instant_bookable                             int64\n",
       "host_is_superhost                            int64\n",
       "host_since                          datetime64[ns]\n",
       "last_review                         datetime64[ns]\n",
       "first_review                        datetime64[ns]\n",
       "host_verifications                          object\n",
       "last_scraped                        datetime64[ns]\n",
       "calendar_updated                            object\n",
       "number_of_reviews                            int64\n",
       "host_response_time                          object\n",
       "space_char_count                           float64\n",
       "description_char_count                     float64\n",
       "neighborhood_overview_char_count           float64\n",
       "notes_char_count                           float64\n",
       "host_about_char_count                      float64\n",
       "price_per_person                           float64\n",
       "listing_duration_days                        int64\n",
       "hosting_duration_days                        int64\n",
       "dtype: object"
      ]
     },
     "execution_count": 59,
     "metadata": {},
     "output_type": "execute_result"
    }
   ],
   "source": [
    "df.dtypes"
   ]
  },
  {
   "cell_type": "markdown",
   "metadata": {},
   "source": [
    "For 'calendar_updated', it is to be converted into a useable form"
   ]
  },
  {
   "cell_type": "code",
   "execution_count": 60,
   "metadata": {},
   "outputs": [],
   "source": [
    "df[\"calendar_updated\"] = df[\"calendar_updated\"].str.replace('a ', '1 ')"
   ]
  },
  {
   "cell_type": "code",
   "execution_count": 61,
   "metadata": {},
   "outputs": [],
   "source": [
    "from dateutil.relativedelta import relativedelta"
   ]
  },
  {
   "cell_type": "code",
   "execution_count": 62,
   "metadata": {},
   "outputs": [],
   "source": [
    "def get_past_date(str_days_ago):\n",
    "    day_scraped = df.at[0,\"last_scraped\"]\n",
    "    splitted = str_days_ago.split()\n",
    "    if len(splitted) == 1 and splitted[0].lower() == 'today':\n",
    "        return str(day_scraped.isoformat())\n",
    "    elif len(splitted) == 1 and splitted[0].lower() == 'yesterday':\n",
    "        date = day_scraped - relativedelta(days=1)\n",
    "        return str(date.isoformat())\n",
    "    elif len(splitted) == 1 and splitted[0].lower() == 'never':\n",
    "        return \"never\"\n",
    "    elif splitted[1].lower() in ['day', 'days', 'd']:\n",
    "        date = day_scraped - relativedelta(days=int(splitted[0]))\n",
    "        return str(date.isoformat())\n",
    "    elif splitted[1].lower() in ['wk', 'wks', 'week', 'weeks', 'w']:\n",
    "        date = day_scraped - relativedelta(weeks=int(splitted[0]))\n",
    "        return str(date.isoformat())\n",
    "    elif splitted[1].lower() in ['mon', 'mons', 'month', 'months', 'm']:\n",
    "        date = day_scraped - relativedelta(months=int(splitted[0]))\n",
    "        return str(date.isoformat())\n",
    "    elif splitted[1].lower() in ['yrs', 'yr', 'years', 'year', 'y']:\n",
    "        date = day_scraped - relativedelta(years=int(splitted[0]))\n",
    "        return str(date.isoformat())\n",
    "    else:\n",
    "        return \"Wrong Argument format\""
   ]
  },
  {
   "cell_type": "code",
   "execution_count": 63,
   "metadata": {},
   "outputs": [],
   "source": [
    "for i in df[\"calendar_updated\"].index:\n",
    "    df.at[i,\"calendar_updated_temp\"] = get_past_date(df.at[i,\"calendar_updated\"])"
   ]
  },
  {
   "cell_type": "markdown",
   "metadata": {},
   "source": [
    "Drop rows containing 'never' (only 3 rows)"
   ]
  },
  {
   "cell_type": "code",
   "execution_count": 67,
   "metadata": {},
   "outputs": [],
   "source": [
    "df = df[df.calendar_updated_temp != 'never']"
   ]
  },
  {
   "cell_type": "code",
   "execution_count": 68,
   "metadata": {
    "scrolled": true
   },
   "outputs": [
    {
     "data": {
      "text/plain": [
       "2016-01-04T00:00:00    614\n",
       "2015-12-21T00:00:00    280\n",
       "2015-12-14T00:00:00    243\n",
       "2015-12-28T00:00:00    225\n",
       "2016-01-03T00:00:00    204\n",
       "2015-11-04T00:00:00    180\n",
       "2015-12-07T00:00:00    172\n",
       "2016-01-01T00:00:00    137\n",
       "2015-11-30T00:00:00    125\n",
       "2015-12-31T00:00:00    118\n",
       "2015-10-04T00:00:00    114\n",
       "2015-12-30T00:00:00    113\n",
       "2015-11-23T00:00:00     86\n",
       "2016-01-02T00:00:00     81\n",
       "2015-09-04T00:00:00     49\n",
       "2015-11-16T00:00:00     45\n",
       "2015-08-04T00:00:00     33\n",
       "2015-12-29T00:00:00     22\n",
       "2015-06-04T00:00:00     10\n",
       "2015-07-04T00:00:00     10\n",
       "2015-03-04T00:00:00      3\n",
       "2015-05-04T00:00:00      2\n",
       "2015-04-04T00:00:00      1\n",
       "2014-11-04T00:00:00      1\n",
       "Name: calendar_updated_temp, dtype: int64"
      ]
     },
     "execution_count": 68,
     "metadata": {},
     "output_type": "execute_result"
    }
   ],
   "source": [
    "df[\"calendar_updated_temp\"].value_counts()"
   ]
  },
  {
   "cell_type": "code",
   "execution_count": 70,
   "metadata": {},
   "outputs": [],
   "source": [
    "df[\"calendar_updated_temp\"]=pd.to_datetime(df[\"calendar_updated_temp\"])\n"
   ]
  },
  {
   "cell_type": "markdown",
   "metadata": {},
   "source": [
    "Create a new column, 'days_since_calendar_updated', to replace 'calendar_updated', where the data is in a more usable form"
   ]
  },
  {
   "cell_type": "code",
   "execution_count": 71,
   "metadata": {},
   "outputs": [],
   "source": [
    "df['days_since_calendar_updated'] = df['last_scraped'] - df[\"calendar_updated_temp\"]"
   ]
  },
  {
   "cell_type": "code",
   "execution_count": 72,
   "metadata": {},
   "outputs": [],
   "source": [
    "df['days_since_calendar_updated'] = df['days_since_calendar_updated'].dt.days"
   ]
  },
  {
   "cell_type": "code",
   "execution_count": 73,
   "metadata": {},
   "outputs": [
    {
     "data": {
      "text/plain": [
       "0    28\n",
       "1     0\n",
       "2    35\n",
       "4    49\n",
       "6    35\n",
       "Name: days_since_calendar_updated, dtype: int64"
      ]
     },
     "execution_count": 73,
     "metadata": {},
     "output_type": "execute_result"
    }
   ],
   "source": [
    "df['days_since_calendar_updated'].head()"
   ]
  },
  {
   "cell_type": "code",
   "execution_count": 74,
   "metadata": {
    "scrolled": true
   },
   "outputs": [
    {
     "data": {
      "text/plain": [
       "price                                      float64\n",
       "amenities                                   object\n",
       "security_deposit                           float64\n",
       "cleaning_fee                               float64\n",
       "availability_365                             int64\n",
       "calculated_host_listings_count               int64\n",
       "reviews_per_month                          float64\n",
       "minimum_nights                               int64\n",
       "cancellation_policy                          int64\n",
       "host_identity_verified                       int64\n",
       "instant_bookable                             int64\n",
       "host_is_superhost                            int64\n",
       "host_since                          datetime64[ns]\n",
       "last_review                         datetime64[ns]\n",
       "first_review                        datetime64[ns]\n",
       "host_verifications                          object\n",
       "last_scraped                        datetime64[ns]\n",
       "calendar_updated                            object\n",
       "number_of_reviews                            int64\n",
       "host_response_time                          object\n",
       "space_char_count                           float64\n",
       "description_char_count                     float64\n",
       "neighborhood_overview_char_count           float64\n",
       "notes_char_count                           float64\n",
       "host_about_char_count                      float64\n",
       "price_per_person                           float64\n",
       "listing_duration_days                        int64\n",
       "hosting_duration_days                        int64\n",
       "calendar_updated_temp               datetime64[ns]\n",
       "days_since_calendar_updated                  int64\n",
       "dtype: object"
      ]
     },
     "execution_count": 74,
     "metadata": {},
     "output_type": "execute_result"
    }
   ],
   "source": [
    "df.dtypes"
   ]
  },
  {
   "cell_type": "markdown",
   "metadata": {},
   "source": [
    "Drop the unneeded columns:"
   ]
  },
  {
   "cell_type": "code",
   "execution_count": 75,
   "metadata": {},
   "outputs": [],
   "source": [
    "df = df.drop(['calendar_updated_temp','calendar_updated'], axis = 1)"
   ]
  },
  {
   "cell_type": "code",
   "execution_count": 76,
   "metadata": {
    "scrolled": true
   },
   "outputs": [
    {
     "data": {
      "text/plain": [
       "price                                      float64\n",
       "amenities                                   object\n",
       "security_deposit                           float64\n",
       "cleaning_fee                               float64\n",
       "availability_365                             int64\n",
       "calculated_host_listings_count               int64\n",
       "reviews_per_month                          float64\n",
       "minimum_nights                               int64\n",
       "cancellation_policy                          int64\n",
       "host_identity_verified                       int64\n",
       "instant_bookable                             int64\n",
       "host_is_superhost                            int64\n",
       "host_since                          datetime64[ns]\n",
       "last_review                         datetime64[ns]\n",
       "first_review                        datetime64[ns]\n",
       "host_verifications                          object\n",
       "last_scraped                        datetime64[ns]\n",
       "number_of_reviews                            int64\n",
       "host_response_time                          object\n",
       "space_char_count                           float64\n",
       "description_char_count                     float64\n",
       "neighborhood_overview_char_count           float64\n",
       "notes_char_count                           float64\n",
       "host_about_char_count                      float64\n",
       "price_per_person                           float64\n",
       "listing_duration_days                        int64\n",
       "hosting_duration_days                        int64\n",
       "days_since_calendar_updated                  int64\n",
       "dtype: object"
      ]
     },
     "execution_count": 76,
     "metadata": {},
     "output_type": "execute_result"
    }
   ],
   "source": [
    "df.dtypes"
   ]
  },
  {
   "cell_type": "markdown",
   "metadata": {},
   "source": [
    "Since 'host_verifications' is a list of sorts, count the number in each 'list'"
   ]
  },
  {
   "cell_type": "code",
   "execution_count": 77,
   "metadata": {},
   "outputs": [],
   "source": [
    "for i in df[\"host_verifications\"].index:\n",
    "    if len(df.at[i,\"host_verifications\"]) > 2 :\n",
    "        count = 1\n",
    "        for char in df.at[i,\"host_verifications\"]:\n",
    "            if char == ',':\n",
    "                count+=1\n",
    "    else:\n",
    "        count = 0\n",
    "    df.at[i,\"no_of_host_verifications\"] = count\n",
    "    count = 0"
   ]
  },
  {
   "cell_type": "code",
   "execution_count": 78,
   "metadata": {},
   "outputs": [
    {
     "data": {
      "text/plain": [
       "5.0    1188\n",
       "4.0     716\n",
       "6.0     528\n",
       "3.0     265\n",
       "7.0     132\n",
       "2.0      23\n",
       "8.0      15\n",
       "1.0       1\n",
       "Name: no_of_host_verifications, dtype: int64"
      ]
     },
     "execution_count": 78,
     "metadata": {},
     "output_type": "execute_result"
    }
   ],
   "source": [
    "df[\"no_of_host_verifications\"].value_counts()"
   ]
  },
  {
   "cell_type": "code",
   "execution_count": 79,
   "metadata": {},
   "outputs": [],
   "source": [
    "df = df.drop(['host_verifications'], axis = 1)"
   ]
  },
  {
   "cell_type": "markdown",
   "metadata": {},
   "source": [
    "Next, check for and remove any anomalies because **at least 100 days have to elapse before superhost can be awarded**, so I will be excluding those with new accounts as they may not be an accurate indicator about whether it meets the superhost requirement."
   ]
  },
  {
   "cell_type": "code",
   "execution_count": 80,
   "metadata": {},
   "outputs": [],
   "source": [
    "df['account_duration_days'] = df['last_scraped'] - df['host_since']"
   ]
  },
  {
   "cell_type": "code",
   "execution_count": 81,
   "metadata": {},
   "outputs": [],
   "source": [
    "df[\"account_duration_days\"] = df[\"account_duration_days\"].dt.days"
   ]
  },
  {
   "cell_type": "code",
   "execution_count": 82,
   "metadata": {},
   "outputs": [],
   "source": [
    "df['evaluation_period_elapsed'] = df['account_duration_days'].apply(lambda x: True if x >= 100 else False)"
   ]
  },
  {
   "cell_type": "code",
   "execution_count": 83,
   "metadata": {},
   "outputs": [
    {
     "data": {
      "text/html": [
       "<div>\n",
       "<style scoped>\n",
       "    .dataframe tbody tr th:only-of-type {\n",
       "        vertical-align: middle;\n",
       "    }\n",
       "\n",
       "    .dataframe tbody tr th {\n",
       "        vertical-align: top;\n",
       "    }\n",
       "\n",
       "    .dataframe thead th {\n",
       "        text-align: right;\n",
       "    }\n",
       "</style>\n",
       "<table border=\"1\" class=\"dataframe\">\n",
       "  <thead>\n",
       "    <tr style=\"text-align: right;\">\n",
       "      <th>host_is_superhost</th>\n",
       "      <th>0</th>\n",
       "      <th>1</th>\n",
       "    </tr>\n",
       "    <tr>\n",
       "      <th>evaluation_period_elapsed</th>\n",
       "      <th></th>\n",
       "      <th></th>\n",
       "    </tr>\n",
       "  </thead>\n",
       "  <tbody>\n",
       "    <tr>\n",
       "      <th>False</th>\n",
       "      <td>65</td>\n",
       "      <td>0</td>\n",
       "    </tr>\n",
       "    <tr>\n",
       "      <th>True</th>\n",
       "      <td>2084</td>\n",
       "      <td>719</td>\n",
       "    </tr>\n",
       "  </tbody>\n",
       "</table>\n",
       "</div>"
      ],
      "text/plain": [
       "host_is_superhost             0    1\n",
       "evaluation_period_elapsed           \n",
       "False                        65    0\n",
       "True                       2084  719"
      ]
     },
     "execution_count": 83,
     "metadata": {},
     "output_type": "execute_result"
    }
   ],
   "source": [
    "pd.crosstab(df[\"evaluation_period_elapsed\"],df[\"host_is_superhost\"])"
   ]
  },
  {
   "cell_type": "markdown",
   "metadata": {},
   "source": [
    "As one can see, none of the superhosts have AirBnB account age of less than or equal to 100 days old. I will drop the rows with account age less than or equal to 100 days old:"
   ]
  },
  {
   "cell_type": "code",
   "execution_count": 86,
   "metadata": {},
   "outputs": [],
   "source": [
    "df = df[df.account_duration_days >= 100]"
   ]
  },
  {
   "cell_type": "code",
   "execution_count": 87,
   "metadata": {},
   "outputs": [
    {
     "data": {
      "text/html": [
       "<div>\n",
       "<style scoped>\n",
       "    .dataframe tbody tr th:only-of-type {\n",
       "        vertical-align: middle;\n",
       "    }\n",
       "\n",
       "    .dataframe tbody tr th {\n",
       "        vertical-align: top;\n",
       "    }\n",
       "\n",
       "    .dataframe thead th {\n",
       "        text-align: right;\n",
       "    }\n",
       "</style>\n",
       "<table border=\"1\" class=\"dataframe\">\n",
       "  <thead>\n",
       "    <tr style=\"text-align: right;\">\n",
       "      <th>host_is_superhost</th>\n",
       "      <th>0</th>\n",
       "      <th>1</th>\n",
       "    </tr>\n",
       "    <tr>\n",
       "      <th>evaluation_period_elapsed</th>\n",
       "      <th></th>\n",
       "      <th></th>\n",
       "    </tr>\n",
       "  </thead>\n",
       "  <tbody>\n",
       "    <tr>\n",
       "      <th>True</th>\n",
       "      <td>2084</td>\n",
       "      <td>719</td>\n",
       "    </tr>\n",
       "  </tbody>\n",
       "</table>\n",
       "</div>"
      ],
      "text/plain": [
       "host_is_superhost             0    1\n",
       "evaluation_period_elapsed           \n",
       "True                       2084  719"
      ]
     },
     "execution_count": 87,
     "metadata": {},
     "output_type": "execute_result"
    }
   ],
   "source": [
    "pd.crosstab(df[\"evaluation_period_elapsed\"],df[\"host_is_superhost\"])"
   ]
  },
  {
   "cell_type": "code",
   "execution_count": 88,
   "metadata": {},
   "outputs": [
    {
     "data": {
      "text/plain": [
       "price                                      float64\n",
       "amenities                                   object\n",
       "security_deposit                           float64\n",
       "cleaning_fee                               float64\n",
       "availability_365                             int64\n",
       "calculated_host_listings_count               int64\n",
       "reviews_per_month                          float64\n",
       "minimum_nights                               int64\n",
       "cancellation_policy                          int64\n",
       "host_identity_verified                       int64\n",
       "instant_bookable                             int64\n",
       "host_is_superhost                            int64\n",
       "host_since                          datetime64[ns]\n",
       "last_review                         datetime64[ns]\n",
       "first_review                        datetime64[ns]\n",
       "last_scraped                        datetime64[ns]\n",
       "number_of_reviews                            int64\n",
       "host_response_time                          object\n",
       "space_char_count                           float64\n",
       "description_char_count                     float64\n",
       "neighborhood_overview_char_count           float64\n",
       "notes_char_count                           float64\n",
       "host_about_char_count                      float64\n",
       "price_per_person                           float64\n",
       "listing_duration_days                        int64\n",
       "hosting_duration_days                        int64\n",
       "days_since_calendar_updated                  int64\n",
       "no_of_host_verifications                   float64\n",
       "account_duration_days                        int64\n",
       "evaluation_period_elapsed                     bool\n",
       "dtype: object"
      ]
     },
     "execution_count": 88,
     "metadata": {},
     "output_type": "execute_result"
    }
   ],
   "source": [
    "df.dtypes"
   ]
  },
  {
   "cell_type": "code",
   "execution_count": 89,
   "metadata": {},
   "outputs": [],
   "source": [
    "df = df.drop(['evaluation_period_elapsed','last_scraped','first_review','last_review','host_since'], axis = 1)"
   ]
  },
  {
   "cell_type": "code",
   "execution_count": 90,
   "metadata": {
    "scrolled": true
   },
   "outputs": [
    {
     "data": {
      "text/plain": [
       "price                               float64\n",
       "amenities                            object\n",
       "security_deposit                    float64\n",
       "cleaning_fee                        float64\n",
       "availability_365                      int64\n",
       "calculated_host_listings_count        int64\n",
       "reviews_per_month                   float64\n",
       "minimum_nights                        int64\n",
       "cancellation_policy                   int64\n",
       "host_identity_verified                int64\n",
       "instant_bookable                      int64\n",
       "host_is_superhost                     int64\n",
       "number_of_reviews                     int64\n",
       "host_response_time                   object\n",
       "space_char_count                    float64\n",
       "description_char_count              float64\n",
       "neighborhood_overview_char_count    float64\n",
       "notes_char_count                    float64\n",
       "host_about_char_count               float64\n",
       "price_per_person                    float64\n",
       "listing_duration_days                 int64\n",
       "hosting_duration_days                 int64\n",
       "days_since_calendar_updated           int64\n",
       "no_of_host_verifications            float64\n",
       "account_duration_days                 int64\n",
       "dtype: object"
      ]
     },
     "execution_count": 90,
     "metadata": {},
     "output_type": "execute_result"
    }
   ],
   "source": [
    "df.dtypes"
   ]
  },
  {
   "cell_type": "code",
   "execution_count": 91,
   "metadata": {
    "scrolled": true
   },
   "outputs": [
    {
     "data": {
      "text/html": [
       "<div>\n",
       "<style scoped>\n",
       "    .dataframe tbody tr th:only-of-type {\n",
       "        vertical-align: middle;\n",
       "    }\n",
       "\n",
       "    .dataframe tbody tr th {\n",
       "        vertical-align: top;\n",
       "    }\n",
       "\n",
       "    .dataframe thead th {\n",
       "        text-align: right;\n",
       "    }\n",
       "</style>\n",
       "<table border=\"1\" class=\"dataframe\">\n",
       "  <thead>\n",
       "    <tr style=\"text-align: right;\">\n",
       "      <th>host_is_superhost</th>\n",
       "      <th>0</th>\n",
       "      <th>1</th>\n",
       "    </tr>\n",
       "    <tr>\n",
       "      <th>host_response_time</th>\n",
       "      <th></th>\n",
       "      <th></th>\n",
       "    </tr>\n",
       "  </thead>\n",
       "  <tbody>\n",
       "    <tr>\n",
       "      <th>a few days or more</th>\n",
       "      <td>0.012956</td>\n",
       "      <td>0.001391</td>\n",
       "    </tr>\n",
       "    <tr>\n",
       "      <th>within a day</th>\n",
       "      <td>0.196257</td>\n",
       "      <td>0.075104</td>\n",
       "    </tr>\n",
       "    <tr>\n",
       "      <th>within a few hours</th>\n",
       "      <td>0.301823</td>\n",
       "      <td>0.269819</td>\n",
       "    </tr>\n",
       "    <tr>\n",
       "      <th>within an hour</th>\n",
       "      <td>0.488964</td>\n",
       "      <td>0.653686</td>\n",
       "    </tr>\n",
       "  </tbody>\n",
       "</table>\n",
       "</div>"
      ],
      "text/plain": [
       "host_is_superhost          0         1\n",
       "host_response_time                    \n",
       "a few days or more  0.012956  0.001391\n",
       "within a day        0.196257  0.075104\n",
       "within a few hours  0.301823  0.269819\n",
       "within an hour      0.488964  0.653686"
      ]
     },
     "execution_count": 91,
     "metadata": {},
     "output_type": "execute_result"
    }
   ],
   "source": [
    "pd.crosstab(df['host_response_time'],df[\"host_is_superhost\"], normalize='columns')"
   ]
  },
  {
   "cell_type": "markdown",
   "metadata": {},
   "source": [
    "For 'host_response_time', similarly it will be converted correspondingly, with 1 for 'within an hour', the fastest, 2 for 'within a few hours', 3 for 'within a day' and 4 for 'a few days or more', the slowest."
   ]
  },
  {
   "cell_type": "code",
   "execution_count": 92,
   "metadata": {},
   "outputs": [],
   "source": [
    "dict_3 = {'within an hour' : 1, 'within a few hours': 2, 'within a day': 3, 'a few days or more': 4}"
   ]
  },
  {
   "cell_type": "code",
   "execution_count": 97,
   "metadata": {},
   "outputs": [],
   "source": [
    "df['host_response_time'] = df['host_response_time'].map(dict_3)"
   ]
  },
  {
   "cell_type": "code",
   "execution_count": 98,
   "metadata": {
    "scrolled": true
   },
   "outputs": [
    {
     "data": {
      "text/plain": [
       "price                               float64\n",
       "amenities                            object\n",
       "security_deposit                    float64\n",
       "cleaning_fee                        float64\n",
       "availability_365                      int64\n",
       "calculated_host_listings_count        int64\n",
       "reviews_per_month                   float64\n",
       "minimum_nights                        int64\n",
       "cancellation_policy                   int64\n",
       "host_identity_verified                int64\n",
       "instant_bookable                      int64\n",
       "host_is_superhost                     int64\n",
       "number_of_reviews                     int64\n",
       "host_response_time                    int64\n",
       "space_char_count                    float64\n",
       "description_char_count              float64\n",
       "neighborhood_overview_char_count    float64\n",
       "notes_char_count                    float64\n",
       "host_about_char_count               float64\n",
       "price_per_person                    float64\n",
       "listing_duration_days                 int64\n",
       "hosting_duration_days                 int64\n",
       "days_since_calendar_updated           int64\n",
       "no_of_host_verifications            float64\n",
       "account_duration_days                 int64\n",
       "dtype: object"
      ]
     },
     "execution_count": 98,
     "metadata": {},
     "output_type": "execute_result"
    }
   ],
   "source": [
    "df.dtypes"
   ]
  },
  {
   "cell_type": "markdown",
   "metadata": {},
   "source": [
    "Lastly, for amenities first a count of amenities for each listing is obtained:"
   ]
  },
  {
   "cell_type": "code",
   "execution_count": 99,
   "metadata": {},
   "outputs": [],
   "source": [
    "for i in df[\"amenities\"].index:\n",
    "    if len(df.at[i,\"amenities\"]) > 2 :\n",
    "        count = 1\n",
    "        for char in df.at[i,\"amenities\"]:\n",
    "            if char == ',':\n",
    "                count+=1\n",
    "    else:\n",
    "        count = 0\n",
    "    df.at[i,\"amenities_count\"] = count\n",
    "    count = 0"
   ]
  },
  {
   "cell_type": "markdown",
   "metadata": {},
   "source": [
    "Also, some pre-calculations show that certain specific amenities may be more common in superhosts than non-superhosts. These shall be extracted as 1/0 (T/F) in a new column"
   ]
  },
  {
   "cell_type": "code",
   "execution_count": 101,
   "metadata": {},
   "outputs": [],
   "source": [
    "df[\"Dog(s)\"] = df[\"amenities\"].map(lambda x: 1 if \"Dog(s)\" in x else 0)"
   ]
  },
  {
   "cell_type": "code",
   "execution_count": 102,
   "metadata": {},
   "outputs": [
    {
     "data": {
      "text/html": [
       "<div>\n",
       "<style scoped>\n",
       "    .dataframe tbody tr th:only-of-type {\n",
       "        vertical-align: middle;\n",
       "    }\n",
       "\n",
       "    .dataframe tbody tr th {\n",
       "        vertical-align: top;\n",
       "    }\n",
       "\n",
       "    .dataframe thead th {\n",
       "        text-align: right;\n",
       "    }\n",
       "</style>\n",
       "<table border=\"1\" class=\"dataframe\">\n",
       "  <thead>\n",
       "    <tr style=\"text-align: right;\">\n",
       "      <th>host_is_superhost</th>\n",
       "      <th>0</th>\n",
       "      <th>1</th>\n",
       "    </tr>\n",
       "    <tr>\n",
       "      <th>Dog(s)</th>\n",
       "      <th></th>\n",
       "      <th></th>\n",
       "    </tr>\n",
       "  </thead>\n",
       "  <tbody>\n",
       "    <tr>\n",
       "      <th>0</th>\n",
       "      <td>0.885797</td>\n",
       "      <td>0.808067</td>\n",
       "    </tr>\n",
       "    <tr>\n",
       "      <th>1</th>\n",
       "      <td>0.114203</td>\n",
       "      <td>0.191933</td>\n",
       "    </tr>\n",
       "  </tbody>\n",
       "</table>\n",
       "</div>"
      ],
      "text/plain": [
       "host_is_superhost         0         1\n",
       "Dog(s)                               \n",
       "0                  0.885797  0.808067\n",
       "1                  0.114203  0.191933"
      ]
     },
     "execution_count": 102,
     "metadata": {},
     "output_type": "execute_result"
    }
   ],
   "source": [
    "pd.crosstab(df[\"Dog(s)\"],df[\"host_is_superhost\"], normalize = 'columns')"
   ]
  },
  {
   "cell_type": "code",
   "execution_count": 103,
   "metadata": {},
   "outputs": [],
   "source": [
    "df[\"Pets live on this property\"] = df[\"amenities\"].map(lambda x: 1 if \"Pets live on this property\" in x else 0)"
   ]
  },
  {
   "cell_type": "code",
   "execution_count": 104,
   "metadata": {},
   "outputs": [
    {
     "data": {
      "text/html": [
       "<div>\n",
       "<style scoped>\n",
       "    .dataframe tbody tr th:only-of-type {\n",
       "        vertical-align: middle;\n",
       "    }\n",
       "\n",
       "    .dataframe tbody tr th {\n",
       "        vertical-align: top;\n",
       "    }\n",
       "\n",
       "    .dataframe thead th {\n",
       "        text-align: right;\n",
       "    }\n",
       "</style>\n",
       "<table border=\"1\" class=\"dataframe\">\n",
       "  <thead>\n",
       "    <tr style=\"text-align: right;\">\n",
       "      <th>host_is_superhost</th>\n",
       "      <th>0</th>\n",
       "      <th>1</th>\n",
       "    </tr>\n",
       "    <tr>\n",
       "      <th>Pets live on this property</th>\n",
       "      <th></th>\n",
       "      <th></th>\n",
       "    </tr>\n",
       "  </thead>\n",
       "  <tbody>\n",
       "    <tr>\n",
       "      <th>0</th>\n",
       "      <td>0.793186</td>\n",
       "      <td>0.682893</td>\n",
       "    </tr>\n",
       "    <tr>\n",
       "      <th>1</th>\n",
       "      <td>0.206814</td>\n",
       "      <td>0.317107</td>\n",
       "    </tr>\n",
       "  </tbody>\n",
       "</table>\n",
       "</div>"
      ],
      "text/plain": [
       "host_is_superhost                  0         1\n",
       "Pets live on this property                    \n",
       "0                           0.793186  0.682893\n",
       "1                           0.206814  0.317107"
      ]
     },
     "execution_count": 104,
     "metadata": {},
     "output_type": "execute_result"
    }
   ],
   "source": [
    "pd.crosstab(df[\"Pets live on this property\"],df[\"host_is_superhost\"], normalize = 'columns')"
   ]
  },
  {
   "cell_type": "code",
   "execution_count": 105,
   "metadata": {
    "scrolled": true
   },
   "outputs": [
    {
     "data": {
      "text/plain": [
       "price                               float64\n",
       "amenities                            object\n",
       "security_deposit                    float64\n",
       "cleaning_fee                        float64\n",
       "availability_365                      int64\n",
       "calculated_host_listings_count        int64\n",
       "reviews_per_month                   float64\n",
       "minimum_nights                        int64\n",
       "cancellation_policy                   int64\n",
       "host_identity_verified                int64\n",
       "instant_bookable                      int64\n",
       "host_is_superhost                     int64\n",
       "number_of_reviews                     int64\n",
       "host_response_time                    int64\n",
       "space_char_count                    float64\n",
       "description_char_count              float64\n",
       "neighborhood_overview_char_count    float64\n",
       "notes_char_count                    float64\n",
       "host_about_char_count               float64\n",
       "price_per_person                    float64\n",
       "listing_duration_days                 int64\n",
       "hosting_duration_days                 int64\n",
       "days_since_calendar_updated           int64\n",
       "no_of_host_verifications            float64\n",
       "account_duration_days                 int64\n",
       "amenities_count                     float64\n",
       "Dog(s)                                int64\n",
       "Pets live on this property            int64\n",
       "dtype: object"
      ]
     },
     "execution_count": 105,
     "metadata": {},
     "output_type": "execute_result"
    }
   ],
   "source": [
    "df.dtypes"
   ]
  },
  {
   "cell_type": "code",
   "execution_count": 106,
   "metadata": {},
   "outputs": [],
   "source": [
    "df = df.drop([\"amenities\"], axis = 1)"
   ]
  },
  {
   "cell_type": "markdown",
   "metadata": {},
   "source": [
    "Finally, convert some floats to int"
   ]
  },
  {
   "cell_type": "code",
   "execution_count": 107,
   "metadata": {},
   "outputs": [],
   "source": [
    "df[\"amenities_count\"] = df[\"amenities_count\"].astype(int)\n",
    "\n",
    "df[\"space_char_count\"] = df[\"space_char_count\"].astype(int)\n",
    "\n",
    "df[\"description_char_count\"] = df[\"description_char_count\"].astype(int)\n",
    "\n",
    "df[\"neighborhood_overview_char_count\"] = df[\"neighborhood_overview_char_count\"].astype(int)\n",
    "\n",
    "df[\"notes_char_count\"] = df[\"notes_char_count\"].astype(int)\n",
    "\n",
    "df[\"host_about_char_count\"] = df[\"host_about_char_count\"].astype(int)"
   ]
  },
  {
   "cell_type": "code",
   "execution_count": 109,
   "metadata": {},
   "outputs": [],
   "source": [
    "df[\"no_of_host_verifications\"] = df[\"no_of_host_verifications\"].astype(int)"
   ]
  },
  {
   "cell_type": "code",
   "execution_count": 112,
   "metadata": {},
   "outputs": [],
   "source": [
    "df = df.rename(columns={\"Dog(s)\": \"Dog(s) present\"})"
   ]
  },
  {
   "cell_type": "code",
   "execution_count": 113,
   "metadata": {
    "scrolled": true
   },
   "outputs": [
    {
     "data": {
      "text/plain": [
       "price                               float64\n",
       "security_deposit                    float64\n",
       "cleaning_fee                        float64\n",
       "availability_365                      int64\n",
       "calculated_host_listings_count        int64\n",
       "reviews_per_month                   float64\n",
       "minimum_nights                        int64\n",
       "cancellation_policy                   int64\n",
       "host_identity_verified                int64\n",
       "instant_bookable                      int64\n",
       "host_is_superhost                     int64\n",
       "number_of_reviews                     int64\n",
       "host_response_time                    int64\n",
       "space_char_count                      int64\n",
       "description_char_count                int64\n",
       "neighborhood_overview_char_count      int64\n",
       "notes_char_count                      int64\n",
       "host_about_char_count                 int64\n",
       "price_per_person                    float64\n",
       "listing_duration_days                 int64\n",
       "hosting_duration_days                 int64\n",
       "days_since_calendar_updated           int64\n",
       "no_of_host_verifications              int64\n",
       "account_duration_days                 int64\n",
       "amenities_count                       int64\n",
       "Dog(s) present                        int64\n",
       "Pets live on this property            int64\n",
       "dtype: object"
      ]
     },
     "execution_count": 113,
     "metadata": {},
     "output_type": "execute_result"
    }
   ],
   "source": [
    "df.dtypes"
   ]
  },
  {
   "cell_type": "markdown",
   "metadata": {},
   "source": [
    "cancellation_policy, host_identity_verified, instant_bookable, host_is_superhost, host_response_time, Dog(s) present, Pets live on this property are categorical variables but are encoded with labels."
   ]
  },
  {
   "cell_type": "code",
   "execution_count": 114,
   "metadata": {},
   "outputs": [],
   "source": [
    "df.to_csv ('~/Downloads/cleaned_df.csv', index = False, header=True)"
   ]
  },
  {
   "cell_type": "markdown",
   "metadata": {},
   "source": [
    "Additional steps to further discretize the char_counts for the textual variables and sort them into bins."
   ]
  },
  {
   "cell_type": "code",
   "execution_count": 1,
   "metadata": {},
   "outputs": [],
   "source": [
    "# Basic Libraries\n",
    "import numpy as np\n",
    "import pandas as pd\n",
    "import seaborn as sb\n",
    "import matplotlib.pyplot as plt # we only need pyplot\n",
    "sb.set() # set the default Seaborn style for graphics"
   ]
  },
  {
   "cell_type": "code",
   "execution_count": 2,
   "metadata": {
    "scrolled": false
   },
   "outputs": [
    {
     "data": {
      "text/html": [
       "<div>\n",
       "<style scoped>\n",
       "    .dataframe tbody tr th:only-of-type {\n",
       "        vertical-align: middle;\n",
       "    }\n",
       "\n",
       "    .dataframe tbody tr th {\n",
       "        vertical-align: top;\n",
       "    }\n",
       "\n",
       "    .dataframe thead th {\n",
       "        text-align: right;\n",
       "    }\n",
       "</style>\n",
       "<table border=\"1\" class=\"dataframe\">\n",
       "  <thead>\n",
       "    <tr style=\"text-align: right;\">\n",
       "      <th></th>\n",
       "      <th>price</th>\n",
       "      <th>security_deposit</th>\n",
       "      <th>cleaning_fee</th>\n",
       "      <th>availability_365</th>\n",
       "      <th>calculated_host_listings_count</th>\n",
       "      <th>reviews_per_month</th>\n",
       "      <th>minimum_nights</th>\n",
       "      <th>cancellation_policy</th>\n",
       "      <th>host_identity_verified</th>\n",
       "      <th>instant_bookable</th>\n",
       "      <th>...</th>\n",
       "      <th>host_about_char_count</th>\n",
       "      <th>price_per_person</th>\n",
       "      <th>listing_duration_days</th>\n",
       "      <th>hosting_duration_days</th>\n",
       "      <th>days_since_calendar_updated</th>\n",
       "      <th>no_of_host_verifications</th>\n",
       "      <th>account_duration_days</th>\n",
       "      <th>amenities_count</th>\n",
       "      <th>Dog(s) present</th>\n",
       "      <th>Pets live on this property</th>\n",
       "    </tr>\n",
       "  </thead>\n",
       "  <tbody>\n",
       "    <tr>\n",
       "      <th>0</th>\n",
       "      <td>85.0</td>\n",
       "      <td>0.0</td>\n",
       "      <td>0.0</td>\n",
       "      <td>346</td>\n",
       "      <td>2</td>\n",
       "      <td>4.07</td>\n",
       "      <td>1</td>\n",
       "      <td>2</td>\n",
       "      <td>1</td>\n",
       "      <td>0</td>\n",
       "      <td>...</td>\n",
       "      <td>372</td>\n",
       "      <td>21.250000</td>\n",
       "      <td>1523</td>\n",
       "      <td>1605</td>\n",
       "      <td>28</td>\n",
       "      <td>4</td>\n",
       "      <td>1607</td>\n",
       "      <td>10</td>\n",
       "      <td>0</td>\n",
       "      <td>0</td>\n",
       "    </tr>\n",
       "    <tr>\n",
       "      <th>1</th>\n",
       "      <td>150.0</td>\n",
       "      <td>100.0</td>\n",
       "      <td>40.0</td>\n",
       "      <td>291</td>\n",
       "      <td>6</td>\n",
       "      <td>1.48</td>\n",
       "      <td>2</td>\n",
       "      <td>3</td>\n",
       "      <td>1</td>\n",
       "      <td>0</td>\n",
       "      <td>...</td>\n",
       "      <td>74</td>\n",
       "      <td>37.500000</td>\n",
       "      <td>862</td>\n",
       "      <td>1041</td>\n",
       "      <td>0</td>\n",
       "      <td>6</td>\n",
       "      <td>1047</td>\n",
       "      <td>16</td>\n",
       "      <td>0</td>\n",
       "      <td>0</td>\n",
       "    </tr>\n",
       "    <tr>\n",
       "      <th>2</th>\n",
       "      <td>975.0</td>\n",
       "      <td>1000.0</td>\n",
       "      <td>300.0</td>\n",
       "      <td>220</td>\n",
       "      <td>2</td>\n",
       "      <td>1.15</td>\n",
       "      <td>4</td>\n",
       "      <td>3</td>\n",
       "      <td>1</td>\n",
       "      <td>0</td>\n",
       "      <td>...</td>\n",
       "      <td>343</td>\n",
       "      <td>88.636364</td>\n",
       "      <td>400</td>\n",
       "      <td>448</td>\n",
       "      <td>35</td>\n",
       "      <td>5</td>\n",
       "      <td>571</td>\n",
       "      <td>21</td>\n",
       "      <td>1</td>\n",
       "      <td>1</td>\n",
       "    </tr>\n",
       "    <tr>\n",
       "      <th>3</th>\n",
       "      <td>450.0</td>\n",
       "      <td>700.0</td>\n",
       "      <td>125.0</td>\n",
       "      <td>365</td>\n",
       "      <td>1</td>\n",
       "      <td>0.89</td>\n",
       "      <td>1</td>\n",
       "      <td>3</td>\n",
       "      <td>1</td>\n",
       "      <td>0</td>\n",
       "      <td>...</td>\n",
       "      <td>354</td>\n",
       "      <td>75.000000</td>\n",
       "      <td>1201</td>\n",
       "      <td>1425</td>\n",
       "      <td>49</td>\n",
       "      <td>5</td>\n",
       "      <td>1497</td>\n",
       "      <td>13</td>\n",
       "      <td>0</td>\n",
       "      <td>0</td>\n",
       "    </tr>\n",
       "    <tr>\n",
       "      <th>4</th>\n",
       "      <td>80.0</td>\n",
       "      <td>150.0</td>\n",
       "      <td>0.0</td>\n",
       "      <td>346</td>\n",
       "      <td>1</td>\n",
       "      <td>2.46</td>\n",
       "      <td>3</td>\n",
       "      <td>2</td>\n",
       "      <td>1</td>\n",
       "      <td>0</td>\n",
       "      <td>...</td>\n",
       "      <td>229</td>\n",
       "      <td>40.000000</td>\n",
       "      <td>679</td>\n",
       "      <td>1286</td>\n",
       "      <td>35</td>\n",
       "      <td>4</td>\n",
       "      <td>1314</td>\n",
       "      <td>7</td>\n",
       "      <td>0</td>\n",
       "      <td>0</td>\n",
       "    </tr>\n",
       "  </tbody>\n",
       "</table>\n",
       "<p>5 rows × 27 columns</p>\n",
       "</div>"
      ],
      "text/plain": [
       "   price  security_deposit  cleaning_fee  availability_365  \\\n",
       "0   85.0               0.0           0.0               346   \n",
       "1  150.0             100.0          40.0               291   \n",
       "2  975.0            1000.0         300.0               220   \n",
       "3  450.0             700.0         125.0               365   \n",
       "4   80.0             150.0           0.0               346   \n",
       "\n",
       "   calculated_host_listings_count  reviews_per_month  minimum_nights  \\\n",
       "0                               2               4.07               1   \n",
       "1                               6               1.48               2   \n",
       "2                               2               1.15               4   \n",
       "3                               1               0.89               1   \n",
       "4                               1               2.46               3   \n",
       "\n",
       "   cancellation_policy  host_identity_verified  instant_bookable  ...  \\\n",
       "0                    2                       1                 0  ...   \n",
       "1                    3                       1                 0  ...   \n",
       "2                    3                       1                 0  ...   \n",
       "3                    3                       1                 0  ...   \n",
       "4                    2                       1                 0  ...   \n",
       "\n",
       "   host_about_char_count  price_per_person  listing_duration_days  \\\n",
       "0                    372         21.250000                   1523   \n",
       "1                     74         37.500000                    862   \n",
       "2                    343         88.636364                    400   \n",
       "3                    354         75.000000                   1201   \n",
       "4                    229         40.000000                    679   \n",
       "\n",
       "   hosting_duration_days  days_since_calendar_updated  \\\n",
       "0                   1605                           28   \n",
       "1                   1041                            0   \n",
       "2                    448                           35   \n",
       "3                   1425                           49   \n",
       "4                   1286                           35   \n",
       "\n",
       "   no_of_host_verifications  account_duration_days  amenities_count  \\\n",
       "0                         4                   1607               10   \n",
       "1                         6                   1047               16   \n",
       "2                         5                    571               21   \n",
       "3                         5                   1497               13   \n",
       "4                         4                   1314                7   \n",
       "\n",
       "   Dog(s) present  Pets live on this property  \n",
       "0               0                           0  \n",
       "1               0                           0  \n",
       "2               1                           1  \n",
       "3               0                           0  \n",
       "4               0                           0  \n",
       "\n",
       "[5 rows x 27 columns]"
      ]
     },
     "execution_count": 2,
     "metadata": {},
     "output_type": "execute_result"
    }
   ],
   "source": [
    "df = pd.read_csv('cleaned_df.csv')\n",
    "df.head()"
   ]
  },
  {
   "cell_type": "code",
   "execution_count": 3,
   "metadata": {},
   "outputs": [],
   "source": [
    "df['host_about_char_count_grouped'] = pd.cut(df['host_about_char_count'], range(0, 1001, 50), precision=0, include_lowest = True)\n"
   ]
  },
  {
   "cell_type": "markdown",
   "metadata": {},
   "source": [
    "host about doesn't have 1000 char limit though"
   ]
  },
  {
   "cell_type": "code",
   "execution_count": 5,
   "metadata": {
    "scrolled": true
   },
   "outputs": [
    {
     "data": {
      "text/plain": [
       "price                                float64\n",
       "security_deposit                     float64\n",
       "cleaning_fee                         float64\n",
       "availability_365                       int64\n",
       "calculated_host_listings_count         int64\n",
       "reviews_per_month                    float64\n",
       "minimum_nights                         int64\n",
       "cancellation_policy                    int64\n",
       "host_identity_verified                 int64\n",
       "instant_bookable                       int64\n",
       "host_is_superhost                      int64\n",
       "number_of_reviews                      int64\n",
       "host_response_time                     int64\n",
       "space_char_count                       int64\n",
       "description_char_count                 int64\n",
       "neighborhood_overview_char_count       int64\n",
       "notes_char_count                       int64\n",
       "host_about_char_count                  int64\n",
       "price_per_person                     float64\n",
       "listing_duration_days                  int64\n",
       "hosting_duration_days                  int64\n",
       "days_since_calendar_updated            int64\n",
       "no_of_host_verifications               int64\n",
       "account_duration_days                  int64\n",
       "amenities_count                        int64\n",
       "Dog(s) present                         int64\n",
       "Pets live on this property             int64\n",
       "host_about_char_count_grouped       category\n",
       "dtype: object"
      ]
     },
     "execution_count": 5,
     "metadata": {},
     "output_type": "execute_result"
    }
   ],
   "source": [
    "df.dtypes"
   ]
  },
  {
   "cell_type": "code",
   "execution_count": 4,
   "metadata": {},
   "outputs": [],
   "source": [
    "df['space_char_count_grouped'] = pd.cut(df['space_char_count'], range(0, 1001, 50), precision=0, include_lowest = True)\n"
   ]
  },
  {
   "cell_type": "code",
   "execution_count": 5,
   "metadata": {},
   "outputs": [],
   "source": [
    "df['description_char_count_grouped'] = pd.cut(df['description_char_count'], range(0, 1001, 50), precision=0, include_lowest = True)\n"
   ]
  },
  {
   "cell_type": "code",
   "execution_count": 6,
   "metadata": {},
   "outputs": [],
   "source": [
    "df['neighborhood_overview_char_count_grouped'] = pd.cut(df['neighborhood_overview_char_count'], range(0, 1001, 50), precision=0, include_lowest = True)\n"
   ]
  },
  {
   "cell_type": "code",
   "execution_count": 7,
   "metadata": {},
   "outputs": [],
   "source": [
    "df['notes_char_count_grouped'] = pd.cut(df['notes_char_count'], range(0, 1001, 50), precision=0, include_lowest = True)\n"
   ]
  },
  {
   "cell_type": "code",
   "execution_count": 8,
   "metadata": {},
   "outputs": [],
   "source": [
    "df = df.drop(['host_about_char_count_grouped'], axis = 1)"
   ]
  },
  {
   "cell_type": "markdown",
   "metadata": {},
   "source": [
    "host_about doesn't have 1000 char limit though so it'll not be discretized for now"
   ]
  },
  {
   "cell_type": "code",
   "execution_count": 9,
   "metadata": {},
   "outputs": [
    {
     "data": {
      "text/plain": [
       "price                                        float64\n",
       "security_deposit                             float64\n",
       "cleaning_fee                                 float64\n",
       "availability_365                               int64\n",
       "calculated_host_listings_count                 int64\n",
       "reviews_per_month                            float64\n",
       "minimum_nights                                 int64\n",
       "cancellation_policy                            int64\n",
       "host_identity_verified                         int64\n",
       "instant_bookable                               int64\n",
       "host_is_superhost                              int64\n",
       "number_of_reviews                              int64\n",
       "host_response_time                             int64\n",
       "space_char_count                               int64\n",
       "description_char_count                         int64\n",
       "neighborhood_overview_char_count               int64\n",
       "notes_char_count                               int64\n",
       "host_about_char_count                          int64\n",
       "price_per_person                             float64\n",
       "listing_duration_days                          int64\n",
       "hosting_duration_days                          int64\n",
       "days_since_calendar_updated                    int64\n",
       "no_of_host_verifications                       int64\n",
       "account_duration_days                          int64\n",
       "amenities_count                                int64\n",
       "Dog(s) present                                 int64\n",
       "Pets live on this property                     int64\n",
       "space_char_count_grouped                    category\n",
       "description_char_count_grouped              category\n",
       "neighborhood_overview_char_count_grouped    category\n",
       "notes_char_count_grouped                    category\n",
       "dtype: object"
      ]
     },
     "execution_count": 9,
     "metadata": {},
     "output_type": "execute_result"
    }
   ],
   "source": [
    "df.dtypes"
   ]
  },
  {
   "cell_type": "code",
   "execution_count": 10,
   "metadata": {},
   "outputs": [],
   "source": [
    "df.to_csv ('~/Downloads/cleaned_df_v2.csv', index = False, header=True)"
   ]
  },
  {
   "cell_type": "markdown",
   "metadata": {},
   "source": [
    "May want to drop those non-discretized textual character count variables later"
   ]
  },
  {
   "cell_type": "code",
   "execution_count": 1,
   "metadata": {},
   "outputs": [],
   "source": [
    "# Basic Libraries\n",
    "import numpy as np\n",
    "import pandas as pd\n",
    "import seaborn as sb\n",
    "import matplotlib.pyplot as plt # we only need pyplot\n",
    "sb.set() # set the default Seaborn style for graphics"
   ]
  },
  {
   "cell_type": "code",
   "execution_count": 2,
   "metadata": {},
   "outputs": [
    {
     "data": {
      "text/html": [
       "<div>\n",
       "<style scoped>\n",
       "    .dataframe tbody tr th:only-of-type {\n",
       "        vertical-align: middle;\n",
       "    }\n",
       "\n",
       "    .dataframe tbody tr th {\n",
       "        vertical-align: top;\n",
       "    }\n",
       "\n",
       "    .dataframe thead th {\n",
       "        text-align: right;\n",
       "    }\n",
       "</style>\n",
       "<table border=\"1\" class=\"dataframe\">\n",
       "  <thead>\n",
       "    <tr style=\"text-align: right;\">\n",
       "      <th></th>\n",
       "      <th>host_is_superhost</th>\n",
       "      <th>host_identity_verified</th>\n",
       "      <th>Dog(s) present</th>\n",
       "      <th>Pets live on this property</th>\n",
       "      <th>cancellation_policy</th>\n",
       "      <th>no_of_host_verifications</th>\n",
       "      <th>host_response_time</th>\n",
       "      <th>number_of_reviews</th>\n",
       "      <th>amenities_count</th>\n",
       "      <th>calculated_host_listings_count</th>\n",
       "      <th>...</th>\n",
       "      <th>days_since_calendar_updated</th>\n",
       "      <th>account_duration_days</th>\n",
       "      <th>space_char_count</th>\n",
       "      <th>neighborhood_overview_char_count</th>\n",
       "      <th>notes_char_count</th>\n",
       "      <th>host_about_char_count</th>\n",
       "      <th>space_char_count_grouped</th>\n",
       "      <th>description_char_count_grouped</th>\n",
       "      <th>neighborhood_overview_char_count_grouped</th>\n",
       "      <th>notes_char_count_grouped</th>\n",
       "    </tr>\n",
       "  </thead>\n",
       "  <tbody>\n",
       "    <tr>\n",
       "      <th>0</th>\n",
       "      <td>0</td>\n",
       "      <td>1</td>\n",
       "      <td>0</td>\n",
       "      <td>0</td>\n",
       "      <td>2</td>\n",
       "      <td>4</td>\n",
       "      <td>2</td>\n",
       "      <td>207</td>\n",
       "      <td>10</td>\n",
       "      <td>2</td>\n",
       "      <td>...</td>\n",
       "      <td>28</td>\n",
       "      <td>1607</td>\n",
       "      <td>1000</td>\n",
       "      <td>0</td>\n",
       "      <td>0</td>\n",
       "      <td>372</td>\n",
       "      <td>20</td>\n",
       "      <td>20</td>\n",
       "      <td>1</td>\n",
       "      <td>1</td>\n",
       "    </tr>\n",
       "    <tr>\n",
       "      <th>1</th>\n",
       "      <td>1</td>\n",
       "      <td>1</td>\n",
       "      <td>0</td>\n",
       "      <td>0</td>\n",
       "      <td>3</td>\n",
       "      <td>6</td>\n",
       "      <td>1</td>\n",
       "      <td>43</td>\n",
       "      <td>16</td>\n",
       "      <td>6</td>\n",
       "      <td>...</td>\n",
       "      <td>0</td>\n",
       "      <td>1047</td>\n",
       "      <td>1000</td>\n",
       "      <td>167</td>\n",
       "      <td>1000</td>\n",
       "      <td>74</td>\n",
       "      <td>20</td>\n",
       "      <td>20</td>\n",
       "      <td>4</td>\n",
       "      <td>20</td>\n",
       "    </tr>\n",
       "    <tr>\n",
       "      <th>2</th>\n",
       "      <td>0</td>\n",
       "      <td>1</td>\n",
       "      <td>1</td>\n",
       "      <td>1</td>\n",
       "      <td>3</td>\n",
       "      <td>5</td>\n",
       "      <td>2</td>\n",
       "      <td>20</td>\n",
       "      <td>21</td>\n",
       "      <td>2</td>\n",
       "      <td>...</td>\n",
       "      <td>35</td>\n",
       "      <td>571</td>\n",
       "      <td>1000</td>\n",
       "      <td>669</td>\n",
       "      <td>155</td>\n",
       "      <td>343</td>\n",
       "      <td>20</td>\n",
       "      <td>20</td>\n",
       "      <td>14</td>\n",
       "      <td>4</td>\n",
       "    </tr>\n",
       "    <tr>\n",
       "      <th>3</th>\n",
       "      <td>0</td>\n",
       "      <td>1</td>\n",
       "      <td>0</td>\n",
       "      <td>0</td>\n",
       "      <td>3</td>\n",
       "      <td>5</td>\n",
       "      <td>1</td>\n",
       "      <td>38</td>\n",
       "      <td>13</td>\n",
       "      <td>1</td>\n",
       "      <td>...</td>\n",
       "      <td>49</td>\n",
       "      <td>1497</td>\n",
       "      <td>488</td>\n",
       "      <td>492</td>\n",
       "      <td>9</td>\n",
       "      <td>354</td>\n",
       "      <td>10</td>\n",
       "      <td>20</td>\n",
       "      <td>10</td>\n",
       "      <td>1</td>\n",
       "    </tr>\n",
       "    <tr>\n",
       "      <th>4</th>\n",
       "      <td>1</td>\n",
       "      <td>1</td>\n",
       "      <td>0</td>\n",
       "      <td>0</td>\n",
       "      <td>2</td>\n",
       "      <td>4</td>\n",
       "      <td>1</td>\n",
       "      <td>58</td>\n",
       "      <td>7</td>\n",
       "      <td>1</td>\n",
       "      <td>...</td>\n",
       "      <td>35</td>\n",
       "      <td>1314</td>\n",
       "      <td>1000</td>\n",
       "      <td>95</td>\n",
       "      <td>82</td>\n",
       "      <td>229</td>\n",
       "      <td>20</td>\n",
       "      <td>20</td>\n",
       "      <td>2</td>\n",
       "      <td>2</td>\n",
       "    </tr>\n",
       "  </tbody>\n",
       "</table>\n",
       "<p>5 rows × 28 columns</p>\n",
       "</div>"
      ],
      "text/plain": [
       "   host_is_superhost  host_identity_verified  Dog(s) present  \\\n",
       "0                  0                       1               0   \n",
       "1                  1                       1               0   \n",
       "2                  0                       1               1   \n",
       "3                  0                       1               0   \n",
       "4                  1                       1               0   \n",
       "\n",
       "   Pets live on this property  cancellation_policy  no_of_host_verifications  \\\n",
       "0                           0                    2                         4   \n",
       "1                           0                    3                         6   \n",
       "2                           1                    3                         5   \n",
       "3                           0                    3                         5   \n",
       "4                           0                    2                         4   \n",
       "\n",
       "   host_response_time  number_of_reviews  amenities_count  \\\n",
       "0                   2                207               10   \n",
       "1                   1                 43               16   \n",
       "2                   2                 20               21   \n",
       "3                   1                 38               13   \n",
       "4                   1                 58                7   \n",
       "\n",
       "   calculated_host_listings_count  ...  days_since_calendar_updated  \\\n",
       "0                               2  ...                           28   \n",
       "1                               6  ...                            0   \n",
       "2                               2  ...                           35   \n",
       "3                               1  ...                           49   \n",
       "4                               1  ...                           35   \n",
       "\n",
       "   account_duration_days  space_char_count  neighborhood_overview_char_count  \\\n",
       "0                   1607              1000                                 0   \n",
       "1                   1047              1000                               167   \n",
       "2                    571              1000                               669   \n",
       "3                   1497               488                               492   \n",
       "4                   1314              1000                                95   \n",
       "\n",
       "   notes_char_count  host_about_char_count  space_char_count_grouped  \\\n",
       "0                 0                    372                        20   \n",
       "1              1000                     74                        20   \n",
       "2               155                    343                        20   \n",
       "3                 9                    354                        10   \n",
       "4                82                    229                        20   \n",
       "\n",
       "   description_char_count_grouped  neighborhood_overview_char_count_grouped  \\\n",
       "0                              20                                         1   \n",
       "1                              20                                         4   \n",
       "2                              20                                        14   \n",
       "3                              20                                        10   \n",
       "4                              20                                         2   \n",
       "\n",
       "   notes_char_count_grouped  \n",
       "0                         1  \n",
       "1                        20  \n",
       "2                         4  \n",
       "3                         1  \n",
       "4                         2  \n",
       "\n",
       "[5 rows x 28 columns]"
      ]
     },
     "execution_count": 2,
     "metadata": {},
     "output_type": "execute_result"
    }
   ],
   "source": [
    "df = pd.read_csv('cleaned_df_final.csv')\n",
    "df.head()"
   ]
  },
  {
   "cell_type": "code",
   "execution_count": 3,
   "metadata": {
    "scrolled": false
   },
   "outputs": [
    {
     "data": {
      "text/plain": [
       "Index(['host_is_superhost', 'host_identity_verified', 'Dog(s) present',\n",
       "       'Pets live on this property', 'cancellation_policy',\n",
       "       'no_of_host_verifications', 'host_response_time', 'number_of_reviews',\n",
       "       'amenities_count', 'calculated_host_listings_count',\n",
       "       'reviews_per_month', 'price', 'security_deposit', 'cleaning_fee',\n",
       "       'availability_365', 'listing_duration_days', 'hosting_duration_days',\n",
       "       'price_per_person', 'days_since_calendar_updated',\n",
       "       'account_duration_days', 'space_char_count',\n",
       "       'neighborhood_overview_char_count', 'notes_char_count',\n",
       "       'host_about_char_count', 'space_char_count_grouped',\n",
       "       'description_char_count_grouped',\n",
       "       'neighborhood_overview_char_count_grouped', 'notes_char_count_grouped'],\n",
       "      dtype='object')"
      ]
     },
     "execution_count": 3,
     "metadata": {},
     "output_type": "execute_result"
    }
   ],
   "source": [
    "df.columns"
   ]
  },
  {
   "cell_type": "markdown",
   "metadata": {},
   "source": [
    "Encode each bin with a numerical label; **1 = 0-50, 2 = 51-100, 3 = 101-150, ..., 20 = 951-1000**"
   ]
  },
  {
   "cell_type": "code",
   "execution_count": 16,
   "metadata": {},
   "outputs": [],
   "source": [
    "df['space_char_count_grouped'] = pd.cut(df['space_char_count'], range(0, 1001, 50), precision=0, include_lowest = True, labels=[1, 2, 3, 4,\n",
    "                                                                                              5,6,7,8,9,10,11,12,\n",
    "                                                                                              13,14,15,16,17,18,\n",
    "                                                                                              19,20])\n"
   ]
  },
  {
   "cell_type": "code",
   "execution_count": 21,
   "metadata": {},
   "outputs": [],
   "source": [
    "df['notes_char_count_grouped'] = pd.cut(df['notes_char_count'], range(0, 1001, 50), precision=0, include_lowest = True, labels=[1, 2, 3, 4,\n",
    "                                                                                              5,6,7,8,9,10,11,12,\n",
    "                                                                                              13,14,15,16,17,18,\n",
    "                                                                                              19,20])\n"
   ]
  },
  {
   "cell_type": "code",
   "execution_count": 33,
   "metadata": {},
   "outputs": [],
   "source": [
    "df['neighborhood_overview_char_count_grouped'] = pd.cut(df['neighborhood_overview_char_count'], range(0, 1001, 50), precision=0, include_lowest = True, labels=[1, 2, 3, 4,\n",
    "                                                                                              5,6,7,8,9,10,11,12,\n",
    "                                                                                              13,14,15,16,17,18,\n",
    "                                                                                              19,20])"
   ]
  },
  {
   "cell_type": "code",
   "execution_count": 35,
   "metadata": {},
   "outputs": [],
   "source": [
    "df2 = pd.read_csv('cleaned_df_v2.csv')"
   ]
  },
  {
   "cell_type": "code",
   "execution_count": 39,
   "metadata": {},
   "outputs": [],
   "source": [
    "df['description_char_count_grouped']=pd.cut(df2['description_char_count'], range(0, 1001, 50), precision=0, include_lowest = True, labels=[1, 2, 3, 4,\n",
    "                                                                                              5,6,7,8,9,10,11,12,\n",
    "                                                                                              13,14,15,16,17,18,\n",
    "                                                                                              19,20])\n"
   ]
  },
  {
   "cell_type": "code",
   "execution_count": 43,
   "metadata": {},
   "outputs": [],
   "source": [
    "df.to_csv ('~/Downloads/cleaned_df_v3.1.csv', index = False, header=True)"
   ]
  },
  {
   "cell_type": "markdown",
   "metadata": {},
   "source": [
    "After feature selection:"
   ]
  },
  {
   "cell_type": "code",
   "execution_count": 5,
   "metadata": {},
   "outputs": [],
   "source": [
    "df = df.drop(['host_identity_verified', 'Dog(s) present','Pets live on this property','description_char_count_grouped','cancellation_policy'], axis = 1)\n"
   ]
  },
  {
   "cell_type": "code",
   "execution_count": 6,
   "metadata": {},
   "outputs": [
    {
     "data": {
      "text/plain": [
       "(2803, 23)"
      ]
     },
     "execution_count": 6,
     "metadata": {},
     "output_type": "execute_result"
    }
   ],
   "source": [
    "df.shape"
   ]
  },
  {
   "cell_type": "code",
   "execution_count": 7,
   "metadata": {},
   "outputs": [],
   "source": [
    "df.to_csv ('~/Downloads/cleaned_df_dropped_fts.csv', index = False, header=True)"
   ]
  }
 ],
 "metadata": {
  "kernelspec": {
   "display_name": "Python 3",
   "language": "python",
   "name": "python3"
  },
  "language_info": {
   "codemirror_mode": {
    "name": "ipython",
    "version": 3
   },
   "file_extension": ".py",
   "mimetype": "text/x-python",
   "name": "python",
   "nbconvert_exporter": "python",
   "pygments_lexer": "ipython3",
   "version": "3.7.3"
  }
 },
 "nbformat": 4,
 "nbformat_minor": 2
}
